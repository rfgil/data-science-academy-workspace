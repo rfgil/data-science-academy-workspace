{
 "cells": [
  {
   "cell_type": "code",
   "execution_count": 1,
   "metadata": {
    "deletable": false,
    "editable": false,
    "nbgrader": {
     "grade": false,
     "grade_id": "cell-7527be455d372803",
     "locked": true,
     "schema_version": 3,
     "solution": false,
     "task": false
    }
   },
   "outputs": [],
   "source": [
    "import numpy as np\n",
    "import hashlib\n",
    "import math\n",
    "import pandas as pd \n",
    "import matplotlib.pyplot as plt\n",
    "import random\n",
    "import re\n",
    "import string\n",
    "from nltk.tokenize import WordPunctTokenizer\n",
    "\n",
    "from sklearn.metrics import accuracy_score, precision_score, recall_score\n",
    "from sklearn.model_selection import train_test_split\n",
    "from sklearn.feature_extraction.text import TfidfVectorizer, CountVectorizer\n",
    "from sklearn.naive_bayes import MultinomialNB\n",
    "from sklearn.neighbors import KNeighborsClassifier\n",
    "from sklearn.feature_selection import SelectKBest, chi2\n",
    "from sklearn.decomposition import TruncatedSVD, PCA\n",
    "from sklearn.metrics.pairwise import cosine_similarity\n",
    "from sklearn.svm import SVC\n",
    "import spacy"
   ]
  },
  {
   "cell_type": "markdown",
   "metadata": {
    "deletable": false,
    "editable": false,
    "nbgrader": {
     "grade": false,
     "grade_id": "cell-a9bab744c327dc14",
     "locked": true,
     "schema_version": 3,
     "solution": false,
     "task": false
    }
   },
   "source": [
    "\n",
    "In times where even [facebook goes down](https://www.theguardian.com/technology/2021/oct/04/facebook-instagram-whatsapp-outage-what-to-do), books are our reliable companions. For true book lovers, it's hard to resist the urge to buy huge piles to add to our \"To read\" lists. But how to know which is the right book to buy?\n",
    "\n",
    "In any online book store, you can find hundreds of reviews. You also have [goodreads](https://www.goodreads.com/), [book riot](https://bookriot.com/), and many others.\n",
    "\n",
    "\n",
    "\n",
    "The only problem is, more and more, is hard to navigate through the hundreds and hundreds of reviews, and even if you did have the time, a huge amount is completely unhelpful. Not to mention the ones that definitely seem posted by bots.\n",
    "\n",
    "<img src=\"media/fake-reviews.jpg\" width=\"50%\" />\n",
    "\n",
    "\n",
    "## Q1 - Baseline \n",
    "\n",
    "To cope with all of this, you set out to create a model to look for the most helpful reviews for you. You find a dataset online providing reviews and helpfulness metrics and start there.\n",
    "\n",
    "Load the dataset and check its structure:\n"
   ]
  },
  {
   "cell_type": "code",
   "execution_count": 2,
   "metadata": {
    "deletable": false,
    "editable": false,
    "nbgrader": {
     "grade": false,
     "grade_id": "cell-a6273f8aa182f664",
     "locked": true,
     "schema_version": 3,
     "solution": false,
     "task": false
    }
   },
   "outputs": [
    {
     "data": {
      "text/html": [
       "<div>\n",
       "<style scoped>\n",
       "    .dataframe tbody tr th:only-of-type {\n",
       "        vertical-align: middle;\n",
       "    }\n",
       "\n",
       "    .dataframe tbody tr th {\n",
       "        vertical-align: top;\n",
       "    }\n",
       "\n",
       "    .dataframe thead th {\n",
       "        text-align: right;\n",
       "    }\n",
       "</style>\n",
       "<table border=\"1\" class=\"dataframe\">\n",
       "  <thead>\n",
       "    <tr style=\"text-align: right;\">\n",
       "      <th></th>\n",
       "      <th>helpfulness</th>\n",
       "      <th>reviewText</th>\n",
       "    </tr>\n",
       "  </thead>\n",
       "  <tbody>\n",
       "    <tr>\n",
       "      <th>0</th>\n",
       "      <td>1</td>\n",
       "      <td>Old Bear; Kevin Henkes (2008) Harper Collins C...</td>\n",
       "    </tr>\n",
       "    <tr>\n",
       "      <th>1</th>\n",
       "      <td>0</td>\n",
       "      <td>This book is based on the sad truth of the sta...</td>\n",
       "    </tr>\n",
       "    <tr>\n",
       "      <th>2</th>\n",
       "      <td>1</td>\n",
       "      <td>When Lara's grandmother's ghost begins bashing...</td>\n",
       "    </tr>\n",
       "    <tr>\n",
       "      <th>3</th>\n",
       "      <td>1</td>\n",
       "      <td>Charlotte Simmons is the definitive, classic A...</td>\n",
       "    </tr>\n",
       "    <tr>\n",
       "      <th>4</th>\n",
       "      <td>0</td>\n",
       "      <td>Much too stereotypical for my tastes and the s...</td>\n",
       "    </tr>\n",
       "  </tbody>\n",
       "</table>\n",
       "</div>"
      ],
      "text/plain": [
       "   helpfulness                                         reviewText\n",
       "0            1  Old Bear; Kevin Henkes (2008) Harper Collins C...\n",
       "1            0  This book is based on the sad truth of the sta...\n",
       "2            1  When Lara's grandmother's ghost begins bashing...\n",
       "3            1  Charlotte Simmons is the definitive, classic A...\n",
       "4            0  Much too stereotypical for my tastes and the s..."
      ]
     },
     "execution_count": 2,
     "metadata": {},
     "output_type": "execute_result"
    }
   ],
   "source": [
    "def load_data():\n",
    "    \"\"\"\n",
    "    Loads dataframe of reviews helpfulness \n",
    "    \"\"\"\n",
    "    df = pd.read_csv('datasets/book_review_helpfulness.csv')\n",
    "    df.head()\n",
    "    return df\n",
    "\n",
    "df = load_data()\n",
    "df.head()\n"
   ]
  },
  {
   "cell_type": "markdown",
   "metadata": {
    "deletable": false,
    "editable": false,
    "nbgrader": {
     "grade": false,
     "grade_id": "cell-a0f698ca70b9e015",
     "locked": true,
     "schema_version": 3,
     "solution": false,
     "task": false
    }
   },
   "source": [
    "### Q1.a)\n",
    "\n",
    "First thing you decide is to extract features from the reviews. So you start working out how to do it. First you think it may be good to preprocess the text a bit, so you look into a few options. You end up converging into the following:\n",
    "\n",
    "- tokenizing the text, using WordPunctTokenizer\n",
    "- lowercasing the text\n",
    "\n",
    "You then decide to feed this into a CountVectorizer. Implement this function below: \n",
    " "
   ]
  },
  {
   "cell_type": "code",
   "execution_count": 3,
   "metadata": {
    "deletable": false,
    "nbgrader": {
     "grade": false,
     "grade_id": "cell-1492b0bfab58773c",
     "locked": false,
     "schema_version": 3,
     "solution": true,
     "task": false
    }
   },
   "outputs": [],
   "source": [
    "def extract_features(X_train, X_test):\n",
    "    \"\"\"Converts the provided text training and test data into \n",
    "    feature counts. Additionally, returns the used vectorizer, \n",
    "    the processed dataframes and the number of features extracted\n",
    "    \n",
    "    Parameters:\n",
    "        X_train: dataframe: training data, containing a \"reviewText\" column\n",
    "        X_test: dataframe: test data, containing a \"reviewText\" column\n",
    "    \n",
    "    Returns:\n",
    "        vectorizer: used count vectorizer \n",
    "        num_features: vectorizer actual number of features, for sanity check\n",
    "        X_train_vec: processed training features\n",
    "        X_test_vec: processed test features\n",
    "    \"\"\"\n",
    "    \n",
    "    # YOUR CODE HERE\n",
    "    \n",
    "    preprocessor = lambda doc: \" \".join(WordPunctTokenizer().tokenize(doc.lower()))\n",
    "    \n",
    "    X_train['reviewText'] = X_train['reviewText'].map(preprocessor)\n",
    "    X_test['reviewText'] = X_test['reviewText'].map(preprocessor)\n",
    "    \n",
    "    vectorizer = CountVectorizer()\n",
    "    \n",
    "    X_train_vec = vectorizer.fit_transform(X_train.reviewText)\n",
    "    X_test_vec = vectorizer.transform(X_test.reviewText)\n",
    "    \n",
    "    num_features = X_train_vec.shape[1]\n",
    "    \n",
    "    return vectorizer, num_features, X_train_vec, X_test_vec\n"
   ]
  },
  {
   "cell_type": "code",
   "execution_count": 4,
   "metadata": {
    "deletable": false,
    "editable": false,
    "nbgrader": {
     "grade": true,
     "grade_id": "cell-761d12c2e662383e",
     "locked": true,
     "points": 3,
     "schema_version": 3,
     "solution": false,
     "task": false
    }
   },
   "outputs": [],
   "source": [
    "df = load_data()\n",
    "\n",
    "X_train, X_test, y_train, y_test = train_test_split(\n",
    "    df.drop(columns=['helpfulness']), \n",
    "    df['helpfulness'], \n",
    "    test_size=0.3, \n",
    "    random_state=42\n",
    ")\n",
    "\n",
    "vectorizer, num_features, X_train_vec, X_test_vec = extract_features(X_train, X_test)\n",
    "assert math.isclose(np.sum(X_train_vec.todense()[12, :]), 284)\n",
    "assert math.isclose(np.sum(X_train_vec.todense()[300, :]), 157)\n",
    "assert math.isclose(np.sum(X_train_vec.todense()[1411, :]), 222)\n",
    "\n",
    "assert num_features == 44103\n",
    "\n"
   ]
  },
  {
   "cell_type": "markdown",
   "metadata": {
    "deletable": false,
    "editable": false,
    "nbgrader": {
     "grade": false,
     "grade_id": "cell-2c6d3c1f721b3d73",
     "locked": true,
     "schema_version": 3,
     "solution": false,
     "task": false
    }
   },
   "source": [
    "_For the next exercises we'll provide you a different version of the preprocessed data._\n",
    "\n",
    "_Load the preprocessed dataset provided in the file_\n"
   ]
  },
  {
   "cell_type": "code",
   "execution_count": 5,
   "metadata": {
    "deletable": false,
    "editable": false,
    "nbgrader": {
     "grade": false,
     "grade_id": "cell-efe125f9b6c0960e",
     "locked": true,
     "schema_version": 3,
     "solution": false,
     "task": false
    }
   },
   "outputs": [
    {
     "data": {
      "text/html": [
       "<div>\n",
       "<style scoped>\n",
       "    .dataframe tbody tr th:only-of-type {\n",
       "        vertical-align: middle;\n",
       "    }\n",
       "\n",
       "    .dataframe tbody tr th {\n",
       "        vertical-align: top;\n",
       "    }\n",
       "\n",
       "    .dataframe thead th {\n",
       "        text-align: right;\n",
       "    }\n",
       "</style>\n",
       "<table border=\"1\" class=\"dataframe\">\n",
       "  <thead>\n",
       "    <tr style=\"text-align: right;\">\n",
       "      <th></th>\n",
       "      <th>helpfulness</th>\n",
       "      <th>reviewText</th>\n",
       "    </tr>\n",
       "  </thead>\n",
       "  <tbody>\n",
       "    <tr>\n",
       "      <th>0</th>\n",
       "      <td>1</td>\n",
       "      <td>old bear kevin henkes harper collins childrenl...</td>\n",
       "    </tr>\n",
       "    <tr>\n",
       "      <th>1</th>\n",
       "      <td>0</td>\n",
       "      <td>book based sad truth state country humor berni...</td>\n",
       "    </tr>\n",
       "    <tr>\n",
       "      <th>2</th>\n",
       "      <td>1</td>\n",
       "      <td>lara grandmother ghost begins bashing guests f...</td>\n",
       "    </tr>\n",
       "    <tr>\n",
       "      <th>3</th>\n",
       "      <td>1</td>\n",
       "      <td>charlotte simmons definitive classic american ...</td>\n",
       "    </tr>\n",
       "    <tr>\n",
       "      <th>4</th>\n",
       "      <td>0</td>\n",
       "      <td>much stereotypical tastes storyline unbelievab...</td>\n",
       "    </tr>\n",
       "  </tbody>\n",
       "</table>\n",
       "</div>"
      ],
      "text/plain": [
       "   helpfulness                                         reviewText\n",
       "0            1  old bear kevin henkes harper collins childrenl...\n",
       "1            0  book based sad truth state country humor berni...\n",
       "2            1  lara grandmother ghost begins bashing guests f...\n",
       "3            1  charlotte simmons definitive classic american ...\n",
       "4            0  much stereotypical tastes storyline unbelievab..."
      ]
     },
     "execution_count": 5,
     "metadata": {},
     "output_type": "execute_result"
    }
   ],
   "source": [
    "def load_preprocessed_data():\n",
    "    \"\"\"\n",
    "    Loads dataframe of preprocessed helpfulness review \n",
    "    \"\"\"\n",
    "    preprocessed_df = pd.read_csv('datasets/book_review_helpfulness_preprocessed.csv')\n",
    "    preprocessed_df.head()\n",
    "    return preprocessed_df\n",
    "\n",
    "df_preprocessed = load_preprocessed_data()\n",
    "df_preprocessed.head()\n"
   ]
  },
  {
   "cell_type": "markdown",
   "metadata": {
    "deletable": false,
    "editable": false,
    "nbgrader": {
     "grade": false,
     "grade_id": "cell-28fc4a869d434823",
     "locked": true,
     "schema_version": 3,
     "solution": false,
     "task": false
    }
   },
   "source": [
    "### Q1.b)\n",
    "\n",
    "You now want to use your newly found features to build a baseline. Create a function that receives your vectorized instances and train a naïve bayes model.\n",
    "\n",
    "First we'll start by defining a function to obtain precision and recall:"
   ]
  },
  {
   "cell_type": "code",
   "execution_count": 6,
   "metadata": {
    "deletable": false,
    "editable": false,
    "nbgrader": {
     "grade": false,
     "grade_id": "cell-93c0f5ba86c7ff62",
     "locked": true,
     "schema_version": 3,
     "solution": false,
     "task": false
    }
   },
   "outputs": [],
   "source": [
    "def get_precision_recall(y_test, y_pred):\n",
    "    \"\"\"Returns the precision and recall of the helpfulness class (label = 1)\n",
    "    \n",
    "    Parameters:\n",
    "        y_test (Series): Labels corresponding to X_test\n",
    "        y_pred (Series): Predictions corresponding to X_test\n",
    "\n",
    "    Returns:\n",
    "        precision (float): The precision score of the helpfulness class (1) on the test data\n",
    "        recall (float): The recall score of the helpfulness class (1) on the test data\n",
    "    \"\"\"\n",
    "\n",
    "    precision = precision_score(y_test, y_pred, pos_label=1)\n",
    "    recall = recall_score(y_test, y_pred, pos_label=1)\n",
    "    return precision, recall\n",
    "    \n"
   ]
  },
  {
   "cell_type": "markdown",
   "metadata": {
    "deletable": false,
    "editable": false,
    "nbgrader": {
     "grade": false,
     "grade_id": "cell-a99d737525b250d8",
     "locked": true,
     "schema_version": 3,
     "solution": false,
     "task": false
    }
   },
   "source": [
    "Implement below the function ot train a naive bayes model and use the precision_recall function to return these metrics over the test set:"
   ]
  },
  {
   "cell_type": "code",
   "execution_count": 7,
   "metadata": {
    "deletable": false,
    "nbgrader": {
     "grade": false,
     "grade_id": "cell-4212f8a48fad26c7",
     "locked": false,
     "schema_version": 3,
     "solution": true,
     "task": false
    }
   },
   "outputs": [],
   "source": [
    "def train_model_naive_bayes(X_train_vec, y_train, X_test_vec, y_test):\n",
    "    \"\"\"Returns a fitted Multinomial Naive Bayes model, the predictions on the test set\n",
    "    and the precision and recall scores for these predictions\n",
    "    \n",
    "    Parameters:\n",
    "        X_train_vec (Series): Vectorized text data for training\n",
    "        y_train (Series): Labels corresponding to X_train\n",
    "        X_test_vec (Series): Vectorized text data for testing\n",
    "        y_test (Series): Labels corresponding to X_test\n",
    "\n",
    "    Returns:\n",
    "        clf (MultinomialNB): MultinomialNB classifier fitted to the feature-selected training data\n",
    "        y_pred (Series): The predictions computed with our classifier\n",
    "        precision (float): The precision score of the helpfulness class (1) on the test data\n",
    "        recall (float): The recall score of the helpfulness class (1) on the test data\n",
    "    \"\"\"\n",
    "    \n",
    "    # YOUR CODE HERE\n",
    "    clf = MultinomialNB()\n",
    "    \n",
    "    clf.fit(X_train_vec, y_train)\n",
    "    y_pred = clf.predict(X_test_vec)\n",
    "    \n",
    "    precision = precision_score(y_true = y_test, y_pred=y_pred)\n",
    "    recall = recall_score(y_true = y_test, y_pred=y_pred)\n",
    "\n",
    "    return clf, y_pred, precision, recall"
   ]
  },
  {
   "cell_type": "markdown",
   "metadata": {
    "deletable": false,
    "editable": false,
    "nbgrader": {
     "grade": false,
     "grade_id": "cell-cb35e27414e100a4",
     "locked": true,
     "schema_version": 3,
     "solution": false,
     "task": false
    }
   },
   "source": [
    "Test your model below:"
   ]
  },
  {
   "cell_type": "code",
   "execution_count": 8,
   "metadata": {
    "deletable": false,
    "editable": false,
    "nbgrader": {
     "grade": true,
     "grade_id": "cell-fac3a6ee5b15c471",
     "locked": true,
     "points": 3,
     "schema_version": 3,
     "solution": false,
     "task": false
    }
   },
   "outputs": [],
   "source": [
    "df = load_data()\n",
    "\n",
    "cv = CountVectorizer()\n",
    "\n",
    "X_train, X_test, y_train, y_test = train_test_split(df['reviewText'], df['helpfulness'], test_size=0.2, random_state=42)\n",
    "\n",
    "cv.fit(X_train)\n",
    "X_train_vec = cv.transform(X_train)\n",
    "X_test_vec = cv.transform(X_test)\n",
    "\n",
    "clf, y_pred, precision, recall = train_model_naive_bayes(X_train_vec, y_train, X_test_vec, y_test)\n",
    "assert math.isclose(precision, 0.6305625524769102)\n",
    "assert math.isclose(recall, 0.689623507805326)\n",
    "\n",
    "\n",
    "X_train, X_test, y_train, y_test = train_test_split(df['reviewText'], df['helpfulness'], test_size=0.5, random_state=42)\n",
    "\n",
    "cv.fit(X_train)\n",
    "X_train_vec = cv.transform(X_train)\n",
    "X_test_vec = cv.transform(X_test)\n",
    "\n",
    "clf, y_pred, precision, recall = train_model_naive_bayes(X_train_vec, y_train, X_test_vec, y_test)\n",
    "assert math.isclose(precision, 0.6058282208588958)\n",
    "assert math.isclose(recall, 0.7391467065868264)\n",
    "\n",
    "df_prep = load_preprocessed_data()\n",
    "\n",
    "X_train, X_test, y_train, y_test = train_test_split(df_prep['reviewText'], df_prep['helpfulness'], test_size=0.2, random_state=42)\n",
    "\n",
    "cv = CountVectorizer()\n",
    "cv.fit(X_train)\n",
    "X_train_vec = cv.transform(X_train)\n",
    "X_test_vec = cv.transform(X_test)\n",
    "\n",
    "clf, y_pred, precision, recall = train_model_naive_bayes(X_train_vec, y_train, X_test_vec, y_test)\n",
    "\n",
    "assert math.isclose(precision, 0.6260032102728732), precision\n",
    "assert math.isclose(recall, 0.7162534435261708), recall\n",
    "\n"
   ]
  },
  {
   "cell_type": "markdown",
   "metadata": {
    "deletable": false,
    "editable": false,
    "nbgrader": {
     "grade": false,
     "grade_id": "cell-1124edb4314d1b0e",
     "locked": true,
     "schema_version": 3,
     "solution": false,
     "task": false
    }
   },
   "source": [
    "Now run the two functions you built put together and check your baseline scores:"
   ]
  },
  {
   "cell_type": "code",
   "execution_count": 9,
   "metadata": {
    "deletable": false,
    "editable": false,
    "nbgrader": {
     "grade": false,
     "grade_id": "cell-c1ed06f12f0f2d2b",
     "locked": true,
     "schema_version": 3,
     "solution": false,
     "task": false
    }
   },
   "outputs": [
    {
     "name": "stdout",
     "output_type": "stream",
     "text": [
      "Baseline precision: 0.6274292059966685\n",
      "Baseline recall: 0.7040498442367601\n"
     ]
    }
   ],
   "source": [
    "df = load_data()\n",
    "\n",
    "X_train, X_test, y_train, y_test = train_test_split(\n",
    "    df.drop(columns=['helpfulness']), \n",
    "    df['helpfulness'], \n",
    "    test_size=0.3, \n",
    "    random_state=42\n",
    ")\n",
    "\n",
    "vectorizer, num_features, X_train_vec, X_test_vec = extract_features(X_train, X_test)\n",
    "clf, y_pred, precision, recall = train_model_naive_bayes(X_train_vec, y_train, X_test_vec, y_test)\n",
    "\n",
    "print(f\"Baseline precision: {precision}\")\n",
    "print(f\"Baseline recall: {recall}\")\n"
   ]
  },
  {
   "cell_type": "markdown",
   "metadata": {
    "deletable": false,
    "editable": false,
    "nbgrader": {
     "grade": false,
     "grade_id": "cell-652e101fb2ad549e",
     "locked": true,
     "schema_version": 3,
     "solution": false,
     "task": false
    }
   },
   "source": [
    "_We'll also run with our own provided preprocessed data so you have a base of comparison._"
   ]
  },
  {
   "cell_type": "code",
   "execution_count": 10,
   "metadata": {
    "deletable": false,
    "editable": false,
    "nbgrader": {
     "grade": false,
     "grade_id": "cell-f051bf3811e71cdf",
     "locked": true,
     "schema_version": 3,
     "solution": false,
     "task": false
    }
   },
   "outputs": [
    {
     "name": "stdout",
     "output_type": "stream",
     "text": [
      "Number of features: 43290\n",
      "Baseline precision: 0.6101159114857745\n",
      "Baseline recall: 0.7214953271028037\n"
     ]
    }
   ],
   "source": [
    "df_prep = load_preprocessed_data()\n",
    "\n",
    "X_train, X_test, y_train, y_test = train_test_split(\n",
    "    df_prep['reviewText'], \n",
    "    df_prep['helpfulness'], \n",
    "    test_size=0.3, \n",
    "    random_state=42\n",
    ")\n",
    "\n",
    "cv = CountVectorizer()\n",
    "cv.fit(X_train)\n",
    "X_train_vec = cv.transform(X_train)\n",
    "X_test_vec = cv.transform(X_test)\n",
    "\n",
    "print(f\"Number of features: {len(cv.vocabulary_)}\")\n",
    "\n",
    "clf, y_pred, precision, recall = train_model_naive_bayes(X_train_vec, y_train, X_test_vec, y_test)\n",
    "\n",
    "print(f\"Baseline precision: {precision}\")\n",
    "print(f\"Baseline recall: {recall}\")\n"
   ]
  },
  {
   "cell_type": "markdown",
   "metadata": {
    "deletable": false,
    "editable": false,
    "nbgrader": {
     "grade": false,
     "grade_id": "cell-a27675ff9718a6fa",
     "locked": true,
     "schema_version": 3,
     "solution": false,
     "task": false
    }
   },
   "source": [
    "As we'll use the provided version on your exercises consider this as the baseline:\n",
    "\n",
    "* Baseline precision: 0.6101159114857745\n",
    "* Baseline recall: 0.7214953271028037\n",
    "\n",
    "\n",
    "## Q2) Feature analysis and selection\n",
    "\n",
    "Those are not bad results to start with, but as you've learned about features selection you want to try it out. After all, 43 thousand feature is still a pretty big number. \n"
   ]
  },
  {
   "cell_type": "markdown",
   "metadata": {
    "deletable": false,
    "editable": false,
    "nbgrader": {
     "grade": false,
     "grade_id": "cell-c58f1a74e4aeb4c3",
     "locked": true,
     "schema_version": 3,
     "solution": false,
     "task": false
    }
   },
   "source": [
    "\n",
    "\n",
    "You start by using model based feature selection. For that purpose, you want to use the capability of TF-IDF/CountVectorizer to select the features to use. \n",
    "\n",
    "\n",
    "### Q2.a)\n",
    "\n",
    "Fit a TF-IDF vectorizer with a specific number of features. Note that the features will be selected based on term frequency, so whatever vocabulary used will be based on the term count. Return these features sorted inverse document frequency, the other measure used by TF-IDF - as you've seen in the learning notebooks, a measure of whether a term is common or rare in the documents.\n",
    "\n",
    "Create that function below:\n",
    "* train a tf-idf vectorizer on the provided train data (passing a parameter to define the maximum number of features to use)\n",
    "* return its features sorted by their inverse document frequency (in descending order). \n",
    "\n",
    "**Note**: In case of tie, this is, if several features have the same IDF score, the features should be sorted by alphabetical order.\n"
   ]
  },
  {
   "cell_type": "code",
   "execution_count": 11,
   "metadata": {
    "deletable": false,
    "nbgrader": {
     "grade": false,
     "grade_id": "cell-d22a3960382cfe73",
     "locked": false,
     "schema_version": 3,
     "solution": true,
     "task": false
    }
   },
   "outputs": [],
   "source": [
    "def get_tfidf_ngrams_sorted_by_idf(X_train, top_features=30):\n",
    "    \"\"\"Fits a TfidfVectorizer and returns its features sorted by \n",
    "    idf score\n",
    "    \n",
    "    Parameters:\n",
    "        X_train (Series): Vectorized text data for training\n",
    "        top_features: Top features to use \n",
    "    \n",
    "    Returns:\n",
    "        vectorizer: used tf-idf vectorizer \n",
    "        ngrams_sorted (list): The ngrams of fitted_vectorizer sorted in descending order\n",
    "                              by their idf score. In case of tie, the features should be sorted \n",
    "                              by alphabetical order\n",
    "    \"\"\"\n",
    "    \n",
    "    # YOUR CODE HERE\n",
    "    \n",
    "    vectorizer = TfidfVectorizer(max_features=top_features)\n",
    "    \n",
    "    vectorizer.fit_transform(X_train)\n",
    "\n",
    "    ngrams_sorted = vectorizer.get_feature_names()\n",
    "\n",
    "    mydict = {}\n",
    "    for feature in vectorizer.get_feature_names():\n",
    "        mydict[feature] = vectorizer.idf_[vectorizer.vocabulary_[feature]]\n",
    "    \n",
    "       \n",
    "    ngrams_sorted = [ x[0] for x in sorted(mydict.items(), key=lambda x: x[1], reverse=True) ]\n",
    "\n",
    "    return vectorizer, ngrams_sorted\n"
   ]
  },
  {
   "cell_type": "code",
   "execution_count": 12,
   "metadata": {
    "deletable": false,
    "editable": false,
    "nbgrader": {
     "grade": true,
     "grade_id": "cell-b8188311a1f32f69",
     "locked": true,
     "points": 2,
     "schema_version": 3,
     "solution": false,
     "task": false
    }
   },
   "outputs": [],
   "source": [
    "df_preprocessed = load_preprocessed_data()\n",
    "\n",
    "vectorizer, sorted_n_grams = get_tfidf_ngrams_sorted_by_idf(df_preprocessed['reviewText'], top_features=100)\n",
    "assert hashlib.sha256(sorted_n_grams[12].encode()).hexdigest() == \"bfa062de040f55a15ce910800757061ec3d2fc31d6b7c72d9fa02b75a9ad1133\"\n",
    "\n",
    "vectorizer, sorted_n_grams = get_tfidf_ngrams_sorted_by_idf(df_preprocessed['reviewText'], top_features=100)\n",
    "assert hashlib.sha256(sorted_n_grams[41].encode()).hexdigest() == \"47951833ecf6211793c07d246c29b2314abdd784d806d2253c5723dc5e3b0d74\"\n",
    "\n",
    "vectorizer, sorted_n_grams = get_tfidf_ngrams_sorted_by_idf(df_preprocessed['reviewText'], top_features=100)\n",
    "assert hashlib.sha256(sorted_n_grams[76].encode()).hexdigest() == \"686f746a95b6f836d7d70567c302c3f9ebb5ee0def3d1220ee9d4e9f34f5e131\"\n"
   ]
  },
  {
   "cell_type": "markdown",
   "metadata": {
    "deletable": false,
    "editable": false,
    "nbgrader": {
     "grade": false,
     "grade_id": "cell-adca65f62fff79d8",
     "locked": true,
     "schema_version": 3,
     "solution": false,
     "task": false
    }
   },
   "source": [
    "Check the features with top inverse document frequency in your vectorizer:"
   ]
  },
  {
   "cell_type": "code",
   "execution_count": 13,
   "metadata": {
    "deletable": false,
    "editable": false,
    "nbgrader": {
     "grade": false,
     "grade_id": "cell-cd01e244d60c3db1",
     "locked": true,
     "schema_version": 3,
     "solution": false,
     "task": false
    }
   },
   "outputs": [
    {
     "name": "stdout",
     "output_type": "stream",
     "text": [
      "['ben', 'jane', 'empire', 'brown', 'henry', 'mary', 'peter', 'france', 'joe', 'economic', 'vampire', 'jesus', 'harry', 'film', 'scientific', 'animals', 'french', 'queen', 'philosophy', 'music', 'army', 'civil', 'club', 'george', 'market', 'theory', 'team', 'conflict', 'london', 'nation']\n"
     ]
    }
   ],
   "source": [
    "df_preprocessed = load_preprocessed_data()\n",
    "\n",
    "X_train, X_test, y_train, y_test = train_test_split(\n",
    "    df_preprocessed['reviewText'], \n",
    "    df_preprocessed['helpfulness'], \n",
    "    test_size=0.3, \n",
    "    random_state=42\n",
    ")\n",
    "\n",
    "#show most specifc 30 features of the 100 selected features\n",
    "vectorizer, sorted_n_grams = get_tfidf_ngrams_sorted_by_idf(X_train, top_features=1000)\n",
    "\n",
    "print(sorted_n_grams[:30])\n"
   ]
  },
  {
   "cell_type": "markdown",
   "metadata": {
    "deletable": false,
    "editable": false,
    "nbgrader": {
     "grade": false,
     "grade_id": "cell-5e6234e9cbfdcc8c",
     "locked": true,
     "schema_version": 3,
     "solution": false,
     "task": false
    }
   },
   "source": [
    "As we're only seeing the top IDF features, they tend to be more specific words you would find only in a subset of documents. But in general all of these features are not surprising in the context of books. \n",
    "\n",
    "### Q2.b)\n",
    "\n",
    "Finally we want to see how this behaves in comparison with our baseline. Use the functions you have seen above to try out different values of features (50, 100, 500, 1000, 2000, 5000 and 10000) in the training of a Multinomial Naive Bayes. Check the precision and recall of each run and store it on a list:\n"
   ]
  },
  {
   "cell_type": "code",
   "execution_count": 14,
   "metadata": {
    "deletable": false,
    "nbgrader": {
     "grade": false,
     "grade_id": "cell-641b26a61917cf52",
     "locked": false,
     "schema_version": 3,
     "solution": true,
     "task": false
    }
   },
   "outputs": [],
   "source": [
    "df_preprocessed = load_preprocessed_data()\n",
    "\n",
    "X_train, X_test, y_train, y_test = train_test_split(\n",
    "    df_preprocessed['reviewText'], \n",
    "    df_preprocessed['helpfulness'], \n",
    "    test_size=0.3, \n",
    "    random_state=42\n",
    ")\n",
    "\n",
    "# For the following values: 50, 100, 500, 1000, 2000, 5000 and 10000\n",
    "# 1. Fit a TF-IDF limiting its features \n",
    "# 2. Train a Naive Bayes model\n",
    "# 3. Obtain precision and recall\n",
    "# 4. Store the lists of feature length, precision and recall values \n",
    "\n",
    "feature_lengths = []\n",
    "precisions_values = []\n",
    "recall_values = []\n",
    "\n",
    "# YOUR CODE HERE\n",
    "for k in [50, 100, 500, 1000, 2000, 5000, 10000]:\n",
    "    vectorizer, ngrams_sorted = get_tfidf_ngrams_sorted_by_idf(X_train, k)\n",
    "    \n",
    "    X_train_vec = vectorizer.transform(X_train) \n",
    "    X_test_vec = vectorizer.transform(X_test)\n",
    "    \n",
    "    clf, y_pred, precision, recall = train_model_naive_bayes(X_train_vec, y_train, X_test_vec, y_test)\n",
    "    \n",
    "    feature_lengths.append(k)\n",
    "    precisions_values.append(precision)\n",
    "    recall_values.append(recall)"
   ]
  },
  {
   "cell_type": "code",
   "execution_count": 15,
   "metadata": {
    "deletable": false,
    "editable": false,
    "nbgrader": {
     "grade": true,
     "grade_id": "cell-d190a2151e63bd0f",
     "locked": true,
     "points": 1,
     "schema_version": 3,
     "solution": false,
     "task": false
    }
   },
   "outputs": [],
   "source": [
    "\n",
    "assert len(feature_lengths) == len(precisions_values) == len(recall_values) == 7\n",
    "\n",
    "assert math.isclose(precisions_values[4], 0.6114101184068891)\n",
    "assert math.isclose(recall_values[5], 0.7171339563862928)\n",
    "\n",
    "assert math.isclose(np.sum(precisions_values), 4.170958590158336)\n",
    "assert math.isclose(np.sum(recall_values), 5.242990654205607)\n"
   ]
  },
  {
   "cell_type": "markdown",
   "metadata": {
    "deletable": false,
    "editable": false,
    "nbgrader": {
     "grade": false,
     "grade_id": "cell-fda55a7260224715",
     "locked": true,
     "schema_version": 3,
     "solution": false,
     "task": false
    }
   },
   "source": [
    "Look at the precision, recall variation of each and answer the questions below:"
   ]
  },
  {
   "cell_type": "code",
   "execution_count": 16,
   "metadata": {
    "deletable": false,
    "editable": false,
    "nbgrader": {
     "grade": false,
     "grade_id": "cell-44d6983aaea90cc7",
     "locked": true,
     "schema_version": 3,
     "solution": false,
     "task": false
    }
   },
   "outputs": [
    {
     "name": "stdout",
     "output_type": "stream",
     "text": [
      "Number of features: 50\n",
      "Precision: 0.5735359856951274\n",
      "Recall: 0.7993769470404984\n",
      "==============================\n",
      "Number of features: 100\n",
      "Precision: 0.5740824648844586\n",
      "Recall: 0.7894080996884735\n",
      "==============================\n",
      "Number of features: 500\n",
      "Precision: 0.5925\n",
      "Recall: 0.7383177570093458\n",
      "==============================\n",
      "Number of features: 1000\n",
      "Precision: 0.6041666666666666\n",
      "Recall: 0.7227414330218068\n",
      "==============================\n",
      "Number of features: 2000\n",
      "Precision: 0.6114101184068891\n",
      "Recall: 0.7077881619937695\n",
      "==============================\n",
      "Number of features: 5000\n",
      "Precision: 0.6132125732551944\n",
      "Recall: 0.7171339563862928\n",
      "==============================\n",
      "Number of features: 10000\n",
      "Precision: 0.60205078125\n",
      "Recall: 0.7682242990654206\n",
      "==============================\n"
     ]
    }
   ],
   "source": [
    "for n_features, precision, recall in zip(feature_lengths, precisions_values, recall_values):\n",
    "    print(f\"Number of features: {n_features}\")\n",
    "    print(f\"Precision: {precision}\")    \n",
    "    print(f\"Recall: {recall}\")\n",
    "    print(\"==============================\")\n"
   ]
  },
  {
   "cell_type": "markdown",
   "metadata": {
    "deletable": false,
    "editable": false,
    "nbgrader": {
     "grade": false,
     "grade_id": "cell-1192b685dad4fab0",
     "locked": true,
     "schema_version": 3,
     "solution": false,
     "task": false
    }
   },
   "source": [
    "**Q2.b.i)** Which number of feature yielded the **highest precision**?"
   ]
  },
  {
   "cell_type": "code",
   "execution_count": 17,
   "metadata": {
    "deletable": false,
    "nbgrader": {
     "grade": false,
     "grade_id": "cell-cb3a3de21e03e7f6",
     "locked": false,
     "schema_version": 3,
     "solution": true,
     "task": false
    }
   },
   "outputs": [],
   "source": [
    "num_features_higher_precision = 5000 # numeric value\n",
    "# YOUR CODE HERE\n"
   ]
  },
  {
   "cell_type": "code",
   "execution_count": 18,
   "metadata": {
    "deletable": false,
    "editable": false,
    "nbgrader": {
     "grade": true,
     "grade_id": "cell-0dd5a122b8b0df3a",
     "locked": true,
     "points": 0.25,
     "schema_version": 3,
     "solution": false,
     "task": false
    }
   },
   "outputs": [],
   "source": [
    "assert hashlib.sha256(bytes(num_features_higher_precision)).hexdigest() == \\\n",
    "    \"7ca5bd879f393d9dd05b14f38add9c0fc6b67928f7f2d261b2e47a32ee8219e3\"\n"
   ]
  },
  {
   "cell_type": "markdown",
   "metadata": {
    "deletable": false,
    "editable": false,
    "nbgrader": {
     "grade": false,
     "grade_id": "cell-c2022411c99d37b0",
     "locked": true,
     "schema_version": 3,
     "solution": false,
     "task": false
    }
   },
   "source": [
    "**Q2.b.ii)** Which number of feature yielded the **highest recall**?"
   ]
  },
  {
   "cell_type": "code",
   "execution_count": 19,
   "metadata": {
    "deletable": false,
    "nbgrader": {
     "grade": false,
     "grade_id": "cell-98f7382e6d605724",
     "locked": false,
     "schema_version": 3,
     "solution": true,
     "task": false
    }
   },
   "outputs": [],
   "source": [
    "num_features_higher_recall = 50 # numeric value\n",
    "# YOUR CODE HERE"
   ]
  },
  {
   "cell_type": "code",
   "execution_count": 20,
   "metadata": {
    "deletable": false,
    "editable": false,
    "nbgrader": {
     "grade": true,
     "grade_id": "cell-f164bd4d459f2790",
     "locked": true,
     "points": 0.25,
     "schema_version": 3,
     "solution": false,
     "task": false
    }
   },
   "outputs": [],
   "source": [
    "assert hashlib.sha256(bytes(num_features_higher_recall)).hexdigest() == \\\n",
    "    \"cc2786e1f9910a9d811400edcddaf7075195f7a16b216dcbefba3bc7c4f2ae51\"\n"
   ]
  },
  {
   "cell_type": "markdown",
   "metadata": {
    "deletable": false,
    "editable": false,
    "nbgrader": {
     "grade": false,
     "grade_id": "cell-01ec636c599a5df8",
     "locked": true,
     "schema_version": 3,
     "solution": false,
     "task": false
    }
   },
   "source": [
    "**Q2.b.iii)** Which number of feature yielded the **highest F1-score**?"
   ]
  },
  {
   "cell_type": "code",
   "execution_count": 21,
   "metadata": {
    "deletable": false,
    "nbgrader": {
     "grade": false,
     "grade_id": "cell-dd0c030243f5bfc5",
     "locked": false,
     "schema_version": 3,
     "solution": true,
     "task": false
    }
   },
   "outputs": [],
   "source": [
    "num_features_higher_f1 = 10000 # numeric value\n",
    "# YOUR CODE HERE"
   ]
  },
  {
   "cell_type": "code",
   "execution_count": 22,
   "metadata": {
    "deletable": false,
    "editable": false,
    "nbgrader": {
     "grade": true,
     "grade_id": "cell-cb3beeb2e54d7fe1",
     "locked": true,
     "points": 0.25,
     "schema_version": 3,
     "solution": false,
     "task": false
    }
   },
   "outputs": [],
   "source": [
    "assert hashlib.sha256(bytes(num_features_higher_f1)).hexdigest() == \\\n",
    "    \"95b532cc4381affdff0d956e12520a04129ed49d37e154228368fe5621f0b9a2\"\n"
   ]
  },
  {
   "cell_type": "markdown",
   "metadata": {
    "deletable": false,
    "editable": false,
    "nbgrader": {
     "grade": false,
     "grade_id": "cell-1043b46f217fa6c5",
     "locked": true,
     "schema_version": 3,
     "solution": false,
     "task": false
    }
   },
   "source": [
    "**Q2.b.iv)** Knowing we won't be able to read that many reviews, but we want to make sure the ones we do read are helpfull, which number of features would you choose? "
   ]
  },
  {
   "cell_type": "code",
   "execution_count": 23,
   "metadata": {
    "deletable": false,
    "nbgrader": {
     "grade": false,
     "grade_id": "cell-fcf4ab6fc48580e9",
     "locked": false,
     "schema_version": 3,
     "solution": true,
     "task": false
    }
   },
   "outputs": [],
   "source": [
    "choice_model = \"precision\"  # one of \"precision\" or \"recall\"  or \"f1-score\"\n",
    "# YOUR CODE HERE"
   ]
  },
  {
   "cell_type": "code",
   "execution_count": 24,
   "metadata": {
    "deletable": false,
    "editable": false,
    "nbgrader": {
     "grade": true,
     "grade_id": "cell-f5fb9e31f8c9a160",
     "locked": true,
     "points": 0.25,
     "schema_version": 3,
     "solution": false,
     "task": false
    }
   },
   "outputs": [],
   "source": [
    "assert hashlib.sha256(choice_model.encode()).hexdigest() == \\\n",
    "    \"68c2f9ee314749c05c96df0cad305b0972506d78bb9b23c942cf805b274236c6\"\n"
   ]
  },
  {
   "cell_type": "markdown",
   "metadata": {
    "deletable": false,
    "editable": false,
    "nbgrader": {
     "grade": false,
     "grade_id": "cell-28f6e998fa1a40a2",
     "locked": true,
     "schema_version": 3,
     "solution": false,
     "task": false
    }
   },
   "source": [
    "\n",
    "### Q2.c)\n",
    "\n",
    "You also heard about Chi squared, another method that will try to find the relevance of features and select the best ones based on it.\n",
    "\n",
    "<img src=\"media/chi-squared-not-sure.jpg\" width=\"40%\" />\n",
    "\n",
    "You decide to implement a function to run chi-squared over your vectorizer and return the selected features.\n",
    "\n",
    "**Note**: In this case, don't limit CountVectorizer/TfidfVectorizer to any number of features"
   ]
  },
  {
   "cell_type": "code",
   "execution_count": 25,
   "metadata": {
    "deletable": false,
    "nbgrader": {
     "grade": false,
     "grade_id": "cell-f0c66b2edf797342",
     "locked": false,
     "schema_version": 3,
     "solution": true,
     "task": false
    }
   },
   "outputs": [],
   "source": [
    "def extract_features_chi2(X_train, y_train, top_features=100, vectorizer_type=\"count\"):\n",
    "    \"\"\"Converts the provided text training data into TF-IDF feature counts. \n",
    "    Additionally, selects the best features with chi squared method and returns\n",
    "    the sorted ngrams\n",
    "    \n",
    "    Parameters:\n",
    "        X_train: training data\n",
    "        y_train: training labels\n",
    "        top_features: maximum number of features to use\n",
    "        vectorizer_type: type of vectorizer to use (\"count\" or \"tfidf\")\n",
    "\n",
    "    Returns:\n",
    "        vectorizer: used tf-idf vectorizer \n",
    "        ch2: used feature selector\n",
    "        X_train_ch2: transformed vector after feature selection\n",
    "        ngrams_sorted (list): The top features of fitted_vectorizer sorted in ascending order\n",
    "                              by their chi squared score\n",
    "    \"\"\"\n",
    "    \n",
    "    # YOUR CODE HERE\n",
    "    \n",
    "    if vectorizer_type == \"count\":\n",
    "        vectorizer = CountVectorizer()\n",
    "    else:\n",
    "        vectorizer = TfidfVectorizer()\n",
    "\n",
    "    X_train_vec = vectorizer.fit_transform(X_train)\n",
    "\n",
    "    feature_names = vectorizer.get_feature_names()\n",
    "    \n",
    "    ch2 = SelectKBest(chi2, k=top_features)\n",
    "    X_train_ch2 = ch2.fit_transform(X_train_vec, y_train)\n",
    "    \n",
    "    mydict = {}\n",
    "    for feature_index in ch2.get_support(indices=True):\n",
    "        mydict[feature_names[feature_index]] = ch2.scores_[feature_index]\n",
    "       \n",
    "    ngrams_sorted = [ x[0] for x in sorted(mydict.items(), key=lambda x: x[1], reverse=True) ]\n",
    "\n",
    "    return vectorizer, ch2, X_train_ch2, ngrams_sorted"
   ]
  },
  {
   "cell_type": "code",
   "execution_count": 26,
   "metadata": {
    "deletable": false,
    "editable": false,
    "nbgrader": {
     "grade": true,
     "grade_id": "cell-0b7f52fc1fdef287",
     "locked": true,
     "points": 3,
     "schema_version": 3,
     "solution": false,
     "task": false
    }
   },
   "outputs": [],
   "source": [
    "df_preprocessed = load_preprocessed_data()\n",
    "\n",
    "X_train, X_test, y_train, y_test = train_test_split(\n",
    "    df_preprocessed['reviewText'], \n",
    "    df_preprocessed['helpfulness'], \n",
    "    test_size=0.3, \n",
    "    random_state=42\n",
    ")\n",
    "\n",
    "vectorizer_ch2, ch2, X_train_ch2, most_important_features = extract_features_chi2(X_train, y_train, vectorizer_type=\"tfidf\")\n",
    "assert math.isclose(np.sum(X_train_ch2.todense()[12, :]), 0.30615842862660636)\n",
    "assert ch2.k == 100\n",
    "\n",
    "vectorizer_ch2, ch2, X_train_ch2, most_important_features = extract_features_chi2(X_train, y_train, vectorizer_type=\"tfidf\", top_features=123)\n",
    "assert math.isclose(np.sum(X_train_ch2.todense()[:, 122]), 33.74087286012022)\n",
    "assert ch2.k == 123\n",
    "\n",
    "\n",
    "vectorizer_ch2, ch2, X_train_ch2, most_important_features = extract_features_chi2(X_train, y_train, vectorizer_type=\"count\")\n",
    "assert math.isclose(np.sum(X_train_ch2.todense()[12, :]), 26), np.sum(X_train_ch2.todense()[12, :])\n",
    "assert ch2.k == 100\n",
    "\n",
    "vectorizer_ch2, ch2, X_train_ch2, most_important_features  = extract_features_chi2(X_train, y_train, vectorizer_type=\"count\", top_features=123)\n",
    "assert math.isclose(np.sum(X_train_ch2.todense()[:, 122]), 734)\n",
    "assert ch2.k == 123\n",
    "\n"
   ]
  },
  {
   "cell_type": "markdown",
   "metadata": {
    "deletable": false,
    "editable": false,
    "nbgrader": {
     "grade": false,
     "grade_id": "cell-15b6c9135c1144ae",
     "locked": true,
     "schema_version": 3,
     "solution": false,
     "task": false
    }
   },
   "source": [
    "Let's apply our extractor with 30 features and check them out:"
   ]
  },
  {
   "cell_type": "code",
   "execution_count": 27,
   "metadata": {
    "deletable": false,
    "editable": false,
    "nbgrader": {
     "grade": false,
     "grade_id": "cell-de4f48b0315a5c15",
     "locked": true,
     "schema_version": 3,
     "solution": false,
     "task": false
    }
   },
   "outputs": [
    {
     "data": {
      "text/plain": [
       "['book',\n",
       " 'story',\n",
       " 'one',\n",
       " 'life',\n",
       " 'quot',\n",
       " 'also',\n",
       " 'world',\n",
       " 'well',\n",
       " 'first',\n",
       " 'people',\n",
       " 'novel',\n",
       " 'time',\n",
       " 'years',\n",
       " 'even',\n",
       " 'reader',\n",
       " 'many',\n",
       " 'two',\n",
       " 'mother',\n",
       " 'make',\n",
       " 'young',\n",
       " 'new',\n",
       " 'like',\n",
       " 'much',\n",
       " 'work',\n",
       " 'find',\n",
       " 'stories',\n",
       " 'may',\n",
       " 'home',\n",
       " 'family',\n",
       " 'us']"
      ]
     },
     "execution_count": 27,
     "metadata": {},
     "output_type": "execute_result"
    }
   ],
   "source": [
    "df_preprocessed = load_preprocessed_data()\n",
    "\n",
    "X_train, X_test, y_train, y_test = train_test_split(\n",
    "    df_preprocessed['reviewText'], \n",
    "    df_preprocessed['helpfulness'], \n",
    "    test_size=0.3, \n",
    "    random_state=42\n",
    ")\n",
    "\n",
    "vectorizer_ch2, ch2, X_train_ch2, most_important_features  = extract_features_chi2(X_train, y_train, top_features=30)\n",
    "\n",
    "most_important_features"
   ]
  },
  {
   "cell_type": "markdown",
   "metadata": {
    "deletable": false,
    "editable": false,
    "nbgrader": {
     "grade": false,
     "grade_id": "cell-099ecaf666f3e62e",
     "locked": true,
     "schema_version": 3,
     "solution": false,
     "task": false
    }
   },
   "source": [
    "We can also see how often each of the features selected appears in the reviews:"
   ]
  },
  {
   "cell_type": "code",
   "execution_count": 28,
   "metadata": {
    "deletable": false,
    "editable": false,
    "nbgrader": {
     "grade": false,
     "grade_id": "cell-75fa0016fc29f7e0",
     "locked": true,
     "schema_version": 3,
     "solution": false,
     "task": false
    }
   },
   "outputs": [
    {
     "name": "stdout",
     "output_type": "stream",
     "text": [
      "Documents that contains the word(s) \"book\"\n",
      "----\n",
      "1    3063\n",
      "0    2507\n",
      "Name: helpfulness, dtype: int64\n",
      "\n",
      "\n",
      "Documents that contains the word(s) \"story\"\n",
      "----\n",
      "1    1705\n",
      "0    1164\n",
      "Name: helpfulness, dtype: int64\n",
      "\n",
      "\n",
      "Documents that contains the word(s) \"one\"\n",
      "----\n",
      "1    2537\n",
      "0    1710\n",
      "Name: helpfulness, dtype: int64\n",
      "\n",
      "\n",
      "Documents that contains the word(s) \"life\"\n",
      "----\n",
      "1    1045\n",
      "0     565\n",
      "Name: helpfulness, dtype: int64\n",
      "\n",
      "\n",
      "Documents that contains the word(s) \"quot\"\n",
      "----\n",
      "1    272\n",
      "0    134\n",
      "Name: helpfulness, dtype: int64\n",
      "\n",
      "\n",
      "Documents that contains the word(s) \"also\"\n",
      "----\n",
      "1    937\n",
      "0    522\n",
      "Name: helpfulness, dtype: int64\n",
      "\n",
      "\n",
      "Documents that contains the word(s) \"world\"\n",
      "----\n",
      "1    745\n",
      "0    375\n",
      "Name: helpfulness, dtype: int64\n",
      "\n",
      "\n",
      "Documents that contains the word(s) \"well\"\n",
      "----\n",
      "1    1224\n",
      "0     710\n",
      "Name: helpfulness, dtype: int64\n",
      "\n",
      "\n",
      "Documents that contains the word(s) \"first\"\n",
      "----\n",
      "1    1079\n",
      "0     634\n",
      "Name: helpfulness, dtype: int64\n",
      "\n",
      "\n",
      "Documents that contains the word(s) \"people\"\n",
      "----\n",
      "1    839\n",
      "0    487\n",
      "Name: helpfulness, dtype: int64\n",
      "\n",
      "\n",
      "Documents that contains the word(s) \"novel\"\n",
      "----\n",
      "1    835\n",
      "0    484\n",
      "Name: helpfulness, dtype: int64\n",
      "\n",
      "\n",
      "Documents that contains the word(s) \"time\"\n",
      "----\n",
      "1    1554\n",
      "0     943\n",
      "Name: helpfulness, dtype: int64\n",
      "\n",
      "\n",
      "Documents that contains the word(s) \"years\"\n",
      "----\n",
      "1    633\n",
      "0    310\n",
      "Name: helpfulness, dtype: int64\n",
      "\n",
      "\n",
      "Documents that contains the word(s) \"even\"\n",
      "----\n",
      "1    1289\n",
      "0     735\n",
      "Name: helpfulness, dtype: int64\n",
      "\n",
      "\n",
      "Documents that contains the word(s) \"reader\"\n",
      "----\n",
      "1    785\n",
      "0    404\n",
      "Name: helpfulness, dtype: int64\n",
      "\n",
      "\n",
      "Documents that contains the word(s) \"many\"\n",
      "----\n",
      "1    952\n",
      "0    544\n",
      "Name: helpfulness, dtype: int64\n",
      "\n",
      "\n",
      "Documents that contains the word(s) \"two\"\n",
      "----\n",
      "1    730\n",
      "0    399\n",
      "Name: helpfulness, dtype: int64\n",
      "\n",
      "\n",
      "Documents that contains the word(s) \"mother\"\n",
      "----\n",
      "1    316\n",
      "0    146\n",
      "Name: helpfulness, dtype: int64\n",
      "\n",
      "\n",
      "Documents that contains the word(s) \"make\"\n",
      "----\n",
      "1    1087\n",
      "0     591\n",
      "Name: helpfulness, dtype: int64\n",
      "\n",
      "\n",
      "Documents that contains the word(s) \"young\"\n",
      "----\n",
      "1    448\n",
      "0    198\n",
      "Name: helpfulness, dtype: int64\n",
      "\n",
      "\n",
      "Documents that contains the word(s) \"new\"\n",
      "----\n",
      "1    919\n",
      "0    514\n",
      "Name: helpfulness, dtype: int64\n",
      "\n",
      "\n",
      "Documents that contains the word(s) \"like\"\n",
      "----\n",
      "1    1668\n",
      "0    1158\n",
      "Name: helpfulness, dtype: int64\n",
      "\n",
      "\n",
      "Documents that contains the word(s) \"much\"\n",
      "----\n",
      "1    1080\n",
      "0     710\n",
      "Name: helpfulness, dtype: int64\n",
      "\n",
      "\n",
      "Documents that contains the word(s) \"work\"\n",
      "----\n",
      "1    985\n",
      "0    519\n",
      "Name: helpfulness, dtype: int64\n",
      "\n",
      "\n",
      "Documents that contains the word(s) \"find\"\n",
      "----\n",
      "1    824\n",
      "0    450\n",
      "Name: helpfulness, dtype: int64\n",
      "\n",
      "\n",
      "Documents that contains the word(s) \"stories\"\n",
      "----\n",
      "1    411\n",
      "0    224\n",
      "Name: helpfulness, dtype: int64\n",
      "\n",
      "\n",
      "Documents that contains the word(s) \"may\"\n",
      "----\n",
      "1    667\n",
      "0    378\n",
      "Name: helpfulness, dtype: int64\n",
      "\n",
      "\n",
      "Documents that contains the word(s) \"home\"\n",
      "----\n",
      "1    370\n",
      "0    152\n",
      "Name: helpfulness, dtype: int64\n",
      "\n",
      "\n",
      "Documents that contains the word(s) \"family\"\n",
      "----\n",
      "1    435\n",
      "0    214\n",
      "Name: helpfulness, dtype: int64\n",
      "\n",
      "\n",
      "Documents that contains the word(s) \"us\"\n",
      "----\n",
      "1    2793\n",
      "0    1836\n",
      "Name: helpfulness, dtype: int64\n",
      "\n",
      "\n"
     ]
    }
   ],
   "source": [
    "for feature in most_important_features:\n",
    "    print('Documents that contains the word(s) \"%s\"' % feature)\n",
    "    print('----')\n",
    "    docs = X_train.str.lower().str.contains(feature)\n",
    "    print(str(y_train[docs].value_counts()) + '\\n\\n')"
   ]
  },
  {
   "cell_type": "markdown",
   "metadata": {
    "deletable": false,
    "editable": false,
    "nbgrader": {
     "grade": false,
     "grade_id": "cell-d1563c9a666e59d8",
     "locked": true,
     "schema_version": 3,
     "solution": false,
     "task": false
    }
   },
   "source": [
    "It seems that most features selected as relevant are slightly more attached to the \"helpful\" class (1).\n",
    "\n",
    "Now let's see how that translates in terms of model training. Repeat the procedure you done above to check the feature selection scores. Do that using the function you just created with count vectorizer and chi-squared:\n"
   ]
  },
  {
   "cell_type": "code",
   "execution_count": 29,
   "metadata": {
    "deletable": false,
    "nbgrader": {
     "grade": false,
     "grade_id": "cell-38b468714a5ca798",
     "locked": false,
     "schema_version": 3,
     "solution": true,
     "task": false
    }
   },
   "outputs": [],
   "source": [
    "df_preprocessed = load_preprocessed_data()\n",
    "\n",
    "X_train, X_test, y_train, y_test = train_test_split(\n",
    "    df_preprocessed['reviewText'], \n",
    "    df_preprocessed['helpfulness'], \n",
    "    test_size=0.3, \n",
    "    random_state=42\n",
    ")\n",
    "\n",
    "# For the following values: 50, 100, 500, 1000, 2000, 5000 and 10000\n",
    "# 1. Use a count vectorizer and ch2 feature selection with the give number of features \n",
    "# 2. Train a Naive Bayes model\n",
    "# 3. Obtain precision and recall\n",
    "# 4. Store the lists of feature length, precision and recall values \n",
    "\n",
    "feature_lengths = []\n",
    "precisions_values = []\n",
    "recall_values = []\n",
    "\n",
    "# YOUR CODE HERE\n",
    "for k in [50, 100, 500, 1000, 2000, 5000, 10000]:\n",
    "    vectorizer, ch2, X_train_ch2, ngrams_sorted = extract_features_chi2(X_train, y_train, k)\n",
    "    \n",
    "    #X_train_vec = vectorizer.transform(X_train)\n",
    "    X_test_ch2 = ch2.transform(vectorizer.transform(X_test))\n",
    "    \n",
    "    clf, y_pred, precision, recall = train_model_naive_bayes(X_train_ch2, y_train, X_test_ch2, y_test)\n",
    "    \n",
    "    feature_lengths.append(k)\n",
    "    precisions_values.append(precision)\n",
    "    recall_values.append(recall)"
   ]
  },
  {
   "cell_type": "code",
   "execution_count": 30,
   "metadata": {
    "deletable": false,
    "editable": false,
    "nbgrader": {
     "grade": true,
     "grade_id": "cell-0ad99d25ab050a2f",
     "locked": true,
     "points": 1,
     "schema_version": 3,
     "solution": false,
     "task": false
    }
   },
   "outputs": [],
   "source": [
    "\n",
    "assert len(feature_lengths) == len(precisions_values) == len(recall_values) == 7\n",
    "\n",
    "assert math.isclose(precisions_values[4], 0.649458784346378)\n",
    "assert math.isclose(recall_values[5], 0.49221183800623053)\n",
    "\n",
    "assert math.isclose(np.sum(precisions_values), 4.416826519514508)\n",
    "assert math.isclose(np.sum(recall_values), 3.5514018691588785)\n"
   ]
  },
  {
   "cell_type": "markdown",
   "metadata": {
    "deletable": false,
    "editable": false,
    "nbgrader": {
     "grade": false,
     "grade_id": "cell-760cb8df07ac60fc",
     "locked": true,
     "schema_version": 3,
     "solution": false,
     "task": false
    }
   },
   "source": [
    "Finally, check the scores:"
   ]
  },
  {
   "cell_type": "code",
   "execution_count": 31,
   "metadata": {},
   "outputs": [
    {
     "name": "stdout",
     "output_type": "stream",
     "text": [
      "Number of features: 50\n",
      "Precision: 0.5874079035498996\n",
      "Recall: 0.5464174454828661\n",
      "==============================\n",
      "Number of features: 100\n",
      "Precision: 0.6043795620437956\n",
      "Recall: 0.5158878504672897\n",
      "==============================\n",
      "Number of features: 500\n",
      "Precision: 0.630016051364366\n",
      "Recall: 0.48909657320872274\n",
      "==============================\n",
      "Number of features: 1000\n",
      "Precision: 0.6371753246753247\n",
      "Recall: 0.48909657320872274\n",
      "==============================\n",
      "Number of features: 2000\n",
      "Precision: 0.649458784346378\n",
      "Recall: 0.48598130841121495\n",
      "==============================\n",
      "Number of features: 5000\n",
      "Precision: 0.661641541038526\n",
      "Recall: 0.49221183800623053\n",
      "==============================\n",
      "Number of features: 10000\n",
      "Precision: 0.6467473524962178\n",
      "Recall: 0.5327102803738317\n",
      "==============================\n"
     ]
    }
   ],
   "source": [
    "for n_features, precision, recall in zip(feature_lengths, precisions_values, recall_values):\n",
    "    print(f\"Number of features: {n_features}\")\n",
    "    print(f\"Precision: {precision}\")    \n",
    "    print(f\"Recall: {recall}\")\n",
    "    print(\"==============================\")\n"
   ]
  },
  {
   "cell_type": "markdown",
   "metadata": {
    "deletable": false,
    "editable": false,
    "nbgrader": {
     "grade": false,
     "grade_id": "cell-1334fe8f60c2d3fc",
     "locked": true,
     "schema_version": 3,
     "solution": false,
     "task": false
    }
   },
   "source": [
    "In this case, we are able to raise precision (check the values for 5000 features) even though we sacrifice recall.\n"
   ]
  },
  {
   "cell_type": "markdown",
   "metadata": {
    "deletable": false,
    "editable": false,
    "nbgrader": {
     "grade": false,
     "grade_id": "cell-8be788c4e7462464",
     "locked": true,
     "schema_version": 3,
     "solution": false,
     "task": false
    }
   },
   "source": [
    "## Q3.\n",
    "\n",
    "Now let's move on to more complex methods. In the previous methods, the selection is based on the actual n-grams, so we are limited to the information each feature brings separately. We will now try PCA, which will try to find the principal components of our vectorized representation \n",
    "\n",
    "Write a function that computes PCA on top of a CountVectorizer. Additionally, train a Support Vector Classifier on top of the PCA output.\n",
    "\n",
    "**To avoid using up too much memory, and as we'll use dense matrices, please use a max_features value of 5000 in the vectorizer**\n"
   ]
  },
  {
   "cell_type": "code",
   "execution_count": 32,
   "metadata": {
    "deletable": false,
    "nbgrader": {
     "grade": false,
     "grade_id": "cell-c323629aaea537dd",
     "locked": false,
     "schema_version": 3,
     "solution": true,
     "task": false
    }
   },
   "outputs": [],
   "source": [
    "def train_model_pca_svm(X_train, y_train, X_test, y_test, num_features=100, seed=42):\n",
    "    \"\"\"Returns a fitted TfidfVectorizer, the truncated svd used, a support vector classifier\n",
    "    and the test predictions computed with these\n",
    "    \n",
    "    Parameters:\n",
    "        X_train (Series): Text data for training\n",
    "        y_train (Series): Labels corresponding to X_train\n",
    "        X_test (Series): Text data for testing\n",
    "        y_test (Series): Labels corresponding to X_test\n",
    "        num_features (int): maximum number of features to use\n",
    "        seed (int): Seed to use for random state\n",
    "\n",
    "    Returns:\n",
    "        vectorizer (CountVectorizer): CountVectorizer, fitted to X_train\n",
    "        pca (PCA): PCA with provided number of features as components\n",
    "        clf (SVC): SVC classifier fitted to the feature-selected training data\n",
    "        y_pred (Series): The predictions computed with our classifier\n",
    "    \"\"\"\n",
    "    # YOUR CODE HERE\n",
    "    \n",
    "    vectorizer = CountVectorizer(max_features=5000)\n",
    "    vectorizer.fit(X_train)\n",
    "    \n",
    "    X_train_vec = vectorizer.transform(X_train).toarray()\n",
    "    X_test_vec = vectorizer.transform(X_test).toarray()\n",
    "    data_var = np.var(X_train_vec, axis=0).sum()\n",
    "    \n",
    "    \n",
    "    pca = PCA(n_components=num_features, random_state=seed)\n",
    "    pca.fit(X_train_vec)\n",
    "\n",
    "    X_train_pca = pca.transform(X_train_vec)\n",
    "    X_test_pca = pca.transform(X_test_vec)\n",
    "    \n",
    "    \n",
    "    clf =  SVC(random_state=seed)\n",
    "    clf.fit(X_train_pca, y_train)\n",
    "    y_pred = clf.predict(X_test_pca)\n",
    "    \n",
    "    explained_variance = 1.0*np.var(X_train_pca, axis=0).sum() / data_var\n",
    "    \n",
    "    return vectorizer, pca, clf, y_pred, explained_variance"
   ]
  },
  {
   "cell_type": "code",
   "execution_count": 33,
   "metadata": {
    "deletable": false,
    "editable": false,
    "nbgrader": {
     "grade": true,
     "grade_id": "cell-e0c931cb07614c23",
     "locked": true,
     "points": 2,
     "schema_version": 3,
     "solution": false,
     "task": false
    }
   },
   "outputs": [
    {
     "name": "stdout",
     "output_type": "stream",
     "text": [
      "----- Computed PCA for 30 features -----\n",
      "\n",
      "----- Computed PCA for 50 features -----\n",
      "\n",
      "----- Computed PCA for 100 features -----\n",
      "\n"
     ]
    }
   ],
   "source": [
    "df_preprocessed = load_preprocessed_data()\n",
    "\n",
    "X_train, X_test, y_train, y_test = train_test_split(\n",
    "    df_preprocessed['reviewText'], \n",
    "    df_preprocessed['helpfulness'], \n",
    "    test_size=0.3, \n",
    "    random_state=42\n",
    ")\n",
    "\n",
    "vectorizer, pca, clf, y_pred_30, variance_30 = train_model_pca_svm(X_train, y_train, X_test, y_test, num_features=30, seed=42)\n",
    "print(\"----- Computed PCA for 30 features -----\\n\")\n",
    "assert np.mean(y_pred_30) == 0.5516666666666666\n",
    "assert np.sum(y_pred_30) == 1655\n",
    "assert pca.n_components == 30\n",
    "assert vectorizer.get_feature_names()[4424] == 'teaching'\n",
    "\n",
    "vectorizer, pca, clf, y_pred_50, variance_50 = train_model_pca_svm(X_train, y_train, X_test, y_test, num_features=50, seed=42)\n",
    "print(\"----- Computed PCA for 50 features -----\\n\")\n",
    "assert np.mean(y_pred_50) == 0.5416666666666666\n",
    "assert np.sum(y_pred_50) == 1625\n",
    "assert pca.n_components == 50\n",
    "assert vectorizer.get_feature_names()[4424] == 'teaching'\n",
    "\n",
    "vectorizer, pca, clf, y_pred_100, variance_100 = train_model_pca_svm(X_train, y_train, X_test, y_test, num_features=100, seed=42)\n",
    "print(\"----- Computed PCA for 100 features -----\\n\")\n",
    "assert np.mean(y_pred_100) == 0.544\n",
    "assert np.sum(y_pred_100) == 1632\n",
    "assert pca.n_components == 100\n",
    "assert vectorizer.get_feature_names()[4424] == 'teaching'\n"
   ]
  },
  {
   "cell_type": "markdown",
   "metadata": {
    "deletable": false,
    "editable": false,
    "nbgrader": {
     "grade": false,
     "grade_id": "cell-d1ecb5e0f82ec689",
     "locked": true,
     "schema_version": 3,
     "solution": false,
     "task": false
    }
   },
   "source": [
    "We can obtain the precision and recall as before and compare with the previous results:"
   ]
  },
  {
   "cell_type": "code",
   "execution_count": 34,
   "metadata": {
    "deletable": false,
    "editable": false,
    "nbgrader": {
     "grade": false,
     "grade_id": "cell-4362d8b3356bd257",
     "locked": true,
     "schema_version": 3,
     "solution": false,
     "task": false
    }
   },
   "outputs": [
    {
     "name": "stdout",
     "output_type": "stream",
     "text": [
      "\n",
      "Predictions with 30 features: \n",
      "Precision: 0.656797583081571\n",
      "Recall: 0.6772585669781932\n",
      "\n",
      "Predictions with 50 features: \n",
      "Precision: 0.6646153846153846\n",
      "Recall: 0.6728971962616822\n",
      "\n",
      "Predictions with 100 features: \n",
      "Precision: 0.6611519607843137\n",
      "Recall: 0.6722741433021807\n"
     ]
    }
   ],
   "source": [
    "precision, recall = get_precision_recall(y_test, y_pred_30)     \n",
    "print(\"\\nPredictions with 30 features: \")\n",
    "print(\"Precision: {}\".format(precision))\n",
    "print(\"Recall: {}\".format(recall))\n",
    "\n",
    "precision, recall = get_precision_recall(y_test, y_pred_50)      \n",
    "print(\"\\nPredictions with 50 features: \")\n",
    "print(\"Precision: {}\".format(precision))\n",
    "print(\"Recall: {}\".format(recall))\n",
    "\n",
    "precision, recall = get_precision_recall(y_test, y_pred_100)     \n",
    "print(\"\\nPredictions with 100 features: \")\n",
    "print(\"Precision: {}\".format(precision))\n",
    "print(\"Recall: {}\".format(recall))"
   ]
  },
  {
   "cell_type": "markdown",
   "metadata": {
    "deletable": false,
    "editable": false,
    "nbgrader": {
     "grade": false,
     "grade_id": "cell-98437874ea1e4117",
     "locked": true,
     "schema_version": 3,
     "solution": false,
     "task": false
    }
   },
   "source": [
    "Nice! We keep the high precision of other feature selection methods but with much higher recall!"
   ]
  },
  {
   "cell_type": "markdown",
   "metadata": {
    "deletable": false,
    "editable": false,
    "nbgrader": {
     "grade": false,
     "grade_id": "cell-5b17e715e9161796",
     "locked": true,
     "schema_version": 3,
     "solution": false,
     "task": false
    }
   },
   "source": [
    "## Q4.\n",
    "\n",
    "Now we'll change gears a bit and look into word vectors. In Learning Notebook 3 we told you that word vectors can be visualized after being projected into 2D space, and we showed you this diagram:\n",
    "\n",
    "<img src=\"./media/word-vectors-projection.png\" width=\"600\">\n",
    "\n",
    "Now we'll try to combine what you've learned about word embeddings and PCA to make our own visualization!"
   ]
  },
  {
   "cell_type": "code",
   "execution_count": 35,
   "metadata": {
    "deletable": false,
    "editable": false,
    "nbgrader": {
     "grade": false,
     "grade_id": "cell-b3847eb100057a7d",
     "locked": true,
     "schema_version": 3,
     "solution": false,
     "task": false
    }
   },
   "outputs": [],
   "source": [
    "# load word embeddings\n",
    "\n",
    "nlp = spacy.load('en_core_web_md')"
   ]
  },
  {
   "cell_type": "markdown",
   "metadata": {
    "deletable": false,
    "editable": false,
    "nbgrader": {
     "grade": false,
     "grade_id": "cell-3b982ddaa87eec51",
     "locked": true,
     "schema_version": 3,
     "solution": false,
     "task": false
    }
   },
   "source": [
    "### Q4.a)\n",
    "\n",
    "First, to get comfortable with spacy, get the vector for the word \"book\" "
   ]
  },
  {
   "cell_type": "code",
   "execution_count": 36,
   "metadata": {
    "deletable": false,
    "nbgrader": {
     "grade": false,
     "grade_id": "cell-34ae448736fdde6b",
     "locked": false,
     "schema_version": 3,
     "solution": true,
     "task": false
    }
   },
   "outputs": [],
   "source": [
    "book_vector = nlp('book').vector\n",
    "# YOUR CODE HERE"
   ]
  },
  {
   "cell_type": "code",
   "execution_count": 37,
   "metadata": {
    "deletable": false,
    "editable": false,
    "nbgrader": {
     "grade": true,
     "grade_id": "cell-5cdd4b59c690522a",
     "locked": true,
     "points": 1,
     "schema_version": 3,
     "solution": false,
     "task": false
    }
   },
   "outputs": [],
   "source": [
    "assert math.isclose(book_vector.sum(), -8.673375, abs_tol=0.00001)\n",
    "assert book_vector.shape[0] == 300"
   ]
  },
  {
   "cell_type": "markdown",
   "metadata": {
    "deletable": false,
    "editable": false,
    "nbgrader": {
     "grade": false,
     "grade_id": "cell-c7566702b1fd9755",
     "locked": true,
     "schema_version": 3,
     "solution": false,
     "task": false
    }
   },
   "source": [
    "### Q4.b) \n",
    "\n",
    "Next, write a function that uses sklearn's PCA to reduce our vectors to a convenient number of dimensions for plotting. The function should return the reduced dimension word vectors."
   ]
  },
  {
   "cell_type": "code",
   "execution_count": 38,
   "metadata": {
    "deletable": false,
    "nbgrader": {
     "grade": false,
     "grade_id": "cell-8c4ffc6d44920880",
     "locked": false,
     "schema_version": 3,
     "solution": true,
     "task": false
    }
   },
   "outputs": [],
   "source": [
    "def reduce_word_vecs(vectors, random_state):\n",
    "    \"\"\"\n",
    "    Returns PCA-reduced word vectors of the input vectors for plotting\n",
    "    \n",
    "    Parameters:\n",
    "        vectors (np.array): Word vectors to be reduced\n",
    "        random_state (int): random state to use in PCA\n",
    "\n",
    "    Returns:\n",
    "        reduced_vecs (np.array): Word vectors reduced to the number of dimensions\n",
    "                                 suitable for plotting with given random_state\n",
    "    \"\"\"\n",
    "    # YOUR CODE HERE\n",
    "    pca = PCA(n_components=2, random_state=random_state)\n",
    "    pca.fit(vectors)\n",
    "    reduced_vecs = pca.transform(vectors)\n",
    "\n",
    "    return reduced_vecs"
   ]
  },
  {
   "cell_type": "code",
   "execution_count": 39,
   "metadata": {
    "deletable": false,
    "editable": false,
    "nbgrader": {
     "grade": true,
     "grade_id": "cell-05bdaa52733db9e2",
     "locked": true,
     "points": 1,
     "schema_version": 3,
     "solution": false,
     "task": false
    }
   },
   "outputs": [],
   "source": [
    "test_vectors = np.array([[0.1, 0.2, 0.3, 0.4], [0.3, 0.5, 0.1, 0.7], [0.8, 0.6, 0.2, 0.4]])\n",
    "reduced_vecs = reduce_word_vecs(test_vectors, random_state=42)\n",
    "\n",
    "assert reduced_vecs.shape == (3,2)\n",
    "assert math.isclose(reduced_vecs[1][1], 0.24736592153367926)\n",
    "assert math.isclose(reduced_vecs[2][0], 0.43388622222454437)"
   ]
  },
  {
   "cell_type": "markdown",
   "metadata": {
    "deletable": false,
    "editable": false,
    "nbgrader": {
     "grade": false,
     "grade_id": "cell-1f75d7362f3b5b18",
     "locked": true,
     "schema_version": 3,
     "solution": false,
     "task": false
    }
   },
   "source": [
    "Now, we'll create an array of ~75,000 of spacy's word vectors and use your PCA function to reduce them. If you're curious about using the full amount of word vectors, you can change the code to iterate over all vocab words - `list(nlp.vocab.strings)` - instead of our own `vocab_strings`, but beware it will use a lot of memory!\n",
    "\n",
    "We'll also set a list of words that we'll plot later and force our set of vectors to include these."
   ]
  },
  {
   "cell_type": "code",
   "execution_count": 40,
   "metadata": {
    "deletable": false,
    "editable": false,
    "nbgrader": {
     "grade": false,
     "grade_id": "cell-5d7c693a88480b94",
     "locked": true,
     "schema_version": 3,
     "solution": false,
     "task": false
    }
   },
   "outputs": [],
   "source": [
    "words_to_plot = ['banana', 'pineapple', 'mango', 'red', 'blue', 'yellow', 'woman', 'man', 'child', 'playing',\n",
    "                 'reading', 'studying', 'nintendo', 'sony', 'xbox', 'sad', 'angry', 'bored']"
   ]
  },
  {
   "cell_type": "code",
   "execution_count": 41,
   "metadata": {
    "deletable": false,
    "editable": false,
    "nbgrader": {
     "grade": false,
     "grade_id": "cell-644c6807023bc77f",
     "locked": true,
     "schema_version": 3,
     "solution": false,
     "task": false
    }
   },
   "outputs": [],
   "source": [
    "with open('datasets/word_subset.txt') as fwords:\n",
    "    vocab_strings = fwords.read().splitlines()\n",
    "\n",
    "full_vocab_vecs = []\n",
    "for tok in vocab_strings:\n",
    "    full_vocab_vecs.append(nlp.vocab.get_vector(tok))\n",
    "\n",
    "vocab_array = np.array(full_vocab_vecs)"
   ]
  },
  {
   "cell_type": "code",
   "execution_count": 42,
   "metadata": {},
   "outputs": [
    {
     "name": "stdout",
     "output_type": "stream",
     "text": [
      "Word vectors shape pre-PCA: (103202, 300)\n",
      "Word vectors shape after PCA: (103202, 2)\n"
     ]
    }
   ],
   "source": [
    "print('Word vectors shape pre-PCA: {}'.format(vocab_array.shape))\n",
    "\n",
    "full_vocab_reduced = reduce_word_vecs(vocab_array, random_state=42)\n",
    "\n",
    "print('Word vectors shape after PCA: {}'.format(full_vocab_reduced.shape))"
   ]
  },
  {
   "cell_type": "code",
   "execution_count": 43,
   "metadata": {
    "deletable": false,
    "editable": false,
    "nbgrader": {
     "grade": true,
     "grade_id": "cell-93396749fc10fb39",
     "locked": true,
     "points": 1,
     "schema_version": 3,
     "solution": false,
     "task": false
    }
   },
   "outputs": [],
   "source": [
    "assert math.isclose(full_vocab_reduced[100][0], -3.0880196, abs_tol=0.00001)\n",
    "assert math.isclose(full_vocab_reduced[9999][0], -0.9480563, abs_tol=0.00001)"
   ]
  },
  {
   "cell_type": "markdown",
   "metadata": {
    "deletable": false,
    "editable": false,
    "nbgrader": {
     "grade": false,
     "grade_id": "cell-a0feaee69a29da92",
     "locked": true,
     "schema_version": 3,
     "solution": false,
     "task": false
    }
   },
   "source": [
    "### Q4.c)\n",
    "\n",
    "Time to plot! For this, we'll limit the visualized words to a small subset."
   ]
  },
  {
   "cell_type": "code",
   "execution_count": 44,
   "metadata": {
    "deletable": false,
    "editable": false,
    "nbgrader": {
     "grade": false,
     "grade_id": "cell-9415c85fbda3dbb5",
     "locked": true,
     "schema_version": 3,
     "solution": false,
     "task": false
    }
   },
   "outputs": [],
   "source": [
    "coords = []\n",
    "for word in words_to_plot:\n",
    "    idx = vocab_strings.index(word)\n",
    "    coords.append(full_vocab_reduced[idx])\n",
    "\n",
    "coords_array = np.array(coords)"
   ]
  },
  {
   "cell_type": "code",
   "execution_count": 45,
   "metadata": {
    "deletable": false,
    "editable": false,
    "nbgrader": {
     "grade": false,
     "grade_id": "cell-d7c059bc4a449b27",
     "locked": true,
     "schema_version": 3,
     "solution": false,
     "task": false
    }
   },
   "outputs": [
    {
     "data": {
      "image/png": "[encoded data removed]",
      "text/plain": [
       "<Figure size 640x640 with 1 Axes>"
      ]
     },
     "metadata": {},
     "output_type": "display_data"
    }
   ],
   "source": [
    "plt.figure(num=None, figsize=(8, 8), dpi=80, facecolor='w', edgecolor='k')\n",
    "\n",
    "plt.xlim(min([x for x in coords_array[:,0]]), max([x for x in coords_array[:,0]]))\n",
    "plt.ylim(min([y for y in coords_array[:,1]]), max([y for y in coords_array[:,1]]))\n",
    "plt.scatter(coords_array[:,0], coords_array[:,1])\n",
    "\n",
    "for item, x, y in zip(words_to_plot, coords_array[:,0], coords_array[:,1]):\n",
    "    plt.annotate(item, xy=(x, y), xytext=(-2, 2), textcoords='offset points', \n",
    "                 ha='right', va='bottom', color='purple', fontsize=14 )\n",
    "plt.show()"
   ]
  },
  {
   "cell_type": "markdown",
   "metadata": {
    "deletable": false,
    "editable": false,
    "nbgrader": {
     "grade": false,
     "grade_id": "cell-2dcc429eed65a7f5",
     "locked": true,
     "schema_version": 3,
     "solution": false,
     "task": false
    }
   },
   "source": [
    "The PCA seems to have worked! In the diagram we can see similar types of words closer together. But of course, take these visualizations with a grain of salt because it is practically impossible to preserve all distances in a high dimensional space in just 2 dimensions."
   ]
  },
  {
   "cell_type": "markdown",
   "metadata": {
    "deletable": false,
    "editable": false,
    "nbgrader": {
     "grade": false,
     "grade_id": "cell-6a980c450673e4fe",
     "locked": true,
     "schema_version": 3,
     "solution": false,
     "task": false
    }
   },
   "source": [
    "### Q4.d) \n",
    "\n",
    "As a final exercise, we'll look at some word similarities.\n",
    "\n",
    "Write a function that returns the next closest word in terms of cosine similarity to a given word. If there are multiple words with the same highest similarity, return all of them.\n",
    "\n",
    "Hint: you can use the already-imported `cosine_similarity` function from sklearn to compute cosine similarity."
   ]
  },
  {
   "cell_type": "code",
   "execution_count": 46,
   "metadata": {
    "deletable": false,
    "nbgrader": {
     "grade": false,
     "grade_id": "cell-72bc3a66c2a8f550",
     "locked": false,
     "schema_version": 3,
     "solution": true,
     "task": false
    }
   },
   "outputs": [],
   "source": [
    "def closest_word(input_word, words_in_vocab, word_vectors):\n",
    "    '''Returns a list of the closest word or words to the input word, based on cosine similarities\n",
    "       of the word vectors given\n",
    "    \n",
    "    Parameters:\n",
    "        input_word (string): Search for the closest words to this word\n",
    "        words_in_vocab (list): Vocabulary associated with the vectors in word_vectors\n",
    "        word_vectors (np.array): Word vectors associated with the strings in words_in_vocab\n",
    "\n",
    "    Returns:\n",
    "        closest_words_list (list): List of strings containing the closest word or words to\n",
    "                                   input_word, based on cosine similarities of the word_vectors\n",
    "    '''\n",
    "    # YOUR CODE HERE\n",
    "    \n",
    "    #for word in words_in_vocab:\n",
    "    index = words_in_vocab.index(input_word)\n",
    "    similarities = cosine_similarity(word_vectors)[index]\n",
    "\n",
    "    current_simil = 0\n",
    "    current_index = -1\n",
    "    for i in range(len(similarities)):\n",
    "        if i != index and similarities[i] > current_simil:\n",
    "            current_simil = similarities[i]\n",
    "            current_index = i\n",
    "        \n",
    "    closest_words_list = [ words_in_vocab[current_index] ]\n",
    "        \n",
    "    return closest_words_list"
   ]
  },
  {
   "cell_type": "code",
   "execution_count": 47,
   "metadata": {
    "deletable": false,
    "editable": false,
    "nbgrader": {
     "grade": true,
     "grade_id": "cell-d06a90ba7d38c797",
     "locked": true,
     "points": 1,
     "schema_version": 3,
     "solution": false,
     "task": false
    }
   },
   "outputs": [],
   "source": [
    "assert(hashlib.sha256(closest_word('nintendo', words_to_plot, coords_array)[0].encode()).hexdigest() == \"f711da60664c04c146d7a47b722c38a8d0bf46c3f52c2084c5c8d1cb78138e73\")\n",
    "assert(hashlib.sha256(closest_word('playing', words_to_plot, coords_array)[0].encode()).hexdigest() == \"435c149cbc6a5e5cc373cd33347d4c336a22160e06b7df61092b66e56f4d55ec\")\n",
    "assert(hashlib.sha256(closest_word('pineapple', words_to_plot, coords_array)[0].encode()).hexdigest() == \"6815f3c300383519de8e437497e2c3e97852fe8d717a5419d5aafb00cb43c494\")"
   ]
  },
  {
   "cell_type": "code",
   "execution_count": 48,
   "metadata": {},
   "outputs": [
    {
     "name": "stdout",
     "output_type": "stream",
     "text": [
      "\n",
      "Closest words to nintendo:\n",
      "['xbox']\n",
      "\n",
      "Closest words to playing:\n",
      "['studying']\n",
      "\n",
      "Closest words to pineapple:\n",
      "['mango']\n"
     ]
    }
   ],
   "source": [
    "print(\"\\nClosest words to nintendo:\")\n",
    "print(closest_word('nintendo', words_to_plot, coords_array))\n",
    "\n",
    "print(\"\\nClosest words to playing:\")\n",
    "print(closest_word('playing', words_to_plot, coords_array))\n",
    "\n",
    "print(\"\\nClosest words to pineapple:\")\n",
    "print(closest_word('pineapple', words_to_plot, coords_array))"
   ]
  },
  {
   "cell_type": "markdown",
   "metadata": {
    "deletable": false,
    "editable": false,
    "nbgrader": {
     "grade": false,
     "grade_id": "cell-fdffae6311cd8b15",
     "locked": true,
     "schema_version": 3,
     "solution": false,
     "task": false
    }
   },
   "source": [
    "That is all, see you in the next specialization. \n",
    "\n",
    "PS: feel free to share your book reviews and recommendations\n",
    "\n",
    "<img src=\"media/dont-buy-more-books.jpg\" width=\"50%\" />\n"
   ]
  }
 ],
 "metadata": {
  "kernelspec": {
   "display_name": "Python 3 (ipykernel)",
   "language": "python",
   "name": "python3"
  },
  "language_info": {
   "codemirror_mode": {
    "name": "ipython",
    "version": 3
   },
   "file_extension": ".py",
   "mimetype": "text/x-python",
   "name": "python",
   "nbconvert_exporter": "python",
   "pygments_lexer": "ipython3",
   "version": "3.7.12"
  }
 },
 "nbformat": 4,
 "nbformat_minor": 2
}
