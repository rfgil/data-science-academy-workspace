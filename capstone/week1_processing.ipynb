{
 "cells": [
  {
   "cell_type": "code",
   "execution_count": 1,
   "id": "94501e09",
   "metadata": {},
   "outputs": [],
   "source": [
    "import os\n",
    "import sys\n",
    "import numpy as np\n",
    "import pandas as pd\n",
    "#import pickle\n",
    "import dill as pickle # https://stackoverflow.com/questions/25348532/can-python-pickle-lambda-functions\n",
    "from pandas_profiling import ProfileReport\n",
    "import matplotlib.pyplot as plt\n",
    "import pyperclip\n",
    "import joblib\n",
    "%matplotlib inline\n",
    "\n",
    "from sklearn.model_selection import train_test_split\n",
    "\n",
    "from sklearn.ensemble import RandomForestClassifier, GradientBoostingClassifier\n",
    "from sklearn.linear_model import LogisticRegression, SGDClassifier\n",
    "from sklearn.pipeline import make_pipeline\n",
    "from sklearn.base import BaseEstimator, ClassifierMixin, TransformerMixin\n",
    "from sklearn.metrics import precision_score, recall_score, f1_score, accuracy_score, roc_auc_score\n",
    "from sklearn.preprocessing import OneHotEncoder, StandardScaler\n",
    "from sklearn.impute import SimpleImputer\n",
    "from sklearn.compose import ColumnTransformer\n",
    "\n",
    "from utils import variables_mapping\n",
    "from custom_transformers.transformers import PreProcessingTransformer, DropColumnsTransformer, CustomImputer, variables_mapping"
   ]
  },
  {
   "cell_type": "code",
   "execution_count": 2,
   "id": "9c46bc20",
   "metadata": {},
   "outputs": [],
   "source": [
    "df = pd.read_csv(os.path.join(\"data\", \"medicalencounter_202202142036.csv\"))"
   ]
  },
  {
   "cell_type": "code",
   "execution_count": 3,
   "id": "90f2bda8",
   "metadata": {},
   "outputs": [
    {
     "data": {
      "text/plain": [
       "id                               int64\n",
       "proba                          float64\n",
       "prediction                        bool\n",
       "true_label                      object\n",
       "admission_id                   float64\n",
       "patient_id                     float64\n",
       "race                            object\n",
       "gender                          object\n",
       "age                             object\n",
       "weight                          object\n",
       "admission_type_code            float64\n",
       "discharge_disposition_code     float64\n",
       "admission_source_code            int64\n",
       "time_in_hospital                 int64\n",
       "payer_code                      object\n",
       "medical_specialty               object\n",
       "has_prosthesis                    bool\n",
       "complete_vaccination_status     object\n",
       "num_lab_procedures             float64\n",
       "num_procedures                   int64\n",
       "num_medications                float64\n",
       "number_outpatient                int64\n",
       "number_emergency                 int64\n",
       "number_inpatient                 int64\n",
       "diag_1                          object\n",
       "diag_2                          object\n",
       "diag_3                          object\n",
       "number_diagnoses                 int64\n",
       "blood_type                      object\n",
       "hemoglobin_level               float64\n",
       "blood_transfusion                 bool\n",
       "max_glu_serum                   object\n",
       "A1Cresult                       object\n",
       "diuretics                       object\n",
       "insulin                         object\n",
       "change                          object\n",
       "diabetesMed                     object\n",
       "dtype: object"
      ]
     },
     "execution_count": 3,
     "metadata": {},
     "output_type": "execute_result"
    }
   ],
   "source": [
    "df.dtypes"
   ]
  },
  {
   "cell_type": "markdown",
   "id": "13534367",
   "metadata": {},
   "source": [
    "### Remove data without a true label"
   ]
  },
  {
   "cell_type": "code",
   "execution_count": 4,
   "id": "00e9d986",
   "metadata": {},
   "outputs": [
    {
     "data": {
      "text/plain": [
       "200"
      ]
     },
     "execution_count": 4,
     "metadata": {},
     "output_type": "execute_result"
    }
   ],
   "source": [
    "# Number of observations that did not get their true label\n",
    "df['true_label'].isna().sum()"
   ]
  },
  {
   "cell_type": "code",
   "execution_count": 5,
   "id": "8a333c95",
   "metadata": {},
   "outputs": [],
   "source": [
    "df = df[~df['true_label'].isna()]"
   ]
  },
  {
   "cell_type": "markdown",
   "id": "514aca74",
   "metadata": {},
   "source": [
    "### Calculate Metrics"
   ]
  },
  {
   "cell_type": "code",
   "execution_count": 6,
   "id": "17305a99",
   "metadata": {},
   "outputs": [],
   "source": [
    "y_pred = df['prediction'].astype(bool)"
   ]
  },
  {
   "cell_type": "code",
   "execution_count": 7,
   "id": "e805d220",
   "metadata": {},
   "outputs": [],
   "source": [
    "y_pred2 = df['proba'] > 0.38"
   ]
  },
  {
   "cell_type": "code",
   "execution_count": 8,
   "id": "1c281335",
   "metadata": {},
   "outputs": [],
   "source": [
    "y_true = df['true_label'].astype(bool)"
   ]
  },
  {
   "cell_type": "markdown",
   "id": "5b806529",
   "metadata": {},
   "source": [
    "###### Deployed thresold"
   ]
  },
  {
   "cell_type": "code",
   "execution_count": 9,
   "id": "92ef838a",
   "metadata": {},
   "outputs": [
    {
     "data": {
      "text/plain": [
       "0.6806404044659785"
      ]
     },
     "execution_count": 9,
     "metadata": {},
     "output_type": "execute_result"
    }
   ],
   "source": [
    "accuracy_score(y_true, y_pred)"
   ]
  },
  {
   "cell_type": "code",
   "execution_count": 10,
   "id": "72a9b645",
   "metadata": {},
   "outputs": [
    {
     "data": {
      "text/plain": [
       "0.18131510416666666"
      ]
     },
     "execution_count": 10,
     "metadata": {},
     "output_type": "execute_result"
    }
   ],
   "source": [
    "precision_score(y_true, y_pred)"
   ]
  },
  {
   "cell_type": "code",
   "execution_count": 11,
   "id": "ea32a1ac",
   "metadata": {},
   "outputs": [
    {
     "data": {
      "text/plain": [
       "0.5186219739292365"
      ]
     },
     "execution_count": 11,
     "metadata": {},
     "output_type": "execute_result"
    }
   ],
   "source": [
    "recall_score(y_true, y_pred)"
   ]
  },
  {
   "cell_type": "code",
   "execution_count": 12,
   "id": "ca780b4d",
   "metadata": {},
   "outputs": [
    {
     "data": {
      "text/plain": [
       "0.2686927158707188"
      ]
     },
     "execution_count": 12,
     "metadata": {},
     "output_type": "execute_result"
    }
   ],
   "source": [
    "f1_score(y_true, y_pred)"
   ]
  },
  {
   "cell_type": "markdown",
   "id": "13d73402",
   "metadata": {},
   "source": [
    "###### Correct thresold"
   ]
  },
  {
   "cell_type": "code",
   "execution_count": 13,
   "id": "0b2680ff",
   "metadata": {},
   "outputs": [
    {
     "data": {
      "text/plain": [
       "0.45807878660206447"
      ]
     },
     "execution_count": 13,
     "metadata": {},
     "output_type": "execute_result"
    }
   ],
   "source": [
    "accuracy_score(y_true, y_pred2)"
   ]
  },
  {
   "cell_type": "code",
   "execution_count": 14,
   "id": "39814be8",
   "metadata": {},
   "outputs": [
    {
     "data": {
      "text/plain": [
       "0.1433327492553005"
      ]
     },
     "execution_count": 14,
     "metadata": {},
     "output_type": "execute_result"
    }
   ],
   "source": [
    "precision_score(y_true, y_pred2)"
   ]
  },
  {
   "cell_type": "code",
   "execution_count": 15,
   "id": "6a7bc029",
   "metadata": {},
   "outputs": [
    {
     "data": {
      "text/plain": [
       "0.7616387337057728"
      ]
     },
     "execution_count": 15,
     "metadata": {},
     "output_type": "execute_result"
    }
   ],
   "source": [
    "recall_score(y_true, y_pred2)"
   ]
  },
  {
   "cell_type": "code",
   "execution_count": 16,
   "id": "f406de62",
   "metadata": {},
   "outputs": [
    {
     "data": {
      "text/plain": [
       "0.2412623506857396"
      ]
     },
     "execution_count": 16,
     "metadata": {},
     "output_type": "execute_result"
    }
   ],
   "source": [
    "f1_score(y_true, y_pred2)"
   ]
  },
  {
   "cell_type": "markdown",
   "id": "9c476f3a",
   "metadata": {},
   "source": [
    "### Remove extra columns and create raw data"
   ]
  },
  {
   "cell_type": "code",
   "execution_count": 17,
   "id": "674145ee",
   "metadata": {},
   "outputs": [],
   "source": [
    "df['readmitted'] = df['true_label']\n",
    "\n",
    "df = df.drop(['id', 'proba', 'true_label'], axis=1)"
   ]
  },
  {
   "cell_type": "code",
   "execution_count": 18,
   "id": "d586a9d2",
   "metadata": {},
   "outputs": [
    {
     "data": {
      "text/html": [
       "<div>\n",
       "<style scoped>\n",
       "    .dataframe tbody tr th:only-of-type {\n",
       "        vertical-align: middle;\n",
       "    }\n",
       "\n",
       "    .dataframe tbody tr th {\n",
       "        vertical-align: top;\n",
       "    }\n",
       "\n",
       "    .dataframe thead th {\n",
       "        text-align: right;\n",
       "    }\n",
       "</style>\n",
       "<table border=\"1\" class=\"dataframe\">\n",
       "  <thead>\n",
       "    <tr style=\"text-align: right;\">\n",
       "      <th></th>\n",
       "      <th>prediction</th>\n",
       "      <th>admission_id</th>\n",
       "      <th>patient_id</th>\n",
       "      <th>race</th>\n",
       "      <th>gender</th>\n",
       "      <th>age</th>\n",
       "      <th>weight</th>\n",
       "      <th>admission_type_code</th>\n",
       "      <th>discharge_disposition_code</th>\n",
       "      <th>admission_source_code</th>\n",
       "      <th>...</th>\n",
       "      <th>blood_type</th>\n",
       "      <th>hemoglobin_level</th>\n",
       "      <th>blood_transfusion</th>\n",
       "      <th>max_glu_serum</th>\n",
       "      <th>A1Cresult</th>\n",
       "      <th>diuretics</th>\n",
       "      <th>insulin</th>\n",
       "      <th>change</th>\n",
       "      <th>diabetesMed</th>\n",
       "      <th>readmitted</th>\n",
       "    </tr>\n",
       "  </thead>\n",
       "  <tbody>\n",
       "    <tr>\n",
       "      <th>0</th>\n",
       "      <td>False</td>\n",
       "      <td>100706.0</td>\n",
       "      <td>12224646.0</td>\n",
       "      <td>Caucasian</td>\n",
       "      <td>Male</td>\n",
       "      <td>[40-50)</td>\n",
       "      <td>?</td>\n",
       "      <td>2.0</td>\n",
       "      <td>1.0</td>\n",
       "      <td>1</td>\n",
       "      <td>...</td>\n",
       "      <td>A+</td>\n",
       "      <td>14.2</td>\n",
       "      <td>False</td>\n",
       "      <td>None</td>\n",
       "      <td>&gt;8</td>\n",
       "      <td>No</td>\n",
       "      <td>Yes</td>\n",
       "      <td>No</td>\n",
       "      <td>Yes</td>\n",
       "      <td>False</td>\n",
       "    </tr>\n",
       "    <tr>\n",
       "      <th>1</th>\n",
       "      <td>True</td>\n",
       "      <td>99518.0</td>\n",
       "      <td>1020438.0</td>\n",
       "      <td>African American</td>\n",
       "      <td>Male</td>\n",
       "      <td>[60-70)</td>\n",
       "      <td>?</td>\n",
       "      <td>2.0</td>\n",
       "      <td>18.0</td>\n",
       "      <td>2</td>\n",
       "      <td>...</td>\n",
       "      <td>O-</td>\n",
       "      <td>14.1</td>\n",
       "      <td>False</td>\n",
       "      <td>None</td>\n",
       "      <td>None</td>\n",
       "      <td>No</td>\n",
       "      <td>Yes</td>\n",
       "      <td>No</td>\n",
       "      <td>Yes</td>\n",
       "      <td>False</td>\n",
       "    </tr>\n",
       "    <tr>\n",
       "      <th>2</th>\n",
       "      <td>False</td>\n",
       "      <td>89397.0</td>\n",
       "      <td>141934014.0</td>\n",
       "      <td>AfricanAmerican</td>\n",
       "      <td>Female</td>\n",
       "      <td>[60-70)</td>\n",
       "      <td>?</td>\n",
       "      <td>3.0</td>\n",
       "      <td>1.0</td>\n",
       "      <td>1</td>\n",
       "      <td>...</td>\n",
       "      <td>A+</td>\n",
       "      <td>13.4</td>\n",
       "      <td>False</td>\n",
       "      <td>NONE</td>\n",
       "      <td>None</td>\n",
       "      <td>No</td>\n",
       "      <td>Yes</td>\n",
       "      <td>No</td>\n",
       "      <td>Yes</td>\n",
       "      <td>False</td>\n",
       "    </tr>\n",
       "    <tr>\n",
       "      <th>3</th>\n",
       "      <td>True</td>\n",
       "      <td>89653.0</td>\n",
       "      <td>168821964.0</td>\n",
       "      <td>Caucasian</td>\n",
       "      <td>Male</td>\n",
       "      <td>[50-60)</td>\n",
       "      <td>?</td>\n",
       "      <td>3.0</td>\n",
       "      <td>1.0</td>\n",
       "      <td>1</td>\n",
       "      <td>...</td>\n",
       "      <td>O-</td>\n",
       "      <td>15.3</td>\n",
       "      <td>False</td>\n",
       "      <td>None</td>\n",
       "      <td>None</td>\n",
       "      <td>Yes</td>\n",
       "      <td>Yes</td>\n",
       "      <td>Ch</td>\n",
       "      <td>Yes</td>\n",
       "      <td>False</td>\n",
       "    </tr>\n",
       "    <tr>\n",
       "      <th>4</th>\n",
       "      <td>False</td>\n",
       "      <td>83278.0</td>\n",
       "      <td>6485868.0</td>\n",
       "      <td>Hispanic</td>\n",
       "      <td>Male</td>\n",
       "      <td>[30-40)</td>\n",
       "      <td>?</td>\n",
       "      <td>1.0</td>\n",
       "      <td>3.0</td>\n",
       "      <td>7</td>\n",
       "      <td>...</td>\n",
       "      <td>O+</td>\n",
       "      <td>14.6</td>\n",
       "      <td>True</td>\n",
       "      <td>None</td>\n",
       "      <td>None</td>\n",
       "      <td>No</td>\n",
       "      <td>Yes</td>\n",
       "      <td>Ch</td>\n",
       "      <td>Yes</td>\n",
       "      <td>False</td>\n",
       "    </tr>\n",
       "  </tbody>\n",
       "</table>\n",
       "<p>5 rows × 35 columns</p>\n",
       "</div>"
      ],
      "text/plain": [
       "   prediction  admission_id   patient_id              race  gender      age  \\\n",
       "0       False      100706.0   12224646.0         Caucasian    Male  [40-50)   \n",
       "1        True       99518.0    1020438.0  African American    Male  [60-70)   \n",
       "2       False       89397.0  141934014.0   AfricanAmerican  Female  [60-70)   \n",
       "3        True       89653.0  168821964.0         Caucasian    Male  [50-60)   \n",
       "4       False       83278.0    6485868.0          Hispanic    Male  [30-40)   \n",
       "\n",
       "  weight  admission_type_code  discharge_disposition_code  \\\n",
       "0      ?                  2.0                         1.0   \n",
       "1      ?                  2.0                        18.0   \n",
       "2      ?                  3.0                         1.0   \n",
       "3      ?                  3.0                         1.0   \n",
       "4      ?                  1.0                         3.0   \n",
       "\n",
       "   admission_source_code  ...  blood_type hemoglobin_level blood_transfusion  \\\n",
       "0                      1  ...          A+             14.2             False   \n",
       "1                      2  ...          O-             14.1             False   \n",
       "2                      1  ...          A+             13.4             False   \n",
       "3                      1  ...          O-             15.3             False   \n",
       "4                      7  ...          O+             14.6              True   \n",
       "\n",
       "   max_glu_serum A1Cresult  diuretics  insulin  change  diabetesMed  \\\n",
       "0           None        >8         No      Yes      No          Yes   \n",
       "1           None      None         No      Yes      No          Yes   \n",
       "2           NONE      None         No      Yes      No          Yes   \n",
       "3           None      None        Yes      Yes      Ch          Yes   \n",
       "4           None      None         No      Yes      Ch          Yes   \n",
       "\n",
       "   readmitted  \n",
       "0       False  \n",
       "1       False  \n",
       "2       False  \n",
       "3       False  \n",
       "4       False  \n",
       "\n",
       "[5 rows x 35 columns]"
      ]
     },
     "execution_count": 18,
     "metadata": {},
     "output_type": "execute_result"
    }
   ],
   "source": [
    "df.head()"
   ]
  },
  {
   "cell_type": "code",
   "execution_count": 19,
   "id": "be1f03a4",
   "metadata": {},
   "outputs": [],
   "source": [
    "#df.to_csv('data/week1_raw.csv')"
   ]
  },
  {
   "cell_type": "code",
   "execution_count": 20,
   "id": "545ee033",
   "metadata": {},
   "outputs": [],
   "source": [
    "# Create profile report\n",
    "#ProfileReport(df, title=\"Week 1 raw data\").to_file(\"reports/week1_raw.html\")"
   ]
  },
  {
   "cell_type": "code",
   "execution_count": 21,
   "id": "e77d7fed",
   "metadata": {},
   "outputs": [
    {
     "data": {
      "text/plain": [
       "1074"
      ]
     },
     "execution_count": 21,
     "metadata": {},
     "output_type": "execute_result"
    }
   ],
   "source": [
    "df.readmitted.sum()"
   ]
  },
  {
   "cell_type": "code",
   "execution_count": 22,
   "id": "ead759c6",
   "metadata": {},
   "outputs": [
    {
     "data": {
      "text/plain": [
       "(9494, 35)"
      ]
     },
     "execution_count": 22,
     "metadata": {},
     "output_type": "execute_result"
    }
   ],
   "source": [
    "df.shape"
   ]
  },
  {
   "cell_type": "markdown",
   "id": "d9c6f4d3",
   "metadata": {},
   "source": [
    "### Preprocess data"
   ]
  },
  {
   "cell_type": "code",
   "execution_count": 23,
   "id": "e522091b",
   "metadata": {},
   "outputs": [],
   "source": [
    "known_categories = variables_mapping()"
   ]
  },
  {
   "cell_type": "code",
   "execution_count": 24,
   "id": "ce3c848b",
   "metadata": {},
   "outputs": [],
   "source": [
    "df_clean = df.copy()\n",
    "for column in known_categories.keys():\n",
    "    if column != 'readmitted':\n",
    "        df_clean[column] = (df[column]\n",
    "                            .apply(lambda value: known_categories[column]['mapping'](value))\n",
    "                            .astype(known_categories[column]['type'])\n",
    "                           )"
   ]
  },
  {
   "cell_type": "code",
   "execution_count": 25,
   "id": "415e6bc3",
   "metadata": {},
   "outputs": [],
   "source": [
    "#df_clean.to_csv('data/week1_preprocessed.csv')\n",
    "#df_clean = pd.read_csv(os.path.join(\"data\", \"week1_preprocessed.csv\"))"
   ]
  },
  {
   "cell_type": "code",
   "execution_count": 26,
   "id": "c4dd7d91",
   "metadata": {},
   "outputs": [],
   "source": [
    "#ProfileReport(df_clean, title=\"Week 1 - Preprocessed data\").to_file(\"reports/week1_preprocessed.html\")"
   ]
  },
  {
   "cell_type": "code",
   "execution_count": 27,
   "id": "f8cca9c2",
   "metadata": {},
   "outputs": [
    {
     "data": {
      "text/plain": [
       "prediction                         bool\n",
       "admission_id                    float64\n",
       "patient_id                      float64\n",
       "race                           category\n",
       "gender                         category\n",
       "age                               Int64\n",
       "weight                            Int64\n",
       "admission_type_code            category\n",
       "discharge_disposition_code     category\n",
       "admission_source_code          category\n",
       "time_in_hospital                  int64\n",
       "payer_code                     category\n",
       "medical_specialty              category\n",
       "has_prosthesis                     bool\n",
       "complete_vaccination_status    category\n",
       "num_lab_procedures                Int64\n",
       "num_procedures                    int64\n",
       "num_medications                   Int64\n",
       "number_outpatient                 int64\n",
       "number_emergency                  int64\n",
       "number_inpatient                  int64\n",
       "diag_1                         category\n",
       "diag_2                         category\n",
       "diag_3                         category\n",
       "number_diagnoses                  int64\n",
       "blood_type                     category\n",
       "hemoglobin_level                float64\n",
       "blood_transfusion                  bool\n",
       "max_glu_serum                     Int64\n",
       "A1Cresult                         Int64\n",
       "diuretics                          bool\n",
       "insulin                            bool\n",
       "change                             bool\n",
       "diabetesMed                        bool\n",
       "readmitted                       object\n",
       "dtype: object"
      ]
     },
     "execution_count": 27,
     "metadata": {},
     "output_type": "execute_result"
    }
   ],
   "source": [
    "df_clean.dtypes"
   ]
  },
  {
   "cell_type": "markdown",
   "id": "7834f29b",
   "metadata": {},
   "source": [
    "### Compare with old data"
   ]
  },
  {
   "cell_type": "code",
   "execution_count": 28,
   "id": "c4fd3567",
   "metadata": {},
   "outputs": [],
   "source": [
    "df_original = pd.read_csv(os.path.join(\"data\", \"preprocessed.csv\"))"
   ]
  },
  {
   "cell_type": "code",
   "execution_count": 29,
   "id": "0581ee20",
   "metadata": {},
   "outputs": [
    {
     "data": {
      "text/plain": [
       "array([    0,     1,     2, ..., 81409, 81410, 81411])"
      ]
     },
     "execution_count": 29,
     "metadata": {},
     "output_type": "execute_result"
    }
   ],
   "source": [
    "df_original.admission_id.values"
   ]
  },
  {
   "cell_type": "code",
   "execution_count": 30,
   "id": "caeceeb8",
   "metadata": {},
   "outputs": [
    {
     "data": {
      "text/plain": [
       "set()"
      ]
     },
     "execution_count": 30,
     "metadata": {},
     "output_type": "execute_result"
    }
   ],
   "source": [
    "set(df_original.admission_id.values).intersection(df_clean.admission_id.values)"
   ]
  },
  {
   "cell_type": "code",
   "execution_count": 31,
   "id": "32cd6355",
   "metadata": {},
   "outputs": [
    {
     "data": {
      "text/plain": [
       "array(['Endocrinology', '?', 'Family/GeneralPractice', 'Radiologist',\n",
       "       'Orthopedics', 'InternalMedicine', 'Emergency/Trauma',\n",
       "       'Pulmonology', 'ObstetricsandGynecology', 'Surgeon', 'Cardiology',\n",
       "       'Surgery-General', 'Pediatrics', 'Nephrology',\n",
       "       'PhysicalMedicineandRehabilitation', 'Gastroenterology',\n",
       "       'Surgery-Cardiovascular/Thoracic', 'Orthopedics-Reconstructive',\n",
       "       'Hematology/Oncology', 'Surgery-Neuro', 'Psychiatry', 'Neurology',\n",
       "       'Surgery-Vascular', 'Urology', 'Psychology', 'Hematology',\n",
       "       'Surgery-Thoracic', 'Surgery-Cardiovascular',\n",
       "       'Pediatrics-Endocrinology', 'Rheumatology', 'Oncology',\n",
       "       'Pediatrics-Pulmonology', 'Otolaryngology', 'InfectiousDiseases',\n",
       "       'DCPTEAM', 'Podiatry', 'Gynecology', 'Radiology', 'Hospitalist',\n",
       "       'Surgery-Plastic', 'Surgery-PlasticwithinHeadandNeck',\n",
       "       'Pediatrics-Neurology', 'SurgicalSpecialty', 'Osteopath',\n",
       "       'Obstetrics', 'Anesthesiology', 'Ophthalmology',\n",
       "       'Pediatrics-CriticalCare', 'Obsterics&Gynecology-GynecologicOnco',\n",
       "       'Resident'], dtype=object)"
      ]
     },
     "execution_count": 31,
     "metadata": {},
     "output_type": "execute_result"
    }
   ],
   "source": [
    "df.medical_specialty.unique()"
   ]
  },
  {
   "cell_type": "code",
   "execution_count": 32,
   "id": "afa7a59c",
   "metadata": {},
   "outputs": [
    {
     "data": {
      "text/plain": [
       "dict_keys(['anesthesiology', 'anesthesiology-pediatric', 'cardiology', 'cardiology-pediatric', 'endocrinology', 'endocrinology-metabolism', 'hematology', 'hematology/oncology', 'obstetrics', 'obsterics&gynecology-gynecologicOnco', 'obstetricsandgynecology', 'obsterics&gynecology-gynecologiconco', 'gynecology', 'orthopedics', 'orthopedics-reconstructive', 'pediatrics', 'pediatrics-criticalcare', 'pediatrics-hematology-oncology', 'pediatrics-pulmonology', 'pediatrics-endocrinology', 'pediatrics-emergencymedicine', 'pediatrics-neurology', 'pediatrics-allergyandimmunology', 'physicalmedicineandrehabilitation', 'physiciannotfound', 'psychiatry', 'psychiatry-child/adolescent', 'psychology', 'psychiatry-addictive', 'radiologist', 'radiology', 'surgeon', 'surgery-cardiovascular', 'surgery-cardiovascular/thoracic', 'surgery-colon&rectal', 'surgery-general', 'surgery-maxillofacial', 'surgery-neuro', 'surgery-pediatric', 'surgery-plastic', 'surgery-thoracic', 'surgery-vascular', 'surgicalspecialty', 'allergyandimmunology', 'dcpteam', 'dentistry', 'dermatology', 'neurophysiology', 'outreachservices', 'perinatology', 'proctology', 'resident', 'speech', 'sportsmedicine', 'hospitalist', 'osteopath', 'rheumatology', 'otolaryngology', 'pathology', 'emergency/trauma', 'family/generalpractice', 'gastroenterology', 'infectiousdiseases', 'internalmedicine', 'nephrology', 'neurology', 'oncology', 'ophthalmology', 'podiatry', 'pulmonology', 'urology'])"
      ]
     },
     "execution_count": 32,
     "metadata": {},
     "output_type": "execute_result"
    }
   ],
   "source": [
    "known_categories['medical_specialty']['dict'].keys()"
   ]
  },
  {
   "cell_type": "code",
   "execution_count": 33,
   "id": "d7094f1c",
   "metadata": {
    "scrolled": true
   },
   "outputs": [
    {
     "name": "stdout",
     "output_type": "stream",
     "text": [
      "?\n",
      "surgery-plasticwithinheadandneck\n"
     ]
    }
   ],
   "source": [
    "for specialty in df.medical_specialty.unique():\n",
    "    if specialty.lower() not in known_categories['medical_specialty']['dict'].keys():\n",
    "        print(specialty.lower())\n"
   ]
  },
  {
   "cell_type": "code",
   "execution_count": 34,
   "id": "82fe0d58",
   "metadata": {},
   "outputs": [
    {
     "data": {
      "text/html": [
       "<div>\n",
       "<style scoped>\n",
       "    .dataframe tbody tr th:only-of-type {\n",
       "        vertical-align: middle;\n",
       "    }\n",
       "\n",
       "    .dataframe tbody tr th {\n",
       "        vertical-align: top;\n",
       "    }\n",
       "\n",
       "    .dataframe thead th {\n",
       "        text-align: right;\n",
       "    }\n",
       "</style>\n",
       "<table border=\"1\" class=\"dataframe\">\n",
       "  <thead>\n",
       "    <tr style=\"text-align: right;\">\n",
       "      <th></th>\n",
       "      <th>prediction</th>\n",
       "      <th>admission_id</th>\n",
       "      <th>patient_id</th>\n",
       "      <th>race</th>\n",
       "      <th>gender</th>\n",
       "      <th>age</th>\n",
       "      <th>weight</th>\n",
       "      <th>admission_type_code</th>\n",
       "      <th>discharge_disposition_code</th>\n",
       "      <th>admission_source_code</th>\n",
       "      <th>...</th>\n",
       "      <th>blood_type</th>\n",
       "      <th>hemoglobin_level</th>\n",
       "      <th>blood_transfusion</th>\n",
       "      <th>max_glu_serum</th>\n",
       "      <th>A1Cresult</th>\n",
       "      <th>diuretics</th>\n",
       "      <th>insulin</th>\n",
       "      <th>change</th>\n",
       "      <th>diabetesMed</th>\n",
       "      <th>readmitted</th>\n",
       "    </tr>\n",
       "  </thead>\n",
       "  <tbody>\n",
       "    <tr>\n",
       "      <th>2209</th>\n",
       "      <td>False</td>\n",
       "      <td>88332.0</td>\n",
       "      <td>115864254.0</td>\n",
       "      <td>European</td>\n",
       "      <td>Male</td>\n",
       "      <td>[40-50)</td>\n",
       "      <td>?</td>\n",
       "      <td>6.0</td>\n",
       "      <td>1.0</td>\n",
       "      <td>1</td>\n",
       "      <td>...</td>\n",
       "      <td>AB+</td>\n",
       "      <td>14.4</td>\n",
       "      <td>False</td>\n",
       "      <td>NONE</td>\n",
       "      <td>None</td>\n",
       "      <td>No</td>\n",
       "      <td>No</td>\n",
       "      <td>No</td>\n",
       "      <td>Yes</td>\n",
       "      <td>False</td>\n",
       "    </tr>\n",
       "  </tbody>\n",
       "</table>\n",
       "<p>1 rows × 35 columns</p>\n",
       "</div>"
      ],
      "text/plain": [
       "      prediction  admission_id   patient_id      race gender      age weight  \\\n",
       "2209       False       88332.0  115864254.0  European   Male  [40-50)      ?   \n",
       "\n",
       "      admission_type_code  discharge_disposition_code  admission_source_code  \\\n",
       "2209                  6.0                         1.0                      1   \n",
       "\n",
       "      ...  blood_type hemoglobin_level blood_transfusion  max_glu_serum  \\\n",
       "2209  ...         AB+             14.4             False           NONE   \n",
       "\n",
       "     A1Cresult  diuretics  insulin  change  diabetesMed  readmitted  \n",
       "2209      None         No       No      No          Yes       False  \n",
       "\n",
       "[1 rows x 35 columns]"
      ]
     },
     "execution_count": 34,
     "metadata": {},
     "output_type": "execute_result"
    }
   ],
   "source": [
    "df[df.medical_specialty == 'Surgery-PlasticwithinHeadandNeck']"
   ]
  },
  {
   "cell_type": "code",
   "execution_count": 35,
   "id": "f3e4aa68",
   "metadata": {},
   "outputs": [
    {
     "data": {
      "text/plain": [
       "0"
      ]
     },
     "execution_count": 35,
     "metadata": {},
     "output_type": "execute_result"
    }
   ],
   "source": [
    "df.medical_specialty.isna().sum()"
   ]
  },
  {
   "cell_type": "code",
   "execution_count": 65,
   "id": "de79de95",
   "metadata": {},
   "outputs": [
    {
     "data": {
      "image/png": "[encoded data removed]",
      "text/plain": [
       "<Figure size 864x288 with 1 Axes>"
      ]
     },
     "metadata": {
      "needs_background": "light"
     },
     "output_type": "display_data"
    }
   ],
   "source": [
    "df_clean[df.medical_specialty != '?'].medical_specialty.value_counts().plot(kind='bar', figsize=(12, 4));\n",
    "plt.savefig(\"images/week1_medical_specialty_cardinality.pdf\")"
   ]
  },
  {
   "cell_type": "code",
   "execution_count": 37,
   "id": "3faa261b",
   "metadata": {},
   "outputs": [
    {
     "data": {
      "text/plain": [
       "0       False\n",
       "1        True\n",
       "2       False\n",
       "3        True\n",
       "4       False\n",
       "        ...  \n",
       "9689    False\n",
       "9690     True\n",
       "9691    False\n",
       "9692    False\n",
       "9693     True\n",
       "Name: prediction, Length: 9494, dtype: bool"
      ]
     },
     "execution_count": 37,
     "metadata": {},
     "output_type": "execute_result"
    }
   ],
   "source": [
    "df_clean.prediction"
   ]
  },
  {
   "cell_type": "code",
   "execution_count": 38,
   "id": "82e712f7",
   "metadata": {},
   "outputs": [],
   "source": [
    "def get_descrimination_dict(df_, sensitive_columns=['age', 'race', 'gender', 'is_insured', 'medical_specialty'], target='readmitted'):\n",
    "    \"\"\" \n",
    "    \"\"\"\n",
    "    \n",
    "    specialties = df_['medical_specialty'].unique()\n",
    "        \n",
    "    result = {}\n",
    "    for sensitive_column in sensitive_columns:\n",
    "        classes = sorted([ str(x) for x in df_[sensitive_column].unique() ])        \n",
    "        \n",
    "        result[sensitive_column] = {}\n",
    "        #result[sensitive_column]['classes_order'] = classes # Preserve the order we iterate through sensitive class\n",
    "        to_remove = ['Anesthesiology', 'Endocrinology', 'Gynecology/Obstetrics', 'Neurology', 'Ophthalmology', 'InfectiousDiseases', 'Podiatry', 'unknown']\n",
    "        \n",
    "        for class_ in classes:\n",
    "            if class_ not in to_remove:\n",
    "                medical_encounters = df_[(df_[sensitive_column] == class_)]\n",
    "\n",
    "                y_true = medical_encounters.readmitted.astype(bool)\n",
    "                y_pred = medical_encounters.prediction.astype(bool)\n",
    "\n",
    "                precision = precision_score(y_true, y_pred, labels=[True])\n",
    "\n",
    "                result[sensitive_column][class_] = precision\n",
    "    \n",
    "    return result\n",
    "        \n",
    "# print(json.dumps(verify_descrimination(df)))"
   ]
  },
  {
   "cell_type": "code",
   "execution_count": 39,
   "id": "e0c233e3",
   "metadata": {},
   "outputs": [],
   "source": [
    "df_clean['is_insured'] = df_clean.payer_code.fillna('BC').apply(lambda x: 'insured' if np.nan_to_num(x) == 'SP' else 'not insured').astype('category')\n",
    "df_clean['age'] = df_clean.age.apply(lambda x: str(x)).astype('category')\n",
    "dict_ = get_descrimination_dict(df_clean)"
   ]
  },
  {
   "cell_type": "code",
   "execution_count": 63,
   "id": "a6f1ab26",
   "metadata": {},
   "outputs": [],
   "source": [
    "def plot_dict(D, name):\n",
    "    # print(len(D))\n",
    "    plt.bar(range(len(D)), list(D.values()), align='center', width=(0.8 * len(D)) / 11)\n",
    "    plt.xticks(range(len(D)), list(D.keys()))\n",
    "\n",
    "    plt.ylabel(\"Precision - Readmission Rate\")\n",
    "    plt.gcf().set_size_inches(6,4)\n",
    "    #plt.gcf().set_size_inches(12,4)\n",
    "    #plt.xticks(rotation=90)\n",
    "    plt.ylim([0, 0.3])\n",
    "    \n",
    "    plt.gcf().savefig(\"images/week1/discrimination_requirement_\" + sensitive_column + \".pdf\")\n",
    "\n",
    "    plt.show()"
   ]
  },
  {
   "cell_type": "code",
   "execution_count": 64,
   "id": "586f4bc8",
   "metadata": {},
   "outputs": [
    {
     "data": {
      "image/png": "[encoded data removed]",
      "text/plain": [
       "<Figure size 432x288 with 1 Axes>"
      ]
     },
     "metadata": {
      "needs_background": "light"
     },
     "output_type": "display_data"
    },
    {
     "data": {
      "image/png": "[encoded data removed]",
      "text/plain": [
       "<Figure size 432x288 with 1 Axes>"
      ]
     },
     "metadata": {
      "needs_background": "light"
     },
     "output_type": "display_data"
    },
    {
     "data": {
      "image/png": "[encoded data removed]",
      "text/plain": [
       "<Figure size 432x288 with 1 Axes>"
      ]
     },
     "metadata": {
      "needs_background": "light"
     },
     "output_type": "display_data"
    },
    {
     "data": {
      "image/png": "[encoded data removed]",
      "text/plain": [
       "<Figure size 432x288 with 1 Axes>"
      ]
     },
     "metadata": {
      "needs_background": "light"
     },
     "output_type": "display_data"
    },
    {
     "data": {
      "image/png": "[encoded data removed]",
      "text/plain": [
       "<Figure size 432x288 with 1 Axes>"
      ]
     },
     "metadata": {
      "needs_background": "light"
     },
     "output_type": "display_data"
    }
   ],
   "source": [
    "for sensitive_column in ['age', 'race', 'gender', 'is_insured', 'medical_specialty']:\n",
    "    plot_dict(dict_[sensitive_column], sensitive_column)\n",
    "\n",
    "#plot_dict(dict_['medical_specialty'], 'medical_specialty')\n",
    "\n",
    "to_remove = ['Anesthesiology', 'Endocrinology', 'Gynecology/Obstetrics', 'Neurology', 'Ophthalmology', 'InfectiousDiseases']"
   ]
  },
  {
   "cell_type": "code",
   "execution_count": 42,
   "id": "e6a1eca8",
   "metadata": {},
   "outputs": [
    {
     "name": "stdout",
     "output_type": "stream",
     "text": [
      "age - 0.2653061224489796\n",
      "race - 0.12987012987012986\n",
      "gender - 0.009421993935268269\n",
      "is_insured - 0.06884380065889242\n",
      "medical_specialty - 0.275\n"
     ]
    }
   ],
   "source": [
    "for sensitive_column in ['age', 'race', 'gender', 'is_insured', 'medical_specialty']:\n",
    "    values = dict_[sensitive_column].values()\n",
    "    min_ = min(values)\n",
    "    max_ = max(values)\n",
    "    print(sensitive_column + ' - ' + str(max_-min_))"
   ]
  }
 ],
 "metadata": {
  "kernelspec": {
   "display_name": "Python 3 (ipykernel)",
   "language": "python",
   "name": "python3"
  },
  "language_info": {
   "codemirror_mode": {
    "name": "ipython",
    "version": 3
   },
   "file_extension": ".py",
   "mimetype": "text/x-python",
   "name": "python",
   "nbconvert_exporter": "python",
   "pygments_lexer": "ipython3",
   "version": "3.7.12"
  }
 },
 "nbformat": 4,
 "nbformat_minor": 5
}
