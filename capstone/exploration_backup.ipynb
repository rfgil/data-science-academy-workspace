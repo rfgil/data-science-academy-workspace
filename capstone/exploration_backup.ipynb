{
 "cells": [
  {
   "cell_type": "markdown",
   "id": "b5d23a36",
   "metadata": {},
   "source": []
  },
  {
   "cell_type": "markdown",
   "id": "9124269f",
   "metadata": {},
   "source": [
    "BLU14 is important!\n",
    "\n",
    "* Instructions: https://docs.google.com/document/d/108Ux46Wczi6N0ey4BR-WBay-lNNhFPSPbdDQuETGIA0/edit#\n",
    "* Email with responses: https://docs.google.com/document/d/1gQtFWo5hfP507hdX3ly0ZmPhpQd1eRodiMUr-1M7cIU/edit#\n",
    "* Report rules: https://docs.google.com/spreadsheets/d/17qp-nz45RLLcK3KtljOLs4VEhQ0KzTaIWiddYTwgB_A/edit#gid=767562645\n",
    "\n",
    "Githubs with batch-4 challanges\n",
    "* https://github.com/tiagobluefernandes/LDSSA-BATCH4-CAPSTONE\n",
    "* https://github.com/dbsousa01/Batch4-Capstone\n",
    "* https://github.com/fernandamcohen/PredictiveModel_with_API-LDSSA4_Capstone\n",
    "* https://github.com/felixbrunner/capstone"
   ]
  },
  {
   "cell_type": "markdown",
   "id": "2ea9c2b5",
   "metadata": {},
   "source": [
    "### Email from your head of engineering\n",
    "\n",
    "Dear new employee \n",
    "\n",
    "Welcome to the team, and congratulations on passing the gruelling interview process! We’re glad to have you as the newest member of our team here at Lisbon Data Science’s Awkward Problem Solutions™. As I’m sure you know from the interview process, we are a consultancy that tackles the hard data science problems no one else will touch. \n",
    "\n",
    "We have been tasked to deal with a sensitive and important issue, whose ramifications might have severe consequences. The Hazel and Bazel Hospital, in Los Angeles, California, has contacted us regarding **suspicion of malpractice** and is currently under investigation by the Fair Medical Practices Bureau. Situations have come to light where **patients have been wrongfully medically discharged**, resulting in severe health consequences for the patient. **Our main objective is to identify patients who are likely to return to the hospital in less than 30 days**, for which the hospital might be liable for wrongful discharge before due time. \n",
    "\n",
    "The reasons for this are still unknown, and investigation into this matter is required. It is **unknown if this is a demographic-specific issue or specific to any of the medical specialities/services**. Additionally, they want us to create and deploy a REST API endpoint for patient discharge verification. This will be integrated directly into the hospital’s system to be triggered every time the medical dismissal information for a patient is filled in in their system. You will be responsible for setting this system up and running it for a year. \n",
    " \n",
    "Due to the sensitivity of this issue, you’ll be working directly with Dr Agnes Crumplebottom, the Hazel and Bazel Hospital medical director. Dr Crumplebottom will be your only point of contact during this project. Due to the sensitive nature of the project, information might be limited. \n",
    "\n",
    "As you may imagine, this project is a huge deal for our consultancy, we’re counting on you to deliver on this one. Naturally, if you have any questions you can ask me, but I’m counting on you to lead and execute from start to finish. You can find Dr Crumplebottom email attached below. \n",
    "\n",
    "Yours, \n",
    "Aveline\n",
    "VP of Data Science \n",
    "Awkward Problem Solutions™.\n"
   ]
  },
  {
   "cell_type": "markdown",
   "id": "c8aca7a1",
   "metadata": {},
   "source": [
    "### Email from Dr Agnes Crumplebottom\n",
    "\n",
    "Aveline \n",
    "\n",
    "I can’t stress enough how important the matter we have at hand is. I’m under enormous pressure from the board to initiate a thorough investigation, and some funders are threatening to withdraw funding which is vital for the renovation of my office. You have guaranteed the confidentiality of our communications so I’ll speak frankly to you. If the money we are spending with your firm is an indication of your secrecy, this might be better than confessing to the Pope.\n",
    "\n",
    "I’ll cut to the chase and talk frankly to you. The situation appears to be dire. We’ve received private, but trustworthy, information that the Fair Medical Practices Bureau is currently investigating our hospital and that a class-action lawsuit is currently in the works. Apparently, according to these “officers”, we’ve been providing subpar treatment to our patients. As you know, **our Hospital focuses on diabetes**, a pervasive and lucrative epidemic. Funny that when confined, **people still tend to overeat**. But I digress. We offer premium quality services, tailored to diabetic patients so that they receive the best care for their unique condition. Of course, we don’t promise a cure, as that would be counter-intuitive for our interests, but our care practices are both extensive and in-depth, insurance allowing.\n",
    "\n",
    "The main suspicion is our number of returning patients after a very short time after discharge. To me, this is a sign that we provide such good care that they just want more. But some hold other opinions. The board has forced me to procure an external party to investigate and present an objective report. I am trusting you, and your firm, with this task. You promised me the best of your people, and I’m counting on it. \n",
    "\n",
    "I have discussed this matter extensively with our head of IT, which will be expecting a service to be integrated into our own internal system for medical discharge approval, so all we need is a REST API that our own code can call. We won’t be sending you any requests from recent events, as naturally, we wouldn’t know the outcome. \n",
    "\n",
    "Regarding data, we are providing you with our patient information since 2012. The head of IT has provided you with a field description in this link. The training dataset has approximately 81,411 observations, I expect this should be enough.\n",
    "\n",
    "Regarding the analysis, **we want you to search for evidence that any of our services may be discriminating on gender, ethnicity or age regarding who they chose to dismiss from our care**. We are particularly interested in knowing **if any of our specialities or admission sources are responsible for the unexpected patient discharge rate**. Additionally, some questions regarding our **care for uninsured patients** have been brought up. I denied these offensive insinuations but the board is of the unanimous opinion that this is a matter to be considered. \n",
    "\n",
    "As you may imagine these are sensitive topics, with many jobs, one of them my own, on the line. We, therefore, need you to propose what metrics would suggest that anything unacceptable is being observed. **Some training and changes of staff and/or policy may impact the data over time**.\n",
    "\n",
    "The report will be read both by me and by the members of our board. I expect this report to be well straight-forward and structured. I’m paying you enough for it. After the analysis is completed and your report has been understood, we will run a proof of concept with your company for the use of your API in integration with our hospital patient record management system. It is imperative that we succeed in ending these insinuations that we do not provide the necessary medical care to as many patients as possible. If during the investigation it is observed that we are failing to provide care to a patient that needs it, the consequences for us and for your company will be dire. **Nevertheless, we don't have the monetary, personal and infrastructural resources to retain all patients indefinitely**. We expect that your API should be able to signal potential wrongful discharges with all of these requirements. \n",
    "\n",
    "From your last email, I understand you’ve hired a specialist to deal with this project. I’m very much looking forward to working with them, and am of course available to answer their questions as they occur. But please be mindful that my time is limited. And more important than yours. \n",
    "\n",
    "Best regards \n",
    "Agnes Crumplebottom, MD PhD \n",
    "Medical director\n",
    "Hazel and Bazel Hospital "
   ]
  },
  {
   "cell_type": "markdown",
   "id": "c4320b1f",
   "metadata": {},
   "source": [
    "### Email from Dr Agnes Crumplebottom (Jan 25th)\n",
    "\n",
    "Greetings,\n",
    "\n",
    "It’s good to know who will be handling this mess. Your email was very thorough, if not extensive. At least you seem to have a solid understanding of our data and challenges. I’ve attempted to answer the main questions. Please find my answers below.\n",
    "\n",
    "> Given the data at hand, what output/label do you expect? Do you want the verification model to state whether a patient should be discharged? Or do you want the model to classify the patient as a possible wrong discharge?\n",
    "\n",
    "As I’ve stated in my previous mail and in the data dictionary, **the goal is to predict if a person is likely to be readmitted within 30 days**. For the patients that would be readmitted in 30 days, we would like to identify them and keep them in our facilities further. This means that patients classified as readmitted = “Yes” should stay longer and patients classified as readmitted = “No” show no indication that they require further assistance and can be safely discharged.\n",
    "\n",
    "> How should we assess model performance? Which minimum values should be considered for the patient readmission classification and for the bias between specialties?\n",
    "\n",
    "This is a very technical question and, as the expert, it should be up to you to make the ultimate decision based on our business requirements: we cannot fail to provide care to a patient that needs it. This means we would like to minimize the number of wrong discharges that would lead patients to return in less than 30 days.\n",
    "\n",
    "But we are not made of money so this should not be the only criteria. **As a rule of thumb, consider that at least 50% of the patients identified for readmission should actually be sick**.\n",
    "\n",
    "**The wrongful discharge rate, or readmission rate, should not vary more than 10 percentage points between sub-groups, and less than 5 percentage points between medical specialties.**\n",
    "\n",
    "> Information on **patient insurance** status is unclear. Could you provide more information on this?\n",
    "\n",
    "The record of a **patient's insurance status should be able to be inferred from their Payer identifier information**. With the SP (self-pay) code you will be able to identify the uninsured patients, with the remaining codes referring to different insurance providers.\n",
    "\n",
    "> I understand you are concerned about imbalances regarding medical specialties. However, by looking at the data we find 71 specialties, many of which have a very low amount of data points. \n",
    "\n",
    "I trust your expertise to deal with this imbalance in the way you see fit, **including defining a minimum number of observations, and justify it in your report.**  \n",
    "\n",
    "> Regarding the dataset, I would like to clarify a few issues:\n",
    "> -  do the null values in the num_medications and num_lab_procedures variables indicate a zero/lack of medications/lab procedures or a real absence of data?\n",
    "> - do the \"None\" values in the complete_vaccination_status variable indicate a lack of information or lack of vaccines?\n",
    "> - finally, we have a lot of value equal to \"?\". Should these be considered as missing values? \n",
    "\n",
    "When no medication is provided to the patient, the value of num_medications is zero (0). The same applies for num_lab_procedures. \n",
    "\n",
    "Values such as “None”, “?” and similar in all non-numeric columns refer to information that was not possible to collect.\n",
    "\n",
    "> Could you be more precise on what is a “service” exactly, as it does not appear explicitly in the data set. \n",
    "\n",
    "Consider as a service any of our medical specialties. \n",
    "\n",
    "> For the race attribute, it looks like there are different descriptions for the same race groups. How should we consider these categories?\n",
    "\n",
    "We trust your analysis of the records. Being you the expert, we leave to you how to handle these seemingly similar descriptions. Please refer to this situation and explain the strategy you choose in your report.\n",
    "\n",
    "> You mention how some things impact data over-time. Is it possible to add dates to the data to ensure we are allowing for this?\n",
    "\n",
    "Unfortunately, my team tells me that some incompetent IT guy lost the time stamp information for the data that you were given. **Please see your report as an opportunity to highlight their wrongdoing**.\n",
    "\n",
    "\n",
    "> With the goal to evaluate the impact of staff in this situation is it possible to have at least a code that identifies the doctor responsible for the discharge or the doctor/team that was responsible to treat the patient?\n",
    "\n",
    "You can assume that **“Physician specialty” represents the specialty (or department) responsible for discharging a patient** and that this level of detail is sufficient for the task.\n",
    "\n",
    "\n",
    "> Were there any changes in the hospital board, or some cuts in budget during the period of the observations you sent?\n",
    "\n",
    "The old goons from the board have been here since the time TVs were black and white. And even though they keep refusing additional funding for my much needed office renovation, there is no way I would let them cut down my budget.\n",
    "\n",
    "> What are you expecting from the API response only a true or false answer? Can you please provide us with a few samples of the POST requests which will be made?\n",
    "\n",
    "Very good question! I will be asking the Technical team and we will get something together and share with you within a few days.\n",
    "\n",
    "> There seems to be some data inconsistencies, particularly regarding the diagnosis codes.\n",
    "\n",
    "Consider this as data imputation errors. With you being the expert, I expect a justification on how you decide to handle these cases. \n",
    "\n",
    "> Can you please provide us with a reference with a correspondence between the first 3 digits of ICD9 codes and the respective disease?\n",
    "\n",
    "According to one of our staff, who I like to call “annoying wikipedia”, the International Classification of Diseases, Ninth Revision, Clinical Modification (ICD-9-CM) is based on the World Health Organization’s Ninth Revision, International Classification of Diseases (ICD-9) and is available from Center for Disease Control through their FTP service. **The wikipedia page might also be of use**.\n",
    "\n",
    "> Why are more diagnoses associated with some patients (as per the number_diagnoses column) than diag_X (diag_1, diag_2 and diag_3) columns? What are the other diagnoses?\n",
    "\n",
    "The diag_1/2/3 variables correspond to primary, secondary and additional secondary diagnosis, respectively. These aim to identify the primary cause for hospitalization, so there might be other other diagnoses the doctor might find in the patient but we only record the three most important ones.\n",
    "\n",
    "> Almost 96% of its values are missing for the weight feature, so it can’t be used to do a predictive model.\n",
    "\n",
    "This is a shame, and I expect to see this covered in your report.\n",
    "\n",
    "> What medications are included in the DiabetesMed feature? Does this feature exclude insulin?\n",
    "\n",
    "The DiabetesMed refers to any diabetes medication, such as insulin, insulin stimulants, diuretics, and glucose uptake inhibitors.\n",
    "\n",
    "> The patient_id column is said to be unique per patient. However, I found out that some patients have multiple blood types. I am guessing that either patient_id or blood_type (or possibly other attributes) of these records have been wrongly entered or corrupted.\n",
    "\n",
    "**This is a relevant question**. The patient_id is indeed unique for each user. So it seems you might have identified an issue with our data gathering methodology. I would suggest your IT department look into this issue. Again, as the expert, we leave it to you on how to handle this.\n",
    "\n",
    "> Since data contains multiple patient visits for the same patients, may we consider only the first encounter for each patient to know whether or not they were readmitted in less than 30 days in order to prevent the bias of our model?\n",
    "\n",
    "As mentioned earlier, our data doesn’t have any time-related features. So I’d avoid making any assumptions that the visit outcomes from the same patient are correlated. Also, the model should be general enough such as it can make predictions on unseen patients.\n",
    "\n",
    "> To improve record keeping, do you want our new system to restrict options to only those already in use for fields such as race, age, gender etc,? Are there any additional categories which are not in the database but are available options and can they please be added to the field descriptions?\n",
    "\n",
    "The world is a never-ending changing thing, so new categories may show up. We expect your solution to be flexible enough so that it does not crash when that happens.\n",
    "\n",
    "> There are several codes in the Discharge_disposition_code that I don’t understand. Can you please provide an explanation for them? \n",
    "\n",
    "I should also understand these codes but I don’t. I consulted my Chief Physician Dr. Susan Google, and she told me that these are standardized codes to identify the status of the patient at the end of their admission period in a health care facility.\n"
   ]
  },
  {
   "cell_type": "markdown",
   "id": "1eec8f2d",
   "metadata": {},
   "source": [
    "### TO-DO\n",
    "\n",
    "* Validar diferenças no tratamento de insured vs uninsured patients\n",
    "* Validar descriminação\n",
    "* Ter atenção à evolução temporal dos doentes (\"training and changes of staff may impact data over time\")\n",
    "\n",
    "### Perguntas\n",
    "\n",
    "\n",
    "\n",
    "* What are the current guidelines on for patient discharge?\n",
    "* Why are there so few records on the patient's weight? As you mentioned people tend to overeat, and it has an impact on diabetes\n",
    "* On the admission type code, what's the difference between 'Emergency' and 'Urgent'. And what does an 'elective' admission mean?\n",
    "    '1': 'Emergency',\n",
    "    '2': 'Urgent',\n",
    "    '3': 'Elective',\n",
    "    '4': 'Newborn',\n",
    "    '5': UNKNOWN_CATEGORY, # 'Not Available',\n",
    "    '6': UNKNOWN_CATEGORY, # 'NULL'\n",
    "    '7': 'Trauma Center',\n",
    "    '8': UNKNOWN_CATEGORY # 'Not Mapped'\n",
    "    \n",
    "\n",
    "\n",
    "Hello, Agnes Crumplebottom,\n",
    "\n",
    "In order to better understand the problems your hospital is facing, I would like to ask you a few questions regarding the data you provided:\n",
    "\n",
    "1. You mentioned that 'when confined, people still tend to overeat' and weight seems like an important metric to take into account regarding diabetes. Why only a small fraction of the patients (5%) have this type of information?\n",
    "\n",
    "2. What distiguishes 'Urgent' and 'Emergency' admission codes? Furthermore, what distigueshes 'Not Available', 'Null' and 'Not Mapped' admission codes.\n",
    "\n",
    "3. You mention that you 'don't have the monetary, personal and infrastructural resources to retain all patients indefinitely', which I understand perfectly. Thus, which of the following scnearios should the API I'm developing focus on: \n",
    "* To make sure that all patients that may be readmitted within 30 days are not dismissed, at the expense of some false-positive patients that could otherwise be dismissed. \n",
    "* To make sure that all patients that won't be readmitted are dismissed as soon as possible, at the expense of a few erroneous dismissals.\n",
    "In other words is it more expensive to keep extra patients for a while or to dismiss a patient that is readmitted within 30 days?\n",
    "\n",
    "\n",
    "I'm looking forward for your reply and I'm available for any questions that you may have.\n",
    "\n",
    "Best Regards,\n",
    "Rafael Gil\n",
    "\n",
    "\n"
   ]
  },
  {
   "cell_type": "markdown",
   "id": "f2175e6a",
   "metadata": {},
   "source": [
    "### Data Dictionary\n",
    "\n",
    "| Variable     | Description |\n",
    "|--------------|-----------|\n",
    "| **admission_id** | Unique identifier of an encounter |\n",
    "| **patient_id** | Unique identifier of a patient |\n",
    "| **race** | Patient race |\n",
    "| **gender** | Patient gender |\n",
    "| **age** | Patient age grouped in 10-year intervals |\n",
    "| **weight** | Patient weight (lb) |\n",
    "| **admission_type_code** | Admission type identifier |\n",
    "| **discharge_disposition_code** | discharge_disposition_code |\n",
    "| **admission_source_code** | Admission source identifier |\n",
    "| **time_in_hospital** | Number of days between admission and discharge |\n",
    "| **payer_code** | Payer identifier |\n",
    "| **medical_specialty** | Physician speciality |\n",
    "| **has_prosthesis** | Indicates if patient has any prothesis. |\n",
    "| **complete_vaccination_status** | The patient vaccination status. |\n",
    "| **num_lab_procedures** | Number of lab tests performed during the encounter |\n",
    "| **num_procedures** | Number of procedures (other than lab tests) performed during the encounter |\n",
    "| **num_medications** | Number of distinct generic names administered during the encounter |\n",
    "| **number_outpatient** | Number of outpatient visits of the patient in the year preceding the encounter |\n",
    "| **number_emergency** | Number of emergency visits of the patient in the year preceding the encounter |\n",
    "| **number_inpatient** | Number of inpatient visits of the patient in the year preceding the encounter |\n",
    "| **diag_1** | The primary diagnosis (coded as first three digits of ICD9) |\n",
    "| **diag_2** | Secondary diagnosis (coded as first three digits of ICD9) |\n",
    "| **diag_3** | Additional secondary diagnosis (coded as first three digits of ICD9) |\n",
    "| **number_diagnoses** | Number of diagnoses entered to the system |\n",
    "| **blood_type** | Patient blood type |\n",
    "| **hemoglobin_level** | Encounter initial patient hemoglobin level (g/dl) |\n",
    "| **blood_transfusion** | Indicates if pacient required blood transfusion during encounter |\n",
    "| **max_glu_serum** | Indicates the range of the glucose serum result or if the test was not taken. |\n",
    "| **A1Cresult** | Indicates the range of the A1c test result or if the test was not taken. |\n",
    "| **diuretics** | Indicate whether diuretics were prescribed. |\n",
    "| **insulin** | Indicate whether insulin was prescribed. |\n",
    "| **change** | Indicates if there was a change in diabetic medications (either dosage or generic name). |\n",
    "| **diabetesMed** | Indicates if there was any diabetic medication prescribed. |\n",
    "| **readmitted** | Patient readmitted within 30 days of discharge. |"
   ]
  },
  {
   "cell_type": "markdown",
   "id": "e38fef94",
   "metadata": {},
   "source": [
    "| Variable     | Description | |\n",
    "|--------------|-----------| |\n",
    "| **admission_id** | Unique identifier of an encounter | |\n",
    "| **patient_id** | Unique identifier of a patient | |\n",
    "| **race** | Patient race | |\n",
    "| **gender** | Patient gender | |\n",
    "| **age** | Patient age grouped in 10-year intervals | |\n",
    "| **weight** | Patient weight (lb) | |\n",
    "| **admission_type_code** | Admission type identifier | 1: Emergency<br>2: Urgent<br>3: Elective<br>4: Newborn<br>5: Not Available<br>6: NULL<br>7: Trauma Center<br>8: Not Mapped |\n",
    "| **discharge_disposition_code** | discharge_disposition_code | 1: Discharged to home<br>2: Discharged/transferred to another short term hospital<br>3: Discharged/transferred to SNF<br>4: Discharged/transferred to ICF<br>5: Discharged/transferred to another type of inpatient care institution<br>6: Discharged/transferred to home with home health service<br>7: Left AMA<br>8: Discharged/transferred to home under care of Home IV provider<br>9: Admitted as an inpatient to this hospital<br>10: Neonate discharged to another hospital for neonatal aftercare<br>11: Expired<br>12: Still patient or expected to return for outpatient services<br>13: Hospice / home<br>14: Hospice / medical facility<br>15: Discharged/transferred within this institution to Medicare approved swing bed<br>16: Discharged/transferred/referred another institution for outpatient services<br>17: Discharged/transferred/referred to this institution for outpatient services<br>18: NULL<br>19: \"\"Expired at home. Medicaid only:  hospice.\"\"<br>20: \"\"Expired in a medical facility. Medicaid only:  hospice.\"\"<br>21: \"\"Expired:  place unknown. Medicaid only:  hospice.\"\"<br>22: Discharged/transferred to another rehab fac including rehab units of a hospital .<br>23: Discharged/transferred to a long term care hospital.<br>24: Discharged/transferred to a nursing facility certified under Medicaid but not certified under Medicare.<br>25: Not Mapped<br>26: Unknown/Invalid<br>30: Discharged/transferred to another Type of Health Care Institution not Defined Elsewhere<br>27: Discharged/transferred to a federal health care facility.<br>28: Discharged/transferred/referred to a psychiatric hospital of psychiatric distinct part unit of a hospital<br>29: Discharged/transferred to a Critical Access Hospital (CAH).<br> |\n",
    "| **admission_source_code** | Admission source identifier | 1: Physician Referral<br>2: Clinic Referral<br>3: HMO Referral<br>4: Transfer from a hospital<br>5: Transfer from a Skilled Nursing Facility (SNF)<br>6: Transfer from another health care facility<br>7: Emergency Room<br>8: Court/Law Enforcement<br>9: Not Available<br>10: Transfer from critial access hospital<br>11: Normal Delivery<br>12: Premature Delivery<br>13: Sick Baby<br>14: Extramural Birth<br>15: Not Available<br>17: NULL<br>18: Transfer From Another Home Health Agency<br>19: Readmission to Same Home Health Agency<br>20: Not Mapped<br>21: Unknown/Invalid<br>22: Transfer from hospital inpt/same fac reslt in a sep claim<br>23: Born inside this hospital<br>24: Born outside this hospital<br>25: Transfer from Ambulatory Surgery Center<br>26: Transfer from Hospice |\n",
    "| **time_in_hospital** | Number of days between admission and discharge | |\n",
    "| **payer_code** | Payer identifier | |\n",
    "| **medical_specialty** | Physician speciality | |\n",
    "| **has_prosthesis** | Indicates if patient has any prothesis. | |\n",
    "| **complete_vaccination_status** | The patient vaccination status. | |\n",
    "| **num_lab_procedures** | Number of lab tests performed during the encounter | |\n",
    "| **num_procedures** | Number of procedures (other than lab tests) performed during the encounter | |\n",
    "| **num_medications** | Number of distinct generic names administered during the encounter | |\n",
    "| **number_outpatient** | Number of outpatient visits of the patient in the year preceding the encounter | |\n",
    "| **number_emergency** | Number of emergency visits of the patient in the year preceding the encounter | |\n",
    "| **number_inpatient** | Number of inpatient visits of the patient in the year preceding the encounter | |\n",
    "| **diag_1** | The primary diagnosis (coded as first three digits of ICD9) | |\n",
    "| **diag_2** | Secondary diagnosis (coded as first three digits of ICD9) | |\n",
    "| **diag_3** | Additional secondary diagnosis (coded as first three digits of ICD9) | |\n",
    "| **number_diagnoses** | Number of diagnoses entered to the system | |\n",
    "| **blood_type** | Patient blood type | |\n",
    "| **hemoglobin_level** | Encounter initial patient hemoglobin level (g/dl) | |\n",
    "| **blood_transfusion** | Indicates if pacient required blood transfusion during encounter | Yes: blood transfusion was performed during the encounter<br>No: no blood transfusion was performed during the encounter |\n",
    "| **max_glu_serum** | Indicates the range of the glucose serum result or if the test was not taken. | >200: result greater than 200 but less than 300<br>>300: result greater than 300<br>norm: normal level<br>none: test was not performed |\n",
    "| **A1Cresult** | Indicates the range of the A1c test result or if the test was not taken. | >8: the result was greater than 8%<br>>7: the result was greater than 7% but less than 8%<br>norm: the result was less than 7%<br>none: test was not performed |\n",
    "| **diuretics** | Indicate whether diuretics were prescribed. | Yes: a diuretic was prescribed during the encounter<br>No: no diuretic was prescribed during the encounter |\n",
    "| **insulin** | Indicate whether insulin was prescribed. | Yes: insulin was prescribed during the encounter<br>No: insulin was not prescribed during the encounter |\n",
    "| **change** | Indicates if there was a change in diabetic medications (either dosage or generic name). | Ch: there was a change in diabetic medication<br>No: there was no change in diabetic medication |\n",
    "| **diabetesMed** | Indicates if there was any diabetic medication prescribed. | Yes: diabetic medication was prescribed during the encounter<br>No: no diabetic medication was not prescribed during the encounter |\n",
    "| **readmitted** | Patient readmitted within 30 days of discharge. | Yes: if the patient was readmitted<br>No: no record of readmission. |\n",
    "\n",
    "\n"
   ]
  },
  {
   "cell_type": "markdown",
   "id": "86d0a825",
   "metadata": {},
   "source": [
    "## Data Cleaning"
   ]
  },
  {
   "cell_type": "code",
   "execution_count": 1,
   "id": "c3bb2569",
   "metadata": {},
   "outputs": [],
   "source": [
    "import os\n",
    "import pandas as pd\n",
    "\n",
    "#import json\n",
    "#import joblib\n",
    "#import pickle\n",
    "#import requests\n",
    "#from sklearn.pipeline import make_pipeline, Pipeline\n",
    "#from sklearn.model_selection import cross_val_score\n",
    "#from category_encoders import OneHotEncoder\n",
    "#from sklearn.compose import ColumnTransformer\n",
    "#from sklearn.ensemble import RandomForestClassifier\n",
    "#from sklearn.linear_model import LogisticRegression\n",
    "#import warnings\n",
    "#warnings.filterwarnings('ignore')"
   ]
  },
  {
   "cell_type": "code",
   "execution_count": 2,
   "id": "d4f9101d",
   "metadata": {},
   "outputs": [],
   "source": [
    "df = pd.read_csv(os.path.join(\"data\", \"train_data.csv\"))"
   ]
  },
  {
   "cell_type": "code",
   "execution_count": 3,
   "id": "219a6638",
   "metadata": {},
   "outputs": [
    {
     "data": {
      "text/html": [
       "<div>\n",
       "<style scoped>\n",
       "    .dataframe tbody tr th:only-of-type {\n",
       "        vertical-align: middle;\n",
       "    }\n",
       "\n",
       "    .dataframe tbody tr th {\n",
       "        vertical-align: top;\n",
       "    }\n",
       "\n",
       "    .dataframe thead th {\n",
       "        text-align: right;\n",
       "    }\n",
       "</style>\n",
       "<table border=\"1\" class=\"dataframe\">\n",
       "  <thead>\n",
       "    <tr style=\"text-align: right;\">\n",
       "      <th></th>\n",
       "      <th>admission_id</th>\n",
       "      <th>patient_id</th>\n",
       "      <th>race</th>\n",
       "      <th>gender</th>\n",
       "      <th>age</th>\n",
       "      <th>weight</th>\n",
       "      <th>admission_type_code</th>\n",
       "      <th>discharge_disposition_code</th>\n",
       "      <th>admission_source_code</th>\n",
       "      <th>time_in_hospital</th>\n",
       "      <th>...</th>\n",
       "      <th>blood_type</th>\n",
       "      <th>hemoglobin_level</th>\n",
       "      <th>blood_transfusion</th>\n",
       "      <th>max_glu_serum</th>\n",
       "      <th>A1Cresult</th>\n",
       "      <th>diuretics</th>\n",
       "      <th>insulin</th>\n",
       "      <th>change</th>\n",
       "      <th>diabetesMed</th>\n",
       "      <th>readmitted</th>\n",
       "    </tr>\n",
       "  </thead>\n",
       "  <tbody>\n",
       "    <tr>\n",
       "      <th>0</th>\n",
       "      <td>0</td>\n",
       "      <td>199042938</td>\n",
       "      <td>Caucasian</td>\n",
       "      <td>Male</td>\n",
       "      <td>[50-60)</td>\n",
       "      <td>?</td>\n",
       "      <td>3.0</td>\n",
       "      <td>1.0</td>\n",
       "      <td>1</td>\n",
       "      <td>1</td>\n",
       "      <td>...</td>\n",
       "      <td>A+</td>\n",
       "      <td>14.5</td>\n",
       "      <td>False</td>\n",
       "      <td>None</td>\n",
       "      <td>None</td>\n",
       "      <td>No</td>\n",
       "      <td>No</td>\n",
       "      <td>No</td>\n",
       "      <td>Yes</td>\n",
       "      <td>No</td>\n",
       "    </tr>\n",
       "    <tr>\n",
       "      <th>1</th>\n",
       "      <td>1</td>\n",
       "      <td>91962954</td>\n",
       "      <td>Caucasian</td>\n",
       "      <td>Male</td>\n",
       "      <td>[80-90)</td>\n",
       "      <td>?</td>\n",
       "      <td>2.0</td>\n",
       "      <td>1.0</td>\n",
       "      <td>7</td>\n",
       "      <td>3</td>\n",
       "      <td>...</td>\n",
       "      <td>B+</td>\n",
       "      <td>15.7</td>\n",
       "      <td>False</td>\n",
       "      <td>None</td>\n",
       "      <td>&gt;7</td>\n",
       "      <td>No</td>\n",
       "      <td>No</td>\n",
       "      <td>No</td>\n",
       "      <td>No</td>\n",
       "      <td>Yes</td>\n",
       "    </tr>\n",
       "    <tr>\n",
       "      <th>2</th>\n",
       "      <td>2</td>\n",
       "      <td>109707084</td>\n",
       "      <td>EURO</td>\n",
       "      <td>Female</td>\n",
       "      <td>[60-70)</td>\n",
       "      <td>?</td>\n",
       "      <td>1.0</td>\n",
       "      <td>1.0</td>\n",
       "      <td>7</td>\n",
       "      <td>5</td>\n",
       "      <td>...</td>\n",
       "      <td>O+</td>\n",
       "      <td>13.0</td>\n",
       "      <td>False</td>\n",
       "      <td>NONE</td>\n",
       "      <td>None</td>\n",
       "      <td>No</td>\n",
       "      <td>Yes</td>\n",
       "      <td>Ch</td>\n",
       "      <td>Yes</td>\n",
       "      <td>No</td>\n",
       "    </tr>\n",
       "    <tr>\n",
       "      <th>3</th>\n",
       "      <td>3</td>\n",
       "      <td>157495374</td>\n",
       "      <td>Black</td>\n",
       "      <td>Female</td>\n",
       "      <td>[70-80)</td>\n",
       "      <td>?</td>\n",
       "      <td>6.0</td>\n",
       "      <td>1.0</td>\n",
       "      <td>17</td>\n",
       "      <td>2</td>\n",
       "      <td>...</td>\n",
       "      <td>AB-</td>\n",
       "      <td>13.5</td>\n",
       "      <td>False</td>\n",
       "      <td>NONE</td>\n",
       "      <td>&gt;8</td>\n",
       "      <td>No</td>\n",
       "      <td>No</td>\n",
       "      <td>No</td>\n",
       "      <td>Yes</td>\n",
       "      <td>No</td>\n",
       "    </tr>\n",
       "    <tr>\n",
       "      <th>4</th>\n",
       "      <td>4</td>\n",
       "      <td>82692360</td>\n",
       "      <td>Caucasian</td>\n",
       "      <td>Female</td>\n",
       "      <td>NaN</td>\n",
       "      <td>?</td>\n",
       "      <td>1.0</td>\n",
       "      <td>22.0</td>\n",
       "      <td>7</td>\n",
       "      <td>12</td>\n",
       "      <td>...</td>\n",
       "      <td>A+</td>\n",
       "      <td>13.0</td>\n",
       "      <td>False</td>\n",
       "      <td>None</td>\n",
       "      <td>None</td>\n",
       "      <td>No</td>\n",
       "      <td>No</td>\n",
       "      <td>No</td>\n",
       "      <td>No</td>\n",
       "      <td>No</td>\n",
       "    </tr>\n",
       "  </tbody>\n",
       "</table>\n",
       "<p>5 rows × 34 columns</p>\n",
       "</div>"
      ],
      "text/plain": [
       "   admission_id  patient_id       race  gender      age weight  \\\n",
       "0             0   199042938  Caucasian    Male  [50-60)      ?   \n",
       "1             1    91962954  Caucasian    Male  [80-90)      ?   \n",
       "2             2   109707084       EURO  Female  [60-70)      ?   \n",
       "3             3   157495374      Black  Female  [70-80)      ?   \n",
       "4             4    82692360  Caucasian  Female      NaN      ?   \n",
       "\n",
       "   admission_type_code  discharge_disposition_code  admission_source_code  \\\n",
       "0                  3.0                         1.0                      1   \n",
       "1                  2.0                         1.0                      7   \n",
       "2                  1.0                         1.0                      7   \n",
       "3                  6.0                         1.0                     17   \n",
       "4                  1.0                        22.0                      7   \n",
       "\n",
       "   time_in_hospital  ... blood_type hemoglobin_level  blood_transfusion  \\\n",
       "0                 1  ...         A+             14.5              False   \n",
       "1                 3  ...         B+             15.7              False   \n",
       "2                 5  ...         O+             13.0              False   \n",
       "3                 2  ...        AB-             13.5              False   \n",
       "4                12  ...         A+             13.0              False   \n",
       "\n",
       "  max_glu_serum  A1Cresult  diuretics  insulin  change  diabetesMed  \\\n",
       "0          None       None         No       No      No          Yes   \n",
       "1          None         >7         No       No      No           No   \n",
       "2          NONE       None         No      Yes      Ch          Yes   \n",
       "3          NONE         >8         No       No      No          Yes   \n",
       "4          None       None         No       No      No           No   \n",
       "\n",
       "   readmitted  \n",
       "0          No  \n",
       "1         Yes  \n",
       "2          No  \n",
       "3          No  \n",
       "4          No  \n",
       "\n",
       "[5 rows x 34 columns]"
      ]
     },
     "execution_count": 3,
     "metadata": {},
     "output_type": "execute_result"
    }
   ],
   "source": [
    "df.head()"
   ]
  },
  {
   "cell_type": "code",
   "execution_count": 4,
   "id": "159a6a2d",
   "metadata": {},
   "outputs": [
    {
     "data": {
      "text/plain": [
       "admission_id                     int64\n",
       "patient_id                       int64\n",
       "race                            object\n",
       "gender                          object\n",
       "age                             object\n",
       "weight                          object\n",
       "admission_type_code            float64\n",
       "discharge_disposition_code     float64\n",
       "admission_source_code            int64\n",
       "time_in_hospital                 int64\n",
       "payer_code                      object\n",
       "medical_specialty               object\n",
       "has_prosthesis                    bool\n",
       "complete_vaccination_status     object\n",
       "num_lab_procedures             float64\n",
       "num_procedures                   int64\n",
       "num_medications                float64\n",
       "number_outpatient                int64\n",
       "number_emergency                 int64\n",
       "number_inpatient                 int64\n",
       "diag_1                          object\n",
       "diag_2                          object\n",
       "diag_3                          object\n",
       "number_diagnoses                 int64\n",
       "blood_type                      object\n",
       "hemoglobin_level               float64\n",
       "blood_transfusion                 bool\n",
       "max_glu_serum                   object\n",
       "A1Cresult                       object\n",
       "diuretics                       object\n",
       "insulin                         object\n",
       "change                          object\n",
       "diabetesMed                     object\n",
       "readmitted                      object\n",
       "dtype: object"
      ]
     },
     "execution_count": 4,
     "metadata": {},
     "output_type": "execute_result"
    }
   ],
   "source": [
    "df.dtypes"
   ]
  },
  {
   "cell_type": "code",
   "execution_count": 5,
   "id": "547281d2",
   "metadata": {},
   "outputs": [],
   "source": [
    "df_clean = df.copy()"
   ]
  },
  {
   "cell_type": "code",
   "execution_count": 6,
   "id": "792349cf",
   "metadata": {},
   "outputs": [],
   "source": [
    "## Utils\n",
    "UNKNOWN_CATEGORY = 'unknown'\n",
    "\n",
    "def get_categorical(value, mapping, default = UNKNOWN_CATEGORY):\n",
    "    try:\n",
    "        return mapping[str(value).lower()]\n",
    "    except:\n",
    "        return default"
   ]
  },
  {
   "cell_type": "markdown",
   "id": "9b15b74c",
   "metadata": {},
   "source": [
    "###### admission_id"
   ]
  },
  {
   "cell_type": "code",
   "execution_count": 7,
   "id": "e5e25f34",
   "metadata": {},
   "outputs": [
    {
     "data": {
      "text/plain": [
       "(81412, 34)"
      ]
     },
     "execution_count": 7,
     "metadata": {},
     "output_type": "execute_result"
    }
   ],
   "source": [
    "df.shape"
   ]
  },
  {
   "cell_type": "code",
   "execution_count": 8,
   "id": "b373cad4",
   "metadata": {},
   "outputs": [
    {
     "data": {
      "text/plain": [
       "81412"
      ]
     },
     "execution_count": 8,
     "metadata": {},
     "output_type": "execute_result"
    }
   ],
   "source": [
    "df.admission_id.nunique()"
   ]
  },
  {
   "cell_type": "code",
   "execution_count": 9,
   "id": "17de4842",
   "metadata": {},
   "outputs": [],
   "source": [
    "# AdmissionID can be used as an index, since all its values are unique\n",
    "# Furthemore, there is no predictive value in it since it is used as an admission identifier\n",
    "df_clean = df_clean.set_index('admission_id')"
   ]
  },
  {
   "cell_type": "markdown",
   "id": "962f6a6f",
   "metadata": {},
   "source": [
    "###### patient_id"
   ]
  },
  {
   "cell_type": "code",
   "execution_count": 10,
   "id": "b86b77e8",
   "metadata": {},
   "outputs": [
    {
     "data": {
      "text/plain": [
       "'12647 out of 60069 unique patients visited the Hospital more than once'"
      ]
     },
     "execution_count": 10,
     "metadata": {},
     "output_type": "execute_result"
    }
   ],
   "source": [
    "## PatientID is also an identifier, thus it does not have any predictive value.\n",
    "total_patients = df.patient_id.nunique()\n",
    "returning_patients = (df.groupby('patient_id').size() > 1).sum()\n",
    "\"{} out of {} unique patients visited the Hospital more than once\".format(returning_patients, total_patients)"
   ]
  },
  {
   "cell_type": "markdown",
   "id": "415f05a8",
   "metadata": {},
   "source": [
    "###### race"
   ]
  },
  {
   "cell_type": "code",
   "execution_count": 11,
   "id": "c09bed00",
   "metadata": {
    "scrolled": true
   },
   "outputs": [
    {
     "data": {
      "text/plain": [
       "race\n",
       "?                    1827\n",
       "AFRICANAMERICAN       156\n",
       "African American     3067\n",
       "AfricanAmerican      9209\n",
       "Afro American        1411\n",
       "Asian                 517\n",
       "Black                1545\n",
       "Caucasian           48733\n",
       "EURO                  587\n",
       "European             2491\n",
       "Hispanic             1305\n",
       "Latino                322\n",
       "Other                1180\n",
       "WHITE                3047\n",
       "White                6015\n",
       "dtype: int64"
      ]
     },
     "execution_count": 11,
     "metadata": {},
     "output_type": "execute_result"
    }
   ],
   "source": [
    "# There are duplicated categories, such as \n",
    "# * 'AFRICANAMERICAN'\n",
    "# * 'African American'\n",
    "# * 'AfricanAmerican'\n",
    "# * 'Afro American'\n",
    "# These must be merged into the same category\n",
    "\n",
    "# There are also unknown values, we should create a category for these\n",
    "\n",
    "df.groupby('race').size()"
   ]
  },
  {
   "cell_type": "code",
   "execution_count": 12,
   "id": "fd142366",
   "metadata": {},
   "outputs": [
    {
     "data": {
      "text/plain": [
       "0"
      ]
     },
     "execution_count": 12,
     "metadata": {},
     "output_type": "execute_result"
    }
   ],
   "source": [
    "df.race.isnull().sum()"
   ]
  },
  {
   "cell_type": "code",
   "execution_count": 13,
   "id": "ae3e97f1",
   "metadata": {},
   "outputs": [],
   "source": [
    "race_mapping = {\n",
    "    'caucasian': 'white',\n",
    "    'euro': 'white',\n",
    "    'black': 'black',\n",
    "    'other': 'other',\n",
    "    'white': 'white',\n",
    "    'africanamerican': 'black',\n",
    "    'afro american': 'black',\n",
    "    'african american': 'black',\n",
    "    '?': UNKNOWN_CATEGORY,\n",
    "    'european': 'white',\n",
    "    'asian': 'asian',\n",
    "    'hispanic': 'hispanic',\n",
    "    'latino': 'hispanic',\n",
    "}"
   ]
  },
  {
   "cell_type": "code",
   "execution_count": 14,
   "id": "1462cf47",
   "metadata": {},
   "outputs": [],
   "source": [
    "df_clean['race'] = df.race.apply(lambda x: get_categorical(x, race_mapping, \"unknown\")).astype(\"category\")"
   ]
  },
  {
   "cell_type": "markdown",
   "id": "dbdc6e40",
   "metadata": {},
   "source": [
    "###### gender"
   ]
  },
  {
   "cell_type": "code",
   "execution_count": 15,
   "id": "756ecf1b",
   "metadata": {},
   "outputs": [
    {
     "data": {
      "text/plain": [
       "gender\n",
       "Female             43719\n",
       "Male               37691\n",
       "Unknown/Invalid        2\n",
       "dtype: int64"
      ]
     },
     "execution_count": 15,
     "metadata": {},
     "output_type": "execute_result"
    }
   ],
   "source": [
    "df.groupby('gender').size()"
   ]
  },
  {
   "cell_type": "code",
   "execution_count": 16,
   "id": "7797f4b0",
   "metadata": {},
   "outputs": [
    {
     "data": {
      "text/plain": [
       "0"
      ]
     },
     "execution_count": 16,
     "metadata": {},
     "output_type": "execute_result"
    }
   ],
   "source": [
    "df.gender.isnull().sum()"
   ]
  },
  {
   "cell_type": "code",
   "execution_count": 17,
   "id": "5478f487",
   "metadata": {},
   "outputs": [],
   "source": [
    "gender_mapping = {\n",
    "    'female': 'femal',\n",
    "    'male': 'male',\n",
    "    'Unknown/Invalid': UNKNOWN_CATEGORY\n",
    "}"
   ]
  },
  {
   "cell_type": "code",
   "execution_count": 18,
   "id": "d412fecd",
   "metadata": {},
   "outputs": [],
   "source": [
    "df_clean['gender'] = df.gender.apply(lambda x: get_categorical(x, gender_mapping, \"unknown\")).astype(\"category\")"
   ]
  },
  {
   "cell_type": "markdown",
   "id": "ecb9f8b1",
   "metadata": {},
   "source": [
    "###### age"
   ]
  },
  {
   "cell_type": "code",
   "execution_count": 19,
   "id": "fdcd428c",
   "metadata": {},
   "outputs": [
    {
     "data": {
      "text/plain": [
       "age\n",
       "[0-10)        136\n",
       "[10-20)       537\n",
       "[20-30)      1297\n",
       "[30-40)      2964\n",
       "[40-50)      7498\n",
       "[50-60)     13414\n",
       "[60-70)     17414\n",
       "[70-80)     20261\n",
       "[80-90)     13383\n",
       "[90-100)     2172\n",
       "dtype: int64"
      ]
     },
     "execution_count": 19,
     "metadata": {},
     "output_type": "execute_result"
    }
   ],
   "source": [
    "df.groupby('age').size()"
   ]
  },
  {
   "cell_type": "code",
   "execution_count": 20,
   "id": "e2aed9c3",
   "metadata": {},
   "outputs": [
    {
     "data": {
      "text/plain": [
       "2336"
      ]
     },
     "execution_count": 20,
     "metadata": {},
     "output_type": "execute_result"
    }
   ],
   "source": [
    "df.age.isnull().sum()"
   ]
  },
  {
   "cell_type": "code",
   "execution_count": 21,
   "id": "9a12a562",
   "metadata": {},
   "outputs": [],
   "source": [
    "age_mapping = {\n",
    "    '[0-10)': 0,\n",
    "    '[10-20)': 10,\n",
    "    '[20-30)': 20,\n",
    "    '[30-40)': 30,\n",
    "    '[40-50)': 40,\n",
    "    '[50-60)': 50,\n",
    "    '[60-70)': 60,\n",
    "    '[70-80)': 70,\n",
    "    '[80-90)': 80,\n",
    "    '[90-100)': 90\n",
    "}"
   ]
  },
  {
   "cell_type": "code",
   "execution_count": 22,
   "id": "c1fed049",
   "metadata": {},
   "outputs": [],
   "source": [
    "df_clean['age'] = df.age.apply(lambda x: get_categorical(x, age_mapping, None)).astype(\"Int64\")"
   ]
  },
  {
   "cell_type": "code",
   "execution_count": 23,
   "id": "c6eb83df",
   "metadata": {},
   "outputs": [
    {
     "data": {
      "text/plain": [
       "age\n",
       "0       136\n",
       "10      537\n",
       "20     1297\n",
       "30     2964\n",
       "40     7498\n",
       "50    13414\n",
       "60    17414\n",
       "70    20261\n",
       "80    13383\n",
       "90     2172\n",
       "dtype: int64"
      ]
     },
     "execution_count": 23,
     "metadata": {},
     "output_type": "execute_result"
    }
   ],
   "source": [
    "df_clean.groupby('age').size()"
   ]
  },
  {
   "cell_type": "code",
   "execution_count": 24,
   "id": "0dc2dd46",
   "metadata": {},
   "outputs": [
    {
     "data": {
      "text/plain": [
       "2336"
      ]
     },
     "execution_count": 24,
     "metadata": {},
     "output_type": "execute_result"
    }
   ],
   "source": [
    "# There are still entries with null age entries\n",
    "# They should be inputed afterwards, depending on the chosen strategy\n",
    "df_clean.age.isnull().sum()"
   ]
  },
  {
   "cell_type": "markdown",
   "id": "d2310550",
   "metadata": {},
   "source": [
    "###### weight"
   ]
  },
  {
   "cell_type": "code",
   "execution_count": 25,
   "id": "4cb3aa79",
   "metadata": {},
   "outputs": [
    {
     "data": {
      "text/plain": [
       "weight\n",
       ">200             3\n",
       "?            77353\n",
       "[0-25)          40\n",
       "[100-125)      482\n",
       "[125-150)      117\n",
       "[150-175)       27\n",
       "[175-200)        8\n",
       "[25-50)         72\n",
       "[50-75)        713\n",
       "[75-100)      1037\n",
       "dtype: int64"
      ]
     },
     "execution_count": 25,
     "metadata": {},
     "output_type": "execute_result"
    }
   ],
   "source": [
    "# There are a lot of nulls/unknowns for the weight\n",
    "\n",
    "df.groupby('weight').size()"
   ]
  },
  {
   "cell_type": "code",
   "execution_count": 26,
   "id": "91b87dc1",
   "metadata": {},
   "outputs": [
    {
     "data": {
      "text/plain": [
       "'Only 4059 out of 81412 (4.99%) weight entries are known'"
      ]
     },
     "execution_count": 26,
     "metadata": {},
     "output_type": "execute_result"
    }
   ],
   "source": [
    "non_null_weight_count = (df.weight != '?').sum()\n",
    "\n",
    "\"Only {} out of {} ({}%) weight entries are known\".format(non_null_weight_count, df.shape[0], round(non_null_weight_count / df.shape[0] * 100, 2))\n"
   ]
  },
  {
   "cell_type": "code",
   "execution_count": 27,
   "id": "ca3743ba",
   "metadata": {},
   "outputs": [],
   "source": [
    "weight_mapping = {\n",
    "    '>200': 200,\n",
    "    '?': None,\n",
    "    '[0-25)': 0,\n",
    "    '[100-125)': 100,\n",
    "    '[125-150)': 125,\n",
    "    '[150-175)': 150,\n",
    "    '[175-200)': 175,\n",
    "    '[25-50)': 25,\n",
    "    '[50-75)': 50,\n",
    "    '[75-100)': 75\n",
    "}\n",
    "\n",
    "df_clean['weight'] = df.weight.apply(lambda x: get_categorical(x, weight_mapping, None)).astype(\"Int64\")\n",
    "\n",
    "# Since there are so little entries available, \n",
    "# Converting this column into a boolean stating if the weight is available or not\n",
    "df_clean['has_weight'] = df_clean.weight != '?'"
   ]
  },
  {
   "cell_type": "markdown",
   "id": "1afbddab",
   "metadata": {},
   "source": [
    "###### admission_type_code"
   ]
  },
  {
   "cell_type": "code",
   "execution_count": 28,
   "id": "43ddf11e",
   "metadata": {},
   "outputs": [
    {
     "data": {
      "text/plain": [
       "admission_type_code\n",
       "1.0    42562\n",
       "2.0    14576\n",
       "3.0    14884\n",
       "4.0        8\n",
       "5.0     3768\n",
       "6.0     4182\n",
       "7.0       16\n",
       "8.0      254\n",
       "dtype: int64"
      ]
     },
     "execution_count": 28,
     "metadata": {},
     "output_type": "execute_result"
    }
   ],
   "source": [
    "df.groupby('admission_type_code').size()"
   ]
  },
  {
   "cell_type": "code",
   "execution_count": 29,
   "id": "3f13b114",
   "metadata": {},
   "outputs": [
    {
     "data": {
      "text/plain": [
       "1162"
      ]
     },
     "execution_count": 29,
     "metadata": {},
     "output_type": "execute_result"
    }
   ],
   "source": [
    "df.admission_type_code.isnull().sum()"
   ]
  },
  {
   "cell_type": "code",
   "execution_count": 30,
   "id": "20092429",
   "metadata": {},
   "outputs": [],
   "source": [
    "admission_type_code_mapping = {\n",
    "    '1': 'Emergency',\n",
    "    '2': 'Emergency', # 'Urgent', Assuming, urgent is the same as emergency\n",
    "    '3': 'Elective',\n",
    "    '4': 'Newborn',\n",
    "    '5': UNKNOWN_CATEGORY, # 'Not Available',\n",
    "    '6': UNKNOWN_CATEGORY, # 'NULL'\n",
    "    '7': 'Trauma Center',\n",
    "    '8': UNKNOWN_CATEGORY # 'Not Mapped'\n",
    "}"
   ]
  },
  {
   "cell_type": "code",
   "execution_count": 31,
   "id": "a80abb21",
   "metadata": {},
   "outputs": [],
   "source": [
    "df_clean['admission_type_code'] = (df.admission_type_code\n",
    "                                   .fillna(6) # Fill nulls with NULL entry\n",
    "                                   .astype('int64')\n",
    "                                   .apply(lambda x: get_categorical(str(x), admission_type_code_mapping))\n",
    "                                   .astype(\"category\"))"
   ]
  },
  {
   "cell_type": "code",
   "execution_count": 32,
   "id": "37b1d4ce",
   "metadata": {},
   "outputs": [
    {
     "data": {
      "text/plain": [
       "admission_type_code\n",
       "Elective         14884\n",
       "Emergency        57138\n",
       "Newborn              8\n",
       "Trauma Center       16\n",
       "unknown           9366\n",
       "dtype: int64"
      ]
     },
     "execution_count": 32,
     "metadata": {},
     "output_type": "execute_result"
    }
   ],
   "source": [
    "df_clean.groupby('admission_type_code').size()"
   ]
  },
  {
   "cell_type": "markdown",
   "id": "6902bb46",
   "metadata": {},
   "source": [
    "###### discharge_disposition_code"
   ]
  },
  {
   "cell_type": "code",
   "execution_count": 33,
   "id": "8be88706",
   "metadata": {},
   "outputs": [
    {
     "data": {
      "text/plain": [
       "discharge_disposition_code\n",
       "1.0     47854\n",
       "2.0      1690\n",
       "3.0     11097\n",
       "4.0       650\n",
       "5.0       936\n",
       "6.0     10244\n",
       "7.0       506\n",
       "8.0        85\n",
       "9.0        18\n",
       "10.0        5\n",
       "11.0     1312\n",
       "12.0        2\n",
       "13.0      314\n",
       "14.0      294\n",
       "15.0       51\n",
       "16.0        7\n",
       "17.0       12\n",
       "18.0     2912\n",
       "19.0        5\n",
       "22.0     1580\n",
       "23.0      324\n",
       "24.0       40\n",
       "25.0      793\n",
       "27.0        4\n",
       "28.0      106\n",
       "dtype: int64"
      ]
     },
     "execution_count": 33,
     "metadata": {},
     "output_type": "execute_result"
    }
   ],
   "source": [
    "df.groupby('discharge_disposition_code').size()"
   ]
  },
  {
   "cell_type": "code",
   "execution_count": 34,
   "id": "35c77a82",
   "metadata": {},
   "outputs": [
    {
     "data": {
      "text/plain": [
       "571"
      ]
     },
     "execution_count": 34,
     "metadata": {},
     "output_type": "execute_result"
    }
   ],
   "source": [
    "df.discharge_disposition_code.isnull().sum()"
   ]
  },
  {
   "cell_type": "code",
   "execution_count": 35,
   "id": "76126aae",
   "metadata": {},
   "outputs": [],
   "source": [
    "discharge_disposition_code_mapping = {\n",
    "    '1': 'Discharged to home',\n",
    "    '2': 'Discharged/transferred to another short term hospital',\n",
    "    '3': 'Discharged/transferred to SNF',\n",
    "    '4': 'Discharged/transferred to ICF',\n",
    "    '5': 'Discharged/transferred to another type of inpatient care institution',\n",
    "    '6': 'Discharged/transferred to home with home health service',\n",
    "    '7': 'Left AMA',\n",
    "    '8': 'Discharged/transferred to home under care of Home IV provider',\n",
    "    '9': 'Admitted as an inpatient to this hospital',\n",
    "    '10': 'Neonate discharged to another hospital for neonatal aftercare',\n",
    "    '11': 'Expired',\n",
    "    '12': 'Still patient or expected to return for outpatient services',\n",
    "    '13': 'Hospice / home',\n",
    "    '14': 'Hospice / medical facility',\n",
    "    '15': 'Discharged/transferred within this institution to Medicare approved swing bed',\n",
    "    '16': 'Discharged/transferred/referred another institution for outpatient services',\n",
    "    '17': 'Discharged/transferred/referred to this institution for outpatient services',\n",
    "    '18': UNKNOWN_CATEGORY, #'NULL',\n",
    "    '19': 'Expired at home. Medicaid only: hospice',\n",
    "    '20': 'Expired in a medical facility. Medicaid only: hospice',\n",
    "    '21': 'Expired: place unknown. Medicaid only: hospice',\n",
    "    '22': 'Discharged/transferred to another rehab fac including rehab units of a hospital',\n",
    "    '23': 'Discharged/transferred to a long term care hospital',\n",
    "    '24': 'Discharged/transferred to a nursing facility certified under Medicaid but not certified under Medicare',\n",
    "    '25': UNKNOWN_CATEGORY, #'Not Mapped',\n",
    "    '26': UNKNOWN_CATEGORY, #'Unknown/Invalid',\n",
    "    '30': 'Discharged/transferred to another Type of Health Care Institution not Defined Elsewhere',\n",
    "    '27': 'Discharged/transferred to a federal health care facility',\n",
    "    '28': 'Discharged/transferred/referred to a psychiatric hospital of psychiatric distinct part unit of a hospital',\n",
    "    '29': 'Discharged/transferred to a Critical Access Hospital (CAH)',\n",
    "}"
   ]
  },
  {
   "cell_type": "code",
   "execution_count": 36,
   "id": "574d3b2b",
   "metadata": {},
   "outputs": [],
   "source": [
    "df_clean['discharge_disposition_code'] = (df.discharge_disposition_code\n",
    "                                          .fillna(26)\n",
    "                                          .astype('int64')\n",
    "                                          .apply(lambda x: get_categorical(str(x), discharge_disposition_code_mapping))\n",
    "                                          .astype(\"category\")\n",
    "                                         )"
   ]
  },
  {
   "cell_type": "markdown",
   "id": "7cf407c7",
   "metadata": {},
   "source": [
    "###### admission_source_code"
   ]
  },
  {
   "cell_type": "code",
   "execution_count": 37,
   "id": "4baabdfc",
   "metadata": {
    "scrolled": true
   },
   "outputs": [
    {
     "data": {
      "text/plain": [
       "admission_source_code\n",
       "1     23684\n",
       "2       878\n",
       "3       148\n",
       "4      2581\n",
       "5       681\n",
       "6      1819\n",
       "7     45942\n",
       "8        15\n",
       "9        99\n",
       "10        6\n",
       "11        2\n",
       "13        1\n",
       "14        2\n",
       "17     5412\n",
       "20      130\n",
       "22       10\n",
       "25        2\n",
       "dtype: int64"
      ]
     },
     "execution_count": 37,
     "metadata": {},
     "output_type": "execute_result"
    }
   ],
   "source": [
    "df.groupby('admission_source_code').size()"
   ]
  },
  {
   "cell_type": "code",
   "execution_count": 38,
   "id": "65e8c6ab",
   "metadata": {},
   "outputs": [],
   "source": [
    "admission_source_code_mapping = {\n",
    "    '1': 'Physician Referral',\n",
    "    '2': 'Clinic Referral',\n",
    "    '3': 'HMO Referral',\n",
    "    '4': 'Transfer from a hospital',\n",
    "    '5': 'Transfer from a Skilled Nursing Facility (SNF)',\n",
    "    '6': 'Transfer from another health care facility',\n",
    "    '7': 'Emergency Room',\n",
    "    '8': 'Court/Law Enforcement',\n",
    "    '9': UNKNOWN_CATEGORY, #'Not Available',\n",
    "    '10': 'Transfer from critial access hospital',\n",
    "    '11': 'Normal Delivery',\n",
    "    '12': 'Premature Delivery',\n",
    "    '13': 'Sick Baby',\n",
    "    '14': 'Extramural Birth',\n",
    "    '15': UNKNOWN_CATEGORY, # 'Not Available',\n",
    "    '17': UNKNOWN_CATEGORY, # 'NULL',\n",
    "    '18': 'Transfer From Another Home Health Agency',\n",
    "    '19': 'Readmission to Same Home Health Agency',\n",
    "    '20': UNKNOWN_CATEGORY, # 'Not Mapped',\n",
    "    '21': UNKNOWN_CATEGORY, #'Unknown/Invalid',\n",
    "    '22': 'Transfer from hospital inpt/same fac reslt in a sep claim',\n",
    "    '23': 'Born inside this hospital',\n",
    "    '24': 'Born outside this hospital',\n",
    "    '25': 'Transfer from Ambulatory Surgery Center',\n",
    "    '26': 'Transfer from Hospice',\n",
    "}\n"
   ]
  },
  {
   "cell_type": "code",
   "execution_count": 39,
   "id": "2729fa8f",
   "metadata": {},
   "outputs": [],
   "source": [
    "df_clean['admission_source_code'] = (df.admission_source_code\n",
    "                                     .apply(lambda x: get_categorical(str(x), admission_source_code_mapping))\n",
    "                                     .astype(\"category\")\n",
    "                                     )"
   ]
  },
  {
   "cell_type": "code",
   "execution_count": 40,
   "id": "68398530",
   "metadata": {},
   "outputs": [
    {
     "data": {
      "text/plain": [
       "admission_source_code\n",
       "Clinic Referral                                                878\n",
       "Court/Law Enforcement                                           15\n",
       "Emergency Room                                               45942\n",
       "Extramural Birth                                                 2\n",
       "HMO Referral                                                   148\n",
       "Normal Delivery                                                  2\n",
       "Physician Referral                                           23684\n",
       "Sick Baby                                                        1\n",
       "Transfer from Ambulatory Surgery Center                          2\n",
       "Transfer from a Skilled Nursing Facility (SNF)                 681\n",
       "Transfer from a hospital                                      2581\n",
       "Transfer from another health care facility                    1819\n",
       "Transfer from critial access hospital                            6\n",
       "Transfer from hospital inpt/same fac reslt in a sep claim       10\n",
       "unknown                                                       5641\n",
       "dtype: int64"
      ]
     },
     "execution_count": 40,
     "metadata": {},
     "output_type": "execute_result"
    }
   ],
   "source": [
    "df_clean.groupby('admission_source_code').size()"
   ]
  },
  {
   "cell_type": "markdown",
   "id": "407083dd",
   "metadata": {},
   "source": [
    "###### time_in_hospital"
   ]
  },
  {
   "cell_type": "code",
   "execution_count": 41,
   "id": "df1996a0",
   "metadata": {},
   "outputs": [
    {
     "data": {
      "text/plain": [
       "time_in_hospital\n",
       "1     11302\n",
       "2     13723\n",
       "3     14223\n",
       "4     11228\n",
       "5      7975\n",
       "6      6059\n",
       "7      4717\n",
       "8      3528\n",
       "9      2372\n",
       "10     1886\n",
       "11     1488\n",
       "12     1153\n",
       "13      944\n",
       "14      814\n",
       "dtype: int64"
      ]
     },
     "execution_count": 41,
     "metadata": {},
     "output_type": "execute_result"
    }
   ],
   "source": [
    "# Everything looks fine regarding this variable\n",
    "df.groupby('time_in_hospital').size()"
   ]
  },
  {
   "cell_type": "code",
   "execution_count": 42,
   "id": "b49399f5",
   "metadata": {},
   "outputs": [
    {
     "data": {
      "text/plain": [
       "0"
      ]
     },
     "execution_count": 42,
     "metadata": {},
     "output_type": "execute_result"
    }
   ],
   "source": [
    "df.time_in_hospital.isna().sum()"
   ]
  },
  {
   "cell_type": "markdown",
   "id": "8bbd14b6",
   "metadata": {},
   "source": [
    "###### payer_code"
   ]
  },
  {
   "cell_type": "code",
   "execution_count": 43,
   "id": "af56637e",
   "metadata": {},
   "outputs": [
    {
     "data": {
      "text/plain": [
       "payer_code\n",
       "?     32278\n",
       "BC     3718\n",
       "CH      124\n",
       "CM     1551\n",
       "CP     2053\n",
       "DM      442\n",
       "FR        1\n",
       "HM     4973\n",
       "MC    25952\n",
       "MD     2824\n",
       "MP       69\n",
       "OG      795\n",
       "OT       80\n",
       "PO      469\n",
       "SI       47\n",
       "SP     4003\n",
       "UN     1925\n",
       "WC      108\n",
       "dtype: int64"
      ]
     },
     "execution_count": 43,
     "metadata": {},
     "output_type": "execute_result"
    }
   ],
   "source": [
    "df.groupby('payer_code').size()"
   ]
  },
  {
   "cell_type": "code",
   "execution_count": 44,
   "id": "28ed4a65",
   "metadata": {},
   "outputs": [
    {
     "data": {
      "text/plain": [
       "0"
      ]
     },
     "execution_count": 44,
     "metadata": {},
     "output_type": "execute_result"
    }
   ],
   "source": [
    "df.payer_code.isnull().sum()"
   ]
  },
  {
   "cell_type": "code",
   "execution_count": 45,
   "id": "8e0f7bee",
   "metadata": {},
   "outputs": [],
   "source": [
    "df_clean['payer_code'] = (df.payer_code\n",
    "                         .apply(lambda x: UNKNOWN_CATEGORY if x == '?' else x)\n",
    "                         .astype(\"category\")\n",
    "                         )"
   ]
  },
  {
   "cell_type": "markdown",
   "id": "9023be8a",
   "metadata": {},
   "source": [
    "###### medical_specialty"
   ]
  },
  {
   "cell_type": "code",
   "execution_count": 46,
   "id": "1350cbe8",
   "metadata": {},
   "outputs": [
    {
     "data": {
      "text/plain": [
       "array(['?', 'Emergency/Trauma', 'InternalMedicine',\n",
       "       'Family/GeneralPractice', 'Radiologist', 'Orthopedics',\n",
       "       'Cardiology', 'PhysicalMedicineandRehabilitation',\n",
       "       'Orthopedics-Reconstructive', 'Psychiatry', 'Surgery-Thoracic',\n",
       "       'Surgery-Vascular', 'Hematology/Oncology', 'Osteopath',\n",
       "       'ObstetricsandGynecology', 'Pediatrics', 'Nephrology',\n",
       "       'Otolaryngology', 'Urology', 'Surgery-General',\n",
       "       'Anesthesiology-Pediatric', 'Surgery-Cardiovascular/Thoracic',\n",
       "       'Gastroenterology', 'Pulmonology', 'Oncology', 'Podiatry',\n",
       "       'Surgery-Neuro', 'Pediatrics-Endocrinology', 'Neurology',\n",
       "       'Obstetrics', 'Endocrinology', 'PhysicianNotFound', 'Hospitalist',\n",
       "       'Pathology', 'Surgery-Pediatric', 'Radiology', 'Surgery-Plastic',\n",
       "       'Pediatrics-CriticalCare', 'Psychology',\n",
       "       'Psychiatry-Child/Adolescent', 'Ophthalmology',\n",
       "       'Surgery-Cardiovascular', 'Pediatrics-Pulmonology', 'DCPTEAM',\n",
       "       'Obsterics&Gynecology-GynecologicOnco', 'Surgeon',\n",
       "       'Pediatrics-EmergencyMedicine', 'Hematology',\n",
       "       'AllergyandImmunology', 'SurgicalSpecialty', 'OutreachServices',\n",
       "       'Rheumatology', 'Dentistry', 'Gynecology', 'InfectiousDiseases',\n",
       "       'Anesthesiology', 'Surgery-Colon&Rectal', 'Pediatrics-Neurology',\n",
       "       'Perinatology', 'Neurophysiology', 'Psychiatry-Addictive',\n",
       "       'Dermatology', 'Proctology', 'Cardiology-Pediatric', 'Speech',\n",
       "       'Resident', 'Endocrinology-Metabolism', 'Surgery-Maxillofacial',\n",
       "       'Pediatrics-AllergyandImmunology',\n",
       "       'Pediatrics-Hematology-Oncology', 'SportsMedicine'], dtype=object)"
      ]
     },
     "execution_count": 46,
     "metadata": {},
     "output_type": "execute_result"
    }
   ],
   "source": [
    "df.medical_specialty.unique()"
   ]
  },
  {
   "cell_type": "code",
   "execution_count": 47,
   "id": "e60ff3da",
   "metadata": {},
   "outputs": [],
   "source": [
    "df_clean['medical_specialty'] = (df.medical_specialty\n",
    "                                 .apply(lambda x: UNKNOWN_CATEGORY if x == '?' else x)\n",
    "                                 .astype(\"category\")\n",
    "                                 )"
   ]
  },
  {
   "cell_type": "markdown",
   "id": "19b61c91",
   "metadata": {},
   "source": [
    "###### has_prosthesis"
   ]
  },
  {
   "cell_type": "code",
   "execution_count": 48,
   "id": "b092297b",
   "metadata": {},
   "outputs": [],
   "source": [
    "df_clean['medical_specialty'] = (df.medical_specialty\n",
    "                                 .apply(lambda x: True if x.lower() == 'true' else False)\n",
    "                                 .astype(\"bool\")\n",
    "                                 )"
   ]
  },
  {
   "cell_type": "markdown",
   "id": "9f1b52ed",
   "metadata": {},
   "source": [
    "###### complete_vaccination_status"
   ]
  },
  {
   "cell_type": "code",
   "execution_count": 49,
   "id": "a898c194",
   "metadata": {},
   "outputs": [
    {
     "data": {
      "text/plain": [
       "complete_vaccination_status\n",
       "Complete      67114\n",
       "Incomplete    13978\n",
       "None            320\n",
       "dtype: int64"
      ]
     },
     "execution_count": 49,
     "metadata": {},
     "output_type": "execute_result"
    }
   ],
   "source": [
    "df.groupby('complete_vaccination_status').size()"
   ]
  },
  {
   "cell_type": "code",
   "execution_count": 50,
   "id": "21987f85",
   "metadata": {},
   "outputs": [
    {
     "data": {
      "text/plain": [
       "0"
      ]
     },
     "execution_count": 50,
     "metadata": {},
     "output_type": "execute_result"
    }
   ],
   "source": [
    "df.complete_vaccination_status.isnull().sum()"
   ]
  },
  {
   "cell_type": "code",
   "execution_count": 51,
   "id": "79b8a76a",
   "metadata": {},
   "outputs": [],
   "source": [
    "complete_vaccination_status_mapping = {\n",
    "    'none': 'none',\n",
    "    'incomplete': 'incomplete',\n",
    "    'complete': 'complete'\n",
    "}"
   ]
  },
  {
   "cell_type": "code",
   "execution_count": 52,
   "id": "f0bbeff7",
   "metadata": {},
   "outputs": [],
   "source": [
    "df_clean['complete_vaccination_status'] = (df.complete_vaccination_status\n",
    "                                           .apply(lambda x: get_categorical(x, complete_vaccination_status_mapping))\n",
    "                                           .astype(pd.CategoricalDtype(['none', 'incomplete', 'complete'], ordered=True))\n",
    "                                          )"
   ]
  },
  {
   "cell_type": "markdown",
   "id": "ab75c91c",
   "metadata": {},
   "source": [
    "###### num_lab_procedures"
   ]
  },
  {
   "cell_type": "code",
   "execution_count": 53,
   "id": "56f0344f",
   "metadata": {},
   "outputs": [],
   "source": [
    "df_clean['num_lab_procedures'] = df.num_lab_procedures.astype(\"Int64\")"
   ]
  },
  {
   "cell_type": "markdown",
   "id": "284d4b7c",
   "metadata": {},
   "source": [
    "###### num_procedures"
   ]
  },
  {
   "cell_type": "code",
   "execution_count": 54,
   "id": "acc1f2b3",
   "metadata": {},
   "outputs": [
    {
     "data": {
      "text/plain": [
       "0"
      ]
     },
     "execution_count": 54,
     "metadata": {},
     "output_type": "execute_result"
    }
   ],
   "source": [
    "# There are no null values, no pre processing is required\n",
    "df.num_procedures.isnull().sum()"
   ]
  },
  {
   "cell_type": "markdown",
   "id": "2e4b54a1",
   "metadata": {},
   "source": [
    "###### num_medications"
   ]
  },
  {
   "cell_type": "code",
   "execution_count": 55,
   "id": "61dc7145",
   "metadata": {},
   "outputs": [
    {
     "data": {
      "text/plain": [
       "2678"
      ]
     },
     "execution_count": 55,
     "metadata": {},
     "output_type": "execute_result"
    }
   ],
   "source": [
    "df.num_medications.isnull().sum()"
   ]
  },
  {
   "cell_type": "code",
   "execution_count": 56,
   "id": "2025c417",
   "metadata": {},
   "outputs": [],
   "source": [
    "df_clean['num_medications'] = df.num_medications.astype(\"Int64\")"
   ]
  },
  {
   "cell_type": "markdown",
   "id": "4a1942b2",
   "metadata": {},
   "source": [
    "###### number_outpatient"
   ]
  },
  {
   "cell_type": "code",
   "execution_count": 57,
   "id": "3dad3e2d",
   "metadata": {},
   "outputs": [
    {
     "data": {
      "text/plain": [
       "0"
      ]
     },
     "execution_count": 57,
     "metadata": {},
     "output_type": "execute_result"
    }
   ],
   "source": [
    "# Outpatient - A patient whose treatment does not require an overnight stay in a hospital or clinic.\n",
    "# There are no null values, no pre processing is required\n",
    "df.number_outpatient.isnull().sum()"
   ]
  },
  {
   "cell_type": "markdown",
   "id": "596eed92",
   "metadata": {},
   "source": [
    "###### number_emergency"
   ]
  },
  {
   "cell_type": "code",
   "execution_count": 58,
   "id": "dc8c0640",
   "metadata": {},
   "outputs": [
    {
     "data": {
      "text/plain": [
       "0"
      ]
     },
     "execution_count": 58,
     "metadata": {},
     "output_type": "execute_result"
    }
   ],
   "source": [
    "# There are no null values, no pre processing is required\n",
    "df.number_emergency.isnull().sum()"
   ]
  },
  {
   "cell_type": "markdown",
   "id": "ffbfda45",
   "metadata": {},
   "source": [
    "###### number_inpatient"
   ]
  },
  {
   "cell_type": "code",
   "execution_count": 59,
   "id": "2966e11d",
   "metadata": {},
   "outputs": [
    {
     "data": {
      "text/plain": [
       "0"
      ]
     },
     "execution_count": 59,
     "metadata": {},
     "output_type": "execute_result"
    }
   ],
   "source": [
    "# There are no null values, no pre processing is required\n",
    "df.number_inpatient.isnull().sum()"
   ]
  },
  {
   "cell_type": "markdown",
   "id": "88de8003",
   "metadata": {},
   "source": [
    "###### diag_1, diag_2, diag_3"
   ]
  },
  {
   "cell_type": "code",
   "execution_count": 60,
   "id": "d5154ce2",
   "metadata": {
    "scrolled": true
   },
   "outputs": [],
   "source": [
    "# Maybe we could merge the codes into their categories from:\n",
    "# https://en.wikipedia.org/wiki/List_of_ICD-9_codes\n",
    "\n",
    "unique_diags = df.diag_1.append(df.diag_2).append(df.diag_3).str.lower().unique()\n",
    "\n",
    "diag_mapping = {}\n",
    "for diag in unique_diags:\n",
    "    diag_mapping[str(diag).lower()] = diag\n",
    "\n",
    "diag_category = pd.CategoricalDtype(list(diag_mapping.keys()), ordered=False)"
   ]
  },
  {
   "cell_type": "code",
   "execution_count": 61,
   "id": "ff570f23",
   "metadata": {},
   "outputs": [],
   "source": [
    "df_clean['diag_1'] = (df.diag_1\n",
    "                      .apply(lambda x: get_categorical(str(x), diag_mapping))\n",
    "                      .astype(diag_category)\n",
    "                     )\n",
    "\n",
    "df_clean['diag_2'] = (df.diag_2\n",
    "                      .apply(lambda x: get_categorical(str(x), diag_mapping))\n",
    "                      .astype(diag_category)\n",
    "                     )\n",
    "\n",
    "df_clean['diag_3'] = (df.diag_3\n",
    "                      .apply(lambda x: get_categorical(str(x), diag_mapping))\n",
    "                      .astype(diag_category)\n",
    "                     )"
   ]
  },
  {
   "cell_type": "markdown",
   "id": "34d2a593",
   "metadata": {},
   "source": [
    "###### number_diagnoses"
   ]
  },
  {
   "cell_type": "code",
   "execution_count": 62,
   "id": "cd50f032",
   "metadata": {},
   "outputs": [
    {
     "data": {
      "text/plain": [
       "0"
      ]
     },
     "execution_count": 62,
     "metadata": {},
     "output_type": "execute_result"
    }
   ],
   "source": [
    "# There are no null values, no pre processing is required\n",
    "df.number_diagnoses.isnull().sum()"
   ]
  },
  {
   "cell_type": "markdown",
   "id": "439814f3",
   "metadata": {},
   "source": [
    "###### blood_type"
   ]
  },
  {
   "cell_type": "code",
   "execution_count": 63,
   "id": "82968c64",
   "metadata": {},
   "outputs": [
    {
     "data": {
      "text/plain": [
       "blood_type\n",
       "A+     24744\n",
       "A-      4826\n",
       "AB+     2619\n",
       "AB-      779\n",
       "B+      9218\n",
       "B-      1484\n",
       "O+     32053\n",
       "O-      5689\n",
       "dtype: int64"
      ]
     },
     "execution_count": 63,
     "metadata": {},
     "output_type": "execute_result"
    }
   ],
   "source": [
    "df.groupby('blood_type').size()"
   ]
  },
  {
   "cell_type": "code",
   "execution_count": 64,
   "id": "c560d655",
   "metadata": {},
   "outputs": [],
   "source": [
    "blood_type_mapping = {\n",
    "    'a+': 'A+',\n",
    "    'a-': 'A-',\n",
    "    'ab+': 'AB+',\n",
    "    'ab-': 'AB-',\n",
    "    'b+': 'B+',\n",
    "    'b-': 'B-',\n",
    "    'o+': 'O+',\n",
    "    'o-': 'O-',\n",
    "}"
   ]
  },
  {
   "cell_type": "code",
   "execution_count": 65,
   "id": "ae10b7bd",
   "metadata": {},
   "outputs": [],
   "source": [
    "df_clean['blood_type'] = (df.blood_type\n",
    "                          .apply(lambda x: get_categorical(x, blood_type_mapping))\n",
    "                          .astype(\"category\")\n",
    "                         )"
   ]
  },
  {
   "cell_type": "markdown",
   "id": "f338e069",
   "metadata": {},
   "source": [
    "###### hemoglobin_level"
   ]
  },
  {
   "cell_type": "code",
   "execution_count": 66,
   "id": "78e3ec62",
   "metadata": {},
   "outputs": [
    {
     "data": {
      "text/plain": [
       "hemoglobin_level\n",
       "10.5    2\n",
       "10.8    2\n",
       "10.9    3\n",
       "11.0    5\n",
       "11.1    3\n",
       "       ..\n",
       "17.9    2\n",
       "18.0    1\n",
       "18.1    2\n",
       "18.2    2\n",
       "18.6    1\n",
       "Length: 77, dtype: int64"
      ]
     },
     "execution_count": 66,
     "metadata": {},
     "output_type": "execute_result"
    }
   ],
   "source": [
    "df.groupby('hemoglobin_level').size()"
   ]
  },
  {
   "cell_type": "code",
   "execution_count": 67,
   "id": "50ecd668",
   "metadata": {},
   "outputs": [
    {
     "data": {
      "text/plain": [
       "0"
      ]
     },
     "execution_count": 67,
     "metadata": {},
     "output_type": "execute_result"
    }
   ],
   "source": [
    "df.hemoglobin_level.isnull().sum()"
   ]
  },
  {
   "cell_type": "markdown",
   "id": "8f40b984",
   "metadata": {},
   "source": [
    "###### blood_transfusion"
   ]
  },
  {
   "cell_type": "code",
   "execution_count": 68,
   "id": "8720e262",
   "metadata": {},
   "outputs": [
    {
     "data": {
      "text/plain": [
       "0"
      ]
     },
     "execution_count": 68,
     "metadata": {},
     "output_type": "execute_result"
    }
   ],
   "source": [
    "df.blood_transfusion.isnull().sum()"
   ]
  },
  {
   "cell_type": "code",
   "execution_count": 69,
   "id": "72a7e577",
   "metadata": {},
   "outputs": [
    {
     "data": {
      "text/plain": [
       "blood_transfusion\n",
       "False    71697\n",
       "True      9715\n",
       "dtype: int64"
      ]
     },
     "execution_count": 69,
     "metadata": {},
     "output_type": "execute_result"
    }
   ],
   "source": [
    "df.groupby('blood_transfusion').size()"
   ]
  },
  {
   "cell_type": "code",
   "execution_count": 70,
   "id": "3a02bc06",
   "metadata": {},
   "outputs": [],
   "source": [
    "df_clean['blood_transfusion'] = (df.blood_transfusion == True)"
   ]
  },
  {
   "cell_type": "markdown",
   "id": "224bd463",
   "metadata": {},
   "source": [
    "###### max_glu_serum"
   ]
  },
  {
   "cell_type": "code",
   "execution_count": 71,
   "id": "39910e88",
   "metadata": {},
   "outputs": [
    {
     "data": {
      "text/plain": [
       "max_glu_serum\n",
       ">200     1179\n",
       ">300     1025\n",
       "NONE    23098\n",
       "NORM      842\n",
       "None    54061\n",
       "Norm     1207\n",
       "dtype: int64"
      ]
     },
     "execution_count": 71,
     "metadata": {},
     "output_type": "execute_result"
    }
   ],
   "source": [
    "# If your blood glucose level is 70 to 99* mg/dL (3.9 to 5.5 mmol/L) Your glucose level is within the normal range\n",
    "\n",
    "df.groupby('max_glu_serum').size()"
   ]
  },
  {
   "cell_type": "code",
   "execution_count": 72,
   "id": "0364ed6a",
   "metadata": {},
   "outputs": [],
   "source": [
    "max_glu_serum_mapping = {\n",
    "    '>200': '>200',\n",
    "    '>300': '>300',\n",
    "    'norm': 'normal',\n",
    "    'none': 'none'\n",
    "}"
   ]
  },
  {
   "cell_type": "code",
   "execution_count": 73,
   "id": "ac1b4089",
   "metadata": {},
   "outputs": [],
   "source": [
    "df_clean['max_glu_serum'] = (df.max_glu_serum\n",
    "                          .apply(lambda x: get_categorical(x, max_glu_serum_mapping))\n",
    "                          .astype(\"category\")\n",
    "                         )"
   ]
  },
  {
   "cell_type": "markdown",
   "id": "36e1de41",
   "metadata": {},
   "source": [
    "###### A1Cresult"
   ]
  },
  {
   "cell_type": "code",
   "execution_count": 74,
   "id": "343267b5",
   "metadata": {},
   "outputs": [
    {
     "data": {
      "text/plain": [
       "A1Cresult\n",
       ">7       3055\n",
       ">8       6547\n",
       "None    67807\n",
       "Norm     4003\n",
       "dtype: int64"
      ]
     },
     "execution_count": 74,
     "metadata": {},
     "output_type": "execute_result"
    }
   ],
   "source": [
    "df.groupby('A1Cresult').size()"
   ]
  },
  {
   "cell_type": "code",
   "execution_count": 75,
   "id": "7fd1d7f4",
   "metadata": {},
   "outputs": [
    {
     "data": {
      "text/plain": [
       "0"
      ]
     },
     "execution_count": 75,
     "metadata": {},
     "output_type": "execute_result"
    }
   ],
   "source": [
    "df.A1Cresult.isnull().sum()"
   ]
  },
  {
   "cell_type": "code",
   "execution_count": 76,
   "id": "2266fa1b",
   "metadata": {},
   "outputs": [],
   "source": [
    "a1c_result_mapping = {\n",
    "    '>7': '>7',\n",
    "    '>8': '>8',\n",
    "    'norm': 'normal',\n",
    "    'none': 'none'\n",
    "}"
   ]
  },
  {
   "cell_type": "code",
   "execution_count": 77,
   "id": "fd6d7d7b",
   "metadata": {},
   "outputs": [],
   "source": [
    "df_clean['A1Cresult'] = (df.A1Cresult\n",
    "                          .apply(lambda x: get_categorical(x, a1c_result_mapping))\n",
    "                          .astype(\"category\")\n",
    "                         )"
   ]
  },
  {
   "cell_type": "code",
   "execution_count": 78,
   "id": "76772908",
   "metadata": {},
   "outputs": [
    {
     "data": {
      "text/plain": [
       "A1Cresult\n",
       ">7         3055\n",
       ">8         6547\n",
       "none      67807\n",
       "normal     4003\n",
       "dtype: int64"
      ]
     },
     "execution_count": 78,
     "metadata": {},
     "output_type": "execute_result"
    }
   ],
   "source": [
    "df_clean.groupby('A1Cresult').size()"
   ]
  },
  {
   "cell_type": "markdown",
   "id": "ccd0a983",
   "metadata": {},
   "source": [
    "###### diuretics"
   ]
  },
  {
   "cell_type": "code",
   "execution_count": 79,
   "id": "2d75b1cf",
   "metadata": {},
   "outputs": [
    {
     "data": {
      "text/plain": [
       "diuretics\n",
       "No     79893\n",
       "Yes     1519\n",
       "dtype: int64"
      ]
     },
     "execution_count": 79,
     "metadata": {},
     "output_type": "execute_result"
    }
   ],
   "source": [
    "df.groupby('diuretics').size()"
   ]
  },
  {
   "cell_type": "code",
   "execution_count": 86,
   "id": "04ec0c67",
   "metadata": {},
   "outputs": [
    {
     "data": {
      "text/plain": [
       "0"
      ]
     },
     "execution_count": 86,
     "metadata": {},
     "output_type": "execute_result"
    }
   ],
   "source": [
    "df.diuretics.isnull().sum()"
   ]
  },
  {
   "cell_type": "code",
   "execution_count": 82,
   "id": "f8f0cc5e",
   "metadata": {},
   "outputs": [],
   "source": [
    "df_clean['diuretics'] = df.diuretics == 'Yes'"
   ]
  },
  {
   "cell_type": "markdown",
   "id": "10e611ed",
   "metadata": {},
   "source": [
    "###### insulin"
   ]
  },
  {
   "cell_type": "code",
   "execution_count": 85,
   "id": "0ab71198",
   "metadata": {},
   "outputs": [
    {
     "data": {
      "text/plain": [
       "insulin\n",
       "No     37052\n",
       "Yes    44360\n",
       "dtype: int64"
      ]
     },
     "execution_count": 85,
     "metadata": {},
     "output_type": "execute_result"
    }
   ],
   "source": [
    "df.groupby('insulin').size()"
   ]
  },
  {
   "cell_type": "code",
   "execution_count": 87,
   "id": "157449b5",
   "metadata": {},
   "outputs": [
    {
     "data": {
      "text/plain": [
       "0"
      ]
     },
     "execution_count": 87,
     "metadata": {},
     "output_type": "execute_result"
    }
   ],
   "source": [
    "df.insulin.isnull().sum()"
   ]
  },
  {
   "cell_type": "code",
   "execution_count": 90,
   "id": "05dc11b4",
   "metadata": {},
   "outputs": [],
   "source": [
    "df_clean['insulin'] = df.insulin == 'Yes'"
   ]
  },
  {
   "cell_type": "markdown",
   "id": "1014eb9e",
   "metadata": {},
   "source": [
    "###### change"
   ]
  },
  {
   "cell_type": "code",
   "execution_count": 94,
   "id": "f58ee44a",
   "metadata": {},
   "outputs": [
    {
     "data": {
      "text/plain": [
       "change\n",
       "Ch    37640\n",
       "No    43772\n",
       "dtype: int64"
      ]
     },
     "execution_count": 94,
     "metadata": {},
     "output_type": "execute_result"
    }
   ],
   "source": [
    "df.groupby('change').size()"
   ]
  },
  {
   "cell_type": "code",
   "execution_count": 95,
   "id": "78c01aa3",
   "metadata": {},
   "outputs": [
    {
     "data": {
      "text/plain": [
       "0"
      ]
     },
     "execution_count": 95,
     "metadata": {},
     "output_type": "execute_result"
    }
   ],
   "source": [
    "df.change.isnull().sum()"
   ]
  },
  {
   "cell_type": "code",
   "execution_count": 96,
   "id": "fe4e8a21",
   "metadata": {},
   "outputs": [],
   "source": [
    "df_clean['change'] = df.change == 'Ch'"
   ]
  },
  {
   "cell_type": "markdown",
   "id": "17364fa8",
   "metadata": {},
   "source": [
    "###### diabetesMed"
   ]
  },
  {
   "cell_type": "code",
   "execution_count": 98,
   "id": "9bb48c3b",
   "metadata": {},
   "outputs": [
    {
     "data": {
      "text/plain": [
       "diabetesMed\n",
       "No     18694\n",
       "Yes    62718\n",
       "dtype: int64"
      ]
     },
     "execution_count": 98,
     "metadata": {},
     "output_type": "execute_result"
    }
   ],
   "source": [
    "df.groupby('diabetesMed').size()"
   ]
  },
  {
   "cell_type": "code",
   "execution_count": 99,
   "id": "5b6ed8b3",
   "metadata": {},
   "outputs": [
    {
     "data": {
      "text/plain": [
       "0"
      ]
     },
     "execution_count": 99,
     "metadata": {},
     "output_type": "execute_result"
    }
   ],
   "source": [
    "df.diabetesMed.isnull().sum()"
   ]
  },
  {
   "cell_type": "code",
   "execution_count": 100,
   "id": "ee0c66e9",
   "metadata": {},
   "outputs": [],
   "source": [
    "df_clean['diabetesMed'] = df.diabetesMed == 'Yes'"
   ]
  },
  {
   "cell_type": "markdown",
   "id": "ff3e354c",
   "metadata": {},
   "source": [
    "###### readmitted"
   ]
  },
  {
   "cell_type": "code",
   "execution_count": 102,
   "id": "4b9c33ad",
   "metadata": {},
   "outputs": [
    {
     "data": {
      "text/plain": [
       "readmitted\n",
       "No     72340\n",
       "Yes     9072\n",
       "dtype: int64"
      ]
     },
     "execution_count": 102,
     "metadata": {},
     "output_type": "execute_result"
    }
   ],
   "source": [
    "df.groupby('readmitted').size()"
   ]
  },
  {
   "cell_type": "code",
   "execution_count": 103,
   "id": "c2adf9be",
   "metadata": {},
   "outputs": [
    {
     "data": {
      "text/plain": [
       "0"
      ]
     },
     "execution_count": 103,
     "metadata": {},
     "output_type": "execute_result"
    }
   ],
   "source": [
    "df.readmitted.isnull().sum()"
   ]
  },
  {
   "cell_type": "code",
   "execution_count": 104,
   "id": "71b8d9b2",
   "metadata": {},
   "outputs": [],
   "source": [
    "df_clean['readmitted'] = df.readmitted == 'Yes'"
   ]
  },
  {
   "cell_type": "code",
   "execution_count": 105,
   "id": "45436282",
   "metadata": {},
   "outputs": [
    {
     "data": {
      "text/plain": [
       "readmitted\n",
       "False    72340\n",
       "True      9072\n",
       "dtype: int64"
      ]
     },
     "execution_count": 105,
     "metadata": {},
     "output_type": "execute_result"
    }
   ],
   "source": [
    "df_clean.groupby('readmitted').size()"
   ]
  },
  {
   "cell_type": "code",
   "execution_count": null,
   "id": "a946f7c5",
   "metadata": {},
   "outputs": [],
   "source": [
    "## Imbalance data\n",
    "9072 / 81412"
   ]
  },
  {
   "cell_type": "code",
   "execution_count": 106,
   "id": "d24ba3b4",
   "metadata": {},
   "outputs": [
    {
     "data": {
      "text/plain": [
       "patient_id                        int64\n",
       "race                           category\n",
       "gender                         category\n",
       "age                               Int64\n",
       "weight                            Int64\n",
       "admission_type_code            category\n",
       "discharge_disposition_code     category\n",
       "admission_source_code          category\n",
       "time_in_hospital                  int64\n",
       "payer_code                     category\n",
       "medical_specialty                  bool\n",
       "has_prosthesis                     bool\n",
       "complete_vaccination_status    category\n",
       "num_lab_procedures                Int64\n",
       "num_procedures                    int64\n",
       "num_medications                   Int64\n",
       "number_outpatient                 int64\n",
       "number_emergency                  int64\n",
       "number_inpatient                  int64\n",
       "diag_1                         category\n",
       "diag_2                         category\n",
       "diag_3                         category\n",
       "number_diagnoses                  int64\n",
       "blood_type                     category\n",
       "hemoglobin_level                float64\n",
       "blood_transfusion                  bool\n",
       "max_glu_serum                  category\n",
       "A1Cresult                      category\n",
       "diuretics                          bool\n",
       "insulin                            bool\n",
       "change                             bool\n",
       "diabetesMed                        bool\n",
       "readmitted                         bool\n",
       "has_weight                      boolean\n",
       "dtype: object"
      ]
     },
     "execution_count": 106,
     "metadata": {},
     "output_type": "execute_result"
    }
   ],
   "source": [
    "df_clean.dtypes"
   ]
  },
  {
   "cell_type": "markdown",
   "id": "da96bf8d",
   "metadata": {},
   "source": [
    "| Section  | Subsection  | Reader  | Description | Expected # of pages (approx) |\n",
    "| ---  | ---  | ---  | --- | --- |\n",
    "| 1. Business Conclusions | 1.1 Summary  | Business + Technical | How well were you able to meet the performance and all requirements that you outlined in report 1 | 1 |\n",
    "| 2. Results Analysis | 2.1 Model Performance | Technical  | Based upon the performance that you expected and reported in report #1, how did you do on the observations for which you know the outcome. | 2 |\n",
    "|  | 2.2 Success on requirements  | Technical  | Based upon the requirements that you identified in report 1, how did the new population and your model behave compared to what you reported and expected. | 2 |\n",
    "|  | 2.3 Population Analysis | Technical  | Did the population change much from what you saw when you trained the model and did report 1 on. | 2 |\n",
    "| 3. Next Steps | 3.1 Next Steps | Business + Technical | Talk about known things that you could implement to clearly make improvements as well as more exploratory tasks about how to move forward or even reframe the problem in a way that is best for the client. | 1 |\n",
    "| 4. Deployment Issues | 4.1 Re-deployment | Technical  | Did you voluntarily re-deploy for any reason at all? Explain and justify. | 0-1 |\n",
    "|  | 4.2 Unexpected problems | Technical  | Unexpected problems encountered during deployment. Did it crash? Did you get unexpected data? Were there things about the production environment that was suprising? This and more. | 1 |\n",
    "|  | 4.3 What would you do differently next time | Technical  | Explain the learnings and what should be improved  | 0.5 |"
   ]
  },
  {
   "cell_type": "markdown",
   "id": "c9a10658",
   "metadata": {},
   "source": [
    "*This is the main document for the Capstone, everything links from here*\n",
    "\n",
    "Batch 5 - Capstone - instructions\n",
    "\n",
    "[Overview](#overview)\n",
    "\n",
    "[Timeline](#timeline)\n",
    "\n",
    "[Activities](#activities)\n",
    "\n",
    "[Sending an email to your client](#sending-an-email-to-your-client)\n",
    "\n",
    "[Understanding the data you'll receive](#understanding-the-data-you'll-receive)\n",
    "\n",
    "[How to deliver the first report](#how-to-deliver-the-first-report)\n",
    "\n",
    "[How to deliver your code](#how-to-deliver-your-code)\n",
    "\n",
    "[Success Criteria](#success-criteria)\n",
    "\n",
    "[Report tecnhical details](#report-technical-details)\n",
    "\n",
    "[Hints and advice](#hints-and-advice)\n",
    "\n",
    "\n",
    "# Overview\n",
    "In the capstone, we’re not going to treat you as a student. You will be treated as an employee.\n",
    "\n",
    "The scenario is this: you’ve been hired by a consulting firm, and have just had the first [exchange of emails](https://docs.google.com/document/d/16FF6I4Q5jPqufDoi8HK1309ru3KZa1_ydUFNS-cvU94/edit?usp=sharing) with your new boss. You already know you have 3 deliverables:\n",
    "\n",
    "- The analysis report\n",
    "- An API endpoint\n",
    "- The deployment retrospective report\n",
    "\n",
    "In order to simulate a real-world scenario, the requirements may be ambiguous. A big part of your job as a data scientist in the real world will be turning business requirements into clear-cut data science requirements. In this specialization, the starting point is the emails. You will have to send a clarification email to your client with any follow-up questions to fully understand what you need to do.\n",
    "\n",
    "Once you feel comfortable enough that you understand what is required of you, you produce the report, API endpoint, deal with the data as it comes, and then produce the second report.\n",
    "\n",
    "\n",
    "# Timeline\n",
    "[This calendar](https://ldssa.github.io/wiki/Starters%20Academy%20\\(LDSSA\\)/05-Capstone-Project/) is the source of truth for all dates. It is the full timeline. The upshot for the timeline is as follows:\n",
    "\n",
    "- Week 1 is for understanding the dataset and asking questions, at the end of which you will receive answers disambiguating the issues;\n",
    "- Weeks 2 and 3 are for training your model, writing your first report, and deploying your app - close to the end of week 3 we will do a trial round for you to test your app;\n",
    "\n",
    "**By the end of week 3, you will need to submit the app and the first report**\n",
    "\n",
    "- In week 4 the observations will be sent to your deployed model and instructors will be checking your reports;\n",
    "- By the end of week 4, you will receive comments on your reports;\n",
    "- Weeks 5 and 6 are for retraining and re-deploying your model and writing up the second report. You should also address comments made to the first report by the end of week 6;\n",
    "\n",
    "**By the end of week 6, you will need to resubmit the app and the first report, and submit the second report**\n",
    "\n",
    "- By the end of week 7, you will receive comments to your second report;\n",
    "- Week 8 is for addressing comments to the second report;\n",
    "- **By the end of week eight, you will need to resubmit the second report**\n",
    "\n",
    "Instructors expect to grade the capstone and launch the graduates roughly one week after.\n",
    "\n",
    "**Note:** Do not hesitate to send all of your questions our way in week 1. During that period we will still be working on solidifying the report criteria details and looking for issues that we might have missed. You will not receive a response right away but be assured that we will read them and prepare communications to go out by the end of week 1.\n",
    "\n",
    "# Activities\n",
    "1. Carefully read [the client briefing](https://docs.google.com/document/d/16FF6I4Q5jPqufDoi8HK1309ru3KZa1_ydUFNS-cvU94/edit?usp=sharing).\n",
    "1. Disambiguate any requirements by sending an email to your client.\n",
    "1. Get very familiar with the [training dataset](https://drive.google.com/file/d/1EJTwkK4xq3hK1e1jMgxtKL8zkr1fSTir/view)[** ](https://drive.google.com/file/d/1EJTwkK4xq3hK1e1jMgxtKL8zkr1fSTir/view). Expect to spend quite a few hours experimenting, exploring, and getting to know it.\n",
    "1. Train the model that you will require for your API, and understand its limitations.\n",
    "1. Produce a report that satisfies your client’s requirements, using [**this structure**](https://docs.google.com/spreadsheets/d/17qp-nz45RLLcK3KtljOLs4VEhQ0KzTaIWiddYTwgB_A/edit?usp=sharing) and [**this template**](https://docs.google.com/document/d/1gzo3ftreMr8b-8ORHwrKrS4rxBh3cFRNtJ34joDmVMA/edit?usp=sharing).\n",
    "1. Deploy your model, using [these instructions](https://github.com/LDSSA/heroku-model-deploy)\n",
    "1. Deal with the data as it arrives and ensure your API is responding successfully\n",
    "1. Write the second report using [this structure](https://docs.google.com/spreadsheets/d/17qp-nz45RLLcK3KtljOLs4VEhQ0KzTaIWiddYTwgB_A/edit?usp=sharing) and [this template](https://docs.google.com/document/d/1CkDbQ5gED9jqZhvDuKnQ6hbJtPvKK60eWE05-mvaRw4/edit?usp=sharing)\n",
    "\n",
    "# Sending an email to your client\n",
    "In the real world, your requirements are never fully defined at the start of the project. You get some instructions, but it’s your responsibility to understand what is under-scoped and what information is missing.\n",
    "\n",
    "In this part of the capstone, you will understand the instructions carefully, do some exploration to understand the data, and realize where you have questions and where information is missing. You will then compile all of this into a professional “email”, and send it to your client. You will consider who you are talking to (what hints have been given about them) and make sure that you use language at the appropriate tech level.\n",
    "\n",
    "Hint: *Do you think they will know machine learning jargon, or do you have to break down what you need any further?*\n",
    "\n",
    "To “send” your email, please use [this form](https://forms.gle/yieQvTDWmDwm3Kby7). Your client will answer most questions on Jan 25th. Your last date for sending them an email is Jan 24th. Please send only 1 email.\n",
    "\n",
    "# Understanding the data you’ll receive\n",
    "![](instructions.png)\n",
    "\n",
    "There are 3 moments when you will receive data.\n",
    "\n",
    "**Receiving the train set:**\n",
    "\n",
    "The first is when you receive these instructions. The email from your client will already link to your training dataset. You will, however, have to build your own target, as it’s not already in clean binary (0’s and 1’s) form.\n",
    "\n",
    "**Receiving the test set 1:**\n",
    "\n",
    "Later (see [timeline](#timeline)), the data will start flowing from the client via HTTP. You will only receive the labels (not the target).\n",
    "\n",
    "After this data has stopped flowing, you will receive the respective targets. At this time you will be able to adjust your model and re-deploy if you feel that it’s worth updating. This model update is optional.\n",
    "\n",
    "**Receiving the test set 2:**\n",
    "\n",
    "Finally, the data will restart flowing, and the second test set will arrive via HTTP. You will never receive the true labels for this dataset.\n",
    "\n",
    "# How to deliver the first report\n",
    "1. Write the report\n",
    "1. Name the document **Report 1 <--your email-->**\n",
    "1. Ensure you’ve read and complied with the [Report technical details](#report-technical-details)\n",
    "1. Export the report as PDF\n",
    "1. Go to the Portal → Capstone → Report 1\n",
    "   1. Provisory if it’s the first submission\n",
    "   1. Final if it’s final delivery with fixed comments\n",
    "\n",
    "# How to deliver your code\n",
    "Your code should be delivered using [this form](https://docs.google.com/forms/d/e/1FAIpQLSfC7nXABJgogrVx5WWiNQYCGKORxocU7ZCfRX35lflU8oxD3Q/viewform) by the [deadline of report 2](https://ldssa.github.io/wiki/Starters%20Academy%20\\(LDSSA\\)/05-Capstone-Project/).\n",
    "\n",
    "*Note: if you are having trouble filling the form, try incognito mode (which seems to fix it).*\n",
    "\n",
    "\n",
    "# Success Criteria\n",
    "The passing criteria are also similar to that in the professional world. We expect you to deliver something that would be acceptable by a client. There isn’t a single number we are expecting you to hit, nor is there a grader to tell you if you are right.\n",
    "\n",
    "That will lead to a bit of subjectivity. In general, if you deliver on all the requirements with an acceptable level of quality you will pass. If you deliver something that would get you a bad performance review, you won’t.\n",
    "\n",
    "\n",
    "# Report technical details\n",
    "In real life, your company will probably have a template or an older report that you can follow. We will be providing this template for [report 1](https://docs.google.com/document/d/1gzo3ftreMr8b-8ORHwrKrS4rxBh3cFRNtJ34joDmVMA/edit) and [report 2](https://docs.google.com/document/d/1CkDbQ5gED9jqZhvDuKnQ6hbJtPvKK60eWE05-mvaRw4/edit) to you. You can choose to directly use it or adapt it, but we ask that you respect the following:\n",
    "\n",
    "- Keep to the sequence and titles as indicated in the model [report structure](https://docs.google.com/spreadsheets/d/17qp-nz45RLLcK3KtljOLs4VEhQ0KzTaIWiddYTwgB_A/edit#gid=0). Note that any ignored section will be an automatic fail.\n",
    "- The number of pages (listed in the report structure) is a guideline, not a hard rule, but please don’t deviate too much from it. Knowing what to leave out is an important skill. In the annexes, however, feel free to go much more overboard.\n",
    "- Don’t include code in the report. You will deliver the code separately.\n",
    "- Size 11, Arial or some other normal font.\n",
    "  - Comic sans will be the reason for immediate fail.\n",
    "- Don’t forget to provide a table of contents on the first page and before delivering and make sure it is up to date.\n",
    "\n",
    "\n",
    "\n",
    "# Hints and advice\n",
    "This is a capstone. It contains data science, data engineering, and project management. Don’t worry if it feels a bit overwhelming at first, take a breath and read everything twice. Make a plan for how you will approach each challenge. Ask questions. This is going to be difficult, but you can do it!\n",
    "\n",
    "You may find that part of this assignment contains some pretty tricky questions. For instance, you may find that every model you train discriminates against some protected group. You will most likely find it impossible to completely remove this effect. That’s how the real world works.\n",
    "\n",
    "You may also discover that there are trade-offs where diminishing one type of discrimination actually increases another. Or that your model performance would go down on some metrics as you attempt to fix others. You may also find that as you attempt to fix true positive rates, your true negative rates will become unequal. To be clear, there is no perfect solution.\n",
    "\n",
    "Any solution will be subjective, and we are not expecting you to find the “right one”. What we are expecting is that you are able to do your best to deal with this, and then support your decisions in an informed way.\n",
    "\n",
    "Here is a hint for you: make sure that you always answer either true or false and that you aren’t caught off and answer np.nan. Look for edge cases. Be skeptical of assuming things will work, and look hard at your predictions on the training set, not just as aggregate numbers.\n"
   ]
  }
 ],
 "metadata": {
  "kernelspec": {
   "display_name": "Python 3 (ipykernel)",
   "language": "python",
   "name": "python3"
  },
  "language_info": {
   "codemirror_mode": {
    "name": "ipython",
    "version": 3
   },
   "file_extension": ".py",
   "mimetype": "text/x-python",
   "name": "python",
   "nbconvert_exporter": "python",
   "pygments_lexer": "ipython3",
   "version": "3.7.12"
  }
 },
 "nbformat": 4,
 "nbformat_minor": 5
}
