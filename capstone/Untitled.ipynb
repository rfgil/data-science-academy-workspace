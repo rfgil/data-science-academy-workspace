{
 "cells": [
  {
   "cell_type": "code",
   "execution_count": 1,
   "id": "f8c3fdec",
   "metadata": {},
   "outputs": [],
   "source": [
    "import os\n",
    "import sys\n",
    "import numpy as np\n",
    "import pandas as pd\n",
    "from pandas_profiling import ProfileReport\n",
    "import matplotlib.pyplot as plt\n",
    "#import matplotlib.image as mpimg\n",
    "\n",
    "%matplotlib inline"
   ]
  },
  {
   "cell_type": "code",
   "execution_count": 2,
   "id": "5a2b6999",
   "metadata": {},
   "outputs": [],
   "source": [
    "df = pd.read_csv(os.path.join(\"data\", \"train_data.csv\"))"
   ]
  },
  {
   "cell_type": "code",
   "execution_count": 3,
   "id": "859d7635",
   "metadata": {},
   "outputs": [],
   "source": [
    "known_categories = {}"
   ]
  },
  {
   "cell_type": "code",
   "execution_count": 12,
   "id": "f82c1953",
   "metadata": {},
   "outputs": [],
   "source": [
    "# race\n",
    "known_categories['race']['type'] = \"category\"\n",
    "known_categories['race']['mapping'] = {\n",
    "    'caucasian': 'white',\n",
    "    'euro': 'white',\n",
    "    'black': 'black',\n",
    "    'other': 'other',\n",
    "    'white': 'white',\n",
    "    'africanamerican': 'black',\n",
    "    'afro american': 'black',\n",
    "    'african american': 'black',\n",
    "    '?': np.nan,\n",
    "    'european': 'white',\n",
    "    'asian': 'asian',\n",
    "    'hispanic': 'hispanic',\n",
    "    'latino': 'hispanic',\n",
    "}\n",
    "\n",
    "# gender\n",
    "known_categories['gender']['type'] = \"category\"\n",
    "known_categories['gender']['mapping'] = {\n",
    "    'female': 'female',\n",
    "    'male': 'male',\n",
    "    'unknown/invalid': np.nan\n",
    "}\n",
    "\n",
    "# age\n",
    "known_categories['age']['type'] = \"Int64\"\n",
    "known_categories['age']['mapping'] = {\n",
    "    '[0-10)': 0,\n",
    "    '[10-20)': 10,\n",
    "    '[20-30)': 20,\n",
    "    '[30-40)': 30,\n",
    "    '[40-50)': 40,\n",
    "    '[50-60)': 50,\n",
    "    '[60-70)': 60,\n",
    "    '[70-80)': 70,\n",
    "    '[80-90)': 80,\n",
    "    '[90-100)': 90\n",
    "}\n",
    "\n",
    "# weight\n",
    "known_categories['weight']['type'] = \"Int64\"\n",
    "known_categories['weight']['mapping'] = {\n",
    "    '>200': 200,\n",
    "    '?': np.nan,\n",
    "    '[0-25)': 0,\n",
    "    '[100-125)': 100,\n",
    "    '[125-150)': 125,\n",
    "    '[150-175)': 150,\n",
    "    '[175-200)': 175,\n",
    "    '[25-50)': 25,\n",
    "    '[50-75)': 50,\n",
    "    '[75-100)': 75\n",
    "}\n",
    "\n",
    "\n",
    "# admission_type_code\n",
    "known_categories['admission_type_code']['type'] = \"category\"\n",
    "known_categories['admission_type_code']['mapping'] = {\n",
    "    '1': 'Emergency',\n",
    "    '2': 'Urgent', # Isn't urgent the same as emergency?? Assuming, urgent is the same as emergency\n",
    "    '3': 'Elective',\n",
    "    '4': 'Newborn',\n",
    "    '5': np.nan, # 'Not Available',\n",
    "    '6': np.nan, # 'NULL'\n",
    "    '7': 'Trauma Center',\n",
    "    '8': np.nan # 'Not Mapped'\n",
    "}\n",
    "\n",
    "# discharge_disposition_code\n",
    "known_categories['discharge_disposition_code']['type'] = \"category\"\n",
    "known_categories['discharge_disposition_code']['mapping'] = {\n",
    "    '1': 'Discharged to home',\n",
    "    '2': 'Discharged/transferred to another short term hospital',\n",
    "    '3': 'Discharged/transferred to SNF',\n",
    "    '4': 'Discharged/transferred to ICF',\n",
    "    '5': 'Discharged/transferred to another type of inpatient care institution',\n",
    "    '6': 'Discharged/transferred to home with home health service',\n",
    "    '7': 'Left AMA',\n",
    "    '8': 'Discharged/transferred to home under care of Home IV provider',\n",
    "    '9': 'Admitted as an inpatient to this hospital',\n",
    "    '10': 'Neonate discharged to another hospital for neonatal aftercare',\n",
    "    '11': 'Expired',\n",
    "    '12': 'Still patient or expected to return for outpatient services',\n",
    "    '13': 'Hospice / home',\n",
    "    '14': 'Hospice / medical facility',\n",
    "    '15': 'Discharged/transferred within this institution to Medicare approved swing bed',\n",
    "    '16': 'Discharged/transferred/referred another institution for outpatient services',\n",
    "    '17': 'Discharged/transferred/referred to this institution for outpatient services',\n",
    "    '18': np.nan, #'NULL',\n",
    "    '19': 'Expired at home. Medicaid only: hospice',\n",
    "    '20': 'Expired in a medical facility. Medicaid only: hospice',\n",
    "    '21': 'Expired: place unknown. Medicaid only: hospice',\n",
    "    '22': 'Discharged/transferred to another rehab fac including rehab units of a hospital',\n",
    "    '23': 'Discharged/transferred to a long term care hospital',\n",
    "    '24': 'Discharged/transferred to a nursing facility certified under Medicaid but not certified under Medicare',\n",
    "    '25': np.nan, #'Not Mapped',\n",
    "    '26': np.nan, #'Unknown/Invalid',\n",
    "    '30': 'Discharged/transferred to another Type of Health Care Institution not Defined Elsewhere',\n",
    "    '27': 'Discharged/transferred to a federal health care facility',\n",
    "    '28': 'Discharged/transferred/referred to a psychiatric hospital of psychiatric distinct part unit of a hospital',\n",
    "    '29': 'Discharged/transferred to a Critical Access Hospital (CAH)',\n",
    "}\n",
    "\n",
    "# admission_source_code\n",
    "known_categories['admission_source_code']['type'] = \"category\"\n",
    "known_categories['admission_source_code']['mapping'] = {\n",
    "    '1': 'Physician Referral',\n",
    "    '2': 'Clinic Referral',\n",
    "    '3': 'HMO Referral',\n",
    "    '4': 'Transfer from a hospital',\n",
    "    '5': 'Transfer from a Skilled Nursing Facility (SNF)',\n",
    "    '6': 'Transfer from another health care facility',\n",
    "    '7': 'Emergency Room',\n",
    "    '8': 'Court/Law Enforcement',\n",
    "    '9': np.nan, #'Not Available',\n",
    "    '10': 'Transfer from critial access hospital',\n",
    "    '11': 'Normal Delivery',\n",
    "    '12': 'Premature Delivery',\n",
    "    '13': 'Sick Baby',\n",
    "    '14': 'Extramural Birth',\n",
    "    '15': np.nan, # 'Not Available',\n",
    "    '17': np.nan, # 'NULL',\n",
    "    '18': 'Transfer From Another Home Health Agency',\n",
    "    '19': 'Readmission to Same Home Health Agency',\n",
    "    '20': np.nan, # 'Not Mapped',\n",
    "    '21': np.nan, #'Unknown/Invalid',\n",
    "    '22': 'Transfer from hospital inpt/same fac reslt in a sep claim',\n",
    "    '23': 'Born inside this hospital',\n",
    "    '24': 'Born outside this hospital',\n",
    "    '25': 'Transfer from Ambulatory Surgery Center',\n",
    "    '26': 'Transfer from Hospice',\n",
    "}\n",
    "\n",
    "# payer_code\n",
    "known_categories['payer_code']['type'] = \"category\"\n",
    "known_categories['payer_code']['mapping'] = {\n",
    "    '?': np.nan,\n",
    "    'bc': 'BC',\n",
    "    'ch': 'CH',\n",
    "    'cm': 'CM',\n",
    "    'cp': 'CP',\n",
    "    'dm': 'DM',\n",
    "    'fr': 'FR',\n",
    "    'hm': 'HM',\n",
    "    'mc': 'MC',\n",
    "    'md': 'MD',\n",
    "    'mp': 'MP',\n",
    "    'og': 'OG',\n",
    "    'ot': 'OT',\n",
    "    'po': 'PO',\n",
    "    'si': 'SI',\n",
    "    'sp': 'SP',\n",
    "    'un': 'UN',\n",
    "    'wc': 'WC'\n",
    "}\n",
    "\n",
    "# medical_specialty\n",
    "# TODO\n",
    "\n",
    "\n",
    "# complete_vaccination_status\n",
    "known_categories['complete_vaccination_status']['type'] = pd.CategoricalDtype(['none', 'incomplete', 'complete'], ordered=True)\n",
    "known_categories['complete_vaccination_status']['mapping'] = {\n",
    "    'none': 'none',\n",
    "    'incomplete': 'incomplete',\n",
    "    'complete': 'complete'\n",
    "}\n",
    "\n",
    "# diag_1, diag_2, diag_3\n",
    "# TODO\n",
    "\n",
    "known_categories['blood_type']['type'] = \"category\"\n",
    "known_categories['blood_type']['mapping'] = {\n",
    "    'a+': 'A+',\n",
    "    'a-': 'A-',\n",
    "    'ab+': 'AB+',\n",
    "    'ab-': 'AB-',\n",
    "    'b+': 'B+',\n",
    "    'b-': 'B-',\n",
    "    'o+': 'O+',\n",
    "    'o-': 'O-',\n",
    "}\n",
    "\n",
    "# max_glu_serum\n",
    "known_categories['max_glu_serum']['type'] = \"category\"\n",
    "known_categories['max_glu_serum']['mapping'] = {\n",
    "    '>200': '>200',\n",
    "    '>300': '>300',\n",
    "    'norm': 'normal',\n",
    "    'none': np.nan\n",
    "}\n",
    "\n",
    "# A1Cresult\n",
    "known_categories['A1Cresult']['type'] = \"category\"\n",
    "known_categories['A1Cresult']['mapping'] = {\n",
    "    '>7': '>7',\n",
    "    '>8': '>8',\n",
    "    'norm': 'normal',\n",
    "    'none': np.nan\n",
    "}\n",
    "\n",
    "# diuretics\n",
    "known_categories['diuretics']['type'] = \"bool\"\n",
    "known_categories['diuretics']['mapping'] = {\n",
    "    'yes': True,\n",
    "    'no': False\n",
    "}\n",
    "\n",
    "# insulin\n",
    "known_categories['insulin']['type'] = \"bool\"\n",
    "known_categories['insulin']['mapping'] = {\n",
    "    'yes': True,\n",
    "    'no': False\n",
    "}\n",
    "\n",
    "# change\n",
    "known_categories['change']['type'] = \"bool\"\n",
    "known_categories['change']['mapping'] = {\n",
    "    'ch': True,\n",
    "    'no': False\n",
    "}\n",
    "\n",
    "# diabetesMed\n",
    "known_categories['diabetesMed']['type'] = \"bool\"\n",
    "known_categories['diabetesMed']['mapping'] = {\n",
    "    'yes': True,\n",
    "    'no': False\n",
    "}\n",
    "\n",
    "# readmitted\n",
    "known_categories['readmitted']['type'] = \"bool\"\n",
    "known_categories['readmitted']['mapping'] = {\n",
    "    'yes': True,\n",
    "    'no': False\n",
    "}"
   ]
  },
  {
   "cell_type": "code",
   "execution_count": 20,
   "id": "29113dcb",
   "metadata": {},
   "outputs": [],
   "source": [
    "# Required preprocessing so that the mappings work correctly\n",
    "df['admission_type_code'] = df['admission_type_code'].astype(\"Int64\")\n",
    "df['discharge_disposition_code'] = df['discharge_disposition_code'].astype(\"Int64\")\n",
    "df['admission_source_code'] = df['admission_source_code'].astype(\"Int64\")\n",
    "\n",
    "df_clean = df.copy()\n",
    "\n",
    "\n",
    "def get_mapping(value, column):\n",
    "    try:\n",
    "        return known_categories[column][str(value).lower()]\n",
    "    except:\n",
    "        return np.nan\n",
    "    \n",
    "def get_type(column):\n",
    "    return known_categories[column]['type']\n",
    "\n",
    "\n",
    "for column in known_categories.keys():\n",
    "    df_clean[column] = (df[column]\n",
    "                        .apply(lambda value: get_mapping(value, column))\n",
    "                        .astype(get_type(column))\n",
    "                       )"
   ]
  },
  {
   "cell_type": "code",
   "execution_count": 22,
   "id": "79fbd7d3",
   "metadata": {},
   "outputs": [
    {
     "data": {
      "text/plain": [
       "1    42562\n",
       "3    14884\n",
       "2    14576\n",
       "6     4182\n",
       "5     3768\n",
       "8      254\n",
       "7       16\n",
       "4        8\n",
       "Name: admission_type_code, dtype: Int64"
      ]
     },
     "execution_count": 22,
     "metadata": {},
     "output_type": "execute_result"
    }
   ],
   "source": [
    "df.admission_type_code.value_counts()"
   ]
  },
  {
   "cell_type": "code",
   "execution_count": 23,
   "id": "f73699f6",
   "metadata": {},
   "outputs": [
    {
     "data": {
      "text/plain": [
       "Emergency        42562\n",
       "Elective         14884\n",
       "Urgent           14576\n",
       "Trauma Center       16\n",
       "Newborn              8\n",
       "Name: admission_type_code, dtype: int64"
      ]
     },
     "execution_count": 23,
     "metadata": {},
     "output_type": "execute_result"
    }
   ],
   "source": [
    "df_clean.admission_type_code.value_counts()"
   ]
  },
  {
   "cell_type": "code",
   "execution_count": 32,
   "id": "1979ec84",
   "metadata": {},
   "outputs": [],
   "source": [
    "df_clean['medical_specialty'] = df_clean.medical_specialty.apply(lambda x: None if x == '?' else x)"
   ]
  },
  {
   "cell_type": "code",
   "execution_count": 33,
   "id": "42081699",
   "metadata": {},
   "outputs": [
    {
     "data": {
      "text/plain": [
       "InternalMedicine          11712\n",
       "Emergency/Trauma           6021\n",
       "Family/GeneralPractice     5939\n",
       "Cardiology                 4273\n",
       "Surgery-General            2473\n",
       "                          ...  \n",
       "SportsMedicine                1\n",
       "Speech                        1\n",
       "Psychiatry-Addictive          1\n",
       "Neurophysiology               1\n",
       "Perinatology                  1\n",
       "Name: medical_specialty, Length: 70, dtype: int64"
      ]
     },
     "execution_count": 33,
     "metadata": {},
     "output_type": "execute_result"
    }
   ],
   "source": [
    "df_clean.medical_specialty.value_counts()"
   ]
  },
  {
   "cell_type": "code",
   "execution_count": 34,
   "id": "eecc0255",
   "metadata": {},
   "outputs": [
    {
     "data": {
      "application/vnd.jupyter.widget-view+json": {
       "model_id": "0d4e7210e32e4c1b926c864e6e1fe9de",
       "version_major": 2,
       "version_minor": 0
      },
      "text/plain": [
       "Summarize dataset:   0%|          | 0/5 [00:00<?, ?it/s]"
      ]
     },
     "metadata": {},
     "output_type": "display_data"
    },
    {
     "name": "stderr",
     "output_type": "stream",
     "text": [
      "/Users/rafael.gil/.virtualenvs/capstone/lib/python3.7/site-packages/scipy/stats/stats.py:4594: RuntimeWarning: overflow encountered in long_scalars\n",
      "  (2 * xtie * ytie) / m + x0 * y0 / (9 * m * (size - 2)))\n",
      "/Users/rafael.gil/.virtualenvs/capstone/lib/python3.7/site-packages/pandas_profiling/model/correlations.py:61: UserWarning: There was an attempt to calculate the phi_k correlation, but this failed.\n",
      "To hide this warning, disable the calculation\n",
      "(using `df.profile_report(correlations={\"phi_k\": {\"calculate\": False}})`\n",
      "If this is problematic for your use case, please report this as an issue:\n",
      "https://github.com/pandas-profiling/pandas-profiling/issues\n",
      "(include the error message: 'No data; `observed` has size 0.')\n",
      "  (include the error message: '{error}')\"\"\"\n"
     ]
    },
    {
     "data": {
      "application/vnd.jupyter.widget-view+json": {
       "model_id": "670d7886ceb341dba2d3c12c6114d0f1",
       "version_major": 2,
       "version_minor": 0
      },
      "text/plain": [
       "Generate report structure:   0%|          | 0/1 [00:00<?, ?it/s]"
      ]
     },
     "metadata": {},
     "output_type": "display_data"
    },
    {
     "data": {
      "application/vnd.jupyter.widget-view+json": {
       "model_id": "75f24f4bd6d44daa801f7605e3123cb1",
       "version_major": 2,
       "version_minor": 0
      },
      "text/plain": [
       "Render HTML:   0%|          | 0/1 [00:00<?, ?it/s]"
      ]
     },
     "metadata": {},
     "output_type": "display_data"
    },
    {
     "data": {
      "application/vnd.jupyter.widget-view+json": {
       "model_id": "553f60b6d1344f3aabda9e45f3d8ac4f",
       "version_major": 2,
       "version_minor": 0
      },
      "text/plain": [
       "Export report to file:   0%|          | 0/1 [00:00<?, ?it/s]"
      ]
     },
     "metadata": {},
     "output_type": "display_data"
    }
   ],
   "source": [
    "ProfileReport(df_clean, title=\"Fix missing values\").to_file(\"reports/fix_missing_values.html\")"
   ]
  },
  {
   "cell_type": "code",
   "execution_count": 28,
   "id": "4e914c56",
   "metadata": {},
   "outputs": [],
   "source": [
    "df_readmitted = df_clean[df_clean.readmitted == True]"
   ]
  },
  {
   "cell_type": "code",
   "execution_count": 30,
   "id": "74da0ed5",
   "metadata": {},
   "outputs": [
    {
     "data": {
      "text/plain": [
       "(9072, 34)"
      ]
     },
     "execution_count": 30,
     "metadata": {},
     "output_type": "execute_result"
    }
   ],
   "source": [
    "df_readmitted.shape"
   ]
  },
  {
   "cell_type": "code",
   "execution_count": 31,
   "id": "10f403be",
   "metadata": {},
   "outputs": [
    {
     "data": {
      "image/png": "[encoded data removed]",
      "text/plain": [
       "<Figure size 432x288 with 1 Axes>"
      ]
     },
     "metadata": {
      "needs_background": "light"
     },
     "output_type": "display_data"
    }
   ],
   "source": [
    "df_readmitted.medical_specialty.value_counts().plot(kind='bar');"
   ]
  },
  {
   "cell_type": "code",
   "execution_count": null,
   "id": "db06b44d",
   "metadata": {},
   "outputs": [],
   "source": []
  }
 ],
 "metadata": {
  "kernelspec": {
   "display_name": "Python 3 (ipykernel)",
   "language": "python",
   "name": "python3"
  },
  "language_info": {
   "codemirror_mode": {
    "name": "ipython",
    "version": 3
   },
   "file_extension": ".py",
   "mimetype": "text/x-python",
   "name": "python",
   "nbconvert_exporter": "python",
   "pygments_lexer": "ipython3",
   "version": "3.7.12"
  }
 },
 "nbformat": 4,
 "nbformat_minor": 5
}
