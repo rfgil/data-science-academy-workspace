{
 "cells": [
  {
   "cell_type": "code",
   "execution_count": 2,
   "id": "aa344c9d",
   "metadata": {},
   "outputs": [],
   "source": [
    "import os\n",
    "import sys\n",
    "import numpy as np\n",
    "import pandas as pd\n",
    "from pandas_profiling import ProfileReport\n",
    "import matplotlib.pyplot as plt\n",
    "import pickle\n",
    "import json\n",
    "import pyperclip\n",
    "%matplotlib inline"
   ]
  },
  {
   "cell_type": "code",
   "execution_count": 3,
   "id": "86687f67",
   "metadata": {},
   "outputs": [],
   "source": [
    "def plot_(sensitive_class, bars_width=0.15):\n",
    "    df_1 = df[sensitive_class].value_counts().sort_index()\n",
    "    df_2 = df_readmitted[sensitive_class].value_counts().sort_index()\n",
    "\n",
    "    X_axis = np.arange(len(df_1))\n",
    "\n",
    "    width = bars_width\n",
    "    num_bars = 2\n",
    "    bar_pos = [ i - num_bars/2 + 0.5 for i in range(num_bars) ] # Calulation to retrieve the bar position in relation to the center\n",
    "\n",
    "    plt.bar(X_axis + width*bar_pos[0], df_1.values / df.shape[0], label = \"whole dataset\", width=width)\n",
    "    plt.bar(X_axis + width*bar_pos[1], df_2.values / df_readmitted.shape[0], label = \"readmitted-subset\", width=width)\n",
    "\n",
    "    plt.xticks(X_axis, df_1.index) #, rotation=90)\n",
    "    #plt.xlabel(\"Groups\")\n",
    "    plt.ylabel(\"Normalized occurrence\")\n",
    "    #plt.title(\"Number of Students in each group\")\n",
    "    plt.legend()\n",
    "\n",
    "\n",
    "    plt.gcf().set_size_inches(4,4)\n",
    "    plt.gcf().savefig(\"images/discrim_global_\" + sensitive_class + \".pdf\")\n",
    "    plt.show()\n"
   ]
  },
  {
   "cell_type": "code",
   "execution_count": 5,
   "id": "b43c0cf2",
   "metadata": {},
   "outputs": [],
   "source": [
    "train = {\n",
    "    \"Random Forest Classifier\": 0.708,\n",
    "    \"Logistic Regression\": 0.707,\n",
    "    \"Stochastic Gradient Descent\": 0.697,\n",
    "    \"Gradient Boosting Classifier\": 0.711\n",
    "}\n",
    "\n",
    "test = {\n",
    "    \"Random Forest Classifier\": 0.708,\n",
    "    \"Logistic Regression\": 0.707,\n",
    "    \"Stochastic Gradient Descent\": 0.697,\n",
    "    \"Gradient Boosting Classifier\": 0.711\n",
    "}"
   ]
  },
  {
   "cell_type": "code",
   "execution_count": 16,
   "id": "8ec26019",
   "metadata": {},
   "outputs": [
    {
     "data": {
      "image/png": "[encoded data removed]",
      "text/plain": [
       "<Figure size 864x288 with 1 Axes>"
      ]
     },
     "metadata": {
      "needs_background": "light"
     },
     "output_type": "display_data"
    }
   ],
   "source": [
    "X_axis = np.arange(4)\n",
    "\n",
    "width = 0.3\n",
    "num_bars = 2\n",
    "bar_pos = [ i - num_bars/2 + 0.5 for i in range(num_bars) ] # Calulation to retrieve the bar position in relation to the center\n",
    "\n",
    "#plt.bar(X_axis + width*bar_pos[0], train.values(), label = \"train\", width=width)\n",
    "#plt.bar(X_axis + width*bar_pos[1], test.values(), label = \"test\", width=width)\n",
    "plt.bar(X_axis, train.values(), label = \"train\", width=width)\n",
    "\n",
    "plt.xticks(X_axis, train.keys()) #, rotation=90)\n",
    "#plt.xlabel(\"Groups\")\n",
    "plt.ylabel(\"F1 Score\")\n",
    "#plt.title(\"Number of Students in each group\")\n",
    "\n",
    "plt.ylim((0.68, 0.715))\n",
    "#plt.legend()\n",
    "\n",
    "\n",
    "plt.gcf().set_size_inches(12,4)\n",
    "plt.gcf().savefig(\"images/models_f1_score.pdf\")\n",
    "plt.show()"
   ]
  }
 ],
 "metadata": {
  "kernelspec": {
   "display_name": "Python 3 (ipykernel)",
   "language": "python",
   "name": "python3"
  },
  "language_info": {
   "codemirror_mode": {
    "name": "ipython",
    "version": 3
   },
   "file_extension": ".py",
   "mimetype": "text/x-python",
   "name": "python",
   "nbconvert_exporter": "python",
   "pygments_lexer": "ipython3",
   "version": "3.7.12"
  }
 },
 "nbformat": 4,
 "nbformat_minor": 5
}
