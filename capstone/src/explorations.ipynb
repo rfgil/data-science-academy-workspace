{
 "cells": [
  {
   "cell_type": "markdown",
   "id": "b5d23a36",
   "metadata": {},
   "source": []
  },
  {
   "cell_type": "markdown",
   "id": "9124269f",
   "metadata": {},
   "source": [
    "BLU14 is important!\n",
    "\n",
    "* Instructions: https://docs.google.com/document/d/108Ux46Wczi6N0ey4BR-WBay-lNNhFPSPbdDQuETGIA0/edit#\n",
    "* Email with responses: https://docs.google.com/document/d/1gQtFWo5hfP507hdX3ly0ZmPhpQd1eRodiMUr-1M7cIU/edit#\n",
    "* Report rules: https://docs.google.com/spreadsheets/d/17qp-nz45RLLcK3KtljOLs4VEhQ0KzTaIWiddYTwgB_A/edit#gid=767562645\n",
    "\n",
    "Githubs with batch-4 challanges\n",
    "* https://github.com/tiagobluefernandes/LDSSA-BATCH4-CAPSTONE\n",
    "* https://github.com/dbsousa01/Batch4-Capstone\n",
    "* https://github.com/fernandamcohen/PredictiveModel_with_API-LDSSA4_Capstone\n",
    "* https://github.com/felixbrunner/capstone\n",
    "\n",
    "Similar solved problems\n",
    "* https://towardsdatascience.com/predicting-hospital-readmission-for-patients-with-diabetes-using-scikit-learn-a2e359b15f0\n",
    "* https://towardsdatascience.com/predicting-inpatient-length-of-stay-at-hospitals-using-python-big-data-304e79d8c008"
   ]
  },
  {
   "cell_type": "markdown",
   "id": "1eec8f2d",
   "metadata": {},
   "source": [
    "### TO-DO\n",
    "\n",
    "* Validar diferenças no tratamento de insured vs uninsured patients\n",
    "* Validar descriminação\n",
    "* Ter atenção à evolução temporal dos doentes (\"training and changes of staff may impact data over time\")\n",
    "\n",
    "### Perguntas\n",
    "\n",
    "\n",
    "\n",
    "* What are the current guidelines on for patient discharge?\n",
    "* Why are there so few records on the patient's weight? As you mentioned people tend to overeat, and it has an impact on diabetes\n",
    "* On the admission type code, what's the difference between 'Emergency' and 'Urgent'. And what does an 'elective' admission mean?\n",
    "    '1': 'Emergency',\n",
    "    '2': 'Urgent',\n",
    "    '3': 'Elective',\n",
    "    '4': 'Newborn',\n",
    "    '5': UNKNOWN_CATEGORY, # 'Not Available',\n",
    "    '6': UNKNOWN_CATEGORY, # 'NULL'\n",
    "    '7': 'Trauma Center',\n",
    "    '8': UNKNOWN_CATEGORY # 'Not Mapped'\n",
    "    \n",
    "\n",
    "\n",
    "Hello, Agnes Crumplebottom,\n",
    "\n",
    "In order to better understand the problems your hospital is facing, I would like to ask you a few questions regarding the data you provided:\n",
    "\n",
    "1. You mentioned that 'when confined, people still tend to overeat' and weight seems like an important metric to take into account regarding diabetes. Why only a small fraction of the patients (5%) have this type of information?\n",
    "\n",
    "2. What distiguishes 'Urgent' and 'Emergency' admission codes? Furthermore, what distigueshes 'Not Available', 'Null' and 'Not Mapped' admission codes.\n",
    "\n",
    "3. You mention that you 'don't have the monetary, personal and infrastructural resources to retain all patients indefinitely', which I understand perfectly. Thus, which of the following scnearios should the API I'm developing focus on: \n",
    "* To make sure that all patients that may be readmitted within 30 days are not dismissed, at the expense of some false-positive patients that could otherwise be dismissed. \n",
    "* To make sure that all patients that won't be readmitted are dismissed as soon as possible, at the expense of a few erroneous dismissals.\n",
    "In other words is it more expensive to keep extra patients for a while or to dismiss a patient that is readmitted within 30 days?\n",
    "\n",
    "\n",
    "I'm looking forward for your reply and I'm available for any questions that you may have.\n",
    "\n",
    "Best Regards,\n",
    "Rafael Gil\n",
    "\n",
    "\n"
   ]
  },
  {
   "cell_type": "markdown",
   "id": "86d0a825",
   "metadata": {},
   "source": [
    "## Data Cleaning"
   ]
  },
  {
   "cell_type": "code",
   "execution_count": 1,
   "id": "c3bb2569",
   "metadata": {},
   "outputs": [],
   "source": [
    "import os\n",
    "import sys\n",
    "import numpy as np\n",
    "import pandas as pd\n",
    "from pandas_profiling import ProfileReport\n",
    "import matplotlib.pyplot as plt\n",
    "#import matplotlib.image as mpimg\n",
    "\n",
    "%matplotlib inline"
   ]
  },
  {
   "cell_type": "code",
   "execution_count": 2,
   "id": "d4f9101d",
   "metadata": {},
   "outputs": [],
   "source": [
    "df = pd.read_csv(os.path.join(\"data\", \"train_data.csv\"))"
   ]
  },
  {
   "cell_type": "code",
   "execution_count": 3,
   "id": "eb9e7a99",
   "metadata": {},
   "outputs": [
    {
     "data": {
      "text/html": [
       "<div>\n",
       "<style scoped>\n",
       "    .dataframe tbody tr th:only-of-type {\n",
       "        vertical-align: middle;\n",
       "    }\n",
       "\n",
       "    .dataframe tbody tr th {\n",
       "        vertical-align: top;\n",
       "    }\n",
       "\n",
       "    .dataframe thead th {\n",
       "        text-align: right;\n",
       "    }\n",
       "</style>\n",
       "<table border=\"1\" class=\"dataframe\">\n",
       "  <thead>\n",
       "    <tr style=\"text-align: right;\">\n",
       "      <th></th>\n",
       "      <th>admission_id</th>\n",
       "      <th>patient_id</th>\n",
       "      <th>admission_type_code</th>\n",
       "      <th>discharge_disposition_code</th>\n",
       "      <th>admission_source_code</th>\n",
       "      <th>time_in_hospital</th>\n",
       "      <th>num_lab_procedures</th>\n",
       "      <th>num_procedures</th>\n",
       "      <th>num_medications</th>\n",
       "      <th>number_outpatient</th>\n",
       "      <th>number_emergency</th>\n",
       "      <th>number_inpatient</th>\n",
       "      <th>number_diagnoses</th>\n",
       "      <th>hemoglobin_level</th>\n",
       "    </tr>\n",
       "  </thead>\n",
       "  <tbody>\n",
       "    <tr>\n",
       "      <th>count</th>\n",
       "      <td>81412.000000</td>\n",
       "      <td>8.141200e+04</td>\n",
       "      <td>80250.000000</td>\n",
       "      <td>80841.000000</td>\n",
       "      <td>81412.000000</td>\n",
       "      <td>81412.000000</td>\n",
       "      <td>79919.000000</td>\n",
       "      <td>81412.000000</td>\n",
       "      <td>78734.000000</td>\n",
       "      <td>81412.000000</td>\n",
       "      <td>81412.000000</td>\n",
       "      <td>81412.000000</td>\n",
       "      <td>81412.000000</td>\n",
       "      <td>81412.000000</td>\n",
       "    </tr>\n",
       "    <tr>\n",
       "      <th>mean</th>\n",
       "      <td>40705.500000</td>\n",
       "      <td>1.086395e+08</td>\n",
       "      <td>2.024598</td>\n",
       "      <td>3.711260</td>\n",
       "      <td>5.750123</td>\n",
       "      <td>4.395924</td>\n",
       "      <td>43.071197</td>\n",
       "      <td>1.341768</td>\n",
       "      <td>16.024424</td>\n",
       "      <td>0.370953</td>\n",
       "      <td>0.197588</td>\n",
       "      <td>0.637793</td>\n",
       "      <td>7.421965</td>\n",
       "      <td>14.192328</td>\n",
       "    </tr>\n",
       "    <tr>\n",
       "      <th>std</th>\n",
       "      <td>23501.764395</td>\n",
       "      <td>7.732453e+07</td>\n",
       "      <td>1.446015</td>\n",
       "      <td>5.273755</td>\n",
       "      <td>4.063456</td>\n",
       "      <td>2.975844</td>\n",
       "      <td>19.630405</td>\n",
       "      <td>1.708465</td>\n",
       "      <td>8.107235</td>\n",
       "      <td>1.278538</td>\n",
       "      <td>0.881290</td>\n",
       "      <td>1.265472</td>\n",
       "      <td>1.931480</td>\n",
       "      <td>1.060000</td>\n",
       "    </tr>\n",
       "    <tr>\n",
       "      <th>min</th>\n",
       "      <td>0.000000</td>\n",
       "      <td>1.980000e+02</td>\n",
       "      <td>1.000000</td>\n",
       "      <td>1.000000</td>\n",
       "      <td>1.000000</td>\n",
       "      <td>1.000000</td>\n",
       "      <td>1.000000</td>\n",
       "      <td>0.000000</td>\n",
       "      <td>1.000000</td>\n",
       "      <td>0.000000</td>\n",
       "      <td>0.000000</td>\n",
       "      <td>0.000000</td>\n",
       "      <td>1.000000</td>\n",
       "      <td>10.500000</td>\n",
       "    </tr>\n",
       "    <tr>\n",
       "      <th>25%</th>\n",
       "      <td>20352.750000</td>\n",
       "      <td>4.683906e+07</td>\n",
       "      <td>1.000000</td>\n",
       "      <td>1.000000</td>\n",
       "      <td>1.000000</td>\n",
       "      <td>2.000000</td>\n",
       "      <td>32.000000</td>\n",
       "      <td>0.000000</td>\n",
       "      <td>10.000000</td>\n",
       "      <td>0.000000</td>\n",
       "      <td>0.000000</td>\n",
       "      <td>0.000000</td>\n",
       "      <td>6.000000</td>\n",
       "      <td>13.400000</td>\n",
       "    </tr>\n",
       "    <tr>\n",
       "      <th>50%</th>\n",
       "      <td>40705.500000</td>\n",
       "      <td>9.083437e+07</td>\n",
       "      <td>1.000000</td>\n",
       "      <td>1.000000</td>\n",
       "      <td>7.000000</td>\n",
       "      <td>4.000000</td>\n",
       "      <td>44.000000</td>\n",
       "      <td>1.000000</td>\n",
       "      <td>15.000000</td>\n",
       "      <td>0.000000</td>\n",
       "      <td>0.000000</td>\n",
       "      <td>0.000000</td>\n",
       "      <td>8.000000</td>\n",
       "      <td>14.100000</td>\n",
       "    </tr>\n",
       "    <tr>\n",
       "      <th>75%</th>\n",
       "      <td>61058.250000</td>\n",
       "      <td>1.751117e+08</td>\n",
       "      <td>3.000000</td>\n",
       "      <td>3.000000</td>\n",
       "      <td>7.000000</td>\n",
       "      <td>6.000000</td>\n",
       "      <td>57.000000</td>\n",
       "      <td>2.000000</td>\n",
       "      <td>20.000000</td>\n",
       "      <td>0.000000</td>\n",
       "      <td>0.000000</td>\n",
       "      <td>1.000000</td>\n",
       "      <td>9.000000</td>\n",
       "      <td>15.000000</td>\n",
       "    </tr>\n",
       "    <tr>\n",
       "      <th>max</th>\n",
       "      <td>81411.000000</td>\n",
       "      <td>3.790052e+08</td>\n",
       "      <td>8.000000</td>\n",
       "      <td>28.000000</td>\n",
       "      <td>25.000000</td>\n",
       "      <td>14.000000</td>\n",
       "      <td>132.000000</td>\n",
       "      <td>6.000000</td>\n",
       "      <td>81.000000</td>\n",
       "      <td>42.000000</td>\n",
       "      <td>64.000000</td>\n",
       "      <td>21.000000</td>\n",
       "      <td>16.000000</td>\n",
       "      <td>18.600000</td>\n",
       "    </tr>\n",
       "  </tbody>\n",
       "</table>\n",
       "</div>"
      ],
      "text/plain": [
       "       admission_id    patient_id  admission_type_code  \\\n",
       "count  81412.000000  8.141200e+04         80250.000000   \n",
       "mean   40705.500000  1.086395e+08             2.024598   \n",
       "std    23501.764395  7.732453e+07             1.446015   \n",
       "min        0.000000  1.980000e+02             1.000000   \n",
       "25%    20352.750000  4.683906e+07             1.000000   \n",
       "50%    40705.500000  9.083437e+07             1.000000   \n",
       "75%    61058.250000  1.751117e+08             3.000000   \n",
       "max    81411.000000  3.790052e+08             8.000000   \n",
       "\n",
       "       discharge_disposition_code  admission_source_code  time_in_hospital  \\\n",
       "count                80841.000000           81412.000000      81412.000000   \n",
       "mean                     3.711260               5.750123          4.395924   \n",
       "std                      5.273755               4.063456          2.975844   \n",
       "min                      1.000000               1.000000          1.000000   \n",
       "25%                      1.000000               1.000000          2.000000   \n",
       "50%                      1.000000               7.000000          4.000000   \n",
       "75%                      3.000000               7.000000          6.000000   \n",
       "max                     28.000000              25.000000         14.000000   \n",
       "\n",
       "       num_lab_procedures  num_procedures  num_medications  number_outpatient  \\\n",
       "count        79919.000000    81412.000000     78734.000000       81412.000000   \n",
       "mean            43.071197        1.341768        16.024424           0.370953   \n",
       "std             19.630405        1.708465         8.107235           1.278538   \n",
       "min              1.000000        0.000000         1.000000           0.000000   \n",
       "25%             32.000000        0.000000        10.000000           0.000000   \n",
       "50%             44.000000        1.000000        15.000000           0.000000   \n",
       "75%             57.000000        2.000000        20.000000           0.000000   \n",
       "max            132.000000        6.000000        81.000000          42.000000   \n",
       "\n",
       "       number_emergency  number_inpatient  number_diagnoses  hemoglobin_level  \n",
       "count      81412.000000      81412.000000      81412.000000      81412.000000  \n",
       "mean           0.197588          0.637793          7.421965         14.192328  \n",
       "std            0.881290          1.265472          1.931480          1.060000  \n",
       "min            0.000000          0.000000          1.000000         10.500000  \n",
       "25%            0.000000          0.000000          6.000000         13.400000  \n",
       "50%            0.000000          0.000000          8.000000         14.100000  \n",
       "75%            0.000000          1.000000          9.000000         15.000000  \n",
       "max           64.000000         21.000000         16.000000         18.600000  "
      ]
     },
     "execution_count": 3,
     "metadata": {},
     "output_type": "execute_result"
    }
   ],
   "source": [
    "df.describe()"
   ]
  },
  {
   "cell_type": "code",
   "execution_count": 4,
   "id": "159a6a2d",
   "metadata": {},
   "outputs": [
    {
     "data": {
      "text/plain": [
       "admission_id                     int64\n",
       "patient_id                       int64\n",
       "race                            object\n",
       "gender                          object\n",
       "age                             object\n",
       "weight                          object\n",
       "admission_type_code            float64\n",
       "discharge_disposition_code     float64\n",
       "admission_source_code            int64\n",
       "time_in_hospital                 int64\n",
       "payer_code                      object\n",
       "medical_specialty               object\n",
       "has_prosthesis                    bool\n",
       "complete_vaccination_status     object\n",
       "num_lab_procedures             float64\n",
       "num_procedures                   int64\n",
       "num_medications                float64\n",
       "number_outpatient                int64\n",
       "number_emergency                 int64\n",
       "number_inpatient                 int64\n",
       "diag_1                          object\n",
       "diag_2                          object\n",
       "diag_3                          object\n",
       "number_diagnoses                 int64\n",
       "blood_type                      object\n",
       "hemoglobin_level               float64\n",
       "blood_transfusion                 bool\n",
       "max_glu_serum                   object\n",
       "A1Cresult                       object\n",
       "diuretics                       object\n",
       "insulin                         object\n",
       "change                          object\n",
       "diabetesMed                     object\n",
       "readmitted                      object\n",
       "dtype: object"
      ]
     },
     "execution_count": 4,
     "metadata": {},
     "output_type": "execute_result"
    }
   ],
   "source": [
    "df.dtypes"
   ]
  },
  {
   "cell_type": "code",
   "execution_count": 5,
   "id": "547281d2",
   "metadata": {},
   "outputs": [],
   "source": [
    "df_clean = df.copy()"
   ]
  },
  {
   "cell_type": "code",
   "execution_count": 6,
   "id": "792349cf",
   "metadata": {},
   "outputs": [],
   "source": [
    "## Utils\n",
    "UNKNOWN_CATEGORY = 'unknown'\n",
    "\n",
    "def get_categorical(value, mapping, default = UNKNOWN_CATEGORY):\n",
    "    try:\n",
    "        return mapping[str(value).lower()]\n",
    "    except:\n",
    "        return default"
   ]
  },
  {
   "cell_type": "code",
   "execution_count": 7,
   "id": "aa29692c",
   "metadata": {},
   "outputs": [],
   "source": [
    "known_categories = {\n",
    "    \n",
    "}"
   ]
  },
  {
   "cell_type": "markdown",
   "id": "9b15b74c",
   "metadata": {},
   "source": [
    "###### admission_id"
   ]
  },
  {
   "cell_type": "code",
   "execution_count": 8,
   "id": "e5e25f34",
   "metadata": {},
   "outputs": [
    {
     "data": {
      "text/plain": [
       "(81412, 34)"
      ]
     },
     "execution_count": 8,
     "metadata": {},
     "output_type": "execute_result"
    }
   ],
   "source": [
    "df.shape"
   ]
  },
  {
   "cell_type": "code",
   "execution_count": 9,
   "id": "b373cad4",
   "metadata": {},
   "outputs": [
    {
     "data": {
      "text/plain": [
       "81412"
      ]
     },
     "execution_count": 9,
     "metadata": {},
     "output_type": "execute_result"
    }
   ],
   "source": [
    "df.admission_id.nunique()"
   ]
  },
  {
   "cell_type": "code",
   "execution_count": 10,
   "id": "17de4842",
   "metadata": {},
   "outputs": [],
   "source": [
    "# AdmissionID can be used as an index, since all its values are unique\n",
    "# Furthemore, there is no predictive value in it since it is used as an admission identifier\n",
    "df_clean = df_clean.set_index('admission_id')"
   ]
  },
  {
   "cell_type": "markdown",
   "id": "962f6a6f",
   "metadata": {},
   "source": [
    "###### patient_id"
   ]
  },
  {
   "cell_type": "code",
   "execution_count": 11,
   "id": "b86b77e8",
   "metadata": {},
   "outputs": [
    {
     "data": {
      "text/plain": [
       "'12647 out of 60069 unique patients visited the Hospital more than once'"
      ]
     },
     "execution_count": 11,
     "metadata": {},
     "output_type": "execute_result"
    }
   ],
   "source": [
    "## PatientID is also an identifier, thus it does not have any predictive value.\n",
    "total_patients = df.patient_id.nunique()\n",
    "returning_patients = (df.groupby('patient_id').size() > 1).sum()\n",
    "\"{} out of {} unique patients visited the Hospital more than once\".format(returning_patients, total_patients)"
   ]
  },
  {
   "cell_type": "markdown",
   "id": "415f05a8",
   "metadata": {},
   "source": [
    "###### race"
   ]
  },
  {
   "cell_type": "code",
   "execution_count": 12,
   "id": "c09bed00",
   "metadata": {
    "scrolled": true
   },
   "outputs": [
    {
     "data": {
      "text/plain": [
       "race\n",
       "?                    1827\n",
       "AFRICANAMERICAN       156\n",
       "African American     3067\n",
       "AfricanAmerican      9209\n",
       "Afro American        1411\n",
       "Asian                 517\n",
       "Black                1545\n",
       "Caucasian           48733\n",
       "EURO                  587\n",
       "European             2491\n",
       "Hispanic             1305\n",
       "Latino                322\n",
       "Other                1180\n",
       "WHITE                3047\n",
       "White                6015\n",
       "dtype: int64"
      ]
     },
     "execution_count": 12,
     "metadata": {},
     "output_type": "execute_result"
    }
   ],
   "source": [
    "# There are duplicated categories, such as \n",
    "# * 'AFRICANAMERICAN'\n",
    "# * 'African American'\n",
    "# * 'AfricanAmerican'\n",
    "# * 'Afro American'\n",
    "# These must be merged into the same category\n",
    "\n",
    "# There are also unknown values, we should create a category for these\n",
    "\n",
    "df.groupby('race').size()"
   ]
  },
  {
   "cell_type": "code",
   "execution_count": 13,
   "id": "fd142366",
   "metadata": {},
   "outputs": [
    {
     "data": {
      "text/plain": [
       "0"
      ]
     },
     "execution_count": 13,
     "metadata": {},
     "output_type": "execute_result"
    }
   ],
   "source": [
    "df.race.isnull().sum()"
   ]
  },
  {
   "cell_type": "code",
   "execution_count": 14,
   "id": "ae3e97f1",
   "metadata": {},
   "outputs": [],
   "source": [
    "race_mapping = {\n",
    "    'caucasian': 'white',\n",
    "    'euro': 'white',\n",
    "    'black': 'black',\n",
    "    'other': 'other',\n",
    "    'white': 'white',\n",
    "    'africanamerican': 'black',\n",
    "    'afro american': 'black',\n",
    "    'african american': 'black',\n",
    "    '?': np.nan,\n",
    "    'european': 'white',\n",
    "    'asian': 'asian',\n",
    "    'hispanic': 'hispanic',\n",
    "    'latino': 'hispanic',\n",
    "}"
   ]
  },
  {
   "cell_type": "code",
   "execution_count": 15,
   "id": "1462cf47",
   "metadata": {},
   "outputs": [],
   "source": [
    "df_clean['race'] = df.race.apply(lambda x: get_categorical(x, race_mapping, \"unknown\")).astype(\"category\")"
   ]
  },
  {
   "cell_type": "code",
   "execution_count": 16,
   "id": "dd6edf30",
   "metadata": {},
   "outputs": [
    {
     "data": {
      "text/plain": [
       "1827"
      ]
     },
     "execution_count": 16,
     "metadata": {},
     "output_type": "execute_result"
    }
   ],
   "source": [
    "df_clean.race.isnull().sum()"
   ]
  },
  {
   "cell_type": "markdown",
   "id": "dbdc6e40",
   "metadata": {},
   "source": [
    "###### gender"
   ]
  },
  {
   "cell_type": "code",
   "execution_count": 17,
   "id": "756ecf1b",
   "metadata": {},
   "outputs": [
    {
     "data": {
      "text/plain": [
       "gender\n",
       "Female             43719\n",
       "Male               37691\n",
       "Unknown/Invalid        2\n",
       "dtype: int64"
      ]
     },
     "execution_count": 17,
     "metadata": {},
     "output_type": "execute_result"
    }
   ],
   "source": [
    "df.groupby('gender').size()"
   ]
  },
  {
   "cell_type": "code",
   "execution_count": 18,
   "id": "7797f4b0",
   "metadata": {},
   "outputs": [
    {
     "data": {
      "text/plain": [
       "0"
      ]
     },
     "execution_count": 18,
     "metadata": {},
     "output_type": "execute_result"
    }
   ],
   "source": [
    "df.gender.isnull().sum()"
   ]
  },
  {
   "cell_type": "code",
   "execution_count": 19,
   "id": "5478f487",
   "metadata": {},
   "outputs": [],
   "source": [
    "gender_mapping = {\n",
    "    'female': 'femal',\n",
    "    'male': 'male',\n",
    "    'Unknown/Invalid': UNKNOWN_CATEGORY\n",
    "}"
   ]
  },
  {
   "cell_type": "code",
   "execution_count": 20,
   "id": "d412fecd",
   "metadata": {},
   "outputs": [],
   "source": [
    "df_clean['gender'] = df.gender.apply(lambda x: get_categorical(x, gender_mapping, \"unknown\")).astype(\"category\")"
   ]
  },
  {
   "cell_type": "markdown",
   "id": "ecb9f8b1",
   "metadata": {},
   "source": [
    "###### age"
   ]
  },
  {
   "cell_type": "code",
   "execution_count": 21,
   "id": "fdcd428c",
   "metadata": {},
   "outputs": [
    {
     "data": {
      "text/plain": [
       "age\n",
       "[0-10)        136\n",
       "[10-20)       537\n",
       "[20-30)      1297\n",
       "[30-40)      2964\n",
       "[40-50)      7498\n",
       "[50-60)     13414\n",
       "[60-70)     17414\n",
       "[70-80)     20261\n",
       "[80-90)     13383\n",
       "[90-100)     2172\n",
       "dtype: int64"
      ]
     },
     "execution_count": 21,
     "metadata": {},
     "output_type": "execute_result"
    }
   ],
   "source": [
    "df.groupby('age').size()"
   ]
  },
  {
   "cell_type": "code",
   "execution_count": 22,
   "id": "e2aed9c3",
   "metadata": {},
   "outputs": [
    {
     "data": {
      "text/plain": [
       "2336"
      ]
     },
     "execution_count": 22,
     "metadata": {},
     "output_type": "execute_result"
    }
   ],
   "source": [
    "df.age.isnull().sum()"
   ]
  },
  {
   "cell_type": "code",
   "execution_count": 23,
   "id": "9a12a562",
   "metadata": {},
   "outputs": [],
   "source": [
    "age_mapping = {\n",
    "    '[0-10)': 0,\n",
    "    '[10-20)': 10,\n",
    "    '[20-30)': 20,\n",
    "    '[30-40)': 30,\n",
    "    '[40-50)': 40,\n",
    "    '[50-60)': 50,\n",
    "    '[60-70)': 60,\n",
    "    '[70-80)': 70,\n",
    "    '[80-90)': 80,\n",
    "    '[90-100)': 90\n",
    "}"
   ]
  },
  {
   "cell_type": "code",
   "execution_count": 24,
   "id": "c1fed049",
   "metadata": {},
   "outputs": [],
   "source": [
    "df_clean['age'] = df.age.apply(lambda x: get_categorical(x, age_mapping, None)).astype(\"Int64\")"
   ]
  },
  {
   "cell_type": "code",
   "execution_count": 25,
   "id": "c6eb83df",
   "metadata": {},
   "outputs": [
    {
     "data": {
      "text/plain": [
       "age\n",
       "0       136\n",
       "10      537\n",
       "20     1297\n",
       "30     2964\n",
       "40     7498\n",
       "50    13414\n",
       "60    17414\n",
       "70    20261\n",
       "80    13383\n",
       "90     2172\n",
       "dtype: int64"
      ]
     },
     "execution_count": 25,
     "metadata": {},
     "output_type": "execute_result"
    }
   ],
   "source": [
    "df_clean.groupby('age').size()"
   ]
  },
  {
   "cell_type": "code",
   "execution_count": 26,
   "id": "0dc2dd46",
   "metadata": {},
   "outputs": [
    {
     "data": {
      "text/plain": [
       "2336"
      ]
     },
     "execution_count": 26,
     "metadata": {},
     "output_type": "execute_result"
    }
   ],
   "source": [
    "# There are still entries with null age entries\n",
    "# They should be inputed afterwards, depending on the chosen strategy\n",
    "df_clean.age.isnull().sum()"
   ]
  },
  {
   "cell_type": "markdown",
   "id": "d2310550",
   "metadata": {},
   "source": [
    "###### weight"
   ]
  },
  {
   "cell_type": "code",
   "execution_count": 27,
   "id": "4cb3aa79",
   "metadata": {},
   "outputs": [
    {
     "data": {
      "text/plain": [
       "weight\n",
       ">200             3\n",
       "?            77353\n",
       "[0-25)          40\n",
       "[100-125)      482\n",
       "[125-150)      117\n",
       "[150-175)       27\n",
       "[175-200)        8\n",
       "[25-50)         72\n",
       "[50-75)        713\n",
       "[75-100)      1037\n",
       "dtype: int64"
      ]
     },
     "execution_count": 27,
     "metadata": {},
     "output_type": "execute_result"
    }
   ],
   "source": [
    "# There are a lot of nulls/unknowns for the weight\n",
    "\n",
    "df.groupby('weight').size()"
   ]
  },
  {
   "cell_type": "code",
   "execution_count": 28,
   "id": "91b87dc1",
   "metadata": {},
   "outputs": [
    {
     "data": {
      "text/plain": [
       "'Only 4059 out of 81412 (4.99%) weight entries are known'"
      ]
     },
     "execution_count": 28,
     "metadata": {},
     "output_type": "execute_result"
    }
   ],
   "source": [
    "non_null_weight_count = (df.weight != '?').sum()\n",
    "\n",
    "\"Only {} out of {} ({}%) weight entries are known\".format(non_null_weight_count, df.shape[0], round(non_null_weight_count / df.shape[0] * 100, 2))\n"
   ]
  },
  {
   "cell_type": "code",
   "execution_count": 29,
   "id": "ca3743ba",
   "metadata": {},
   "outputs": [],
   "source": [
    "weight_mapping = {\n",
    "    '>200': 200,\n",
    "    '?': None,\n",
    "    '[0-25)': 0,\n",
    "    '[100-125)': 100,\n",
    "    '[125-150)': 125,\n",
    "    '[150-175)': 150,\n",
    "    '[175-200)': 175,\n",
    "    '[25-50)': 25,\n",
    "    '[50-75)': 50,\n",
    "    '[75-100)': 75\n",
    "}\n",
    "\n",
    "df_clean['weight'] = df.weight.apply(lambda x: get_categorical(x, weight_mapping, None)).astype(\"Int64\")\n",
    "\n",
    "# Since there are so little entries available, \n",
    "# Converting this column into a boolean stating if the weight is available or not\n",
    "df_clean['has_weight'] = df_clean.weight != '?'"
   ]
  },
  {
   "cell_type": "markdown",
   "id": "1afbddab",
   "metadata": {},
   "source": [
    "###### admission_type_code"
   ]
  },
  {
   "cell_type": "code",
   "execution_count": 30,
   "id": "43ddf11e",
   "metadata": {},
   "outputs": [
    {
     "data": {
      "text/plain": [
       "admission_type_code\n",
       "1.0    42562\n",
       "2.0    14576\n",
       "3.0    14884\n",
       "4.0        8\n",
       "5.0     3768\n",
       "6.0     4182\n",
       "7.0       16\n",
       "8.0      254\n",
       "dtype: int64"
      ]
     },
     "execution_count": 30,
     "metadata": {},
     "output_type": "execute_result"
    }
   ],
   "source": [
    "df.groupby('admission_type_code').size()"
   ]
  },
  {
   "cell_type": "code",
   "execution_count": 31,
   "id": "3f13b114",
   "metadata": {},
   "outputs": [
    {
     "data": {
      "text/plain": [
       "1162"
      ]
     },
     "execution_count": 31,
     "metadata": {},
     "output_type": "execute_result"
    }
   ],
   "source": [
    "df.admission_type_code.isnull().sum()"
   ]
  },
  {
   "cell_type": "code",
   "execution_count": 32,
   "id": "20092429",
   "metadata": {},
   "outputs": [],
   "source": [
    "admission_type_code_mapping = {\n",
    "    '1': 'Emergency',\n",
    "    '2': 'Emergency', # 'Urgent', Assuming, urgent is the same as emergency\n",
    "    '3': 'Elective',\n",
    "    '4': 'Newborn',\n",
    "    '5': UNKNOWN_CATEGORY, # 'Not Available',\n",
    "    '6': UNKNOWN_CATEGORY, # 'NULL'\n",
    "    '7': 'Trauma Center',\n",
    "    '8': UNKNOWN_CATEGORY # 'Not Mapped'\n",
    "}"
   ]
  },
  {
   "cell_type": "code",
   "execution_count": 33,
   "id": "a80abb21",
   "metadata": {},
   "outputs": [],
   "source": [
    "df_clean['admission_type_code'] = (df.admission_type_code\n",
    "                                   .fillna(6) # Fill nulls with NULL entry\n",
    "                                   .astype('int64')\n",
    "                                   .apply(lambda x: get_categorical(str(x), admission_type_code_mapping))\n",
    "                                   .astype(\"category\"))"
   ]
  },
  {
   "cell_type": "code",
   "execution_count": 34,
   "id": "37b1d4ce",
   "metadata": {},
   "outputs": [
    {
     "data": {
      "text/plain": [
       "admission_type_code\n",
       "Elective         14884\n",
       "Emergency        57138\n",
       "Newborn              8\n",
       "Trauma Center       16\n",
       "unknown           9366\n",
       "dtype: int64"
      ]
     },
     "execution_count": 34,
     "metadata": {},
     "output_type": "execute_result"
    }
   ],
   "source": [
    "df_clean.groupby('admission_type_code').size()"
   ]
  },
  {
   "cell_type": "markdown",
   "id": "6902bb46",
   "metadata": {},
   "source": [
    "###### discharge_disposition_code"
   ]
  },
  {
   "cell_type": "code",
   "execution_count": 35,
   "id": "8be88706",
   "metadata": {},
   "outputs": [
    {
     "data": {
      "text/plain": [
       "discharge_disposition_code\n",
       "1.0     47854\n",
       "2.0      1690\n",
       "3.0     11097\n",
       "4.0       650\n",
       "5.0       936\n",
       "6.0     10244\n",
       "7.0       506\n",
       "8.0        85\n",
       "9.0        18\n",
       "10.0        5\n",
       "11.0     1312\n",
       "12.0        2\n",
       "13.0      314\n",
       "14.0      294\n",
       "15.0       51\n",
       "16.0        7\n",
       "17.0       12\n",
       "18.0     2912\n",
       "19.0        5\n",
       "22.0     1580\n",
       "23.0      324\n",
       "24.0       40\n",
       "25.0      793\n",
       "27.0        4\n",
       "28.0      106\n",
       "dtype: int64"
      ]
     },
     "execution_count": 35,
     "metadata": {},
     "output_type": "execute_result"
    }
   ],
   "source": [
    "df.groupby('discharge_disposition_code').size()"
   ]
  },
  {
   "cell_type": "code",
   "execution_count": 36,
   "id": "35c77a82",
   "metadata": {},
   "outputs": [
    {
     "data": {
      "text/plain": [
       "571"
      ]
     },
     "execution_count": 36,
     "metadata": {},
     "output_type": "execute_result"
    }
   ],
   "source": [
    "df.discharge_disposition_code.isnull().sum()"
   ]
  },
  {
   "cell_type": "code",
   "execution_count": 37,
   "id": "76126aae",
   "metadata": {},
   "outputs": [],
   "source": [
    "discharge_disposition_code_mapping = {\n",
    "    '1': 'Discharged to home',\n",
    "    '2': 'Discharged/transferred to another short term hospital',\n",
    "    '3': 'Discharged/transferred to SNF',\n",
    "    '4': 'Discharged/transferred to ICF',\n",
    "    '5': 'Discharged/transferred to another type of inpatient care institution',\n",
    "    '6': 'Discharged/transferred to home with home health service',\n",
    "    '7': 'Left AMA',\n",
    "    '8': 'Discharged/transferred to home under care of Home IV provider',\n",
    "    '9': 'Admitted as an inpatient to this hospital',\n",
    "    '10': 'Neonate discharged to another hospital for neonatal aftercare',\n",
    "    '11': 'Expired',\n",
    "    '12': 'Still patient or expected to return for outpatient services',\n",
    "    '13': 'Hospice / home',\n",
    "    '14': 'Hospice / medical facility',\n",
    "    '15': 'Discharged/transferred within this institution to Medicare approved swing bed',\n",
    "    '16': 'Discharged/transferred/referred another institution for outpatient services',\n",
    "    '17': 'Discharged/transferred/referred to this institution for outpatient services',\n",
    "    '18': UNKNOWN_CATEGORY, #'NULL',\n",
    "    '19': 'Expired at home. Medicaid only: hospice',\n",
    "    '20': 'Expired in a medical facility. Medicaid only: hospice',\n",
    "    '21': 'Expired: place unknown. Medicaid only: hospice',\n",
    "    '22': 'Discharged/transferred to another rehab fac including rehab units of a hospital',\n",
    "    '23': 'Discharged/transferred to a long term care hospital',\n",
    "    '24': 'Discharged/transferred to a nursing facility certified under Medicaid but not certified under Medicare',\n",
    "    '25': UNKNOWN_CATEGORY, #'Not Mapped',\n",
    "    '26': UNKNOWN_CATEGORY, #'Unknown/Invalid',\n",
    "    '30': 'Discharged/transferred to another Type of Health Care Institution not Defined Elsewhere',\n",
    "    '27': 'Discharged/transferred to a federal health care facility',\n",
    "    '28': 'Discharged/transferred/referred to a psychiatric hospital of psychiatric distinct part unit of a hospital',\n",
    "    '29': 'Discharged/transferred to a Critical Access Hospital (CAH)',\n",
    "}"
   ]
  },
  {
   "cell_type": "code",
   "execution_count": 38,
   "id": "574d3b2b",
   "metadata": {},
   "outputs": [],
   "source": [
    "df_clean['discharge_disposition_code'] = (df.discharge_disposition_code\n",
    "                                          .fillna(26)\n",
    "                                          .astype('int64')\n",
    "                                          .apply(lambda x: get_categorical(str(x), discharge_disposition_code_mapping))\n",
    "                                          .astype(\"category\")\n",
    "                                         )"
   ]
  },
  {
   "cell_type": "markdown",
   "id": "7cf407c7",
   "metadata": {},
   "source": [
    "###### admission_source_code"
   ]
  },
  {
   "cell_type": "code",
   "execution_count": 39,
   "id": "4baabdfc",
   "metadata": {
    "scrolled": true
   },
   "outputs": [
    {
     "data": {
      "text/plain": [
       "admission_source_code\n",
       "1     23684\n",
       "2       878\n",
       "3       148\n",
       "4      2581\n",
       "5       681\n",
       "6      1819\n",
       "7     45942\n",
       "8        15\n",
       "9        99\n",
       "10        6\n",
       "11        2\n",
       "13        1\n",
       "14        2\n",
       "17     5412\n",
       "20      130\n",
       "22       10\n",
       "25        2\n",
       "dtype: int64"
      ]
     },
     "execution_count": 39,
     "metadata": {},
     "output_type": "execute_result"
    }
   ],
   "source": [
    "df.groupby('admission_source_code').size()"
   ]
  },
  {
   "cell_type": "code",
   "execution_count": 40,
   "id": "65e8c6ab",
   "metadata": {},
   "outputs": [],
   "source": [
    "admission_source_code_mapping = {\n",
    "    '1': 'Physician Referral',\n",
    "    '2': 'Clinic Referral',\n",
    "    '3': 'HMO Referral',\n",
    "    '4': 'Transfer from a hospital',\n",
    "    '5': 'Transfer from a Skilled Nursing Facility (SNF)',\n",
    "    '6': 'Transfer from another health care facility',\n",
    "    '7': 'Emergency Room',\n",
    "    '8': 'Court/Law Enforcement',\n",
    "    '9': UNKNOWN_CATEGORY, #'Not Available',\n",
    "    '10': 'Transfer from critial access hospital',\n",
    "    '11': 'Normal Delivery',\n",
    "    '12': 'Premature Delivery',\n",
    "    '13': 'Sick Baby',\n",
    "    '14': 'Extramural Birth',\n",
    "    '15': UNKNOWN_CATEGORY, # 'Not Available',\n",
    "    '17': UNKNOWN_CATEGORY, # 'NULL',\n",
    "    '18': 'Transfer From Another Home Health Agency',\n",
    "    '19': 'Readmission to Same Home Health Agency',\n",
    "    '20': UNKNOWN_CATEGORY, # 'Not Mapped',\n",
    "    '21': UNKNOWN_CATEGORY, #'Unknown/Invalid',\n",
    "    '22': 'Transfer from hospital inpt/same fac reslt in a sep claim',\n",
    "    '23': 'Born inside this hospital',\n",
    "    '24': 'Born outside this hospital',\n",
    "    '25': 'Transfer from Ambulatory Surgery Center',\n",
    "    '26': 'Transfer from Hospice',\n",
    "}\n"
   ]
  },
  {
   "cell_type": "code",
   "execution_count": 41,
   "id": "2729fa8f",
   "metadata": {},
   "outputs": [],
   "source": [
    "df_clean['admission_source_code'] = (df.admission_source_code\n",
    "                                     .apply(lambda x: get_categorical(str(x), admission_source_code_mapping))\n",
    "                                     .astype(\"category\")\n",
    "                                     )"
   ]
  },
  {
   "cell_type": "code",
   "execution_count": 42,
   "id": "68398530",
   "metadata": {},
   "outputs": [
    {
     "data": {
      "text/plain": [
       "admission_source_code\n",
       "Clinic Referral                                                878\n",
       "Court/Law Enforcement                                           15\n",
       "Emergency Room                                               45942\n",
       "Extramural Birth                                                 2\n",
       "HMO Referral                                                   148\n",
       "Normal Delivery                                                  2\n",
       "Physician Referral                                           23684\n",
       "Sick Baby                                                        1\n",
       "Transfer from Ambulatory Surgery Center                          2\n",
       "Transfer from a Skilled Nursing Facility (SNF)                 681\n",
       "Transfer from a hospital                                      2581\n",
       "Transfer from another health care facility                    1819\n",
       "Transfer from critial access hospital                            6\n",
       "Transfer from hospital inpt/same fac reslt in a sep claim       10\n",
       "unknown                                                       5641\n",
       "dtype: int64"
      ]
     },
     "execution_count": 42,
     "metadata": {},
     "output_type": "execute_result"
    }
   ],
   "source": [
    "df_clean.groupby('admission_source_code').size()"
   ]
  },
  {
   "cell_type": "markdown",
   "id": "407083dd",
   "metadata": {},
   "source": [
    "###### time_in_hospital"
   ]
  },
  {
   "cell_type": "code",
   "execution_count": 43,
   "id": "df1996a0",
   "metadata": {},
   "outputs": [
    {
     "data": {
      "text/plain": [
       "time_in_hospital\n",
       "1     11302\n",
       "2     13723\n",
       "3     14223\n",
       "4     11228\n",
       "5      7975\n",
       "6      6059\n",
       "7      4717\n",
       "8      3528\n",
       "9      2372\n",
       "10     1886\n",
       "11     1488\n",
       "12     1153\n",
       "13      944\n",
       "14      814\n",
       "dtype: int64"
      ]
     },
     "execution_count": 43,
     "metadata": {},
     "output_type": "execute_result"
    }
   ],
   "source": [
    "# Everything looks fine regarding this variable\n",
    "df.groupby('time_in_hospital').size()"
   ]
  },
  {
   "cell_type": "code",
   "execution_count": 44,
   "id": "b49399f5",
   "metadata": {},
   "outputs": [
    {
     "data": {
      "text/plain": [
       "0"
      ]
     },
     "execution_count": 44,
     "metadata": {},
     "output_type": "execute_result"
    }
   ],
   "source": [
    "df.time_in_hospital.isna().sum()"
   ]
  },
  {
   "cell_type": "markdown",
   "id": "8bbd14b6",
   "metadata": {},
   "source": [
    "###### payer_code"
   ]
  },
  {
   "cell_type": "code",
   "execution_count": 45,
   "id": "af56637e",
   "metadata": {},
   "outputs": [
    {
     "data": {
      "text/plain": [
       "payer_code\n",
       "?     32278\n",
       "BC     3718\n",
       "CH      124\n",
       "CM     1551\n",
       "CP     2053\n",
       "DM      442\n",
       "FR        1\n",
       "HM     4973\n",
       "MC    25952\n",
       "MD     2824\n",
       "MP       69\n",
       "OG      795\n",
       "OT       80\n",
       "PO      469\n",
       "SI       47\n",
       "SP     4003\n",
       "UN     1925\n",
       "WC      108\n",
       "dtype: int64"
      ]
     },
     "execution_count": 45,
     "metadata": {},
     "output_type": "execute_result"
    }
   ],
   "source": [
    "df.groupby('payer_code').size()"
   ]
  },
  {
   "cell_type": "code",
   "execution_count": 46,
   "id": "28ed4a65",
   "metadata": {},
   "outputs": [
    {
     "data": {
      "text/plain": [
       "0"
      ]
     },
     "execution_count": 46,
     "metadata": {},
     "output_type": "execute_result"
    }
   ],
   "source": [
    "df.payer_code.isnull().sum()"
   ]
  },
  {
   "cell_type": "code",
   "execution_count": 47,
   "id": "8e0f7bee",
   "metadata": {},
   "outputs": [],
   "source": [
    "df_clean['payer_code'] = (df.payer_code\n",
    "                         .apply(lambda x: UNKNOWN_CATEGORY if x == '?' else x)\n",
    "                         .astype(\"category\")\n",
    "                         )"
   ]
  },
  {
   "cell_type": "markdown",
   "id": "9023be8a",
   "metadata": {},
   "source": [
    "###### medical_specialty"
   ]
  },
  {
   "cell_type": "code",
   "execution_count": 48,
   "id": "1350cbe8",
   "metadata": {},
   "outputs": [
    {
     "data": {
      "text/plain": [
       "array(['?', 'Emergency/Trauma', 'InternalMedicine',\n",
       "       'Family/GeneralPractice', 'Radiologist', 'Orthopedics',\n",
       "       'Cardiology', 'PhysicalMedicineandRehabilitation',\n",
       "       'Orthopedics-Reconstructive', 'Psychiatry', 'Surgery-Thoracic',\n",
       "       'Surgery-Vascular', 'Hematology/Oncology', 'Osteopath',\n",
       "       'ObstetricsandGynecology', 'Pediatrics', 'Nephrology',\n",
       "       'Otolaryngology', 'Urology', 'Surgery-General',\n",
       "       'Anesthesiology-Pediatric', 'Surgery-Cardiovascular/Thoracic',\n",
       "       'Gastroenterology', 'Pulmonology', 'Oncology', 'Podiatry',\n",
       "       'Surgery-Neuro', 'Pediatrics-Endocrinology', 'Neurology',\n",
       "       'Obstetrics', 'Endocrinology', 'PhysicianNotFound', 'Hospitalist',\n",
       "       'Pathology', 'Surgery-Pediatric', 'Radiology', 'Surgery-Plastic',\n",
       "       'Pediatrics-CriticalCare', 'Psychology',\n",
       "       'Psychiatry-Child/Adolescent', 'Ophthalmology',\n",
       "       'Surgery-Cardiovascular', 'Pediatrics-Pulmonology', 'DCPTEAM',\n",
       "       'Obsterics&Gynecology-GynecologicOnco', 'Surgeon',\n",
       "       'Pediatrics-EmergencyMedicine', 'Hematology',\n",
       "       'AllergyandImmunology', 'SurgicalSpecialty', 'OutreachServices',\n",
       "       'Rheumatology', 'Dentistry', 'Gynecology', 'InfectiousDiseases',\n",
       "       'Anesthesiology', 'Surgery-Colon&Rectal', 'Pediatrics-Neurology',\n",
       "       'Perinatology', 'Neurophysiology', 'Psychiatry-Addictive',\n",
       "       'Dermatology', 'Proctology', 'Cardiology-Pediatric', 'Speech',\n",
       "       'Resident', 'Endocrinology-Metabolism', 'Surgery-Maxillofacial',\n",
       "       'Pediatrics-AllergyandImmunology',\n",
       "       'Pediatrics-Hematology-Oncology', 'SportsMedicine'], dtype=object)"
      ]
     },
     "execution_count": 48,
     "metadata": {},
     "output_type": "execute_result"
    }
   ],
   "source": [
    "df.medical_specialty.unique()"
   ]
  },
  {
   "cell_type": "code",
   "execution_count": 49,
   "id": "c4297c98",
   "metadata": {},
   "outputs": [
    {
     "data": {
      "image/png": "[encoded data removed]",
      "text/plain": [
       "<Figure size 432x288 with 1 Axes>"
      ]
     },
     "metadata": {
      "needs_background": "light"
     },
     "output_type": "display_data"
    }
   ],
   "source": [
    "df.medical_specialty.value_counts().plot(kind='bar');\n",
    "#plt.xlabel('Race');\n",
    "#plt.ylabel('Count');"
   ]
  },
  {
   "cell_type": "code",
   "execution_count": 50,
   "id": "4c7452a8",
   "metadata": {},
   "outputs": [
    {
     "name": "stdout",
     "output_type": "stream",
     "text": [
      "?                                       49.157372\n",
      "InternalMedicine                        14.386086\n",
      "Emergency/Trauma                         7.395716\n",
      "Family/GeneralPractice                   7.294993\n",
      "Cardiology                               5.248612\n",
      "Surgery-General                          3.037636\n",
      "Nephrology                               1.595588\n",
      "Orthopedics                              1.351152\n",
      "Orthopedics-Reconstructive               1.204982\n",
      "Radiologist                              1.121456\n",
      "Pulmonology                              0.859824\n",
      "Psychiatry                               0.827888\n",
      "Urology                                  0.662065\n",
      "ObstetricsandGynecology                  0.652238\n",
      "Surgery-Cardiovascular/Thoracic          0.647325\n",
      "Gastroenterology                         0.571169\n",
      "Surgery-Vascular                         0.538004\n",
      "Surgery-Neuro                            0.458163\n",
      "PhysicalMedicineandRehabilitation        0.366039\n",
      "Oncology                                 0.343930\n",
      "Pediatrics                               0.259176\n",
      "Neurology                                0.210043\n",
      "Hematology/Oncology                      0.202673\n",
      "Pediatrics-Endocrinology                 0.149855\n",
      "Otolaryngology                           0.127745\n",
      "Endocrinology                            0.115462\n",
      "Podiatry                                 0.101951\n",
      "Surgery-Thoracic                         0.097037\n",
      "Psychology                               0.094581\n",
      "Pediatrics-CriticalCare                  0.093352\n",
      "Surgery-Cardiovascular                   0.088439\n",
      "Hematology                               0.079841\n",
      "Gynecology                               0.055274\n",
      "Hospitalist                              0.054046\n",
      "Radiology                                0.051589\n",
      "Surgeon                                  0.044220\n",
      "Ophthalmology                            0.041763\n",
      "Surgery-Plastic                          0.036850\n",
      "Osteopath                                0.035621\n",
      "InfectiousDiseases                       0.035621\n",
      "SurgicalSpecialty                        0.033165\n",
      "Obsterics&Gynecology-GynecologicOnco     0.028251\n",
      "Pediatrics-Pulmonology                   0.025795\n",
      "Anesthesiology-Pediatric                 0.020881\n",
      "Pathology                                0.019653\n",
      "Obstetrics                               0.018425\n",
      "Rheumatology                             0.017196\n",
      "Surgery-Colon&Rectal                     0.013512\n",
      "PhysicianNotFound                        0.012283\n",
      "OutreachServices                         0.012283\n",
      "Anesthesiology                           0.011055\n",
      "Surgery-Maxillofacial                    0.011055\n",
      "Pediatrics-Neurology                     0.009827\n",
      "Surgery-Pediatric                        0.008598\n",
      "AllergyandImmunology                     0.008598\n",
      "Cardiology-Pediatric                     0.007370\n",
      "Psychiatry-Child/Adolescent              0.007370\n",
      "Endocrinology-Metabolism                 0.007370\n",
      "DCPTEAM                                  0.006142\n",
      "Dentistry                                0.004913\n",
      "Pediatrics-Hematology-Oncology           0.004913\n",
      "Pediatrics-AllergyandImmunology          0.003685\n",
      "Pediatrics-EmergencyMedicine             0.002457\n",
      "SportsMedicine                           0.001228\n",
      "Proctology                               0.001228\n",
      "Resident                                 0.001228\n",
      "Speech                                   0.001228\n",
      "Psychiatry-Addictive                     0.001228\n",
      "Neurophysiology                          0.001228\n",
      "Perinatology                             0.001228\n",
      "Dermatology                              0.001228\n"
     ]
    }
   ],
   "source": [
    "print((df.medical_specialty.value_counts() / df.shape[0] * 100).to_string())"
   ]
  },
  {
   "cell_type": "code",
   "execution_count": 51,
   "id": "e60ff3da",
   "metadata": {},
   "outputs": [],
   "source": [
    "df_clean['medical_specialty'] = (df.medical_specialty\n",
    "                                 .apply(lambda x: np.nan) #UNKNOWN_CATEGORY if x == '?' else x)\n",
    "                                 .astype(\"category\")\n",
    "                                 )"
   ]
  },
  {
   "cell_type": "code",
   "execution_count": 52,
   "id": "3e6b05e0",
   "metadata": {},
   "outputs": [
    {
     "data": {
      "text/plain": [
       "Series([], dtype: int64)"
      ]
     },
     "execution_count": 52,
     "metadata": {},
     "output_type": "execute_result"
    }
   ],
   "source": [
    "df_clean.groupby('medical_specialty').size()"
   ]
  },
  {
   "cell_type": "code",
   "execution_count": null,
   "id": "fc14348e",
   "metadata": {},
   "outputs": [],
   "source": []
  },
  {
   "cell_type": "code",
   "execution_count": 53,
   "id": "1670f686",
   "metadata": {},
   "outputs": [
    {
     "data": {
      "image/png": "[encoded data removed]",
      "text/plain": [
       "<Figure size 432x288 with 1 Axes>"
      ]
     },
     "metadata": {
      "needs_background": "light"
     },
     "output_type": "display_data"
    }
   ],
   "source": [
    "df.medical_specialty.value_counts().plot(kind='bar');"
   ]
  },
  {
   "cell_type": "markdown",
   "id": "19b61c91",
   "metadata": {},
   "source": [
    "###### has_prosthesis"
   ]
  },
  {
   "cell_type": "code",
   "execution_count": 54,
   "id": "792528ac",
   "metadata": {},
   "outputs": [
    {
     "data": {
      "text/plain": [
       "False    80550\n",
       "True       862\n",
       "Name: has_prosthesis, dtype: int64"
      ]
     },
     "execution_count": 54,
     "metadata": {},
     "output_type": "execute_result"
    }
   ],
   "source": [
    "df.has_prosthesis.value_counts()"
   ]
  },
  {
   "cell_type": "code",
   "execution_count": 55,
   "id": "1ec91c1a",
   "metadata": {},
   "outputs": [
    {
     "data": {
      "text/plain": [
       "0"
      ]
     },
     "execution_count": 55,
     "metadata": {},
     "output_type": "execute_result"
    }
   ],
   "source": [
    "df.has_prosthesis.isnull().sum()"
   ]
  },
  {
   "cell_type": "code",
   "execution_count": 56,
   "id": "8fac81d1",
   "metadata": {},
   "outputs": [
    {
     "data": {
      "text/plain": [
       "dtype('bool')"
      ]
     },
     "execution_count": 56,
     "metadata": {},
     "output_type": "execute_result"
    }
   ],
   "source": [
    "df.has_prosthesis.dtypes"
   ]
  },
  {
   "cell_type": "markdown",
   "id": "9f1b52ed",
   "metadata": {},
   "source": [
    "###### complete_vaccination_status"
   ]
  },
  {
   "cell_type": "code",
   "execution_count": 57,
   "id": "a898c194",
   "metadata": {},
   "outputs": [
    {
     "data": {
      "text/plain": [
       "complete_vaccination_status\n",
       "Complete      67114\n",
       "Incomplete    13978\n",
       "None            320\n",
       "dtype: int64"
      ]
     },
     "execution_count": 57,
     "metadata": {},
     "output_type": "execute_result"
    }
   ],
   "source": [
    "df.groupby('complete_vaccination_status').size()"
   ]
  },
  {
   "cell_type": "code",
   "execution_count": 58,
   "id": "21987f85",
   "metadata": {},
   "outputs": [
    {
     "data": {
      "text/plain": [
       "0"
      ]
     },
     "execution_count": 58,
     "metadata": {},
     "output_type": "execute_result"
    }
   ],
   "source": [
    "df.complete_vaccination_status.isnull().sum()"
   ]
  },
  {
   "cell_type": "code",
   "execution_count": 59,
   "id": "79b8a76a",
   "metadata": {},
   "outputs": [],
   "source": [
    "complete_vaccination_status_mapping = {\n",
    "    'none': 'none',\n",
    "    'incomplete': 'incomplete',\n",
    "    'complete': 'complete'\n",
    "}"
   ]
  },
  {
   "cell_type": "code",
   "execution_count": 60,
   "id": "f0bbeff7",
   "metadata": {},
   "outputs": [],
   "source": [
    "df_clean['complete_vaccination_status'] = (df.complete_vaccination_status\n",
    "                                           .apply(lambda x: get_categorical(x, complete_vaccination_status_mapping))\n",
    "                                           .astype(pd.CategoricalDtype(['none', 'incomplete', 'complete'], ordered=True))\n",
    "                                          )"
   ]
  },
  {
   "cell_type": "markdown",
   "id": "ab75c91c",
   "metadata": {},
   "source": [
    "###### num_lab_procedures"
   ]
  },
  {
   "cell_type": "code",
   "execution_count": 110,
   "id": "54978e47",
   "metadata": {},
   "outputs": [
    {
     "data": {
      "text/plain": [
       "dtype('float64')"
      ]
     },
     "execution_count": 110,
     "metadata": {},
     "output_type": "execute_result"
    }
   ],
   "source": [
    "df.num_lab_procedures.dtypes"
   ]
  },
  {
   "cell_type": "code",
   "execution_count": 62,
   "id": "56f0344f",
   "metadata": {},
   "outputs": [],
   "source": [
    "df_clean['num_lab_procedures'] = df.num_lab_procedures.astype(\"Int64\")"
   ]
  },
  {
   "cell_type": "code",
   "execution_count": 63,
   "id": "bb9e9bf1",
   "metadata": {},
   "outputs": [
    {
     "data": {
      "text/plain": [
       "1493"
      ]
     },
     "execution_count": 63,
     "metadata": {},
     "output_type": "execute_result"
    }
   ],
   "source": [
    "df.num_lab_procedures.isnull().sum()"
   ]
  },
  {
   "cell_type": "markdown",
   "id": "284d4b7c",
   "metadata": {},
   "source": [
    "###### num_procedures"
   ]
  },
  {
   "cell_type": "code",
   "execution_count": 64,
   "id": "acc1f2b3",
   "metadata": {},
   "outputs": [
    {
     "data": {
      "text/plain": [
       "0"
      ]
     },
     "execution_count": 64,
     "metadata": {},
     "output_type": "execute_result"
    }
   ],
   "source": [
    "# There are no null values, no pre processing is required\n",
    "df.num_procedures.isnull().sum()"
   ]
  },
  {
   "cell_type": "markdown",
   "id": "2e4b54a1",
   "metadata": {},
   "source": [
    "###### num_medications"
   ]
  },
  {
   "cell_type": "code",
   "execution_count": 65,
   "id": "61dc7145",
   "metadata": {},
   "outputs": [
    {
     "data": {
      "text/plain": [
       "2678"
      ]
     },
     "execution_count": 65,
     "metadata": {},
     "output_type": "execute_result"
    }
   ],
   "source": [
    "df.num_medications.isnull().sum()"
   ]
  },
  {
   "cell_type": "code",
   "execution_count": 66,
   "id": "2025c417",
   "metadata": {},
   "outputs": [],
   "source": [
    "df_clean['num_medications'] = df.num_medications.astype(\"Int64\")"
   ]
  },
  {
   "cell_type": "markdown",
   "id": "4a1942b2",
   "metadata": {},
   "source": [
    "###### number_outpatient"
   ]
  },
  {
   "cell_type": "code",
   "execution_count": 67,
   "id": "3dad3e2d",
   "metadata": {},
   "outputs": [
    {
     "data": {
      "text/plain": [
       "0"
      ]
     },
     "execution_count": 67,
     "metadata": {},
     "output_type": "execute_result"
    }
   ],
   "source": [
    "# Outpatient - A patient whose treatment does not require an overnight stay in a hospital or clinic.\n",
    "# There are no null values, no pre processing is required\n",
    "df.number_outpatient.isnull().sum()"
   ]
  },
  {
   "cell_type": "code",
   "execution_count": 112,
   "id": "6b287bc3",
   "metadata": {},
   "outputs": [
    {
     "data": {
      "text/plain": [
       "dtype('int64')"
      ]
     },
     "execution_count": 112,
     "metadata": {},
     "output_type": "execute_result"
    }
   ],
   "source": [
    "df.number_outpatient.dtypes"
   ]
  },
  {
   "cell_type": "markdown",
   "id": "596eed92",
   "metadata": {},
   "source": [
    "###### number_emergency"
   ]
  },
  {
   "cell_type": "code",
   "execution_count": 113,
   "id": "dc8c0640",
   "metadata": {},
   "outputs": [
    {
     "data": {
      "text/plain": [
       "0"
      ]
     },
     "execution_count": 113,
     "metadata": {},
     "output_type": "execute_result"
    }
   ],
   "source": [
    "# There are no null values, no pre processing is required\n",
    "df.number_emergency.isnull().sum()"
   ]
  },
  {
   "cell_type": "code",
   "execution_count": 114,
   "id": "6e2a90d5",
   "metadata": {},
   "outputs": [
    {
     "data": {
      "text/plain": [
       "dtype('int64')"
      ]
     },
     "execution_count": 114,
     "metadata": {},
     "output_type": "execute_result"
    }
   ],
   "source": [
    "df.number_emergency.dtypes"
   ]
  },
  {
   "cell_type": "markdown",
   "id": "ffbfda45",
   "metadata": {},
   "source": [
    "###### number_inpatient"
   ]
  },
  {
   "cell_type": "code",
   "execution_count": 69,
   "id": "2966e11d",
   "metadata": {},
   "outputs": [
    {
     "data": {
      "text/plain": [
       "0"
      ]
     },
     "execution_count": 69,
     "metadata": {},
     "output_type": "execute_result"
    }
   ],
   "source": [
    "# There are no null values, no pre processing is required\n",
    "df.number_inpatient.isnull().sum()"
   ]
  },
  {
   "cell_type": "code",
   "execution_count": 115,
   "id": "524e994d",
   "metadata": {},
   "outputs": [
    {
     "data": {
      "text/plain": [
       "dtype('int64')"
      ]
     },
     "execution_count": 115,
     "metadata": {},
     "output_type": "execute_result"
    }
   ],
   "source": [
    "df.number_inpatient.dtypes"
   ]
  },
  {
   "cell_type": "markdown",
   "id": "88de8003",
   "metadata": {},
   "source": [
    "###### diag_1, diag_2, diag_3"
   ]
  },
  {
   "cell_type": "code",
   "execution_count": 70,
   "id": "d5154ce2",
   "metadata": {
    "scrolled": true
   },
   "outputs": [],
   "source": [
    "# Maybe we could merge the codes into their categories from:\n",
    "# https://en.wikipedia.org/wiki/List_of_ICD-9_codes\n",
    "\n",
    "unique_diags = df.diag_1.append(df.diag_2).append(df.diag_3).str.lower().unique()\n",
    "\n",
    "diag_mapping = {}\n",
    "for diag in unique_diags:\n",
    "    diag_mapping[str(diag).lower()] = diag\n",
    "\n",
    "diag_category = pd.CategoricalDtype(list(diag_mapping.keys()), ordered=False)"
   ]
  },
  {
   "cell_type": "code",
   "execution_count": 71,
   "id": "ff570f23",
   "metadata": {},
   "outputs": [],
   "source": [
    "df_clean['diag_1'] = (df.diag_1\n",
    "                      .apply(lambda x: get_categorical(str(x), diag_mapping))\n",
    "                      .astype(diag_category)\n",
    "                     )\n",
    "\n",
    "df_clean['diag_2'] = (df.diag_2\n",
    "                      .apply(lambda x: get_categorical(str(x), diag_mapping))\n",
    "                      .astype(diag_category)\n",
    "                     )\n",
    "\n",
    "df_clean['diag_3'] = (df.diag_3\n",
    "                      .apply(lambda x: get_categorical(str(x), diag_mapping))\n",
    "                      .astype(diag_category)\n",
    "                     )"
   ]
  },
  {
   "cell_type": "markdown",
   "id": "34d2a593",
   "metadata": {},
   "source": [
    "###### number_diagnoses"
   ]
  },
  {
   "cell_type": "code",
   "execution_count": 72,
   "id": "cd50f032",
   "metadata": {},
   "outputs": [
    {
     "data": {
      "text/plain": [
       "0"
      ]
     },
     "execution_count": 72,
     "metadata": {},
     "output_type": "execute_result"
    }
   ],
   "source": [
    "# There are no null values, no pre processing is required\n",
    "df.number_diagnoses.isnull().sum()"
   ]
  },
  {
   "cell_type": "code",
   "execution_count": 117,
   "id": "976121c8",
   "metadata": {},
   "outputs": [
    {
     "data": {
      "text/plain": [
       "dtype('int64')"
      ]
     },
     "execution_count": 117,
     "metadata": {},
     "output_type": "execute_result"
    }
   ],
   "source": [
    "df.number_diagnoses.dtypes"
   ]
  },
  {
   "cell_type": "markdown",
   "id": "439814f3",
   "metadata": {},
   "source": [
    "###### blood_type"
   ]
  },
  {
   "cell_type": "code",
   "execution_count": 73,
   "id": "82968c64",
   "metadata": {},
   "outputs": [
    {
     "data": {
      "text/plain": [
       "blood_type\n",
       "A+     24744\n",
       "A-      4826\n",
       "AB+     2619\n",
       "AB-      779\n",
       "B+      9218\n",
       "B-      1484\n",
       "O+     32053\n",
       "O-      5689\n",
       "dtype: int64"
      ]
     },
     "execution_count": 73,
     "metadata": {},
     "output_type": "execute_result"
    }
   ],
   "source": [
    "df.groupby('blood_type').size()"
   ]
  },
  {
   "cell_type": "code",
   "execution_count": 74,
   "id": "c560d655",
   "metadata": {},
   "outputs": [],
   "source": [
    "blood_type_mapping = {\n",
    "    'a+': 'A+',\n",
    "    'a-': 'A-',\n",
    "    'ab+': 'AB+',\n",
    "    'ab-': 'AB-',\n",
    "    'b+': 'B+',\n",
    "    'b-': 'B-',\n",
    "    'o+': 'O+',\n",
    "    'o-': 'O-',\n",
    "}"
   ]
  },
  {
   "cell_type": "code",
   "execution_count": 75,
   "id": "ae10b7bd",
   "metadata": {},
   "outputs": [],
   "source": [
    "df_clean['blood_type'] = (df.blood_type\n",
    "                          .apply(lambda x: get_categorical(x, blood_type_mapping))\n",
    "                          .astype(\"category\")\n",
    "                         )"
   ]
  },
  {
   "cell_type": "markdown",
   "id": "f338e069",
   "metadata": {},
   "source": [
    "###### hemoglobin_level"
   ]
  },
  {
   "cell_type": "code",
   "execution_count": 76,
   "id": "78e3ec62",
   "metadata": {},
   "outputs": [
    {
     "data": {
      "text/plain": [
       "hemoglobin_level\n",
       "10.5    2\n",
       "10.8    2\n",
       "10.9    3\n",
       "11.0    5\n",
       "11.1    3\n",
       "       ..\n",
       "17.9    2\n",
       "18.0    1\n",
       "18.1    2\n",
       "18.2    2\n",
       "18.6    1\n",
       "Length: 77, dtype: int64"
      ]
     },
     "execution_count": 76,
     "metadata": {},
     "output_type": "execute_result"
    }
   ],
   "source": [
    "df.groupby('hemoglobin_level').size()"
   ]
  },
  {
   "cell_type": "code",
   "execution_count": 77,
   "id": "50ecd668",
   "metadata": {},
   "outputs": [
    {
     "data": {
      "text/plain": [
       "0"
      ]
     },
     "execution_count": 77,
     "metadata": {},
     "output_type": "execute_result"
    }
   ],
   "source": [
    "df.hemoglobin_level.isnull().sum()"
   ]
  },
  {
   "cell_type": "markdown",
   "id": "8f40b984",
   "metadata": {},
   "source": [
    "###### blood_transfusion"
   ]
  },
  {
   "cell_type": "code",
   "execution_count": 78,
   "id": "8720e262",
   "metadata": {},
   "outputs": [
    {
     "data": {
      "text/plain": [
       "0"
      ]
     },
     "execution_count": 78,
     "metadata": {},
     "output_type": "execute_result"
    }
   ],
   "source": [
    "df.blood_transfusion.isnull().sum()"
   ]
  },
  {
   "cell_type": "code",
   "execution_count": 79,
   "id": "72a7e577",
   "metadata": {},
   "outputs": [
    {
     "data": {
      "text/plain": [
       "blood_transfusion\n",
       "False    71697\n",
       "True      9715\n",
       "dtype: int64"
      ]
     },
     "execution_count": 79,
     "metadata": {},
     "output_type": "execute_result"
    }
   ],
   "source": [
    "df.groupby('blood_transfusion').size()"
   ]
  },
  {
   "cell_type": "code",
   "execution_count": 118,
   "id": "3a02bc06",
   "metadata": {},
   "outputs": [],
   "source": [
    "df_clean['blood_transfusion'] = (df.blood_transfusion == True)"
   ]
  },
  {
   "cell_type": "code",
   "execution_count": 119,
   "id": "ecfca081",
   "metadata": {},
   "outputs": [
    {
     "data": {
      "text/plain": [
       "dtype('bool')"
      ]
     },
     "execution_count": 119,
     "metadata": {},
     "output_type": "execute_result"
    }
   ],
   "source": [
    "df.blood_transfusion.dtypes"
   ]
  },
  {
   "cell_type": "markdown",
   "id": "224bd463",
   "metadata": {},
   "source": [
    "###### max_glu_serum"
   ]
  },
  {
   "cell_type": "code",
   "execution_count": 81,
   "id": "39910e88",
   "metadata": {},
   "outputs": [
    {
     "data": {
      "text/plain": [
       "max_glu_serum\n",
       ">200     1179\n",
       ">300     1025\n",
       "NONE    23098\n",
       "NORM      842\n",
       "None    54061\n",
       "Norm     1207\n",
       "dtype: int64"
      ]
     },
     "execution_count": 81,
     "metadata": {},
     "output_type": "execute_result"
    }
   ],
   "source": [
    "# If your blood glucose level is 70 to 99* mg/dL (3.9 to 5.5 mmol/L) Your glucose level is within the normal range\n",
    "\n",
    "df.groupby('max_glu_serum').size()"
   ]
  },
  {
   "cell_type": "code",
   "execution_count": 82,
   "id": "35d9a620",
   "metadata": {},
   "outputs": [
    {
     "data": {
      "text/plain": [
       "0"
      ]
     },
     "execution_count": 82,
     "metadata": {},
     "output_type": "execute_result"
    }
   ],
   "source": [
    "df.max_glu_serum.isnull().sum()"
   ]
  },
  {
   "cell_type": "code",
   "execution_count": 83,
   "id": "0364ed6a",
   "metadata": {},
   "outputs": [],
   "source": [
    "max_glu_serum_mapping = {\n",
    "    '>200': '>200',\n",
    "    '>300': '>300',\n",
    "    'norm': 'normal',\n",
    "    'none': 'none'\n",
    "}"
   ]
  },
  {
   "cell_type": "code",
   "execution_count": 84,
   "id": "ac1b4089",
   "metadata": {},
   "outputs": [],
   "source": [
    "df_clean['max_glu_serum'] = (df.max_glu_serum\n",
    "                          .apply(lambda x: get_categorical(x, max_glu_serum_mapping))\n",
    "                          .astype(\"category\")\n",
    "                         )"
   ]
  },
  {
   "cell_type": "markdown",
   "id": "36e1de41",
   "metadata": {},
   "source": [
    "###### A1Cresult"
   ]
  },
  {
   "cell_type": "code",
   "execution_count": 85,
   "id": "343267b5",
   "metadata": {},
   "outputs": [
    {
     "data": {
      "text/plain": [
       "A1Cresult\n",
       ">7       3055\n",
       ">8       6547\n",
       "None    67807\n",
       "Norm     4003\n",
       "dtype: int64"
      ]
     },
     "execution_count": 85,
     "metadata": {},
     "output_type": "execute_result"
    }
   ],
   "source": [
    "df.groupby('A1Cresult').size()"
   ]
  },
  {
   "cell_type": "code",
   "execution_count": 86,
   "id": "7fd1d7f4",
   "metadata": {},
   "outputs": [
    {
     "data": {
      "text/plain": [
       "0"
      ]
     },
     "execution_count": 86,
     "metadata": {},
     "output_type": "execute_result"
    }
   ],
   "source": [
    "df.A1Cresult.isnull().sum()"
   ]
  },
  {
   "cell_type": "code",
   "execution_count": 87,
   "id": "2266fa1b",
   "metadata": {},
   "outputs": [],
   "source": [
    "a1c_result_mapping = {\n",
    "    '>7': '>7',\n",
    "    '>8': '>8',\n",
    "    'norm': 'normal',\n",
    "    'none': 'none'\n",
    "}"
   ]
  },
  {
   "cell_type": "code",
   "execution_count": 88,
   "id": "fd6d7d7b",
   "metadata": {},
   "outputs": [],
   "source": [
    "df_clean['A1Cresult'] = (df.A1Cresult\n",
    "                          .apply(lambda x: get_categorical(x, a1c_result_mapping))\n",
    "                          .astype(\"category\")\n",
    "                         )"
   ]
  },
  {
   "cell_type": "code",
   "execution_count": 89,
   "id": "76772908",
   "metadata": {},
   "outputs": [
    {
     "data": {
      "text/plain": [
       "A1Cresult\n",
       ">7         3055\n",
       ">8         6547\n",
       "none      67807\n",
       "normal     4003\n",
       "dtype: int64"
      ]
     },
     "execution_count": 89,
     "metadata": {},
     "output_type": "execute_result"
    }
   ],
   "source": [
    "df_clean.groupby('A1Cresult').size()"
   ]
  },
  {
   "cell_type": "markdown",
   "id": "ccd0a983",
   "metadata": {},
   "source": [
    "###### diuretics"
   ]
  },
  {
   "cell_type": "code",
   "execution_count": 90,
   "id": "2d75b1cf",
   "metadata": {},
   "outputs": [
    {
     "data": {
      "text/plain": [
       "diuretics\n",
       "No     79893\n",
       "Yes     1519\n",
       "dtype: int64"
      ]
     },
     "execution_count": 90,
     "metadata": {},
     "output_type": "execute_result"
    }
   ],
   "source": [
    "df.groupby('diuretics').size()"
   ]
  },
  {
   "cell_type": "code",
   "execution_count": 91,
   "id": "04ec0c67",
   "metadata": {},
   "outputs": [
    {
     "data": {
      "text/plain": [
       "0"
      ]
     },
     "execution_count": 91,
     "metadata": {},
     "output_type": "execute_result"
    }
   ],
   "source": [
    "df.diuretics.isnull().sum()"
   ]
  },
  {
   "cell_type": "code",
   "execution_count": 92,
   "id": "f8f0cc5e",
   "metadata": {},
   "outputs": [],
   "source": [
    "df_clean['diuretics'] = df.diuretics == 'Yes'"
   ]
  },
  {
   "cell_type": "markdown",
   "id": "10e611ed",
   "metadata": {},
   "source": [
    "###### insulin"
   ]
  },
  {
   "cell_type": "code",
   "execution_count": 93,
   "id": "0ab71198",
   "metadata": {},
   "outputs": [
    {
     "data": {
      "text/plain": [
       "insulin\n",
       "No     37052\n",
       "Yes    44360\n",
       "dtype: int64"
      ]
     },
     "execution_count": 93,
     "metadata": {},
     "output_type": "execute_result"
    }
   ],
   "source": [
    "df.groupby('insulin').size()"
   ]
  },
  {
   "cell_type": "code",
   "execution_count": 94,
   "id": "157449b5",
   "metadata": {},
   "outputs": [
    {
     "data": {
      "text/plain": [
       "0"
      ]
     },
     "execution_count": 94,
     "metadata": {},
     "output_type": "execute_result"
    }
   ],
   "source": [
    "df.insulin.isnull().sum()"
   ]
  },
  {
   "cell_type": "code",
   "execution_count": 95,
   "id": "05dc11b4",
   "metadata": {},
   "outputs": [],
   "source": [
    "df_clean['insulin'] = df.insulin == 'Yes'"
   ]
  },
  {
   "cell_type": "markdown",
   "id": "1014eb9e",
   "metadata": {},
   "source": [
    "###### change"
   ]
  },
  {
   "cell_type": "code",
   "execution_count": 96,
   "id": "f58ee44a",
   "metadata": {},
   "outputs": [
    {
     "data": {
      "text/plain": [
       "change\n",
       "Ch    37640\n",
       "No    43772\n",
       "dtype: int64"
      ]
     },
     "execution_count": 96,
     "metadata": {},
     "output_type": "execute_result"
    }
   ],
   "source": [
    "df.groupby('change').size()"
   ]
  },
  {
   "cell_type": "code",
   "execution_count": 97,
   "id": "78c01aa3",
   "metadata": {},
   "outputs": [
    {
     "data": {
      "text/plain": [
       "0"
      ]
     },
     "execution_count": 97,
     "metadata": {},
     "output_type": "execute_result"
    }
   ],
   "source": [
    "df.change.isnull().sum()"
   ]
  },
  {
   "cell_type": "code",
   "execution_count": 98,
   "id": "fe4e8a21",
   "metadata": {},
   "outputs": [],
   "source": [
    "df_clean['change'] = df.change == 'Ch'"
   ]
  },
  {
   "cell_type": "markdown",
   "id": "17364fa8",
   "metadata": {},
   "source": [
    "###### diabetesMed"
   ]
  },
  {
   "cell_type": "code",
   "execution_count": 99,
   "id": "9bb48c3b",
   "metadata": {},
   "outputs": [
    {
     "data": {
      "text/plain": [
       "diabetesMed\n",
       "No     18694\n",
       "Yes    62718\n",
       "dtype: int64"
      ]
     },
     "execution_count": 99,
     "metadata": {},
     "output_type": "execute_result"
    }
   ],
   "source": [
    "df.groupby('diabetesMed').size()"
   ]
  },
  {
   "cell_type": "code",
   "execution_count": 100,
   "id": "5b6ed8b3",
   "metadata": {},
   "outputs": [
    {
     "data": {
      "text/plain": [
       "0"
      ]
     },
     "execution_count": 100,
     "metadata": {},
     "output_type": "execute_result"
    }
   ],
   "source": [
    "df.diabetesMed.isnull().sum()"
   ]
  },
  {
   "cell_type": "code",
   "execution_count": 101,
   "id": "ee0c66e9",
   "metadata": {},
   "outputs": [],
   "source": [
    "df_clean['diabetesMed'] = df.diabetesMed == 'Yes'"
   ]
  },
  {
   "cell_type": "markdown",
   "id": "ff3e354c",
   "metadata": {},
   "source": [
    "###### readmitted"
   ]
  },
  {
   "cell_type": "code",
   "execution_count": 102,
   "id": "4b9c33ad",
   "metadata": {},
   "outputs": [
    {
     "data": {
      "text/plain": [
       "readmitted\n",
       "No     72340\n",
       "Yes     9072\n",
       "dtype: int64"
      ]
     },
     "execution_count": 102,
     "metadata": {},
     "output_type": "execute_result"
    }
   ],
   "source": [
    "df.groupby('readmitted').size()"
   ]
  },
  {
   "cell_type": "code",
   "execution_count": 103,
   "id": "c2adf9be",
   "metadata": {},
   "outputs": [
    {
     "data": {
      "text/plain": [
       "0"
      ]
     },
     "execution_count": 103,
     "metadata": {},
     "output_type": "execute_result"
    }
   ],
   "source": [
    "df.readmitted.isnull().sum()"
   ]
  },
  {
   "cell_type": "code",
   "execution_count": 104,
   "id": "71b8d9b2",
   "metadata": {},
   "outputs": [],
   "source": [
    "df_clean['readmitted'] = df.readmitted == 'Yes'"
   ]
  },
  {
   "cell_type": "code",
   "execution_count": 105,
   "id": "45436282",
   "metadata": {},
   "outputs": [
    {
     "data": {
      "text/plain": [
       "readmitted\n",
       "False    72340\n",
       "True      9072\n",
       "dtype: int64"
      ]
     },
     "execution_count": 105,
     "metadata": {},
     "output_type": "execute_result"
    }
   ],
   "source": [
    "df_clean.groupby('readmitted').size()"
   ]
  },
  {
   "cell_type": "code",
   "execution_count": 106,
   "id": "a946f7c5",
   "metadata": {},
   "outputs": [
    {
     "data": {
      "text/plain": [
       "0.1114332039502776"
      ]
     },
     "execution_count": 106,
     "metadata": {},
     "output_type": "execute_result"
    }
   ],
   "source": [
    "## Imbalance data\n",
    "9072 / 81412"
   ]
  },
  {
   "cell_type": "code",
   "execution_count": 107,
   "id": "d24ba3b4",
   "metadata": {},
   "outputs": [
    {
     "data": {
      "text/plain": [
       "patient_id                        int64\n",
       "race                           category\n",
       "gender                         category\n",
       "age                               Int64\n",
       "weight                            Int64\n",
       "admission_type_code            category\n",
       "discharge_disposition_code     category\n",
       "admission_source_code          category\n",
       "time_in_hospital                  int64\n",
       "payer_code                     category\n",
       "medical_specialty              category\n",
       "has_prosthesis                     bool\n",
       "complete_vaccination_status    category\n",
       "num_lab_procedures                Int64\n",
       "num_procedures                    int64\n",
       "num_medications                   Int64\n",
       "number_outpatient                 int64\n",
       "number_emergency                  int64\n",
       "number_inpatient                  int64\n",
       "diag_1                         category\n",
       "diag_2                         category\n",
       "diag_3                         category\n",
       "number_diagnoses                  int64\n",
       "blood_type                     category\n",
       "hemoglobin_level                float64\n",
       "blood_transfusion                  bool\n",
       "max_glu_serum                  category\n",
       "A1Cresult                      category\n",
       "diuretics                          bool\n",
       "insulin                            bool\n",
       "change                             bool\n",
       "diabetesMed                        bool\n",
       "readmitted                         bool\n",
       "has_weight                      boolean\n",
       "dtype: object"
      ]
     },
     "execution_count": 107,
     "metadata": {},
     "output_type": "execute_result"
    }
   ],
   "source": [
    "df_clean.dtypes"
   ]
  },
  {
   "cell_type": "markdown",
   "id": "3ab01248",
   "metadata": {},
   "source": [
    "# Generating reports"
   ]
  },
  {
   "cell_type": "code",
   "execution_count": 108,
   "id": "6d5f18ba",
   "metadata": {},
   "outputs": [],
   "source": [
    "#profile = ProfileReport(df, title=\"Raw data\").to_file(\"reports/raw_data.html\")"
   ]
  },
  {
   "cell_type": "code",
   "execution_count": 109,
   "id": "bcc5da38",
   "metadata": {},
   "outputs": [],
   "source": [
    "#profile = ProfileReport(df_clean, title=\"Preprocessed data\").to_file(\"reports/processed_data.html\")"
   ]
  },
  {
   "cell_type": "code",
   "execution_count": null,
   "id": "ff6cceb5",
   "metadata": {},
   "outputs": [],
   "source": []
  }
 ],
 "metadata": {
  "kernelspec": {
   "display_name": "Python 3 (ipykernel)",
   "language": "python",
   "name": "python3"
  },
  "language_info": {
   "codemirror_mode": {
    "name": "ipython",
    "version": 3
   },
   "file_extension": ".py",
   "mimetype": "text/x-python",
   "name": "python",
   "nbconvert_exporter": "python",
   "pygments_lexer": "ipython3",
   "version": "3.7.13"
  }
 },
 "nbformat": 4,
 "nbformat_minor": 5
}
