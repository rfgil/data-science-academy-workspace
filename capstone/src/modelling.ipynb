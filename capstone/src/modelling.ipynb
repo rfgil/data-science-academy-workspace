{
 "cells": [
  {
   "cell_type": "code",
   "execution_count": 1,
   "id": "19514b07",
   "metadata": {},
   "outputs": [],
   "source": [
    "import os\n",
    "import sys\n",
    "import numpy as np\n",
    "import pandas as pd\n",
    "#import pickle\n",
    "import dill as pickle # https://stackoverflow.com/questions/25348532/can-python-pickle-lambda-functions\n",
    "from pandas_profiling import ProfileReport\n",
    "import matplotlib.pyplot as plt\n",
    "import pyperclip\n",
    "import joblib\n",
    "%matplotlib inline\n",
    "\n",
    "from sklearn.model_selection import train_test_split\n",
    "\n",
    "from sklearn.ensemble import RandomForestClassifier, GradientBoostingClassifier\n",
    "from sklearn.linear_model import LogisticRegression, SGDClassifier\n",
    "from sklearn.pipeline import make_pipeline\n",
    "from sklearn.base import BaseEstimator, ClassifierMixin, TransformerMixin\n",
    "from sklearn.metrics import precision_score, recall_score, f1_score, accuracy_score, roc_auc_score\n",
    "from sklearn.preprocessing import OneHotEncoder, StandardScaler\n",
    "from sklearn.impute import SimpleImputer\n",
    "from sklearn.compose import ColumnTransformer\n",
    "from sklearn.model_selection import GridSearchCV\n",
    "\n",
    "from utils import pre_process_df\n",
    "from custom_transformers.transformers import PreProcessingTransformer, DropColumnsTransformer, CustomImputer, variables_mapping"
   ]
  },
  {
   "cell_type": "code",
   "execution_count": 2,
   "id": "32270e8d",
   "metadata": {},
   "outputs": [],
   "source": [
    "df_week0 = pd.read_csv(os.path.join(\"data\", \"train_data.csv\"))\n",
    "df_week1 = pd.read_csv(os.path.join(\"data\", \"week1_raw.csv\"))\n",
    "\n",
    "# Convert the target variable into a boolean\n",
    "df_week0['readmitted'] = df_week0['readmitted'] == 'Yes'\n",
    "\n",
    "# Make all the variables dtype match\n",
    "df_week1['admission_id'] = df_week1['admission_id'].astype('int64')\n",
    "df_week1['patient_id'] = df_week1['patient_id'].astype('int64')\n",
    "df_week1 = df_week1.drop('id', axis=1)"
   ]
  },
  {
   "cell_type": "code",
   "execution_count": 3,
   "id": "de9cb5d7",
   "metadata": {},
   "outputs": [
    {
     "data": {
      "text/plain": [
       "(81412, 34)"
      ]
     },
     "execution_count": 3,
     "metadata": {},
     "output_type": "execute_result"
    }
   ],
   "source": [
    "df_week0.shape"
   ]
  },
  {
   "cell_type": "code",
   "execution_count": 4,
   "id": "2ed7e481",
   "metadata": {},
   "outputs": [
    {
     "data": {
      "text/plain": [
       "(9494, 34)"
      ]
     },
     "execution_count": 4,
     "metadata": {},
     "output_type": "execute_result"
    }
   ],
   "source": [
    "df_week1.shape"
   ]
  },
  {
   "cell_type": "code",
   "execution_count": 5,
   "id": "e54b25f1",
   "metadata": {},
   "outputs": [],
   "source": [
    "df_unbalanced = pd.concat([df_week0, df_week1])"
   ]
  },
  {
   "cell_type": "code",
   "execution_count": 6,
   "id": "7007c08e",
   "metadata": {},
   "outputs": [
    {
     "data": {
      "text/plain": [
       "(90906, 34)"
      ]
     },
     "execution_count": 6,
     "metadata": {},
     "output_type": "execute_result"
    }
   ],
   "source": [
    "df_unbalanced.shape"
   ]
  },
  {
   "cell_type": "markdown",
   "id": "bf680c5e",
   "metadata": {},
   "source": [
    "### Balance data"
   ]
  },
  {
   "cell_type": "code",
   "execution_count": 7,
   "id": "5c83b5cb",
   "metadata": {},
   "outputs": [],
   "source": [
    "df_readmitted = df_unbalanced[df_unbalanced.readmitted == True]"
   ]
  },
  {
   "cell_type": "code",
   "execution_count": 8,
   "id": "0111a27b",
   "metadata": {},
   "outputs": [
    {
     "name": "stdout",
     "output_type": "stream",
     "text": [
      "There are 90906 observations, only 10146 are readmitted\n"
     ]
    }
   ],
   "source": [
    "readmitted_count = df_readmitted.shape[0]\n",
    "total_count = df_unbalanced.shape[0]\n",
    "\n",
    "print(\"There are \" + str(total_count) + \" observations, only \" + str(readmitted_count) + \" are readmitted\")"
   ]
  },
  {
   "cell_type": "code",
   "execution_count": 9,
   "id": "9000bbc7",
   "metadata": {},
   "outputs": [
    {
     "data": {
      "text/plain": [
       "7.959787108219988"
      ]
     },
     "execution_count": 9,
     "metadata": {},
     "output_type": "execute_result"
    }
   ],
   "source": [
    "(total_count - readmitted_count) / readmitted_count"
   ]
  },
  {
   "cell_type": "code",
   "execution_count": 10,
   "id": "55c62b2f",
   "metadata": {},
   "outputs": [],
   "source": [
    "# Add the readmitted subset 8 times to the original dataset\n",
    "df_balanced = pd.concat([\n",
    "    df_unbalanced, \n",
    "    df_readmitted, df_readmitted, df_readmitted, df_readmitted, df_readmitted, df_readmitted, df_readmitted\n",
    "])"
   ]
  },
  {
   "cell_type": "code",
   "execution_count": 11,
   "id": "60526b07",
   "metadata": {},
   "outputs": [
    {
     "data": {
      "text/plain": [
       "(161928, 34)"
      ]
     },
     "execution_count": 11,
     "metadata": {},
     "output_type": "execute_result"
    }
   ],
   "source": [
    "df_balanced.shape"
   ]
  },
  {
   "cell_type": "code",
   "execution_count": 12,
   "id": "9f7bef89",
   "metadata": {},
   "outputs": [
    {
     "name": "stdout",
     "output_type": "stream",
     "text": [
      "The readmitted representativity is now 0.5012598191788943\n"
     ]
    }
   ],
   "source": [
    "readmitted_count = df_balanced[df_balanced.readmitted == True].shape[0]\n",
    "total_count = df_balanced.shape[0]\n",
    "\n",
    "print('The readmitted representativity is now ' + str(readmitted_count / total_count))"
   ]
  },
  {
   "cell_type": "code",
   "execution_count": 13,
   "id": "8e0a7a14",
   "metadata": {},
   "outputs": [],
   "source": [
    "df = df_balanced"
   ]
  },
  {
   "cell_type": "markdown",
   "id": "da36d786",
   "metadata": {},
   "source": [
    "### Train/Test split"
   ]
  },
  {
   "cell_type": "code",
   "execution_count": 14,
   "id": "88401275",
   "metadata": {},
   "outputs": [],
   "source": [
    "ordered_columns = ['admission_id', 'patient_id', 'race', 'gender', 'age', 'weight',\n",
    "       'admission_type_code', 'discharge_disposition_code',\n",
    "       'admission_source_code', 'time_in_hospital', 'payer_code',\n",
    "       'medical_specialty', 'has_prosthesis', 'complete_vaccination_status',\n",
    "       'num_lab_procedures', 'num_procedures', 'num_medications',\n",
    "       'number_outpatient', 'number_emergency', 'number_inpatient', 'diag_1',\n",
    "       'diag_2', 'diag_3', 'number_diagnoses', 'blood_type',\n",
    "       'hemoglobin_level', 'blood_transfusion', 'max_glu_serum', 'A1Cresult',\n",
    "       'diuretics', 'insulin', 'change', 'diabetesMed']"
   ]
  },
  {
   "cell_type": "code",
   "execution_count": 15,
   "id": "1687cb7a",
   "metadata": {},
   "outputs": [],
   "source": [
    "def create_target(df):\n",
    "    X = df[ordered_columns]\n",
    "    y = df['readmitted']\n",
    "    \n",
    "    return X, y"
   ]
  },
  {
   "cell_type": "code",
   "execution_count": 16,
   "id": "9aae3eba",
   "metadata": {},
   "outputs": [],
   "source": [
    "df_train, df_test = train_test_split(df, test_size=0.2, stratify=df['readmitted'], random_state=42)\n",
    "\n",
    "X_train, y_train = create_target(df_train)\n",
    "X_test, y_test = create_target(df_test)"
   ]
  },
  {
   "cell_type": "markdown",
   "id": "7ebc6869",
   "metadata": {},
   "source": [
    "### Modelling"
   ]
  },
  {
   "cell_type": "code",
   "execution_count": 17,
   "id": "4f670c95",
   "metadata": {},
   "outputs": [],
   "source": [
    "#df_preprocessed = pre_process_df(df)"
   ]
  },
  {
   "cell_type": "code",
   "execution_count": 18,
   "id": "078c98e4",
   "metadata": {},
   "outputs": [],
   "source": [
    "#Logistic regression - LogisticRegression\n",
    "#Stochastic gradient descent\n",
    "#Random forest\n",
    "#Gradient boosting classifier\n",
    "categorical_features = [\n",
    "    'race',\n",
    "    'gender',\n",
    "    'admission_type_code',\n",
    "    'discharge_disposition_code',\n",
    "    'admission_source_code',\n",
    "    'payer_code',\n",
    "    'medical_specialty',\n",
    "    'complete_vaccination_status',\n",
    "    'diag_1',\n",
    "    'diag_2',\n",
    "    'diag_3',\n",
    "    'blood_type'\n",
    "]\n",
    "\n",
    "numerical_features = [\n",
    "    #'admission_id',\n",
    "    #'patient_id',\n",
    "    'age',\n",
    "    #'weight',\n",
    "    'time_in_hospital',\n",
    "    'has_prosthesis',\n",
    "    'num_lab_procedures',\n",
    "    'num_procedures',\n",
    "    'num_medications',\n",
    "    'number_outpatient',\n",
    "    'number_emergency',\n",
    "    'number_inpatient',\n",
    "    'number_diagnoses',\n",
    "    'hemoglobin_level',\n",
    "    'blood_transfusion',\n",
    "    #'max_glu_serum',\n",
    "    'A1Cresult',\n",
    "    'diuretics',\n",
    "    #'insulin',\n",
    "    'change',\n",
    "    'diabetesMed'\n",
    "]\n",
    "\n",
    "\n",
    "pre_process_pipeline = make_pipeline(\n",
    "    PreProcessingTransformer(),\n",
    "    DropColumnsTransformer(),\n",
    "    CustomImputer(),  \n",
    "    #OneHotEncoder(handle_unknown='ignore'),\n",
    "    ColumnTransformer(\n",
    "        transformers=[\n",
    "            ('num', StandardScaler(), numerical_features),\n",
    "            ('cat', OneHotEncoder(handle_unknown='ignore'), categorical_features)]\n",
    "    )\n",
    ")\n",
    "\n",
    "\n",
    "pipeline = make_pipeline(\n",
    "    pre_process_pipeline,\n",
    "    #LogisticRegression(random_state=42)\n",
    "    #RandomForestClassifier(random_state=42, max_depth=3, n_estimators=25)\n",
    "    #SGDClassifier(random_state=42, loss = 'log')\n",
    "    GradientBoostingClassifier(\n",
    "        random_state=42,\n",
    "        n_estimators=100,\n",
    "        learning_rate=0.3,\n",
    "        max_depth=10,   \n",
    "        min_samples_leaf=100,\n",
    "        min_samples_split=125\n",
    "    )\n",
    "    #LogisticRegression(random_state=42)\n",
    ")"
   ]
  },
  {
   "cell_type": "code",
   "execution_count": 19,
   "id": "6c05c160",
   "metadata": {},
   "outputs": [
    {
     "data": {
      "text/plain": [
       "Pipeline(steps=[('pipeline',\n",
       "                 Pipeline(steps=[('preprocessingtransformer',\n",
       "                                  <custom_transformers.transformers.PreProcessingTransformer object at 0x1119ee990>),\n",
       "                                 ('dropcolumnstransformer',\n",
       "                                  <custom_transformers.transformers.DropColumnsTransformer object at 0x1307ff650>),\n",
       "                                 ('customimputer',\n",
       "                                  <custom_transformers.transformers.CustomImputer object at 0x1307ff690>),\n",
       "                                 ('column...\n",
       "                                                                   ['race',\n",
       "                                                                    'gender',\n",
       "                                                                    'admission_type_code',\n",
       "                                                                    'discharge_disposition_code',\n",
       "                                                                    'admission_source_code',\n",
       "                                                                    'payer_code',\n",
       "                                                                    'medical_specialty',\n",
       "                                                                    'complete_vaccination_status',\n",
       "                                                                    'diag_1',\n",
       "                                                                    'diag_2',\n",
       "                                                                    'diag_3',\n",
       "                                                                    'blood_type'])]))])),\n",
       "                ('gradientboostingclassifier',\n",
       "                 GradientBoostingClassifier(learning_rate=0.3, max_depth=10,\n",
       "                                            min_samples_leaf=100,\n",
       "                                            min_samples_split=125,\n",
       "                                            random_state=42))])"
      ]
     },
     "execution_count": 19,
     "metadata": {},
     "output_type": "execute_result"
    }
   ],
   "source": [
    "pipeline.fit(X_train, y_train)"
   ]
  },
  {
   "cell_type": "markdown",
   "id": "a084652e",
   "metadata": {},
   "source": [
    "### Evaluate the model"
   ]
  },
  {
   "cell_type": "code",
   "execution_count": 20,
   "id": "8d2df4fb",
   "metadata": {},
   "outputs": [],
   "source": [
    "y_pred_train = pipeline.predict_proba(X_train)[:,1]\n",
    "y_pred_test = pipeline.predict_proba(X_test)[:,1]"
   ]
  },
  {
   "cell_type": "code",
   "execution_count": 21,
   "id": "b1266adc",
   "metadata": {},
   "outputs": [
    {
     "data": {
      "image/png": "[encoded data removed]",
      "text/plain": [
       "<Figure size 864x288 with 1 Axes>"
      ]
     },
     "metadata": {
      "needs_background": "light"
     },
     "output_type": "display_data"
    }
   ],
   "source": [
    "def plot_precision_recall_evolution():\n",
    "    precision = []\n",
    "    recall = []\n",
    "    accuracy = []\n",
    "    \n",
    "    thresholds = []\n",
    "    lim = []\n",
    "\n",
    "\n",
    "    for i in range(100):\n",
    "        current_threshold = i / 100\n",
    "\n",
    "        thresholds.append(current_threshold)\n",
    "        best_preds = y_pred_test > current_threshold\n",
    "\n",
    "        precision.append(precision_score(y_true=y_test, y_pred=best_preds, pos_label=True))\n",
    "        recall.append(recall_score(y_true=y_test, y_pred=best_preds, pos_label=True))\n",
    "        accuracy.append(accuracy_score(y_true=y_test, y_pred=best_preds))\n",
    "        \n",
    "        lim.append(0.5)\n",
    "    \n",
    "\n",
    "    plt.plot(thresholds, precision, label='precision')\n",
    "    plt.plot(thresholds, recall, label='recall')\n",
    "    plt.plot(thresholds, accuracy, label='accuracy')\n",
    "    #plt.plot(thresholds, lim, label='lim')\n",
    "\n",
    "    plt.xlabel('Threshold');\n",
    "    plt.legend()\n",
    "\n",
    "    plt.gcf().set_size_inches(12,4)\n",
    "    plt.gcf().savefig(\"images/precision_recall_evolution.pdf\")\n",
    "\n",
    "    plt.show()\n",
    "\n",
    "plot_precision_recall_evolution()"
   ]
  },
  {
   "cell_type": "code",
   "execution_count": 22,
   "id": "6aa1c0c4",
   "metadata": {},
   "outputs": [],
   "source": [
    "def find_best_threshold(preds_proba, y_test, min_recall=0.5, min_precision=0.75):\n",
    "\n",
    "    threshold = 0.5\n",
    "    threshold_recall = 0\n",
    "    threshold_precision = 0\n",
    "\n",
    "    best_f1score = 0\n",
    "\n",
    "    for i in range(100):\n",
    "        current_threshold = i / 100\n",
    "\n",
    "        best_preds = preds_proba > current_threshold\n",
    "        \n",
    "        precision = precision_score(y_test, best_preds) #, pos_label=True)\n",
    "        recall = recall_score(y_test, best_preds)\n",
    "        \n",
    "        f1score = f1_score(y_test, best_preds)\n",
    "        accuracy = accuracy_score(y_true=y_test, y_pred=best_preds)\n",
    "        \n",
    "        if recall >= min_recall and precision >= min_precision and recall > threshold_recall:\n",
    "            threshold = current_threshold\n",
    "            threshold_recall = recall\n",
    "            threshold_precision = precision\n",
    "            threshold_accuracy = accuracy\n",
    "        \n",
    "        if f1score > best_f1score:\n",
    "            best_f1score = f1score\n",
    "            \n",
    "    return threshold, threshold_precision, threshold_recall, best_f1score, threshold_accuracy"
   ]
  },
  {
   "cell_type": "code",
   "execution_count": 23,
   "id": "98c4689e",
   "metadata": {},
   "outputs": [],
   "source": [
    "threshold_train, precision_train, recall_train, f1_train, accuracy_train = find_best_threshold(y_pred_train, y_train)\n",
    "threshold_test, precision_test, recall_test, f1_test, accuracy_test = find_best_threshold(y_pred_test, y_test)"
   ]
  },
  {
   "cell_type": "code",
   "execution_count": 24,
   "id": "24333eb3",
   "metadata": {},
   "outputs": [
    {
     "data": {
      "text/plain": [
       "(0.38,\n",
       " 0.7508121197802847,\n",
       " 0.9788400529768688,\n",
       " 0.8766536849302851,\n",
       " 0.8265504623982955)"
      ]
     },
     "execution_count": 24,
     "metadata": {},
     "output_type": "execute_result"
    }
   ],
   "source": [
    "(threshold_train, precision_train, recall_train, f1_train, accuracy_train)"
   ]
  },
  {
   "cell_type": "code",
   "execution_count": 25,
   "id": "8ff64a91",
   "metadata": {},
   "outputs": [
    {
     "data": {
      "text/plain": [
       "(0.44,\n",
       " 0.754750443374715,\n",
       " 0.9175187877294567,\n",
       " 0.8304704579654184,\n",
       " 0.8092076823318718)"
      ]
     },
     "execution_count": 25,
     "metadata": {},
     "output_type": "execute_result"
    }
   ],
   "source": [
    "(threshold_test, precision_test, recall_test, f1_test, accuracy_test)"
   ]
  },
  {
   "cell_type": "markdown",
   "id": "c89abbad",
   "metadata": {},
   "source": [
    "### Export pipeline"
   ]
  },
  {
   "cell_type": "code",
   "execution_count": 26,
   "id": "ebda63d5",
   "metadata": {},
   "outputs": [
    {
     "data": {
      "text/plain": [
       "['pipeline.pickle']"
      ]
     },
     "execution_count": 26,
     "metadata": {},
     "output_type": "execute_result"
    }
   ],
   "source": [
    "joblib.dump(pipeline, 'pipeline.pickle') "
   ]
  },
  {
   "cell_type": "markdown",
   "id": "b2d57550",
   "metadata": {},
   "source": [
    "### Grid Search"
   ]
  },
  {
   "cell_type": "code",
   "execution_count": 27,
   "id": "8f616e4d",
   "metadata": {},
   "outputs": [],
   "source": [
    "grid_search_parameter_space = {\n",
    "    'n_estimators': [100], \n",
    "    'learning_rate': [0.6, 1.3, 10],\n",
    "    'max_depth': [10],\n",
    "    'min_samples_leaf': [20, 50, 100],\n",
    "    'min_samples_split': [20, 50, 100]\n",
    "}\n",
    "\n",
    "grid_search_parameter_space = {\n",
    "    'n_estimators': [100], \n",
    "    'learning_rate': [0.6, 1.3, 10],\n",
    "    'max_depth': [10],\n",
    "    'min_samples_leaf': [20, 50, 100],\n",
    "    'min_samples_split': [20, 50, 100]\n",
    "}\n"
   ]
  },
  {
   "cell_type": "code",
   "execution_count": 28,
   "id": "0280d3cf",
   "metadata": {},
   "outputs": [],
   "source": [
    "grid_search = GridSearchCV(\n",
    "                GradientBoostingClassifier(),\n",
    "                grid_search_parameter_space,\n",
    "                cv=5,\n",
    "                scoring=\"f1\",\n",
    "                return_train_score=True\n",
    "                )"
   ]
  },
  {
   "cell_type": "code",
   "execution_count": 29,
   "id": "fb462dfe",
   "metadata": {},
   "outputs": [],
   "source": [
    "X_train_preprocessed = pre_process_pipeline.fit_transform(X_train)"
   ]
  },
  {
   "cell_type": "code",
   "execution_count": 30,
   "id": "a7719021",
   "metadata": {},
   "outputs": [],
   "source": [
    "#grid_search.fit(X_train_preprocessed, y_train)"
   ]
  },
  {
   "cell_type": "markdown",
   "id": "f212caa2",
   "metadata": {},
   "source": [
    "### Discrimination"
   ]
  },
  {
   "cell_type": "code",
   "execution_count": 31,
   "id": "cd436d8b",
   "metadata": {},
   "outputs": [],
   "source": [
    "def get_descrimination_dict(df_, sensitive_columns=['age', 'race', 'gender', 'is_insured', 'medical_specialty'], target='readmitted'):\n",
    "    \"\"\" \n",
    "    \"\"\"\n",
    "    \n",
    "    specialties = df_['medical_specialty'].unique()\n",
    "        \n",
    "    result = {}\n",
    "    for sensitive_column in sensitive_columns:\n",
    "        classes = sorted([ str(x) for x in df_[sensitive_column].unique() ])        \n",
    "        \n",
    "        result[sensitive_column] = {}\n",
    "        #result[sensitive_column]['classes_order'] = classes # Preserve the order we iterate through sensitive class\n",
    "        to_remove = ['Anesthesiology', 'Endocrinology', 'Gynecology/Obstetrics', 'Neurology', 'Ophthalmology', 'InfectiousDiseases', 'Podiatry', 'unknown']\n",
    "        \n",
    "        for class_ in classes:\n",
    "            if class_ not in to_remove:\n",
    "                medical_encounters = df_[(df_[sensitive_column] == class_)]\n",
    "\n",
    "                y_true = medical_encounters.readmitted.astype(bool)\n",
    "                y_pred = medical_encounters.prediction.astype(bool)\n",
    "\n",
    "                precision = precision_score(y_true, y_pred, labels=[True])\n",
    "\n",
    "                result[sensitive_column][class_] = precision\n",
    "    \n",
    "    return result"
   ]
  },
  {
   "cell_type": "code",
   "execution_count": 32,
   "id": "3f4fcbec",
   "metadata": {},
   "outputs": [],
   "source": [
    "def plot_dict(D, name):\n",
    "    plt.bar(range(len(D)), list(D.values()), align='center')\n",
    "    plt.xticks(range(len(D)), list(D.keys()))\n",
    "\n",
    "    plt.ylabel(\"Precision - Readmission Rate\")\n",
    "    if name == 'medical_specialty':\n",
    "        plt.gcf().set_size_inches(12,4)\n",
    "        plt.xticks(rotation=90)\n",
    "    else:\n",
    "        plt.gcf().set_size_inches(6,4)\n",
    "    \n",
    "    plt.gcf().savefig(\"images/discrimination_requirement_\" + sensitive_column + \".pdf\")\n",
    "\n",
    "    plt.show()"
   ]
  },
  {
   "cell_type": "code",
   "execution_count": 33,
   "id": "b1181288",
   "metadata": {},
   "outputs": [
    {
     "data": {
      "text/plain": [
       "Pipeline(steps=[('preprocessingtransformer',\n",
       "                 <custom_transformers.transformers.PreProcessingTransformer object at 0x1119ee990>),\n",
       "                ('dropcolumnstransformer',\n",
       "                 <custom_transformers.transformers.DropColumnsTransformer object at 0x1307ff650>),\n",
       "                ('customimputer',\n",
       "                 <custom_transformers.transformers.CustomImputer object at 0x1307ff690>),\n",
       "                ('columntransformer',\n",
       "                 ColumnTransform...\n",
       "                                                   'number_diagnoses',\n",
       "                                                   'hemoglobin_level',\n",
       "                                                   'blood_transfusion',\n",
       "                                                   'A1Cresult', 'diuretics',\n",
       "                                                   'change', 'diabetesMed']),\n",
       "                                                 ('cat',\n",
       "                                                  OneHotEncoder(handle_unknown='ignore'),\n",
       "                                                  ['race', 'gender',\n",
       "                                                   'admission_type_code',\n",
       "                                                   'discharge_disposition_code',\n",
       "                                                   'admission_source_code',\n",
       "                                                   'payer_code',\n",
       "                                                   'medical_specialty',\n",
       "                                                   'complete_vaccination_status',\n",
       "                                                   'diag_1', 'diag_2', 'diag_3',\n",
       "                                                   'blood_type'])]))])"
      ]
     },
     "execution_count": 33,
     "metadata": {},
     "output_type": "execute_result"
    }
   ],
   "source": [
    "pre_process_pipeline.fit(X_train)"
   ]
  },
  {
   "cell_type": "code",
   "execution_count": 34,
   "id": "3bd3d189",
   "metadata": {},
   "outputs": [],
   "source": [
    "# Pre-process X_test and add extra columns for the discrimination analysis\n",
    "X_test_preprocessed = pre_process_df(X_test)\n",
    "\n",
    "X_test_preprocessed['prediction'] = y_pred_test >= 0.44\n",
    "X_test_preprocessed['readmitted'] = y_test\n",
    "X_test_preprocessed['is_insured'] = X_test_preprocessed.payer_code.fillna('BC').apply(lambda x: 'insured' if np.nan_to_num(x) == 'SP' else 'not insured').astype('category')\n",
    "X_test_preprocessed['age'] = X_test_preprocessed.age.apply(lambda x: str(x)).astype('category')\n",
    "\n",
    "dict_ = get_descrimination_dict(X_test_preprocessed)"
   ]
  },
  {
   "cell_type": "code",
   "execution_count": 35,
   "id": "5bcaf40a",
   "metadata": {},
   "outputs": [
    {
     "data": {
      "image/png": "[encoded data removed]",
      "text/plain": [
       "<Figure size 432x288 with 1 Axes>"
      ]
     },
     "metadata": {
      "needs_background": "light"
     },
     "output_type": "display_data"
    },
    {
     "data": {
      "image/png": "[encoded data removed]",
      "text/plain": [
       "<Figure size 432x288 with 1 Axes>"
      ]
     },
     "metadata": {
      "needs_background": "light"
     },
     "output_type": "display_data"
    },
    {
     "data": {
      "image/png": "[encoded data removed]",
      "text/plain": [
       "<Figure size 432x288 with 1 Axes>"
      ]
     },
     "metadata": {
      "needs_background": "light"
     },
     "output_type": "display_data"
    },
    {
     "data": {
      "image/png": "[encoded data removed]",
      "text/plain": [
       "<Figure size 432x288 with 1 Axes>"
      ]
     },
     "metadata": {
      "needs_background": "light"
     },
     "output_type": "display_data"
    },
    {
     "data": {
      "image/png": "[encoded data removed]",
      "text/plain": [
       "<Figure size 864x288 with 1 Axes>"
      ]
     },
     "metadata": {
      "needs_background": "light"
     },
     "output_type": "display_data"
    }
   ],
   "source": [
    "for sensitive_column in ['age', 'race', 'gender', 'is_insured', 'medical_specialty']:\n",
    "    plot_dict(dict_[sensitive_column], sensitive_column)"
   ]
  },
  {
   "cell_type": "code",
   "execution_count": 36,
   "id": "b1252d8d",
   "metadata": {},
   "outputs": [
    {
     "name": "stdout",
     "output_type": "stream",
     "text": [
      "age - 0.11121123526506194\n",
      "race - 0.07481898632341111\n",
      "gender - 0.018982199634234753\n",
      "is_insured - 0.005575599022651034\n",
      "medical_specialty - 0.18092621664050235\n"
     ]
    }
   ],
   "source": [
    "for sensitive_column in ['age', 'race', 'gender', 'is_insured', 'medical_specialty']:\n",
    "    values = dict_[sensitive_column].values()\n",
    "    values = [ x for x in values if x != 0 and x != 1 and x != 0 ] # remove zeros and ones, because such precision score is due to scarce data\n",
    "    \n",
    "    min_ = min(values)\n",
    "    max_ = max(values)\n",
    "    print(sensitive_column + ' - ' + str(max_-min_))"
   ]
  },
  {
   "cell_type": "code",
   "execution_count": 37,
   "id": "a0a08d82",
   "metadata": {},
   "outputs": [
    {
     "data": {
      "text/plain": [
       "{'age': {'0': 1.0,\n",
       "  '10': 0.7818181818181819,\n",
       "  '20': 0.8509485094850948,\n",
       "  '30': 0.8243045387994143,\n",
       "  '40': 0.7918523233609166,\n",
       "  '50': 0.7594119756185013,\n",
       "  '60': 0.7434024505183789,\n",
       "  '70': 0.7429590687194892,\n",
       "  '80': 0.7397372742200329,\n",
       "  '90': 0.7634194831013916,\n",
       "  '<NA>': 0.764378478664193},\n",
       " 'race': {'asian': 0.7433628318584071,\n",
       "  'black': 0.7594637223974764,\n",
       "  'hispanic': 0.8181818181818182,\n",
       "  'other': 0.8060344827586207,\n",
       "  'white': 0.7511372758897511},\n",
       " 'gender': {'female': 0.7634609982208072, 'male': 0.7444787985865724},\n",
       " 'is_insured': {'insured': 0.7494172494172494,\n",
       "  'not insured': 0.7549928484399004},\n",
       " 'medical_specialty': {'Cardiology': 0.7678571428571429,\n",
       "  'Emergency/Trauma': 0.7597535934291582,\n",
       "  'Family/GeneralPractice': 0.7743421052631579,\n",
       "  'Gastroenterology': 0.7615384615384615,\n",
       "  'Hematology': 0.7714285714285715,\n",
       "  'InternalMedicine': 0.763771186440678,\n",
       "  'Nephrology': 0.7893569844789357,\n",
       "  'Oncology': 0.8260869565217391,\n",
       "  'Orthopedics': 0.7823834196891192,\n",
       "  'Others': 0.7369446609508964,\n",
       "  'Pediatrics': 0.8108108108108109,\n",
       "  'PhysicalMedicine': 0.8901098901098901,\n",
       "  'Psychiatry': 0.850828729281768,\n",
       "  'Pulmonology': 0.8203592814371258,\n",
       "  'Radiology': 0.7091836734693877,\n",
       "  'Surgery': 0.7837541163556532,\n",
       "  'Urology': 0.8288288288288288}}"
      ]
     },
     "execution_count": 37,
     "metadata": {},
     "output_type": "execute_result"
    }
   ],
   "source": [
    "dict_"
   ]
  }
 ],
 "metadata": {
  "kernelspec": {
   "display_name": "Python 3 (ipykernel)",
   "language": "python",
   "name": "python3"
  },
  "language_info": {
   "codemirror_mode": {
    "name": "ipython",
    "version": 3
   },
   "file_extension": ".py",
   "mimetype": "text/x-python",
   "name": "python",
   "nbconvert_exporter": "python",
   "pygments_lexer": "ipython3",
   "version": "3.7.12"
  }
 },
 "nbformat": 4,
 "nbformat_minor": 5
}
