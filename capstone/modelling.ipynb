{
 "cells": [
  {
   "cell_type": "code",
   "execution_count": 1,
   "id": "fe1e0e97",
   "metadata": {},
   "outputs": [],
   "source": [
    "import os\n",
    "import sys\n",
    "import numpy as np\n",
    "import pandas as pd\n",
    "import pickle\n",
    "from pandas_profiling import ProfileReport\n",
    "import matplotlib.pyplot as plt\n",
    "import pyperclip\n",
    "%matplotlib inline\n",
    "\n",
    "from sklearn.model_selection import train_test_split\n",
    "\n",
    "from sklearn.ensemble import RandomForestClassifier\n",
    "from sklearn.linear_model import LogisticRegression\n",
    "#from sklearn.tree import DecisionTreeClassifier\n",
    "from sklearn.pipeline import make_pipeline\n",
    "from sklearn.base import BaseEstimator, ClassifierMixin, TransformerMixin\n",
    "#from sklearn.impute import SimpleImputer\n",
    "from sklearn.metrics import precision_score, recall_score, f1_score, accuracy_score, roc_auc_score\n",
    "from sklearn.preprocessing import OneHotEncoder\n",
    "from sklearn.impute import SimpleImputer\n",
    "\n",
    "from utils import variables_mapping"
   ]
  },
  {
   "cell_type": "code",
   "execution_count": 2,
   "id": "ecc06c88",
   "metadata": {},
   "outputs": [],
   "source": [
    "df = pd.read_csv(os.path.join(\"data\", \"train_data.csv\"))"
   ]
  },
  {
   "cell_type": "code",
   "execution_count": 3,
   "id": "5f0984e0",
   "metadata": {},
   "outputs": [],
   "source": [
    "known_categories = variables_mapping()\n",
    "\n"
   ]
  },
  {
   "cell_type": "code",
   "execution_count": 4,
   "id": "a09f6e63",
   "metadata": {},
   "outputs": [
    {
     "data": {
      "text/plain": [
       "'O+'"
      ]
     },
     "execution_count": 4,
     "metadata": {},
     "output_type": "execute_result"
    }
   ],
   "source": [
    "known_categories['blood_type']['mapping']('o+')"
   ]
  },
  {
   "cell_type": "markdown",
   "id": "e714696b",
   "metadata": {},
   "source": [
    "## train/test split"
   ]
  },
  {
   "cell_type": "code",
   "execution_count": 5,
   "id": "900ed271",
   "metadata": {},
   "outputs": [],
   "source": [
    "ordered_columns = ['admission_id', 'patient_id', 'race', 'gender', 'age', 'weight',\n",
    "       'admission_type_code', 'discharge_disposition_code',\n",
    "       'admission_source_code', 'time_in_hospital', 'payer_code',\n",
    "       'medical_specialty', 'has_prosthesis', 'complete_vaccination_status',\n",
    "       'num_lab_procedures', 'num_procedures', 'num_medications',\n",
    "       'number_outpatient', 'number_emergency', 'number_inpatient', 'diag_1',\n",
    "       'diag_2', 'diag_3', 'number_diagnoses', 'blood_type',\n",
    "       'hemoglobin_level', 'blood_transfusion', 'max_glu_serum', 'A1Cresult',\n",
    "       'diuretics', 'insulin', 'change', 'diabetesMed']"
   ]
  },
  {
   "cell_type": "code",
   "execution_count": 6,
   "id": "449bd527",
   "metadata": {},
   "outputs": [],
   "source": [
    "def create_target(df):\n",
    "    known_categories = variables_mapping()\n",
    "    X = df[ordered_columns]\n",
    "    \n",
    "    y = (df['readmitted']\n",
    "     .apply(lambda value: known_categories['readmitted']['mapping'](value))\n",
    "     .astype(known_categories['readmitted']['type'])\n",
    "    )\n",
    "    \n",
    "    return X, y"
   ]
  },
  {
   "cell_type": "code",
   "execution_count": 7,
   "id": "f88be85e",
   "metadata": {},
   "outputs": [],
   "source": [
    "X, y = create_target(df)\n",
    "X_train, X_test, y_train, y_test = train_test_split(X, y, test_size=0.2, random_state=42)"
   ]
  },
  {
   "cell_type": "markdown",
   "id": "e7968352",
   "metadata": {},
   "source": [
    "## Modelling"
   ]
  },
  {
   "cell_type": "code",
   "execution_count": 8,
   "id": "90186bc2",
   "metadata": {},
   "outputs": [],
   "source": [
    "class PreProcessingTransformer(TransformerMixin):\n",
    "    \"\"\"\n",
    "    Applies the preprocessing logic to all columns.\n",
    "    Sets all variables' dtype and transform the raw input into valid categories.\n",
    "    The unknown/unexpected values are converted into None\n",
    "    \"\"\"\n",
    "    \n",
    "    \n",
    "    def __init__(self):\n",
    "        self.known_categories = variables_mapping()\n",
    "        self.known_categories.pop('readmitted', None) # Remove the readmitted key\n",
    "\n",
    "\n",
    "    def transform(self, X, *_):\n",
    "        X_clean = X.copy()\n",
    "        for column in self.known_categories.keys():\n",
    "            #type_ = 'object' if self.known_categories[column]['type'] == 'category' else self.known_categories[column]['type']\n",
    "            X_clean[column] = (X[column]\n",
    "                               .apply(lambda value: self.known_categories[column]['mapping'](value))\n",
    "                               .astype(self.known_categories[column]['type'])\n",
    "                              )\n",
    "        \n",
    "        return X_clean\n",
    "    \n",
    "    def fit(self, *_):\n",
    "        return self"
   ]
  },
  {
   "cell_type": "code",
   "execution_count": 9,
   "id": "b0c904f2",
   "metadata": {},
   "outputs": [],
   "source": [
    "class DropColumnsTransformer(TransformerMixin):\n",
    "    \"\"\"\n",
    "    Removes columns that won't be used by the predictive model \n",
    "    \"\"\"\n",
    "\n",
    "    def transform(self, X, *_):\n",
    "        X_ = X.copy()\n",
    "        \n",
    "        # Drop training rows that have a given 'discharge_disposition_code' ??\n",
    "\n",
    "        return X_.drop([\n",
    "            'admission_id',\n",
    "            'patient_id',\n",
    "            'weight',\n",
    "            'max_glu_serum',\n",
    "            'insulin' #change, diabetesMed\n",
    "        ],\n",
    "            axis = 1\n",
    "        )\n",
    "    \n",
    "    def fit(self, *_):\n",
    "        return self"
   ]
  },
  {
   "cell_type": "code",
   "execution_count": 10,
   "id": "97985b20",
   "metadata": {},
   "outputs": [],
   "source": [
    "class CustomImputer(TransformerMixin):\n",
    "    \n",
    "    def __init__(self):\n",
    "        self.dict_ = {}\n",
    "   \n",
    "    def transform(self, X, *_):\n",
    "        X_ = X.copy()\n",
    "        for column in self.dict_.keys():\n",
    "            X_[column] = self.dict_[column].transform(X[[column]])\n",
    "            \n",
    "        return X_\n",
    "            \n",
    "        \n",
    "    def fit(self, X, *_):\n",
    "        for numeric_column in X.select_dtypes(include=[\"Int64\", \"float64\"]).columns:\n",
    "            self.dict_[numeric_column] = SimpleImputer(strategy='mean')\n",
    "            self.dict_[numeric_column].fit(X[[numeric_column]])\n",
    "        \n",
    "        return self\n",
    "        #for category_column in X.select_dtypes(include=[\"object\"]):\n",
    "        #    self.dict_[category_column] = SimpleImputer(strategy='most_frequent')\n",
    "        #    self.dict_[category_column].fit(X[[category_column]])\n",
    "            "
   ]
  },
  {
   "cell_type": "code",
   "execution_count": 22,
   "id": "c5fb81f9",
   "metadata": {},
   "outputs": [],
   "source": [
    "pipeline = make_pipeline(\n",
    "    PreProcessingTransformer(),\n",
    "    DropColumnsTransformer(),\n",
    "    CustomImputer(),\n",
    "    OneHotEncoder(handle_unknown='ignore'),\n",
    "    RandomForestClassifier(random_state=42)\n",
    "    #LogisticRegression(random_state=42)\n",
    ")"
   ]
  },
  {
   "cell_type": "code",
   "execution_count": 23,
   "id": "2339bcba",
   "metadata": {},
   "outputs": [
    {
     "data": {
      "text/plain": [
       "Pipeline(steps=[('preprocessingtransformer',\n",
       "                 <__main__.PreProcessingTransformer object at 0x124aecb50>),\n",
       "                ('dropcolumnstransformer',\n",
       "                 <__main__.DropColumnsTransformer object at 0x124af0d10>),\n",
       "                ('customimputer',\n",
       "                 <__main__.CustomImputer object at 0x124af0d50>),\n",
       "                ('onehotencoder', OneHotEncoder(handle_unknown='ignore')),\n",
       "                ('randomforestclassifier',\n",
       "                 RandomForestClassifier(random_state=42))])"
      ]
     },
     "execution_count": 23,
     "metadata": {},
     "output_type": "execute_result"
    }
   ],
   "source": [
    "pipeline.fit(X_train, y_train)\n"
   ]
  },
  {
   "cell_type": "code",
   "execution_count": 13,
   "id": "ad2d64f5",
   "metadata": {},
   "outputs": [],
   "source": [
    "#result = pipeline.transform(X_train)"
   ]
  },
  {
   "cell_type": "code",
   "execution_count": null,
   "id": "98fa5848",
   "metadata": {},
   "outputs": [],
   "source": [
    "pipeline.classes_"
   ]
  },
  {
   "cell_type": "code",
   "execution_count": 37,
   "id": "e8f6c84f",
   "metadata": {},
   "outputs": [],
   "source": [
    "y_pred = pipeline.predict_proba(X_test)[:,1]"
   ]
  },
  {
   "cell_type": "code",
   "execution_count": 38,
   "id": "512b361e",
   "metadata": {},
   "outputs": [
    {
     "data": {
      "text/plain": [
       "array([False,  True])"
      ]
     },
     "execution_count": 38,
     "metadata": {},
     "output_type": "execute_result"
    }
   ],
   "source": [
    "pipeline.classes_"
   ]
  },
  {
   "cell_type": "code",
   "execution_count": 39,
   "id": "206cab1c",
   "metadata": {},
   "outputs": [
    {
     "data": {
      "text/plain": [
       "array([False, False, False, ..., False, False, False])"
      ]
     },
     "execution_count": 39,
     "metadata": {},
     "output_type": "execute_result"
    }
   ],
   "source": [
    "y_pred > 0.5"
   ]
  },
  {
   "cell_type": "code",
   "execution_count": 40,
   "id": "ea9813fd",
   "metadata": {},
   "outputs": [
    {
     "data": {
      "text/plain": [
       "0.8333333333333334"
      ]
     },
     "execution_count": 40,
     "metadata": {},
     "output_type": "execute_result"
    }
   ],
   "source": [
    "precision_score(y_test, y_pred > 0.5)"
   ]
  },
  {
   "cell_type": "code",
   "execution_count": 41,
   "id": "2e775f6c",
   "metadata": {},
   "outputs": [
    {
     "data": {
      "text/plain": [
       "0.002733734281027884"
      ]
     },
     "execution_count": 41,
     "metadata": {},
     "output_type": "execute_result"
    }
   ],
   "source": [
    "recall_score(y_test, y_pred > 0.5)"
   ]
  },
  {
   "cell_type": "code",
   "execution_count": null,
   "id": "7ba328bb",
   "metadata": {},
   "outputs": [],
   "source": [
    "# 1. Balançar os dados para que fique 50-50 entre readmitted e não readmitted (eliminar os corrompidos, mais o que foir preciso)\n",
    "# 2. Código para descobrir o melhor threshold\n",
    "# 3. Verificar descriminação, adaptar função abaixo\n",
    "# 4. Testar vários modelos diferentes, escolher o melhor\n"
   ]
  },
  {
   "cell_type": "code",
   "execution_count": null,
   "id": "a4930280",
   "metadata": {},
   "outputs": [],
   "source": [
    "def verify_no_discrimination(X_test, y_true, y_pred, sensitive_column='SubjectRaceCode', max_diff=0.05):\n",
    "    \"\"\"\n",
    "    Verifies that no subdeparment has discrimination in between protected races\n",
    "    \n",
    "    \n",
    "    \"\"\"\n",
    "    \n",
    "    departments = X_test['Department Name'].unique()\n",
    "    sensitive_classes = X_test[sensitive_column].unique()\n",
    "    \n",
    "    is_satisfied = True\n",
    "    problematic_departments = []\n",
    "    good_deparments = []\n",
    "    for department in departments:\n",
    "        precisions = {}\n",
    "        for sensitive_class in sensitive_classes:\n",
    "            mask = (X_test[sensitive_column] == sensitive_class) & (X_test['Department Name'] == department)\n",
    "            if mask.sum():\n",
    "                precisions[sensitive_class] = precision_score(y_true[mask], y_pred[mask], pos_label=1)\n",
    "                \n",
    "        diff = np.max(list(precisions.values())) - np.min(list(precisions.values()))\n",
    "        if diff > max_diff:\n",
    "            is_satisfied = False\n",
    "            problematic_departments.append((department, diff, precisions))\n",
    "        else:\n",
    "            good_deparments.append((department, diff, precisions))\n",
    "\n",
    "    return is_satisfied, problematic_departments, good_deparments\n"
   ]
  }
 ],
 "metadata": {
  "kernelspec": {
   "display_name": "Python 3 (ipykernel)",
   "language": "python",
   "name": "python3"
  },
  "language_info": {
   "codemirror_mode": {
    "name": "ipython",
    "version": 3
   },
   "file_extension": ".py",
   "mimetype": "text/x-python",
   "name": "python",
   "nbconvert_exporter": "python",
   "pygments_lexer": "ipython3",
   "version": "3.7.12"
  }
 },
 "nbformat": 4,
 "nbformat_minor": 5
}
