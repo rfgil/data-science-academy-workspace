{
 "cells": [
  {
   "cell_type": "code",
   "execution_count": 1,
   "metadata": {
    "deletable": false,
    "editable": false,
    "execution": {
     "iopub.execute_input": "2022-01-11T09:08:35.601324Z",
     "iopub.status.busy": "2022-01-11T09:08:35.592136Z",
     "iopub.status.idle": "2022-01-11T09:08:36.616458Z",
     "shell.execute_reply": "2022-01-11T09:08:36.617039Z"
    },
    "nbgrader": {
     "grade": false,
     "grade_id": "cell-3b735b942b2009ce",
     "locked": true,
     "schema_version": 3,
     "solution": false,
     "task": false
    }
   },
   "outputs": [],
   "source": [
    "import os\n",
    "import pandas as pd\n",
    "import json\n",
    "import joblib\n",
    "import pickle\n",
    "import requests\n",
    "from sklearn.pipeline import make_pipeline, Pipeline\n",
    "from sklearn.model_selection import cross_val_score\n",
    "from category_encoders import OneHotEncoder\n",
    "from sklearn.compose import ColumnTransformer\n",
    "from sklearn.ensemble import RandomForestClassifier\n",
    "from sklearn.linear_model import LogisticRegression\n",
    "import warnings\n",
    "warnings.filterwarnings('ignore')"
   ]
  },
  {
   "cell_type": "markdown",
   "metadata": {
    "deletable": false,
    "editable": false,
    "nbgrader": {
     "grade": false,
     "grade_id": "cell-093ada1b8f5cf10b",
     "locked": true,
     "schema_version": 3,
     "solution": false,
     "task": false
    }
   },
   "source": [
    "The portuguese “Velho Banco”, wants to attract wealthier clients for one of its products. For this purpose, they want to predict the annual income of each person, based on the information those people provided to the bank.\n",
    "\n",
    "Your company has been hired to help with this situation, and you were assigned to create a service that should predict if person's annual income if above 50k. The service should answer with a Yes or No answer.\n",
    "\n",
    "These exercises will guide you on your task, step by step."
   ]
  },
  {
   "cell_type": "markdown",
   "metadata": {
    "deletable": false,
    "editable": false,
    "nbgrader": {
     "grade": false,
     "grade_id": "cell-9dda3087fc177930",
     "locked": true,
     "schema_version": 3,
     "solution": false,
     "task": false
    }
   },
   "source": [
    "### 1. Meet the data\n",
    "\n",
    "Start by getting familiar with the dataset, in file `salaries.csv`, adapted from [here](https://www.kaggle.com/wenruliu/adult-income-dataset).\n",
    "Each row in the dataset is about each client, and has 4 fields.\n",
    "\n",
    "4 features:\n",
    "\n",
    "- **age**: what is the age of the client\n",
    "- **education**: the school education of the client\n",
    "- **hours-per-week**: number of hours the person works per week\n",
    "- **native-country**: where the person is from\n",
    "\n",
    "And the target:\n",
    "- **salary**: if is above or bellow 50k\n",
    "\n",
    "We'll consider a potencial client for the product when the salary is above 50k."
   ]
  },
  {
   "cell_type": "code",
   "execution_count": 2,
   "metadata": {
    "deletable": false,
    "editable": false,
    "execution": {
     "iopub.execute_input": "2022-01-11T09:08:36.623178Z",
     "iopub.status.busy": "2022-01-11T09:08:36.622382Z",
     "iopub.status.idle": "2022-01-11T09:08:36.666904Z",
     "shell.execute_reply": "2022-01-11T09:08:36.667519Z"
    },
    "nbgrader": {
     "grade": false,
     "grade_id": "cell-6c73de8f632d9425",
     "locked": true,
     "schema_version": 3,
     "solution": false,
     "task": false
    }
   },
   "outputs": [
    {
     "data": {
      "text/html": [
       "<div>\n",
       "<style scoped>\n",
       "    .dataframe tbody tr th:only-of-type {\n",
       "        vertical-align: middle;\n",
       "    }\n",
       "\n",
       "    .dataframe tbody tr th {\n",
       "        vertical-align: top;\n",
       "    }\n",
       "\n",
       "    .dataframe thead th {\n",
       "        text-align: right;\n",
       "    }\n",
       "</style>\n",
       "<table border=\"1\" class=\"dataframe\">\n",
       "  <thead>\n",
       "    <tr style=\"text-align: right;\">\n",
       "      <th></th>\n",
       "      <th>age</th>\n",
       "      <th>education</th>\n",
       "      <th>hours-per-week</th>\n",
       "      <th>native-country</th>\n",
       "      <th>salary</th>\n",
       "    </tr>\n",
       "  </thead>\n",
       "  <tbody>\n",
       "    <tr>\n",
       "      <th>0</th>\n",
       "      <td>39</td>\n",
       "      <td>Bachelors</td>\n",
       "      <td>40</td>\n",
       "      <td>United-States</td>\n",
       "      <td>&lt;=50K</td>\n",
       "    </tr>\n",
       "    <tr>\n",
       "      <th>1</th>\n",
       "      <td>50</td>\n",
       "      <td>Bachelors</td>\n",
       "      <td>13</td>\n",
       "      <td>United-States</td>\n",
       "      <td>&lt;=50K</td>\n",
       "    </tr>\n",
       "    <tr>\n",
       "      <th>2</th>\n",
       "      <td>38</td>\n",
       "      <td>HS-grad</td>\n",
       "      <td>40</td>\n",
       "      <td>United-States</td>\n",
       "      <td>&lt;=50K</td>\n",
       "    </tr>\n",
       "    <tr>\n",
       "      <th>3</th>\n",
       "      <td>53</td>\n",
       "      <td>11th</td>\n",
       "      <td>40</td>\n",
       "      <td>United-States</td>\n",
       "      <td>&lt;=50K</td>\n",
       "    </tr>\n",
       "    <tr>\n",
       "      <th>4</th>\n",
       "      <td>28</td>\n",
       "      <td>Bachelors</td>\n",
       "      <td>40</td>\n",
       "      <td>Cuba</td>\n",
       "      <td>&lt;=50K</td>\n",
       "    </tr>\n",
       "  </tbody>\n",
       "</table>\n",
       "</div>"
      ],
      "text/plain": [
       "   age   education  hours-per-week  native-country  salary\n",
       "0   39   Bachelors              40   United-States   <=50K\n",
       "1   50   Bachelors              13   United-States   <=50K\n",
       "2   38     HS-grad              40   United-States   <=50K\n",
       "3   53        11th              40   United-States   <=50K\n",
       "4   28   Bachelors              40            Cuba   <=50K"
      ]
     },
     "execution_count": 2,
     "metadata": {},
     "output_type": "execute_result"
    }
   ],
   "source": [
    "df = pd.read_csv(os.path.join(\"data\", \"salaries.csv\"))\n",
    "df.head()"
   ]
  },
  {
   "cell_type": "code",
   "execution_count": 3,
   "metadata": {
    "deletable": false,
    "execution": {
     "iopub.execute_input": "2022-01-11T09:08:36.675177Z",
     "iopub.status.busy": "2022-01-11T09:08:36.674628Z",
     "iopub.status.idle": "2022-01-11T09:08:36.678523Z",
     "shell.execute_reply": "2022-01-11T09:08:36.678941Z"
    },
    "nbgrader": {
     "grade": false,
     "grade_id": "cell-07b7596b7c482937",
     "locked": false,
     "schema_version": 3,
     "solution": true,
     "task": false
    }
   },
   "outputs": [],
   "source": [
    "# Create a DataFrame with the 4 features: age, education, hours-per-week, native-country\n",
    "# Keep them in this order\n",
    "# X = ...\n",
    "\n",
    "# YOUR CODE HERE\n",
    "X = df[['age', 'education', 'hours-per-week', 'native-country']]\n",
    "\n",
    "\n",
    "# Create a series with the target: salary\n",
    "y = df['salary']\n"
   ]
  },
  {
   "cell_type": "code",
   "execution_count": 4,
   "metadata": {
    "deletable": false,
    "editable": false,
    "execution": {
     "iopub.execute_input": "2022-01-11T09:08:36.684716Z",
     "iopub.status.busy": "2022-01-11T09:08:36.684189Z",
     "iopub.status.idle": "2022-01-11T09:08:36.688126Z",
     "shell.execute_reply": "2022-01-11T09:08:36.687398Z"
    },
    "nbgrader": {
     "grade": true,
     "grade_id": "cell-f5c67edf8e0decb5",
     "locked": true,
     "points": 1,
     "schema_version": 3,
     "solution": false,
     "task": false
    }
   },
   "outputs": [],
   "source": [
    "assert isinstance(X, pd.DataFrame)\n",
    "assert X.columns.tolist() == [\"age\", \"education\", \"hours-per-week\", \"native-country\"]\n",
    "\n",
    "assert isinstance(y, pd.Series)"
   ]
  },
  {
   "cell_type": "markdown",
   "metadata": {
    "deletable": false,
    "editable": false,
    "nbgrader": {
     "grade": false,
     "grade_id": "cell-5ecc8001c4919b62",
     "locked": true,
     "schema_version": 3,
     "solution": false,
     "task": false
    }
   },
   "source": [
    "### 2. Build a model\n",
    "\n",
    "Build a scikit model that predicts whether a person earns more than 50k, based on the features that you have available. Your model should be delivered as a scikit [Pipeline](https://scikit-learn.org/stable/modules/generated/sklearn.pipeline.Pipeline.html#sklearn.pipeline.Pipeline.predict_proba).\n",
    "\n",
    "Don't worry too much about the model's performance, anything better than random works! We'll focus on model performance in the next BLUs."
   ]
  },
  {
   "cell_type": "code",
   "execution_count": 5,
   "metadata": {
    "deletable": false,
    "execution": {
     "iopub.execute_input": "2022-01-11T09:08:36.693930Z",
     "iopub.status.busy": "2022-01-11T09:08:36.693279Z",
     "iopub.status.idle": "2022-01-11T09:08:36.698299Z",
     "shell.execute_reply": "2022-01-11T09:08:36.698893Z"
    },
    "nbgrader": {
     "grade": false,
     "grade_id": "cell-41aff4c773d827da",
     "locked": false,
     "schema_version": 3,
     "solution": true,
     "task": false
    }
   },
   "outputs": [],
   "source": [
    "# Create the pipeline with your model\n",
    "# pipeline = ...\n",
    "# YOUR CODE HERE\n",
    "\n",
    "pipeline = make_pipeline(\n",
    "    OneHotEncoder(handle_unknown='value'),\n",
    "    LogisticRegression(max_iter=1000),\n",
    ")\n"
   ]
  },
  {
   "cell_type": "code",
   "execution_count": 6,
   "metadata": {
    "deletable": false,
    "editable": false,
    "execution": {
     "iopub.execute_input": "2022-01-11T09:08:36.713937Z",
     "iopub.status.busy": "2022-01-11T09:08:36.712587Z",
     "iopub.status.idle": "2022-01-11T09:08:36.716306Z",
     "shell.execute_reply": "2022-01-11T09:08:36.716714Z"
    },
    "nbgrader": {
     "grade": true,
     "grade_id": "cell-7f6385b594764da7",
     "locked": true,
     "points": 2,
     "schema_version": 3,
     "solution": false,
     "task": false
    }
   },
   "outputs": [],
   "source": [
    "assert isinstance(pipeline, Pipeline)"
   ]
  },
  {
   "cell_type": "code",
   "execution_count": 7,
   "metadata": {
    "deletable": false,
    "execution": {
     "iopub.execute_input": "2022-01-11T09:08:36.762169Z",
     "iopub.status.busy": "2022-01-11T09:08:36.760201Z",
     "iopub.status.idle": "2022-01-11T09:09:18.792725Z",
     "shell.execute_reply": "2022-01-11T09:09:18.793985Z"
    },
    "nbgrader": {
     "grade": false,
     "grade_id": "cell-e076246fb29c9928",
     "locked": false,
     "schema_version": 3,
     "solution": true,
     "task": false
    }
   },
   "outputs": [],
   "source": [
    "# Use cross validation with 5 folds and ROC_AUC as metric, to check your model's performance\n",
    "roc_aucs = cross_val_score(pipeline, X, y)\n",
    "# YOUR CODE HERE\n"
   ]
  },
  {
   "cell_type": "code",
   "execution_count": 8,
   "metadata": {
    "execution": {
     "iopub.execute_input": "2022-01-11T09:09:18.799913Z",
     "iopub.status.busy": "2022-01-11T09:09:18.798177Z",
     "iopub.status.idle": "2022-01-11T09:09:18.810546Z",
     "shell.execute_reply": "2022-01-11T09:09:18.811896Z"
    }
   },
   "outputs": [
    {
     "data": {
      "text/plain": [
       "array([0.78734838, 0.78931204, 0.78731572, 0.79100123, 0.79207617])"
      ]
     },
     "execution_count": 8,
     "metadata": {},
     "output_type": "execute_result"
    }
   ],
   "source": [
    "roc_aucs"
   ]
  },
  {
   "cell_type": "code",
   "execution_count": 9,
   "metadata": {
    "deletable": false,
    "editable": false,
    "execution": {
     "iopub.execute_input": "2022-01-11T09:09:18.818073Z",
     "iopub.status.busy": "2022-01-11T09:09:18.816283Z",
     "iopub.status.idle": "2022-01-11T09:09:18.823833Z",
     "shell.execute_reply": "2022-01-11T09:09:18.825260Z"
    },
    "nbgrader": {
     "grade": true,
     "grade_id": "cell-044b10bfe1c9f942",
     "locked": true,
     "points": 2,
     "schema_version": 3,
     "solution": false,
     "task": false
    }
   },
   "outputs": [],
   "source": [
    "assert roc_aucs.mean() > 0.5"
   ]
  },
  {
   "cell_type": "code",
   "execution_count": 10,
   "metadata": {
    "deletable": false,
    "execution": {
     "iopub.execute_input": "2022-01-11T09:09:18.831142Z",
     "iopub.status.busy": "2022-01-11T09:09:18.829381Z",
     "iopub.status.idle": "2022-01-11T09:09:29.220197Z",
     "shell.execute_reply": "2022-01-11T09:09:29.220986Z"
    },
    "nbgrader": {
     "grade": false,
     "grade_id": "cell-2648bddb36617860",
     "locked": false,
     "schema_version": 3,
     "solution": true,
     "task": false
    }
   },
   "outputs": [
    {
     "data": {
      "text/plain": [
       "Pipeline(steps=[('onehotencoder',\n",
       "                 OneHotEncoder(cols=['education', 'native-country'])),\n",
       "                ('logisticregression', LogisticRegression(max_iter=1000))])"
      ]
     },
     "execution_count": 10,
     "metadata": {},
     "output_type": "execute_result"
    }
   ],
   "source": [
    "# Now fit the pipeline to all the training data\n",
    "# YOUR CODE HERE\n",
    "pipeline.fit(X, y)"
   ]
  },
  {
   "cell_type": "code",
   "execution_count": 11,
   "metadata": {
    "deletable": false,
    "editable": false,
    "execution": {
     "iopub.execute_input": "2022-01-11T09:09:29.243762Z",
     "iopub.status.busy": "2022-01-11T09:09:29.242556Z",
     "iopub.status.idle": "2022-01-11T09:09:29.247946Z",
     "shell.execute_reply": "2022-01-11T09:09:29.249343Z"
    },
    "nbgrader": {
     "grade": true,
     "grade_id": "cell-1253351ba8bae163",
     "locked": true,
     "points": 2,
     "schema_version": 3,
     "solution": false,
     "task": false
    }
   },
   "outputs": [],
   "source": [
    "assert pipeline.predict_proba(X.head(1)).shape == (1, 2)"
   ]
  },
  {
   "cell_type": "markdown",
   "metadata": {},
   "source": [
    "### 3. Serialize all the things!\n",
    "\n",
    "Now we need to serialize three things:\n",
    "\n",
    "1. The column names in the correct order\n",
    "1. The fitted pipeline\n",
    "1. The dtypes of the columns of the training set"
   ]
  },
  {
   "cell_type": "code",
   "execution_count": 12,
   "metadata": {
    "execution": {
     "iopub.execute_input": "2022-01-11T09:09:29.258224Z",
     "iopub.status.busy": "2022-01-11T09:09:29.257243Z",
     "iopub.status.idle": "2022-01-11T09:09:29.262094Z",
     "shell.execute_reply": "2022-01-11T09:09:29.263507Z"
    }
   },
   "outputs": [],
   "source": [
    "# This is a temporary directory where your serialized files will be saved\n",
    "# You can change it while working on the exercises locally,\n",
    "# but change it back to TMP_DIR = '/tmp' before submitting the exercises,\n",
    "# otherwise grading will fail\n",
    "TMP_DIR = '/tmp'\n",
    "#TMP_DIR = '.'"
   ]
  },
  {
   "cell_type": "code",
   "execution_count": 13,
   "metadata": {
    "deletable": false,
    "execution": {
     "iopub.execute_input": "2022-01-11T09:09:29.270212Z",
     "iopub.status.busy": "2022-01-11T09:09:29.268204Z",
     "iopub.status.idle": "2022-01-11T09:09:29.278153Z",
     "shell.execute_reply": "2022-01-11T09:09:29.279669Z"
    },
    "nbgrader": {
     "grade": false,
     "grade_id": "cell-5c005f7797fa6539",
     "locked": false,
     "schema_version": 3,
     "solution": true,
     "task": false
    }
   },
   "outputs": [],
   "source": [
    "# Serialize the column names from the X DataFrame into a file named columns.json\n",
    "# YOUR CODE HERE\n",
    "\n",
    "with open('columns.json', 'w') as fh:\n",
    "    json.dump(X.columns.tolist(), fh)"
   ]
  },
  {
   "cell_type": "code",
   "execution_count": 14,
   "metadata": {
    "deletable": false,
    "editable": false,
    "execution": {
     "iopub.execute_input": "2022-01-11T09:09:29.286339Z",
     "iopub.status.busy": "2022-01-11T09:09:29.284347Z",
     "iopub.status.idle": "2022-01-11T09:09:29.466274Z",
     "shell.execute_reply": "2022-01-11T09:09:29.465767Z"
    },
    "nbgrader": {
     "grade": true,
     "grade_id": "cell-05b83e3ddf3da045",
     "locked": true,
     "points": 1,
     "schema_version": 3,
     "solution": false,
     "task": false
    }
   },
   "outputs": [
    {
     "ename": "FileNotFoundError",
     "evalue": "[Errno 2] No such file or directory: '/tmp/columns.json'",
     "output_type": "error",
     "traceback": [
      "\u001b[0;31m---------------------------------------------------------------------------\u001b[0m",
      "\u001b[0;31mFileNotFoundError\u001b[0m                         Traceback (most recent call last)",
      "\u001b[0;32m/tmp/ipykernel_25/46764636.py\u001b[0m in \u001b[0;36m<module>\u001b[0;34m\u001b[0m\n\u001b[0;32m----> 1\u001b[0;31m \u001b[0;32mwith\u001b[0m \u001b[0mopen\u001b[0m\u001b[0;34m(\u001b[0m\u001b[0mos\u001b[0m\u001b[0;34m.\u001b[0m\u001b[0mpath\u001b[0m\u001b[0;34m.\u001b[0m\u001b[0mjoin\u001b[0m\u001b[0;34m(\u001b[0m\u001b[0mTMP_DIR\u001b[0m\u001b[0;34m,\u001b[0m \u001b[0;34m\"columns.json\"\u001b[0m\u001b[0;34m)\u001b[0m\u001b[0;34m,\u001b[0m \u001b[0;34m'r'\u001b[0m\u001b[0;34m)\u001b[0m \u001b[0;32mas\u001b[0m \u001b[0mfh\u001b[0m\u001b[0;34m:\u001b[0m\u001b[0;34m\u001b[0m\u001b[0;34m\u001b[0m\u001b[0m\n\u001b[0m\u001b[1;32m      2\u001b[0m     \u001b[0mcolumns\u001b[0m \u001b[0;34m=\u001b[0m \u001b[0mjson\u001b[0m\u001b[0;34m.\u001b[0m\u001b[0mload\u001b[0m\u001b[0;34m(\u001b[0m\u001b[0mfh\u001b[0m\u001b[0;34m)\u001b[0m\u001b[0;34m\u001b[0m\u001b[0;34m\u001b[0m\u001b[0m\n\u001b[1;32m      3\u001b[0m \u001b[0;34m\u001b[0m\u001b[0m\n\u001b[1;32m      4\u001b[0m \u001b[0;32massert\u001b[0m \u001b[0mcolumns\u001b[0m \u001b[0;34m==\u001b[0m \u001b[0mX\u001b[0m\u001b[0;34m.\u001b[0m\u001b[0mcolumns\u001b[0m\u001b[0;34m.\u001b[0m\u001b[0mtolist\u001b[0m\u001b[0;34m(\u001b[0m\u001b[0;34m)\u001b[0m\u001b[0;34m\u001b[0m\u001b[0;34m\u001b[0m\u001b[0m\n",
      "\u001b[0;31mFileNotFoundError\u001b[0m: [Errno 2] No such file or directory: '/tmp/columns.json'"
     ]
    }
   ],
   "source": [
    "with open(os.path.join(TMP_DIR, \"columns.json\"), 'r') as fh:\n",
    "    columns = json.load(fh)\n",
    "    \n",
    "assert columns == X.columns.tolist()"
   ]
  },
  {
   "cell_type": "code",
   "execution_count": 15,
   "metadata": {
    "deletable": false,
    "execution": {
     "iopub.execute_input": "2022-01-11T09:09:29.472228Z",
     "iopub.status.busy": "2022-01-11T09:09:29.471270Z",
     "iopub.status.idle": "2022-01-11T09:09:29.474178Z",
     "shell.execute_reply": "2022-01-11T09:09:29.474581Z"
    },
    "nbgrader": {
     "grade": false,
     "grade_id": "cell-07af2c8ac79550f7",
     "locked": false,
     "schema_version": 3,
     "solution": true,
     "task": false
    }
   },
   "outputs": [],
   "source": [
    "# Pickle the dtypes of the columns from the X DataFrame into a file named dtypes.pickle\n",
    "# YOUR CODE HERE\n",
    "\n",
    "with open('dtypes.pickle', 'wb') as fh:\n",
    "    pickle.dump(X.dtypes, fh)\n"
   ]
  },
  {
   "cell_type": "code",
   "execution_count": 16,
   "metadata": {
    "deletable": false,
    "editable": false,
    "execution": {
     "iopub.execute_input": "2022-01-11T09:09:29.488086Z",
     "iopub.status.busy": "2022-01-11T09:09:29.486192Z",
     "iopub.status.idle": "2022-01-11T09:09:29.493917Z",
     "shell.execute_reply": "2022-01-11T09:09:29.493429Z"
    },
    "nbgrader": {
     "grade": true,
     "grade_id": "cell-47e4637e8d8e2a64",
     "locked": true,
     "points": 1,
     "schema_version": 3,
     "solution": false,
     "task": false
    }
   },
   "outputs": [
    {
     "ename": "FileNotFoundError",
     "evalue": "[Errno 2] No such file or directory: '/tmp/dtypes.pickle'",
     "output_type": "error",
     "traceback": [
      "\u001b[0;31m---------------------------------------------------------------------------\u001b[0m",
      "\u001b[0;31mFileNotFoundError\u001b[0m                         Traceback (most recent call last)",
      "\u001b[0;32m/tmp/ipykernel_25/1408853602.py\u001b[0m in \u001b[0;36m<module>\u001b[0;34m\u001b[0m\n\u001b[0;32m----> 1\u001b[0;31m \u001b[0;32mwith\u001b[0m \u001b[0mopen\u001b[0m\u001b[0;34m(\u001b[0m\u001b[0mos\u001b[0m\u001b[0;34m.\u001b[0m\u001b[0mpath\u001b[0m\u001b[0;34m.\u001b[0m\u001b[0mjoin\u001b[0m\u001b[0;34m(\u001b[0m\u001b[0mTMP_DIR\u001b[0m\u001b[0;34m,\u001b[0m \u001b[0;34m\"dtypes.pickle\"\u001b[0m\u001b[0;34m)\u001b[0m\u001b[0;34m,\u001b[0m \u001b[0;34m'rb'\u001b[0m\u001b[0;34m)\u001b[0m \u001b[0;32mas\u001b[0m \u001b[0mfh\u001b[0m\u001b[0;34m:\u001b[0m\u001b[0;34m\u001b[0m\u001b[0;34m\u001b[0m\u001b[0m\n\u001b[0m\u001b[1;32m      2\u001b[0m     \u001b[0mdtypes\u001b[0m \u001b[0;34m=\u001b[0m \u001b[0mpickle\u001b[0m\u001b[0;34m.\u001b[0m\u001b[0mload\u001b[0m\u001b[0;34m(\u001b[0m\u001b[0mfh\u001b[0m\u001b[0;34m)\u001b[0m\u001b[0;34m\u001b[0m\u001b[0;34m\u001b[0m\u001b[0m\n\u001b[1;32m      3\u001b[0m \u001b[0;34m\u001b[0m\u001b[0m\n\u001b[1;32m      4\u001b[0m \u001b[0;32massert\u001b[0m \u001b[0mdtypes\u001b[0m\u001b[0;34m.\u001b[0m\u001b[0mequals\u001b[0m\u001b[0;34m(\u001b[0m\u001b[0mX\u001b[0m\u001b[0;34m.\u001b[0m\u001b[0mdtypes\u001b[0m\u001b[0;34m)\u001b[0m\u001b[0;34m\u001b[0m\u001b[0;34m\u001b[0m\u001b[0m\n",
      "\u001b[0;31mFileNotFoundError\u001b[0m: [Errno 2] No such file or directory: '/tmp/dtypes.pickle'"
     ]
    }
   ],
   "source": [
    "with open(os.path.join(TMP_DIR, \"dtypes.pickle\"), 'rb') as fh:\n",
    "    dtypes = pickle.load(fh)\n",
    "    \n",
    "assert dtypes.equals(X.dtypes)"
   ]
  },
  {
   "cell_type": "code",
   "execution_count": 17,
   "metadata": {
    "deletable": false,
    "execution": {
     "iopub.execute_input": "2022-01-11T09:09:29.498761Z",
     "iopub.status.busy": "2022-01-11T09:09:29.497969Z",
     "iopub.status.idle": "2022-01-11T09:09:29.508371Z",
     "shell.execute_reply": "2022-01-11T09:09:29.509038Z"
    },
    "nbgrader": {
     "grade": false,
     "grade_id": "cell-83f3ebc142010e9f",
     "locked": false,
     "schema_version": 3,
     "solution": true,
     "task": false
    }
   },
   "outputs": [
    {
     "data": {
      "text/plain": [
       "['pipeline.pickle']"
      ]
     },
     "execution_count": 17,
     "metadata": {},
     "output_type": "execute_result"
    }
   ],
   "source": [
    "# Pickle the fitted pipeline into a file named pipeline.pickle\n",
    "# YOUR CODE HERE\n",
    "\n",
    "joblib.dump(pipeline, 'pipeline.pickle') "
   ]
  },
  {
   "cell_type": "code",
   "execution_count": 18,
   "metadata": {
    "deletable": false,
    "editable": false,
    "execution": {
     "iopub.execute_input": "2022-01-11T09:09:29.517897Z",
     "iopub.status.busy": "2022-01-11T09:09:29.517339Z",
     "iopub.status.idle": "2022-01-11T09:09:29.530239Z",
     "shell.execute_reply": "2022-01-11T09:09:29.531019Z"
    },
    "nbgrader": {
     "grade": true,
     "grade_id": "cell-aacbc4873f79af3c",
     "locked": true,
     "points": 1,
     "schema_version": 3,
     "solution": false,
     "task": false
    }
   },
   "outputs": [
    {
     "ename": "FileNotFoundError",
     "evalue": "[Errno 2] No such file or directory: '/tmp/pipeline.pickle'",
     "output_type": "error",
     "traceback": [
      "\u001b[0;31m---------------------------------------------------------------------------\u001b[0m",
      "\u001b[0;31mFileNotFoundError\u001b[0m                         Traceback (most recent call last)",
      "\u001b[0;32m/tmp/ipykernel_25/1594511188.py\u001b[0m in \u001b[0;36m<module>\u001b[0;34m\u001b[0m\n\u001b[0;32m----> 1\u001b[0;31m \u001b[0mpipeline_recovered\u001b[0m \u001b[0;34m=\u001b[0m \u001b[0mjoblib\u001b[0m\u001b[0;34m.\u001b[0m\u001b[0mload\u001b[0m\u001b[0;34m(\u001b[0m\u001b[0mos\u001b[0m\u001b[0;34m.\u001b[0m\u001b[0mpath\u001b[0m\u001b[0;34m.\u001b[0m\u001b[0mjoin\u001b[0m\u001b[0;34m(\u001b[0m\u001b[0mTMP_DIR\u001b[0m\u001b[0;34m,\u001b[0m \u001b[0;34m\"pipeline.pickle\"\u001b[0m\u001b[0;34m)\u001b[0m\u001b[0;34m)\u001b[0m\u001b[0;34m\u001b[0m\u001b[0;34m\u001b[0m\u001b[0m\n\u001b[0m\u001b[1;32m      2\u001b[0m \u001b[0;34m\u001b[0m\u001b[0m\n\u001b[1;32m      3\u001b[0m \u001b[0;32massert\u001b[0m \u001b[0misinstance\u001b[0m\u001b[0;34m(\u001b[0m\u001b[0mpipeline_recovered\u001b[0m\u001b[0;34m,\u001b[0m \u001b[0mPipeline\u001b[0m\u001b[0;34m)\u001b[0m\u001b[0;34m\u001b[0m\u001b[0;34m\u001b[0m\u001b[0m\n\u001b[1;32m      4\u001b[0m \u001b[0;32massert\u001b[0m \u001b[0mpipeline_recovered\u001b[0m\u001b[0;34m.\u001b[0m\u001b[0mpredict_proba\u001b[0m\u001b[0;34m(\u001b[0m\u001b[0mX\u001b[0m\u001b[0;34m.\u001b[0m\u001b[0mhead\u001b[0m\u001b[0;34m(\u001b[0m\u001b[0;36m1\u001b[0m\u001b[0;34m)\u001b[0m\u001b[0;34m)\u001b[0m\u001b[0;34m.\u001b[0m\u001b[0mshape\u001b[0m \u001b[0;34m==\u001b[0m \u001b[0;34m(\u001b[0m\u001b[0;36m1\u001b[0m\u001b[0;34m,\u001b[0m \u001b[0;36m2\u001b[0m\u001b[0;34m)\u001b[0m\u001b[0;34m\u001b[0m\u001b[0;34m\u001b[0m\u001b[0m\n",
      "\u001b[0;32m/usr/local/lib/python3.7/site-packages/joblib/numpy_pickle.py\u001b[0m in \u001b[0;36mload\u001b[0;34m(filename, mmap_mode)\u001b[0m\n\u001b[1;32m    577\u001b[0m             \u001b[0mobj\u001b[0m \u001b[0;34m=\u001b[0m \u001b[0m_unpickle\u001b[0m\u001b[0;34m(\u001b[0m\u001b[0mfobj\u001b[0m\u001b[0;34m)\u001b[0m\u001b[0;34m\u001b[0m\u001b[0;34m\u001b[0m\u001b[0m\n\u001b[1;32m    578\u001b[0m     \u001b[0;32melse\u001b[0m\u001b[0;34m:\u001b[0m\u001b[0;34m\u001b[0m\u001b[0;34m\u001b[0m\u001b[0m\n\u001b[0;32m--> 579\u001b[0;31m         \u001b[0;32mwith\u001b[0m \u001b[0mopen\u001b[0m\u001b[0;34m(\u001b[0m\u001b[0mfilename\u001b[0m\u001b[0;34m,\u001b[0m \u001b[0;34m'rb'\u001b[0m\u001b[0;34m)\u001b[0m \u001b[0;32mas\u001b[0m \u001b[0mf\u001b[0m\u001b[0;34m:\u001b[0m\u001b[0;34m\u001b[0m\u001b[0;34m\u001b[0m\u001b[0m\n\u001b[0m\u001b[1;32m    580\u001b[0m             \u001b[0;32mwith\u001b[0m \u001b[0m_read_fileobject\u001b[0m\u001b[0;34m(\u001b[0m\u001b[0mf\u001b[0m\u001b[0;34m,\u001b[0m \u001b[0mfilename\u001b[0m\u001b[0;34m,\u001b[0m \u001b[0mmmap_mode\u001b[0m\u001b[0;34m)\u001b[0m \u001b[0;32mas\u001b[0m \u001b[0mfobj\u001b[0m\u001b[0;34m:\u001b[0m\u001b[0;34m\u001b[0m\u001b[0;34m\u001b[0m\u001b[0m\n\u001b[1;32m    581\u001b[0m                 \u001b[0;32mif\u001b[0m \u001b[0misinstance\u001b[0m\u001b[0;34m(\u001b[0m\u001b[0mfobj\u001b[0m\u001b[0;34m,\u001b[0m \u001b[0mstr\u001b[0m\u001b[0;34m)\u001b[0m\u001b[0;34m:\u001b[0m\u001b[0;34m\u001b[0m\u001b[0;34m\u001b[0m\u001b[0m\n",
      "\u001b[0;31mFileNotFoundError\u001b[0m: [Errno 2] No such file or directory: '/tmp/pipeline.pickle'"
     ]
    }
   ],
   "source": [
    "pipeline_recovered = joblib.load(os.path.join(TMP_DIR, \"pipeline.pickle\"))\n",
    "\n",
    "assert isinstance(pipeline_recovered, Pipeline)\n",
    "assert pipeline_recovered.predict_proba(X.head(1)).shape == (1, 2)"
   ]
  },
  {
   "cell_type": "markdown",
   "metadata": {
    "deletable": false,
    "editable": false,
    "nbgrader": {
     "grade": false,
     "grade_id": "cell-842958da0ca18608",
     "locked": true,
     "schema_version": 3,
     "solution": false,
     "task": false
    }
   },
   "source": [
    "### 4. Create a new repo for your service\n",
    "\n",
    "Now it's time to create a new repo for your service. As you learned in the README of the [heroku-model-deploy repository](https://github.com/LDSSA/heroku-model-deploy), duplicate the heroku-model-deploy repo.\n",
    "\n",
    "From this point on, you should code on the new repo. The remaining exercises in this notebook are questions meant to check if your service is working as expected.\n",
    "\n",
    "After you've setup your new repo, copy the following things over there:\n",
    "- `columns.json` file\n",
    "- `dtypes.pickle` file\n",
    "- `pipeline.pickle` file\n",
    "- the package containing custom code in your model (only if you've used it, of course!)."
   ]
  },
  {
   "cell_type": "markdown",
   "metadata": {
    "deletable": false,
    "editable": false,
    "nbgrader": {
     "grade": false,
     "grade_id": "cell-348c4399be9f23a8",
     "locked": true,
     "schema_version": 3,
     "solution": false,
     "task": false
    }
   },
   "source": [
    "### 5. Build your flask app\n",
    "\n",
    "#### /predict\n",
    "\n",
    "At this point, you can either edit the `app.py` file that's in the repo, or start a new file from scratch.\n",
    "My advice is that you start one from scratch, as it will probably be a better learning experience.\n",
    "\n",
    "Start by creating a `predict` endpoint, that should receive POST requests, and a JSON payload with:\n",
    "- id\n",
    "- observation, which has 4 fields: age, education, hours-per-week, native-country.\n",
    "\n",
    "This endpoint should return the proba returned by your model for this observation.\n",
    "Make sure that each field is in the correct format before passing it to the scikit model. If you receive an observation with an invalid value, return an appropriate error message.\n",
    "\n",
    "When a request is received, you should update your local sqlite database with the following:\n",
    "- id\n",
    "- observation\n",
    "- proba\n",
    "- true_class (which is null for now)\n",
    "\n",
    "In case your app has received an observation with an id that it has seen before, it should return an error message, the correspondent proba, and don't store anything.\n",
    "\n",
    "Try the following commands to check that everything is working as expected."
   ]
  },
  {
   "cell_type": "markdown",
   "metadata": {
    "deletable": false,
    "editable": false,
    "nbgrader": {
     "grade": false,
     "grade_id": "cell-323d5162ea6c0008",
     "locked": true,
     "schema_version": 3,
     "solution": false,
     "task": false
    }
   },
   "source": [
    "**Command**\n",
    "\n",
    "```bash\n",
    "~ > curl -X POST http://localhost:5000/predict -d '{\"id\": 0, \"observation\": {\"age\": 45, \"education\": \"Bachelors\", \"hours-per-week\": 45, \"native-country\": \"United-States\"}}' -H \"Content-Type:application/json\"\n",
    "```\n",
    "\n",
    "\n",
    "**Expected output**\n",
    "\n",
    "```json\n",
    "{\n",
    "  \"proba\": 0.3\n",
    "}\n",
    "```\n",
    "\n",
    "(any proba value works, it depends on your model, of course!)"
   ]
  },
  {
   "cell_type": "markdown",
   "metadata": {
    "deletable": false,
    "editable": false,
    "nbgrader": {
     "grade": false,
     "grade_id": "cell-255b3138647074b8",
     "locked": true,
     "schema_version": 3,
     "solution": false,
     "task": false
    }
   },
   "source": [
    "**Command**\n",
    "\n",
    "```bash\n",
    "~ > curl -X POST http://localhost:5000/predict -d '{\"id\": 0, \"observation\": {\"age\": 45, \"education\": \"Bachelors\", \"hours-per-week\": 45, \"native-country\": \"United-States\"}}' -H \"Content-Type:application/json\"\n",
    "```\n",
    "\n",
    "\n",
    "**Expected output**\n",
    "\n",
    "```json\n",
    "{\n",
    "  \"error\": \"Observation ID: \\\"0\\\" already exists\",\n",
    "  \"proba\": 0.3\n",
    "}\n",
    "```"
   ]
  },
  {
   "cell_type": "markdown",
   "metadata": {
    "deletable": false,
    "editable": false,
    "nbgrader": {
     "grade": false,
     "grade_id": "cell-cd109fea5648a5cb",
     "locked": true,
     "schema_version": 3,
     "solution": false,
     "task": false
    }
   },
   "source": [
    "**Command**\n",
    "\n",
    "```bash\n",
    "curl -X POST http://localhost:5000/predict -d '{\"id\": 1, \"observation\": {\"age\": 45, \"education\": \"Bachelors\", \"hours-per-week\": \"45 hours\", \"native-country\": \"United-States\"}}' -H \"Content-Type:application/json\"\n",
    "```\n",
    "\n",
    "**Expected output**\n",
    "```json\n",
    "{\n",
    "  \"error\": \"Observation is invalid!\"\n",
    "}\n",
    "```"
   ]
  },
  {
   "cell_type": "code",
   "execution_count": 19,
   "metadata": {
    "deletable": false,
    "execution": {
     "iopub.execute_input": "2022-01-11T09:09:29.536271Z",
     "iopub.status.busy": "2022-01-11T09:09:29.535634Z",
     "iopub.status.idle": "2022-01-11T09:09:29.538094Z",
     "shell.execute_reply": "2022-01-11T09:09:29.538571Z"
    },
    "nbgrader": {
     "grade": false,
     "grade_id": "cell-c098b18fbb94dac2",
     "locked": false,
     "schema_version": 3,
     "solution": true,
     "task": false
    }
   },
   "outputs": [],
   "source": [
    "# When the predict endpoint of your flask app is working as expected,\n",
    "# set variable predict_endpoint_working_fine to True\n",
    "predict_endpoint_working_fine = True\n",
    "\n",
    "# YOUR CODE HERE"
   ]
  },
  {
   "cell_type": "code",
   "execution_count": 20,
   "metadata": {
    "deletable": false,
    "editable": false,
    "execution": {
     "iopub.execute_input": "2022-01-11T09:09:29.543376Z",
     "iopub.status.busy": "2022-01-11T09:09:29.542772Z",
     "iopub.status.idle": "2022-01-11T09:09:29.546644Z",
     "shell.execute_reply": "2022-01-11T09:09:29.546185Z"
    },
    "nbgrader": {
     "grade": true,
     "grade_id": "cell-3e6dbbbbc93ef800",
     "locked": true,
     "points": 3,
     "schema_version": 3,
     "solution": false,
     "task": false
    }
   },
   "outputs": [],
   "source": [
    "assert predict_endpoint_working_fine"
   ]
  },
  {
   "cell_type": "markdown",
   "metadata": {
    "deletable": false,
    "editable": false,
    "nbgrader": {
     "grade": false,
     "grade_id": "cell-47acb752b1ba5730",
     "locked": true,
     "schema_version": 3,
     "solution": false,
     "task": false
    }
   },
   "source": [
    "#### /update\n",
    "\n",
    "The update endpoint should receive POST requests, and a JSON payload with:\n",
    "- id\n",
    "- true_class\n",
    "\n",
    "If there is an observation with `id` in your database, you should update the `true_class` value with the value in the request. The response should be the observation, with the updated true_class value.\n",
    "\n",
    "Otherwise, you should return an appropriate error message.\n",
    "\n",
    "Try the following commands to check that everything is working as expected."
   ]
  },
  {
   "cell_type": "markdown",
   "metadata": {
    "deletable": false,
    "editable": false,
    "nbgrader": {
     "grade": false,
     "grade_id": "cell-36f99897d25c7dee",
     "locked": true,
     "schema_version": 3,
     "solution": false,
     "task": false
    }
   },
   "source": [
    "**Command**\n",
    "\n",
    "```bash\n",
    "~ > curl -X POST http://localhost:5000/update -d '{\"id\": 0, \"true_class\": 1}'  -H \"Content-Type:application/json\"\n",
    "```\n",
    "\n",
    "\n",
    "**Expected output**\n",
    "\n",
    "```json\n",
    "{\n",
    "  \"id\": 1,\n",
    "  \"observation\": \"{\"age\": 45, \"education\": \"Bachelors\", \"hours-per-week\": 45, \"native-country\": \"United-States\"}\",\n",
    "  \"observation_id\": 0,\n",
    "  \"proba\": 0.3,\n",
    "  \"true_class\": 1\n",
    "}\n",
    "```"
   ]
  },
  {
   "cell_type": "markdown",
   "metadata": {
    "deletable": false,
    "editable": false,
    "nbgrader": {
     "grade": false,
     "grade_id": "cell-87df0f20c5b63b7a",
     "locked": true,
     "schema_version": 3,
     "solution": false,
     "task": false
    }
   },
   "source": [
    "**Command**\n",
    "\n",
    "```bash\n",
    "~ > curl -X POST http://localhost:5000/update -d '{\"id\": 3, \"true_class\": 1}'  -H \"Content-Type:application/json\"\n",
    "```\n",
    "\n",
    "\n",
    "**Expected output**\n",
    "\n",
    "```json\n",
    "{\n",
    "  \"error\": \"Observation ID: \\\"3\\\" does not exist\"\n",
    "}\n",
    "```"
   ]
  },
  {
   "cell_type": "code",
   "execution_count": 21,
   "metadata": {
    "deletable": false,
    "execution": {
     "iopub.execute_input": "2022-01-11T09:09:29.551443Z",
     "iopub.status.busy": "2022-01-11T09:09:29.550835Z",
     "iopub.status.idle": "2022-01-11T09:09:29.554522Z",
     "shell.execute_reply": "2022-01-11T09:09:29.554921Z"
    },
    "nbgrader": {
     "grade": false,
     "grade_id": "cell-40d6ee7431c34db9",
     "locked": false,
     "schema_version": 3,
     "solution": true,
     "task": false
    }
   },
   "outputs": [],
   "source": [
    "# When the predict endpoint of your flask app is working as expected,\n",
    "# set variable update_endpoint_working_fine to True\n",
    "update_endpoint_working_fine = True\n",
    "\n",
    "# YOUR CODE HERE"
   ]
  },
  {
   "cell_type": "code",
   "execution_count": 22,
   "metadata": {
    "deletable": false,
    "editable": false,
    "execution": {
     "iopub.execute_input": "2022-01-11T09:09:29.561038Z",
     "iopub.status.busy": "2022-01-11T09:09:29.559545Z",
     "iopub.status.idle": "2022-01-11T09:09:29.561623Z",
     "shell.execute_reply": "2022-01-11T09:09:29.562023Z"
    },
    "nbgrader": {
     "grade": true,
     "grade_id": "cell-589e67c22bb96a5b",
     "locked": true,
     "points": 2,
     "schema_version": 3,
     "solution": false,
     "task": false
    }
   },
   "outputs": [],
   "source": [
    "assert update_endpoint_working_fine"
   ]
  },
  {
   "cell_type": "markdown",
   "metadata": {
    "deletable": false,
    "editable": false,
    "nbgrader": {
     "grade": false,
     "grade_id": "cell-b4eb379e93d926d1",
     "locked": true,
     "schema_version": 3,
     "solution": false,
     "task": false
    }
   },
   "source": [
    "### 6. Deploy your app to heroku\n",
    "\n",
    "Follow the instructions on the Learning part of this BLU to deploy your app to heroku.\n",
    "\n",
    "In order to check that your app is working correctly on heroku, re-run the previous commands, but replacing the `localhost` with the URL of your heroku app (like `https://<your-app-name>.herokuapp.com`). For instance, the first command would be:\n",
    "\n",
    "\n",
    "**Command**\n",
    "\n",
    "```bash\n",
    "~ > curl -X POST https://<your-app-name>.herokuapp.com/predict -d '{\"id\": 0, \"observation\": {\"age\": 45, \"education\": \"Bachelors\", \"hours-per-week\": 45, \"native-country\": \"United-States\"}}' -H \"Content-Type:application/json\"\n",
    "```\n",
    "\n",
    "\n",
    "**Expected output**\n",
    "\n",
    "```json\n",
    "{\n",
    "  \"proba\": 0.3\n",
    "}\n",
    "```"
   ]
  },
  {
   "cell_type": "code",
   "execution_count": 23,
   "metadata": {
    "deletable": false,
    "execution": {
     "iopub.execute_input": "2022-01-11T09:09:29.569326Z",
     "iopub.status.busy": "2022-01-11T09:09:29.566882Z",
     "iopub.status.idle": "2022-01-11T09:09:29.570611Z",
     "shell.execute_reply": "2022-01-11T09:09:29.571473Z"
    },
    "nbgrader": {
     "grade": false,
     "grade_id": "cell-711322a2c161a32a",
     "locked": false,
     "schema_version": 3,
     "solution": true,
     "task": false
    }
   },
   "outputs": [],
   "source": [
    "# In this test, we will call your app to check if it's working as expected\n",
    "# Assign the variable APP_NAME to the name of your heroku app\n",
    "APP_NAME = 'e6281d438ef244b3b42f775aae'\n",
    "\n",
    "# YOUR CODE HERE"
   ]
  },
  {
   "cell_type": "code",
   "execution_count": 24,
   "metadata": {
    "deletable": false,
    "editable": false,
    "execution": {
     "iopub.execute_input": "2022-01-11T09:09:29.582883Z",
     "iopub.status.busy": "2022-01-11T09:09:29.575917Z",
     "iopub.status.idle": "2022-01-11T09:09:29.753356Z",
     "shell.execute_reply": "2022-01-11T09:09:29.753805Z"
    },
    "nbgrader": {
     "grade": true,
     "grade_id": "cell-011a2a3474c01346",
     "locked": true,
     "points": 3,
     "schema_version": 3,
     "solution": false,
     "task": false
    }
   },
   "outputs": [],
   "source": [
    "# Testing the /predict endpoint\n",
    "\n",
    "url = f\"http://{APP_NAME}.herokuapp.com/predict\"\n",
    "payload = {\n",
    "    \"id\": 0,\n",
    "    \"observation\": {\"age\": 45,\n",
    "                    \"education\": \"Bachelors\",\n",
    "                    \"hours-per-week\": 45,\n",
    "                    \"native-country\": \"United-States\"}\n",
    "}\n",
    "\n",
    "r = requests.post(url, json=payload)\n",
    "\n",
    "assert isinstance(r, requests.Response)\n",
    "assert r.ok\n",
    "assert \"proba\" in r.json()\n",
    "assert isinstance(r.json()[\"proba\"], float)\n",
    "assert 0 <= r.json()[\"proba\"] <= 1"
   ]
  },
  {
   "cell_type": "code",
   "execution_count": 25,
   "metadata": {
    "deletable": false,
    "editable": false,
    "execution": {
     "iopub.execute_input": "2022-01-11T09:09:29.764611Z",
     "iopub.status.busy": "2022-01-11T09:09:29.763917Z",
     "iopub.status.idle": "2022-01-11T09:09:29.927173Z",
     "shell.execute_reply": "2022-01-11T09:09:29.926696Z"
    },
    "nbgrader": {
     "grade": true,
     "grade_id": "cell-b88d9b0ab2bf644e",
     "locked": true,
     "points": 2,
     "schema_version": 3,
     "solution": false,
     "task": false
    }
   },
   "outputs": [],
   "source": [
    "# Testing the /update endpoint\n",
    "\n",
    "url = f\"http://{APP_NAME}.herokuapp.com/update\"\n",
    "payload = {\n",
    "    \"id\": 0,\n",
    "    \"true_class\": 1\n",
    "}\n",
    "\n",
    "r = requests.post(url, json=payload)\n",
    "\n",
    "assert isinstance(r, requests.Response)\n",
    "assert r.ok\n",
    "assert \"observation\" in r.json()\n",
    "assert \"proba\" in r.json()\n",
    "assert \"true_class\" in r.json()\n",
    "assert r.json()[\"true_class\"] == 1"
   ]
  }
 ],
 "metadata": {
  "kernelspec": {
   "display_name": "Python 3 (ipykernel)",
   "language": "python",
   "name": "python3"
  },
  "language_info": {
   "codemirror_mode": {
    "name": "ipython",
    "version": 3
   },
   "file_extension": ".py",
   "mimetype": "text/x-python",
   "name": "python",
   "nbconvert_exporter": "python",
   "pygments_lexer": "ipython3",
   "version": "3.7.12"
  }
 },
 "nbformat": 4,
 "nbformat_minor": 4
}
