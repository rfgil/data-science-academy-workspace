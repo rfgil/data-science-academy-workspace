{
 "cells": [
  {
   "cell_type": "markdown",
   "metadata": {
    "deletable": false,
    "editable": false,
    "nbgrader": {
     "grade": false,
     "grade_id": "cell-63aee61ad7c5ad78",
     "locked": true,
     "schema_version": 3,
     "solution": false
    }
   },
   "source": [
    "# SLU02 - Subsetting data in pandas: Exercise notebook\n",
    "\n",
    "In this notebook you'll practice the concepts you've seen on the Learning and example notebooks:\n",
    "\n",
    "    - Setting pandas Dataframe index\n",
    "    - Selecting columns with brackets notation\n",
    "    - Selecting columns with dot notation\n",
    "    - Selecting rows with loc \n",
    "    - Selecting rows with iloc\n",
    "    - Multi-axis indexing (as an alternative to Chain indexing) \n",
    "    - Masks\n",
    "    - Where\n",
    "    - Subsetting on conditions\n",
    "    - Removing and Adding columns\n",
    "\n",
    "**Note**: For these exercices we will be using a kaggle competition dataset containing the answers of several kaggle competitors to multiple choice questions. In each exercise, you'll be asked to implement a function, which you can check against the assertions provided.\n",
    "\n",
    "Let's dive right in."
   ]
  },
  {
   "cell_type": "code",
   "execution_count": 1,
   "metadata": {
    "deletable": false,
    "editable": false,
    "nbgrader": {
     "grade": false,
     "grade_id": "cell-2ffbef28a1ff41fd",
     "locked": true,
     "schema_version": 3,
     "solution": false,
     "task": false
    }
   },
   "outputs": [
    {
     "data": {
      "text/html": [
       "\n",
       "<style>\n",
       ".output_png {\n",
       "    display: table-cell;\n",
       "    text-align: center;\n",
       "    vertical-align: middle;\n",
       "}\n",
       "</style>\n"
      ],
      "text/plain": [
       "<IPython.core.display.HTML object>"
      ]
     },
     "execution_count": 1,
     "metadata": {},
     "output_type": "execute_result"
    }
   ],
   "source": [
    "# Imports needed\n",
    "import pandas as pd\n",
    "import numpy as np\n",
    "import math\n",
    "import hashlib\n",
    "from utils import draw_base_puzzle, draw_final_puzzle\n",
    "\n",
    "from IPython.core.display import HTML\n",
    "\n",
    "# Set max rows for pandas display\n",
    "pd.options.display.max_rows = 10\n",
    "\n",
    "# Set matplotlib figures to show inline in the notebook and to be centered by default\n",
    "%matplotlib inline\n",
    "HTML(\"\"\"\n",
    "<style>\n",
    ".output_png {\n",
    "    display: table-cell;\n",
    "    text-align: center;\n",
    "    vertical-align: middle;\n",
    "}\n",
    "</style>\n",
    "\"\"\")"
   ]
  },
  {
   "cell_type": "markdown",
   "metadata": {
    "deletable": false,
    "editable": false,
    "nbgrader": {
     "grade": false,
     "grade_id": "cell-2abe3e9af0e58174",
     "locked": true,
     "schema_version": 3,
     "solution": false,
     "task": false
    }
   },
   "source": [
    "## Kaggle Competition\n",
    "\n",
    "\n",
    "As an aspiring data scientist you are eager to apply your new skills and you decide to participate in a kaggle competition. However, this competition has a twist: you must prove to have the minimum skills to enter it by completing a first data science based challenge. Easy, right?\n",
    "\n",
    "\n",
    "<img src=\"images/kaggle_in_kaggle.png\" alt=\"kaggle_in_kaggle\" width=\"40%\"/>\n",
    "\n",
    "\n",
    "So you dive right into it. The assignment is the following: you must successfully complete a cross word puzzle where a set of hints require you to perform simple exploration tasks over a provided dataset. After completing all the words, you'll extract a secret keyphrase (marked in blue) that will unlock the competition for you.\n",
    "\n",
    "Load the puzzle below "
   ]
  },
  {
   "cell_type": "code",
   "execution_count": 2,
   "metadata": {
    "deletable": false,
    "editable": false,
    "nbgrader": {
     "grade": false,
     "grade_id": "cell-4bf30b944e77dc42",
     "locked": true,
     "schema_version": 3,
     "solution": false,
     "task": false
    }
   },
   "outputs": [
    {
     "data": {
      "image/png": "[encoded data removed]",
      "text/plain": [
       "<Figure size 432x288 with 1 Axes>"
      ]
     },
     "metadata": {},
     "output_type": "display_data"
    }
   ],
   "source": [
    "draw_base_puzzle()"
   ]
  },
  {
   "cell_type": "markdown",
   "metadata": {
    "deletable": false,
    "editable": false,
    "nbgrader": {
     "grade": false,
     "grade_id": "cell-1a286e2bf2384001",
     "locked": true,
     "schema_version": 3,
     "solution": false,
     "task": false
    }
   },
   "source": [
    "As you can seee, it's a pretty simple one. You will be given 10 clues to fill each of the columns and extract the horizontal words in blue. \n",
    "\n",
    "But before that, start by loading the dataset you will be using to explore and complete the puzzle:"
   ]
  },
  {
   "cell_type": "code",
   "execution_count": 3,
   "metadata": {
    "deletable": false,
    "editable": false,
    "nbgrader": {
     "grade": false,
     "grade_id": "cell-bc6b32e250aa0064",
     "locked": true,
     "schema_version": 3,
     "solution": false,
     "task": false
    }
   },
   "outputs": [
    {
     "data": {
      "text/html": [
       "<div>\n",
       "<style scoped>\n",
       "    .dataframe tbody tr th:only-of-type {\n",
       "        vertical-align: middle;\n",
       "    }\n",
       "\n",
       "    .dataframe tbody tr th {\n",
       "        vertical-align: top;\n",
       "    }\n",
       "\n",
       "    .dataframe thead th {\n",
       "        text-align: right;\n",
       "    }\n",
       "</style>\n",
       "<table border=\"1\" class=\"dataframe\">\n",
       "  <thead>\n",
       "    <tr style=\"text-align: right;\">\n",
       "      <th></th>\n",
       "      <th>GenderSelect</th>\n",
       "      <th>Country</th>\n",
       "      <th>Age</th>\n",
       "      <th>EmploymentStatus</th>\n",
       "      <th>StudentStatus</th>\n",
       "      <th>LearningDataScience</th>\n",
       "      <th>CodeWriter</th>\n",
       "      <th>CareerSwitcher</th>\n",
       "      <th>CurrentJobTitleSelect</th>\n",
       "      <th>TitleFit</th>\n",
       "      <th>...</th>\n",
       "      <th>UniversityImportance</th>\n",
       "      <th>JobFunctionSelect</th>\n",
       "      <th>AlgorithmUnderstandingLevel</th>\n",
       "      <th>RemoteWork</th>\n",
       "      <th>CompensationAmount</th>\n",
       "      <th>CompensationCurrency</th>\n",
       "      <th>SalaryChange</th>\n",
       "      <th>JobSatisfaction</th>\n",
       "      <th>JobSearchResource</th>\n",
       "      <th>JobHuntTime</th>\n",
       "    </tr>\n",
       "  </thead>\n",
       "  <tbody>\n",
       "    <tr>\n",
       "      <th>0</th>\n",
       "      <td>Non-binary, genderqueer, or gender non-conforming</td>\n",
       "      <td>NaN</td>\n",
       "      <td>NaN</td>\n",
       "      <td>Employed full-time</td>\n",
       "      <td>NaN</td>\n",
       "      <td>NaN</td>\n",
       "      <td>Yes</td>\n",
       "      <td>NaN</td>\n",
       "      <td>DBA/Database Engineer</td>\n",
       "      <td>Fine</td>\n",
       "      <td>...</td>\n",
       "      <td>Not very important</td>\n",
       "      <td>Build prototypes to explore applying machine l...</td>\n",
       "      <td>Enough to explain the algorithm to someone non...</td>\n",
       "      <td>Always</td>\n",
       "      <td>NaN</td>\n",
       "      <td>NaN</td>\n",
       "      <td>I am not currently employed</td>\n",
       "      <td>5</td>\n",
       "      <td>NaN</td>\n",
       "      <td>NaN</td>\n",
       "    </tr>\n",
       "    <tr>\n",
       "      <th>1</th>\n",
       "      <td>Female</td>\n",
       "      <td>United States</td>\n",
       "      <td>30.0</td>\n",
       "      <td>Not employed, but looking for work</td>\n",
       "      <td>NaN</td>\n",
       "      <td>NaN</td>\n",
       "      <td>NaN</td>\n",
       "      <td>NaN</td>\n",
       "      <td>NaN</td>\n",
       "      <td>NaN</td>\n",
       "      <td>...</td>\n",
       "      <td>NaN</td>\n",
       "      <td>NaN</td>\n",
       "      <td>NaN</td>\n",
       "      <td>NaN</td>\n",
       "      <td>NaN</td>\n",
       "      <td>NaN</td>\n",
       "      <td>NaN</td>\n",
       "      <td>NaN</td>\n",
       "      <td>NaN</td>\n",
       "      <td>NaN</td>\n",
       "    </tr>\n",
       "    <tr>\n",
       "      <th>2</th>\n",
       "      <td>Male</td>\n",
       "      <td>Canada</td>\n",
       "      <td>28.0</td>\n",
       "      <td>Not employed, but looking for work</td>\n",
       "      <td>NaN</td>\n",
       "      <td>NaN</td>\n",
       "      <td>NaN</td>\n",
       "      <td>NaN</td>\n",
       "      <td>NaN</td>\n",
       "      <td>NaN</td>\n",
       "      <td>...</td>\n",
       "      <td>NaN</td>\n",
       "      <td>NaN</td>\n",
       "      <td>NaN</td>\n",
       "      <td>NaN</td>\n",
       "      <td>NaN</td>\n",
       "      <td>NaN</td>\n",
       "      <td>NaN</td>\n",
       "      <td>NaN</td>\n",
       "      <td>Asking friends, family members, or former coll...</td>\n",
       "      <td>1-2</td>\n",
       "    </tr>\n",
       "    <tr>\n",
       "      <th>3</th>\n",
       "      <td>Male</td>\n",
       "      <td>United States</td>\n",
       "      <td>56.0</td>\n",
       "      <td>Independent contractor, freelancer, or self-em...</td>\n",
       "      <td>NaN</td>\n",
       "      <td>NaN</td>\n",
       "      <td>Yes</td>\n",
       "      <td>NaN</td>\n",
       "      <td>Operations Research Practitioner</td>\n",
       "      <td>Poorly</td>\n",
       "      <td>...</td>\n",
       "      <td>Very important</td>\n",
       "      <td>Analyze and understand data to influence produ...</td>\n",
       "      <td>Enough to refine and innovate on the algorithm</td>\n",
       "      <td>NaN</td>\n",
       "      <td>250,000</td>\n",
       "      <td>USD</td>\n",
       "      <td>Has increased 20% or more</td>\n",
       "      <td>10 - Highly Satisfied</td>\n",
       "      <td>NaN</td>\n",
       "      <td>NaN</td>\n",
       "    </tr>\n",
       "    <tr>\n",
       "      <th>4</th>\n",
       "      <td>Male</td>\n",
       "      <td>Taiwan</td>\n",
       "      <td>38.0</td>\n",
       "      <td>Employed full-time</td>\n",
       "      <td>NaN</td>\n",
       "      <td>NaN</td>\n",
       "      <td>Yes</td>\n",
       "      <td>NaN</td>\n",
       "      <td>Computer Scientist</td>\n",
       "      <td>Fine</td>\n",
       "      <td>...</td>\n",
       "      <td>Somewhat important</td>\n",
       "      <td>Build prototypes to explore applying machine l...</td>\n",
       "      <td>Enough to refine and innovate on the algorithm</td>\n",
       "      <td>Rarely</td>\n",
       "      <td>NaN</td>\n",
       "      <td>NaN</td>\n",
       "      <td>I do not want to share information about my sa...</td>\n",
       "      <td>2</td>\n",
       "      <td>NaN</td>\n",
       "      <td>NaN</td>\n",
       "    </tr>\n",
       "  </tbody>\n",
       "</table>\n",
       "<p>5 rows × 32 columns</p>\n",
       "</div>"
      ],
      "text/plain": [
       "                                        GenderSelect        Country   Age  \\\n",
       "0  Non-binary, genderqueer, or gender non-conforming            NaN   NaN   \n",
       "1                                             Female  United States  30.0   \n",
       "2                                               Male         Canada  28.0   \n",
       "3                                               Male  United States  56.0   \n",
       "4                                               Male         Taiwan  38.0   \n",
       "\n",
       "                                    EmploymentStatus StudentStatus  \\\n",
       "0                                 Employed full-time           NaN   \n",
       "1                 Not employed, but looking for work           NaN   \n",
       "2                 Not employed, but looking for work           NaN   \n",
       "3  Independent contractor, freelancer, or self-em...           NaN   \n",
       "4                                 Employed full-time           NaN   \n",
       "\n",
       "  LearningDataScience CodeWriter CareerSwitcher  \\\n",
       "0                 NaN        Yes            NaN   \n",
       "1                 NaN        NaN            NaN   \n",
       "2                 NaN        NaN            NaN   \n",
       "3                 NaN        Yes            NaN   \n",
       "4                 NaN        Yes            NaN   \n",
       "\n",
       "              CurrentJobTitleSelect TitleFit  ... UniversityImportance  \\\n",
       "0             DBA/Database Engineer     Fine  ...   Not very important   \n",
       "1                               NaN      NaN  ...                  NaN   \n",
       "2                               NaN      NaN  ...                  NaN   \n",
       "3  Operations Research Practitioner   Poorly  ...       Very important   \n",
       "4                Computer Scientist     Fine  ...   Somewhat important   \n",
       "\n",
       "                                   JobFunctionSelect  \\\n",
       "0  Build prototypes to explore applying machine l...   \n",
       "1                                                NaN   \n",
       "2                                                NaN   \n",
       "3  Analyze and understand data to influence produ...   \n",
       "4  Build prototypes to explore applying machine l...   \n",
       "\n",
       "                         AlgorithmUnderstandingLevel RemoteWork  \\\n",
       "0  Enough to explain the algorithm to someone non...     Always   \n",
       "1                                                NaN        NaN   \n",
       "2                                                NaN        NaN   \n",
       "3     Enough to refine and innovate on the algorithm        NaN   \n",
       "4     Enough to refine and innovate on the algorithm     Rarely   \n",
       "\n",
       "  CompensationAmount CompensationCurrency  \\\n",
       "0                NaN                  NaN   \n",
       "1                NaN                  NaN   \n",
       "2                NaN                  NaN   \n",
       "3            250,000                  USD   \n",
       "4                NaN                  NaN   \n",
       "\n",
       "                                        SalaryChange        JobSatisfaction  \\\n",
       "0                        I am not currently employed                      5   \n",
       "1                                                NaN                    NaN   \n",
       "2                                                NaN                    NaN   \n",
       "3                          Has increased 20% or more  10 - Highly Satisfied   \n",
       "4  I do not want to share information about my sa...                      2   \n",
       "\n",
       "                                   JobSearchResource JobHuntTime  \n",
       "0                                                NaN         NaN  \n",
       "1                                                NaN         NaN  \n",
       "2  Asking friends, family members, or former coll...         1-2  \n",
       "3                                                NaN         NaN  \n",
       "4                                                NaN         NaN  \n",
       "\n",
       "[5 rows x 32 columns]"
      ]
     },
     "execution_count": 3,
     "metadata": {},
     "output_type": "execute_result"
    }
   ],
   "source": [
    "# Read kaggle multiple choice dataset with new column as index\n",
    "kaggle_dataset = pd.read_csv('data/multiple_choice_2017.csv')\n",
    "\n",
    "# Show first 5 lines\n",
    "kaggle_dataset.head(5)\n"
   ]
  },
  {
   "cell_type": "markdown",
   "metadata": {
    "deletable": false,
    "editable": false,
    "nbgrader": {
     "grade": false,
     "grade_id": "cell-c4fc286960a67c7f",
     "locked": true,
     "schema_version": 3,
     "solution": false
    }
   },
   "source": [
    "Now let's dive into the clues! \n",
    "\n",
    "\n",
    "### Clue 1 - First value for `EmployerIndustry` when sorting the dataset by this column \n",
    "\n",
    "The first clue asks for the first value (using its natural order) of the column `EmployerIndustry` after we sort \n",
    "the dataframe by the same column. \n",
    "\n",
    "To solve this, start by implementing a function to change the index and sort it.\n",
    "\n",
    "**Hint**: Keep in mind that we don't want to discard the original index (which automatically got the name `index`) as it may be useful on the long run"
   ]
  },
  {
   "cell_type": "code",
   "execution_count": 4,
   "metadata": {
    "deletable": false,
    "nbgrader": {
     "grade": false,
     "grade_id": "select_rows",
     "locked": false,
     "schema_version": 3,
     "solution": true
    }
   },
   "outputs": [],
   "source": [
    "def change_and_sort_index(df, column):\n",
    "    \"\"\" \n",
    "    Change dataframe index to desired column and sort, avoiding \n",
    "     repeated columns\n",
    "    \n",
    "    Args:\n",
    "        df (pd.DataFrame): the input DataFrame\n",
    "        column: column name to use as index\n",
    "\n",
    "    Returns:p\n",
    "        (pd.DataFrame): resulting Dataframe\n",
    "\n",
    "    \"\"\"\n",
    "    \n",
    "    # YOUR CODE HERE\n",
    "    return df.reset_index(drop=False).set_index(column).sort_index()"
   ]
  },
  {
   "cell_type": "code",
   "execution_count": 5,
   "metadata": {
    "deletable": false,
    "editable": false,
    "nbgrader": {
     "grade": true,
     "grade_id": "select_rows_tests",
     "locked": true,
     "points": 2,
     "schema_version": 3,
     "solution": false
    }
   },
   "outputs": [],
   "source": [
    "# This cell is what will test your code, please ignore it!\n",
    "\n",
    "kaggle_dataset = pd.read_csv('data/multiple_choice_2017.csv')\n",
    "new_dataset = change_and_sort_index(kaggle_dataset, \"CurrentJobTitleSelect\")\n",
    "\n",
    "assert isinstance(new_dataset, pd.DataFrame)\n",
    "assert new_dataset.shape[0] == kaggle_dataset.shape[0]\n",
    "assert new_dataset.shape[1] == kaggle_dataset.shape[1]\n",
    "assert new_dataset.index.name == \"CurrentJobTitleSelect\"\n",
    "assert new_dataset.Country[0] == \"United States\"\n",
    "assert 'index' in list(new_dataset.columns)\n"
   ]
  },
  {
   "cell_type": "markdown",
   "metadata": {
    "deletable": false,
    "editable": false,
    "nbgrader": {
     "grade": false,
     "grade_id": "cell-4492daa7621a1e1d",
     "locked": true,
     "schema_version": 3,
     "solution": false,
     "task": false
    }
   },
   "source": [
    "You'll now use the function you built to store the first clue"
   ]
  },
  {
   "cell_type": "code",
   "execution_count": 6,
   "metadata": {
    "deletable": false,
    "editable": false,
    "nbgrader": {
     "grade": false,
     "grade_id": "cell-379c408238283e33",
     "locked": true,
     "schema_version": 3,
     "solution": false,
     "task": false
    }
   },
   "outputs": [],
   "source": [
    "clue_dataset = change_and_sort_index(kaggle_dataset, \"EmployerIndustry\")\n",
    "\n",
    "first_sorted_employer_industry = clue_dataset.index[0]\n",
    "\n",
    "FIRST_CLUE = first_sorted_employer_industry"
   ]
  },
  {
   "cell_type": "markdown",
   "metadata": {
    "deletable": false,
    "editable": false,
    "nbgrader": {
     "grade": false,
     "grade_id": "cell-1dc0734066ab2665",
     "locked": true,
     "schema_version": 3,
     "solution": false
    }
   },
   "source": [
    "### Clue 2 - Top country of origin for people with \"Programmer\" job title  \n",
    "\n",
    "\n",
    "You now want to find the most common country (or top country as the clue puts it) for the subset of our data where\n",
    "the `CurrentJobTitleSelect` equals `Programmer`. To do this, you decide to reuse your previous function to change the index and create an extra function to select rows by index values.\n",
    "\n",
    "Implement below this second function and check it passes all assertions given."
   ]
  },
  {
   "cell_type": "code",
   "execution_count": 7,
   "metadata": {
    "deletable": false,
    "nbgrader": {
     "grade": false,
     "grade_id": "select_rows_by_country",
     "locked": false,
     "schema_version": 3,
     "solution": true,
     "task": false
    }
   },
   "outputs": [],
   "source": [
    "def select_rows_from_index(df, ids):\n",
    "    \"\"\" \n",
    "    Select the desired rows given the index value\n",
    "    \n",
    "    Args:\n",
    "        df (pd.DataFrame): the input DataFrame\n",
    "        ids: list with the desired values to retrieve\n",
    "\n",
    "    Returns:\n",
    "        (pd.DataFrame): subset Dataframe\n",
    "\n",
    "    \"\"\"    \n",
    "    \n",
    "    # YOUR CODE HERE\n",
    "    return df.loc[ids]"
   ]
  },
  {
   "cell_type": "code",
   "execution_count": 8,
   "metadata": {
    "deletable": false,
    "editable": false,
    "nbgrader": {
     "grade": true,
     "grade_id": "select_rows_by_country_tests",
     "locked": true,
     "points": 2,
     "schema_version": 3,
     "solution": false,
     "task": false
    }
   },
   "outputs": [],
   "source": [
    "# This cell is what will test your code, please ignore it!\n",
    "\n",
    "kaggle_dataset = pd.read_csv('data/multiple_choice_2017.csv')\n",
    "indexed_dataset = change_and_sort_index(kaggle_dataset, \"CurrentJobTitleSelect\")\n",
    "\n",
    "desired_jobs = ['Computer Scientist', 'Programmer']\n",
    "filtered_dataset = select_rows_from_index(indexed_dataset, desired_jobs)\n",
    "\n",
    "assert isinstance(filtered_dataset, pd.DataFrame)\n",
    "assert filtered_dataset.shape[0] == 797\n",
    "assert filtered_dataset.shape[1] == kaggle_dataset.shape[1]\n",
    "\n",
    "assert list(filtered_dataset.index.unique()) == desired_jobs\n"
   ]
  },
  {
   "cell_type": "markdown",
   "metadata": {
    "deletable": false,
    "editable": false,
    "nbgrader": {
     "grade": false,
     "grade_id": "cell-75feccdfd5ba8e33",
     "locked": true,
     "schema_version": 3,
     "solution": false,
     "task": false
    }
   },
   "source": [
    "Combining the two you now get the second clue"
   ]
  },
  {
   "cell_type": "code",
   "execution_count": 9,
   "metadata": {
    "deletable": false,
    "editable": false,
    "nbgrader": {
     "grade": false,
     "grade_id": "cell-8e01b78f3078fe2a",
     "locked": true,
     "schema_version": 3,
     "solution": false,
     "task": false
    }
   },
   "outputs": [],
   "source": [
    "clue_dataset = select_rows_from_index(indexed_dataset, ['Programmer'])\n",
    "\n",
    "# When using `value_counts` the index becomes the column values and the counts are ordered from higheest to lowest\n",
    "top_programmer_country = clue_dataset.Country.value_counts().index[0] \n",
    "\n",
    "SECOND_CLUE = top_programmer_country"
   ]
  },
  {
   "cell_type": "markdown",
   "metadata": {
    "deletable": false,
    "editable": false,
    "nbgrader": {
     "grade": false,
     "grade_id": "cell-48c215d216e65fb0",
     "locked": true,
     "schema_version": 3,
     "solution": false,
     "task": false
    }
   },
   "source": [
    "### Clue 3 - The top remote work status in the examples 1000 to 1200\n",
    "\n",
    "\n",
    "The next clue asks for a specific example range. For this purpose, build a function that provides indices - `start` and `end` - and retrieves the slice of rows from `start` to `end`. Implement it below\n"
   ]
  },
  {
   "cell_type": "code",
   "execution_count": 10,
   "metadata": {
    "deletable": false,
    "nbgrader": {
     "grade": false,
     "grade_id": "cell-8e5ea2a645f600a8",
     "locked": false,
     "schema_version": 3,
     "solution": true,
     "task": false
    }
   },
   "outputs": [],
   "source": [
    "def get_slice(df, start, end):\n",
    "    \"\"\" \n",
    "    Get a range of rows from the provided dataset \n",
    "    \n",
    "    Args:\n",
    "        df (pd.DataFrame): the input DataFrame\n",
    "        start: start position for range\n",
    "        end: end position for range\n",
    "\n",
    "    Returns:\n",
    "        (pd.DataFrame): subseted Dataframe\n",
    "\n",
    "    \"\"\"\n",
    "    \n",
    "    # YOUR CODE HERE\n",
    "    return df.iloc[start:end]"
   ]
  },
  {
   "cell_type": "code",
   "execution_count": 11,
   "metadata": {
    "deletable": false,
    "editable": false,
    "nbgrader": {
     "grade": true,
     "grade_id": "cell-710bb8203e0a0d98",
     "locked": true,
     "points": 2,
     "schema_version": 3,
     "solution": false,
     "task": false
    }
   },
   "outputs": [],
   "source": [
    "# This cell is what will test your code, please ignore it!\n",
    "\n",
    "kaggle_dataset = pd.read_csv('data/multiple_choice_2017.csv')\n",
    "\n",
    "top_rows_1 = get_slice(kaggle_dataset, 231, 638)\n",
    "\n",
    "assert top_rows_1.shape[0] == 407\n",
    "assert top_rows_1.shape[1] == kaggle_dataset.shape[1]\n",
    "assert top_rows_1.RemoteWork.values[1] == 'Most of the time'\n",
    "\n",
    "top_rows_2 = get_slice(kaggle_dataset, 1231, 8413)\n",
    "\n",
    "assert top_rows_2.shape[0] == 7182\n",
    "assert top_rows_2.shape[1] == kaggle_dataset.shape[1]\n",
    "assert top_rows_2.RemoteWork.values[4] == 'Always'\n"
   ]
  },
  {
   "cell_type": "markdown",
   "metadata": {
    "deletable": false,
    "editable": false,
    "nbgrader": {
     "grade": false,
     "grade_id": "cell-87bfa6103cca1753",
     "locked": true,
     "schema_version": 3,
     "solution": false,
     "task": false
    }
   },
   "source": [
    "Use the function to get the third clue:"
   ]
  },
  {
   "cell_type": "code",
   "execution_count": 12,
   "metadata": {
    "deletable": false,
    "editable": false,
    "nbgrader": {
     "grade": false,
     "grade_id": "cell-8e231c86a816df32",
     "locked": true,
     "schema_version": 3,
     "solution": false,
     "task": false
    }
   },
   "outputs": [],
   "source": [
    "clue_dataset = get_slice(kaggle_dataset, 300, 1200)\n",
    "\n",
    "# When using `value_counts` the index becomes the column values and the counts are ordered from higheest to lowest\n",
    "common_remote_work = clue_dataset.RemoteWork.value_counts().index[0] \n",
    "\n",
    "THIRD_CLUE = common_remote_work"
   ]
  },
  {
   "cell_type": "markdown",
   "metadata": {
    "deletable": false,
    "editable": false,
    "nbgrader": {
     "grade": false,
     "grade_id": "cell-d701447375856e0d",
     "locked": true,
     "schema_version": 3,
     "solution": false,
     "task": false
    }
   },
   "source": [
    "### Clue 4 - The remote work status of example 4\n",
    "\n",
    "\n",
    "To solve this clue, combine what you've learned above and create a function that allows you to index both the rows and the columns of a dataframe. Implement it under the function below:\n"
   ]
  },
  {
   "cell_type": "code",
   "execution_count": 13,
   "metadata": {
    "deletable": false,
    "nbgrader": {
     "grade": false,
     "grade_id": "exercise_4",
     "locked": false,
     "schema_version": 3,
     "solution": true
    }
   },
   "outputs": [],
   "source": [
    "def dedicated_subset(df, rows, columns):\n",
    "    \"\"\" \n",
    "    Select columns and rows from dataframe.\n",
    "    \n",
    "    Args:\n",
    "        df (pd.DataFrame): the input DataFrame\n",
    "        rows: list of rows to fetch\n",
    "        columns: list of columns to fetch\n",
    "\n",
    "    Returns:\n",
    "        (pd.DataFrame): subsetted df\n",
    "\n",
    "    \"\"\"\n",
    "    \n",
    "    # YOUR CODE HERE\n",
    "    return df.loc[rows,columns]"
   ]
  },
  {
   "cell_type": "code",
   "execution_count": 14,
   "metadata": {
    "deletable": false,
    "editable": false,
    "nbgrader": {
     "grade": true,
     "grade_id": "exercise_4_correct",
     "locked": true,
     "points": 2,
     "schema_version": 3,
     "solution": false
    }
   },
   "outputs": [],
   "source": [
    "# This cell is what will test your code, please ignore it!\n",
    "\n",
    "kaggle_dataset = pd.read_csv('data/multiple_choice_2017.csv')\n",
    "\n",
    "kaggle_subset_single = dedicated_subset(kaggle_dataset, [1412], ['Country'])\n",
    "\n",
    "assert kaggle_subset_single.shape[0] == 1\n",
    "assert kaggle_subset_single.shape[1] == 1\n",
    "assert kaggle_subset_single.Country.values[0] == 'Singapore'\n",
    "\n",
    "kaggle_subset_multiple = dedicated_subset(kaggle_dataset, [11, 1111], ['RemoteWork', 'Age', 'Country'])\n",
    "\n",
    "assert kaggle_subset_multiple.shape[0] == 2\n",
    "assert kaggle_subset_multiple.shape[1] == 3\n",
    "assert kaggle_subset_multiple.Age.values[1] == 36\n"
   ]
  },
  {
   "cell_type": "markdown",
   "metadata": {
    "deletable": false,
    "editable": false,
    "nbgrader": {
     "grade": false,
     "grade_id": "cell-f172b3035c3a7c98",
     "locked": true,
     "schema_version": 3,
     "solution": false,
     "task": false
    }
   },
   "source": [
    "Use the function to get the forth clue:"
   ]
  },
  {
   "cell_type": "code",
   "execution_count": 15,
   "metadata": {
    "deletable": false,
    "editable": false,
    "nbgrader": {
     "grade": false,
     "grade_id": "cell-e5cdc6f174b11487",
     "locked": true,
     "schema_version": 3,
     "solution": false,
     "task": false
    }
   },
   "outputs": [],
   "source": [
    "clue_dataset = dedicated_subset(kaggle_dataset, [4], [\"RemoteWork\"])\n",
    "clue_dataset.values[0][0]\n",
    "\n",
    "FORTH_CLUE = clue_dataset.values[0][0]"
   ]
  },
  {
   "cell_type": "markdown",
   "metadata": {
    "deletable": false,
    "editable": false,
    "nbgrader": {
     "grade": false,
     "grade_id": "cell-385f9ed29671930f",
     "locked": true,
     "schema_version": 3,
     "solution": false,
     "task": false
    }
   },
   "source": [
    "Now that you have found a couple of clues, let's check how the board looks. You should be able to see something shapin up.\n"
   ]
  },
  {
   "cell_type": "code",
   "execution_count": 16,
   "metadata": {
    "deletable": false,
    "editable": false,
    "nbgrader": {
     "grade": false,
     "grade_id": "cell-90ceb07f695ca69b",
     "locked": true,
     "schema_version": 3,
     "solution": false,
     "task": false
    }
   },
   "outputs": [
    {
     "data": {
      "image/png": "[encoded data removed]",
      "text/plain": [
       "<Figure size 432x288 with 1 Axes>"
      ]
     },
     "metadata": {},
     "output_type": "display_data"
    }
   ],
   "source": [
    "draw_final_puzzle([FIRST_CLUE, SECOND_CLUE, THIRD_CLUE, FORTH_CLUE, \"\", \"\", \"\", \"\", \"\", \"\"])\n"
   ]
  },
  {
   "cell_type": "markdown",
   "metadata": {
    "deletable": false,
    "editable": false,
    "nbgrader": {
     "grade": false,
     "grade_id": "cell-00df95c0fc1defe3",
     "locked": true,
     "schema_version": 3,
     "solution": false,
     "task": false
    }
   },
   "source": [
    "Uhh exciting. Dive into the next clues to fill out the rest of the puzzle!\n",
    "\n",
    "\n",
    "<img src=\"images/excited.gif\" alt=\"excited\" width=\"40%\"/>\n"
   ]
  },
  {
   "cell_type": "markdown",
   "metadata": {
    "deletable": false,
    "editable": false,
    "nbgrader": {
     "grade": false,
     "grade_id": "cell-b72e4197684c12f3",
     "locked": true,
     "schema_version": 3,
     "solution": false,
     "task": false
    }
   },
   "source": [
    "\n",
    "## Clues 5 - 8\n",
    "\n",
    "These next clues ask for more complex datasets.\n",
    "\n",
    "We will call these subset A and B. \n",
    "\n",
    "In particular, the clues define dataset A as follows:\n",
    "\n",
    "* we get only coders (`CodeWriter`)\n",
    "* these people are in between and including 20 and 30 years\n",
    "* they are not from the United States\n",
    "* they believe Univesity is important ('Very important', 'Important', 'Somewhat important')\n",
    "* Contains columns 'EmploymentStatus', 'TitleFit' and 'Country'\n",
    "\n",
    "Implement a function that obtains this dataset.\n",
    "\n",
    "\n",
    "**Hint**: Look into the function `.isin` described in the learning notebook and how it can be used to check a value against a list\n",
    "\n",
    "**Note**: Assume the df provided into these functions will be the original dataset, and as such will have the same columns without any change"
   ]
  },
  {
   "cell_type": "code",
   "execution_count": 17,
   "metadata": {
    "deletable": false,
    "nbgrader": {
     "grade": false,
     "grade_id": "cell-a8cc62331e776b85",
     "locked": false,
     "schema_version": 3,
     "solution": true,
     "task": false
    }
   },
   "outputs": [],
   "source": [
    "def kaggle_dataset_A(df):\n",
    "    \"\"\" \n",
    "    Show kaggle competitors that fit the following parameters:\n",
    "    \n",
    "      - only coders (`CodeWriter`)\n",
    "      - in between and including 20 and 30 years\n",
    "      - not from the United States\n",
    "      - that believe Univesity is important ('Very important', 'Important', 'Somewhat important')\n",
    "      \n",
    "    Return only the employment status, title fit and country\n",
    "    \n",
    "    Args:\n",
    "        df (pd.DataFrame): the input DataFrame\n",
    "\n",
    "    Returns:\n",
    "        (pd.DataFrame): subsetted df\n",
    "\n",
    "    \"\"\"\n",
    "\n",
    "    # YOUR CODE HERE\n",
    "    # return df[(df.CodeWriter == 'Yes') & (df.Age >= 20) & (df.Age <= 30) & (df.Country != 'United States') & (df.UniversityImportance.isin(['Very important', 'Important', 'Somewhat important']))][['EmploymentStatus', 'TitleFit', 'Country']]\n",
    "    return df.loc[\n",
    "        (df.CodeWriter == 'Yes') & \n",
    "        (df.Age >= 20) & (df.Age <= 30) & \n",
    "        (df.Country != 'United States') & \n",
    "        (df.UniversityImportance.isin(['Very important', 'Important', 'Somewhat important'])),\n",
    "        ['EmploymentStatus', 'TitleFit', 'Country']]"
   ]
  },
  {
   "cell_type": "code",
   "execution_count": 18,
   "metadata": {
    "deletable": false,
    "editable": false,
    "nbgrader": {
     "grade": true,
     "grade_id": "exercice_5_correct",
     "locked": true,
     "points": 4,
     "schema_version": 3,
     "solution": false
    }
   },
   "outputs": [],
   "source": [
    "# This cell is what will test your code, please ignore it!\n",
    "\n",
    "kaggle_dataset = pd.read_csv('data/multiple_choice_2017.csv')\n",
    "kaggle_subset_A = kaggle_dataset_A(kaggle_dataset)\n",
    "\n",
    "assert kaggle_subset_A.shape[0] == 2268\n",
    "assert kaggle_subset_A.shape[1] == 3\n",
    "assert kaggle_subset_A.columns.tolist() == ['EmploymentStatus', 'TitleFit', 'Country']\n",
    "\n",
    "assert kaggle_subset_A.iloc[0].TitleFit == 'Fine'\n",
    "assert kaggle_subset_A.iloc[-1].TitleFit == 'Fine'\n"
   ]
  },
  {
   "cell_type": "markdown",
   "metadata": {
    "deletable": false,
    "editable": false,
    "nbgrader": {
     "grade": false,
     "grade_id": "cell-792c5055faa009db",
     "locked": true,
     "schema_version": 3,
     "solution": false,
     "task": false
    }
   },
   "source": [
    "Additionally, the clues define dataset B as follows:\n",
    "\n",
    "* not from Academia (`EmployerIndustry`)\n",
    "* older than 30 years\n",
    "* that are from any country\n",
    "* that believe University is not important (not included in 'Very important', 'Important', 'Somewhat important')\n",
    "* Contains columns 'EmploymentStatus', 'TitleFit', 'CurrentJobTitleSelect' and 'Country'\n",
    "\n",
    "Implement a function that obtains this dataset.\n",
    "\n",
    "\n",
    "**Hint**: Look into the function `.isin` described in the learning notebook and how it can be used to check a value against a list"
   ]
  },
  {
   "cell_type": "code",
   "execution_count": 19,
   "metadata": {
    "deletable": false,
    "nbgrader": {
     "grade": false,
     "grade_id": "cell-b71b61b40b8dca44",
     "locked": false,
     "schema_version": 3,
     "solution": true,
     "task": false
    }
   },
   "outputs": [],
   "source": [
    "def kaggle_dataset_B(df):\n",
    "    \"\"\" \n",
    "    Show kaggle competitors that fit the following parameters:\n",
    "    \n",
    "      - not from Academia (`EmployerIndustry` is not `Academic`)\n",
    "      - older than 30 years\n",
    "      - that are from any country\n",
    "      - that believe University is not important (not included in 'Very important', 'Important', 'Somewhat important')\n",
    "      \n",
    "    Return only the employment status, title fit, current job title and country\n",
    "    \n",
    "    Args:\n",
    "        df (pd.DataFrame): the input DataFrame\n",
    "\n",
    "    Returns:\n",
    "        (pd.DataFrame): subsetted df\n",
    "\n",
    "    \"\"\"\n",
    "\n",
    "    # YOUR CODE HERE\n",
    "    return df.loc[\n",
    "            (df.EmployerIndustry != 'Academic') & \n",
    "            (df.Age > 30) & \n",
    "            (df.Country != None) & \n",
    "            ~(df.UniversityImportance.isin(['Very important', 'Important', 'Somewhat important'])),\n",
    "            ['EmploymentStatus', 'TitleFit', 'CurrentJobTitleSelect', 'Country']]"
   ]
  },
  {
   "cell_type": "code",
   "execution_count": 20,
   "metadata": {
    "deletable": false,
    "editable": false,
    "nbgrader": {
     "grade": true,
     "grade_id": "cell-edb899ebe53259f3",
     "locked": true,
     "points": 4,
     "schema_version": 3,
     "solution": false,
     "task": false
    }
   },
   "outputs": [],
   "source": [
    "# This cell is what will test your code, please ignore it!\n",
    "\n",
    "kaggle_dataset = pd.read_csv('data/multiple_choice_2017.csv')\n",
    "kaggle_subset_B = kaggle_dataset_B(kaggle_dataset)\n",
    "\n",
    "assert kaggle_subset_B.shape[0] == 3561\n",
    "assert kaggle_subset_B.shape[1] == 4\n",
    "assert kaggle_subset_B.columns.tolist() == ['EmploymentStatus', 'TitleFit', 'CurrentJobTitleSelect', 'Country']\n",
    "\n",
    "assert kaggle_subset_B.iloc[0].CurrentJobTitleSelect == 'Business Analyst'\n",
    "assert kaggle_subset_B.iloc[-1].CurrentJobTitleSelect == 'DBA/Database Engineer'\n"
   ]
  },
  {
   "cell_type": "markdown",
   "metadata": {
    "deletable": false,
    "editable": false,
    "nbgrader": {
     "grade": false,
     "grade_id": "cell-05edfbe40cd4c955",
     "locked": true,
     "schema_version": 3,
     "solution": false,
     "task": false
    }
   },
   "source": [
    "Now look into the clues and retrieve the correct values to fill the puzzle:\n",
    "\n",
    "* **Clue 5 - The country of the 14th element of subset B**\n",
    "* **Clue 6 - The country of the 142th element of subset A**\n",
    "* **Clue 7 - The country of the 9th element of subset B**\n",
    "* **Clue 8 - The title fit of the 7th element of subset A**\n"
   ]
  },
  {
   "cell_type": "code",
   "execution_count": 21,
   "metadata": {
    "deletable": false,
    "editable": false,
    "nbgrader": {
     "grade": false,
     "grade_id": "cell-c98a6e13dabd4546",
     "locked": true,
     "schema_version": 3,
     "solution": false,
     "task": false
    }
   },
   "outputs": [],
   "source": [
    "FIFTH_CLUE = kaggle_subset_B.Country.values[14]\n",
    "SIXTH_CLUE = kaggle_subset_A.Country.values[142]\n",
    "SEVENTH_CLUE = kaggle_subset_B.EmploymentStatus.values[9]\n",
    "EIGTH_CLUE = kaggle_subset_A.TitleFit.values[7]\n"
   ]
  },
  {
   "cell_type": "markdown",
   "metadata": {
    "deletable": false,
    "editable": false,
    "nbgrader": {
     "grade": false,
     "grade_id": "cell-b709454afb72aea2",
     "locked": true,
     "schema_version": 3,
     "solution": false,
     "task": false
    }
   },
   "source": [
    "## Clues 9-10\n",
    "\n",
    "These next clues once again require that you filter your dataset into different subsets.\n",
    "\n",
    "We will call these subset C and D. In particular:\n",
    "\n",
    "* dataset C should not contain people with job title `Programmer`\n",
    "* dataset D should contain only people with job title `Computer Scientist` \n",
    "\n",
    "As you probably realize, you could use functions similar to the ones before to retrieve this dataset. However, we want you to use what you have learned regarding hiding data. \n",
    "\n",
    "Implement functions that hide the non-desired data but keep the dataframe shape.\n"
   ]
  },
  {
   "cell_type": "code",
   "execution_count": 22,
   "metadata": {
    "deletable": false,
    "nbgrader": {
     "grade": false,
     "grade_id": "cell-dd32ace8f3921366",
     "locked": false,
     "schema_version": 3,
     "solution": true,
     "task": false
    }
   },
   "outputs": [],
   "source": [
    "def kaggle_dataset_C(df):\n",
    "    \"\"\" \n",
    "    Hide all Programmers in dataframe\n",
    "    \n",
    "    Args:\n",
    "        df (pd.DataFrame): the input DataFrame\n",
    "\n",
    "    Returns:\n",
    "        (pd.DataFrame): output DataFrame\n",
    "\n",
    "    \"\"\"\n",
    "    \n",
    "    # YOUR CODE HERE\n",
    "    return df.mask(df.CurrentJobTitleSelect == 'Programmer')"
   ]
  },
  {
   "cell_type": "code",
   "execution_count": 23,
   "metadata": {
    "deletable": false,
    "editable": false,
    "nbgrader": {
     "grade": true,
     "grade_id": "cell-d87eef42c4baa2a2",
     "locked": true,
     "points": 2,
     "schema_version": 3,
     "solution": false,
     "task": false
    }
   },
   "outputs": [],
   "source": [
    "# This cell is what will test your code, please ignore it!\n",
    "\n",
    "kaggle_dataset = pd.read_csv('data/multiple_choice_2017.csv')\n",
    "kaggle_subset_C = kaggle_dataset_C(kaggle_dataset)\n",
    "\n",
    "assert isinstance(kaggle_subset_C, pd.DataFrame)\n",
    "assert kaggle_subset_C.shape[0] == kaggle_dataset.shape[0]\n",
    "assert kaggle_subset_C.shape[1] == kaggle_dataset.shape[1]\n",
    "assert sum(kaggle_subset_C.CurrentJobTitleSelect == 'Programmer') == 0\n"
   ]
  },
  {
   "cell_type": "code",
   "execution_count": 24,
   "metadata": {
    "deletable": false,
    "nbgrader": {
     "grade": false,
     "grade_id": "cell-c928e9856866109b",
     "locked": false,
     "schema_version": 3,
     "solution": true,
     "task": false
    }
   },
   "outputs": [],
   "source": [
    "def kaggle_dataset_D(df):\n",
    "    \"\"\" \n",
    "    Show only Computer Scientists in dataframe\n",
    "    \n",
    "    Args:\n",
    "        df (pd.DataFrame): the input DataFrame\n",
    "\n",
    "    Returns:\n",
    "        (pd.DataFrame): output DataFrame\n",
    "\n",
    "    \"\"\"\n",
    "    \n",
    "    # YOUR CODE HERE\n",
    "    return df.where(df.CurrentJobTitleSelect == 'Computer Scientist')"
   ]
  },
  {
   "cell_type": "code",
   "execution_count": 25,
   "metadata": {
    "deletable": false,
    "editable": false,
    "nbgrader": {
     "grade": true,
     "grade_id": "cell-fa5afc2398e754bf",
     "locked": true,
     "points": 2,
     "schema_version": 3,
     "solution": false,
     "task": false
    }
   },
   "outputs": [],
   "source": [
    "# This cell is what will test your code, please ignore it!\n",
    "\n",
    "kaggle_dataset = pd.read_csv('data/multiple_choice_2017.csv')\n",
    "kaggle_subset_D = kaggle_dataset_D(kaggle_dataset)\n",
    "\n",
    "assert isinstance(kaggle_subset_D, pd.DataFrame)\n",
    "assert kaggle_subset_D.shape[0] == kaggle_dataset.shape[0]\n",
    "assert kaggle_subset_D.shape[1] == kaggle_dataset.shape[1]\n",
    "assert sum(kaggle_subset_D.dropna().CurrentJobTitleSelect != 'Computer Scientist') == 0\n"
   ]
  },
  {
   "cell_type": "markdown",
   "metadata": {
    "deletable": false,
    "editable": false,
    "nbgrader": {
     "grade": false,
     "grade_id": "cell-b0983efd645f0fd0",
     "locked": true,
     "schema_version": 3,
     "solution": false,
     "task": false
    }
   },
   "source": [
    "Now look into the clues and retrieve the correct values to fill the puzzle:\n",
    "\n",
    "* **Clue 9 - The first word of the employment status of the 4th element of subset D**\n",
    "* **Clue 10 - The top compensation currency on subset C**\n"
   ]
  },
  {
   "cell_type": "code",
   "execution_count": 26,
   "metadata": {
    "deletable": false,
    "editable": false,
    "nbgrader": {
     "grade": false,
     "grade_id": "cell-48260f66f18dc874",
     "locked": true,
     "schema_version": 3,
     "solution": false,
     "task": false
    }
   },
   "outputs": [],
   "source": [
    "NINTH_CLUE = kaggle_subset_D.EmploymentStatus.values[4].split(' ')[0]\n",
    "TENTH_CLUE = kaggle_subset_C.CompensationCurrency.value_counts().index[0] \n"
   ]
  },
  {
   "cell_type": "markdown",
   "metadata": {
    "deletable": false,
    "editable": false,
    "nbgrader": {
     "grade": false,
     "grade_id": "cell-3580fb2e7300559b",
     "locked": true,
     "schema_version": 3,
     "solution": false,
     "task": false
    }
   },
   "source": [
    "Now that you have all the clues, check the puzzle for the secret key"
   ]
  },
  {
   "cell_type": "code",
   "execution_count": 27,
   "metadata": {
    "deletable": false,
    "editable": false,
    "nbgrader": {
     "grade": false,
     "grade_id": "cell-10c93c0e5e65dc8a",
     "locked": true,
     "schema_version": 3,
     "solution": false,
     "task": false
    }
   },
   "outputs": [
    {
     "data": {
      "image/png": "[encoded data removed]",
      "text/plain": [
       "<Figure size 432x288 with 1 Axes>"
      ]
     },
     "metadata": {},
     "output_type": "display_data"
    }
   ],
   "source": [
    "draw_final_puzzle(\n",
    "    [\n",
    "        FIRST_CLUE, \n",
    "        SECOND_CLUE, \n",
    "        THIRD_CLUE, \n",
    "        FORTH_CLUE, \n",
    "        FIFTH_CLUE, \n",
    "        SIXTH_CLUE, \n",
    "        SEVENTH_CLUE, \n",
    "        EIGTH_CLUE, \n",
    "        NINTH_CLUE, \n",
    "        TENTH_CLUE\n",
    "    ]\n",
    ")"
   ]
  },
  {
   "cell_type": "code",
   "execution_count": 28,
   "metadata": {
    "deletable": false,
    "nbgrader": {
     "grade": false,
     "grade_id": "cell-029a11bdce1cfb7c",
     "locked": false,
     "schema_version": 3,
     "solution": true,
     "task": false
    }
   },
   "outputs": [],
   "source": [
    "# Introduce the highlighted words you see, in the following form:\n",
    "# kaggle_key = \"highlightedword\"\n",
    "\n",
    "# YOUR CODE HERE\n",
    "kaggle_key = \"dataskills\""
   ]
  },
  {
   "cell_type": "code",
   "execution_count": 29,
   "metadata": {
    "deletable": false,
    "editable": false,
    "nbgrader": {
     "grade": true,
     "grade_id": "cell-2fd6aa23728ab5d6",
     "locked": true,
     "points": 0,
     "schema_version": 3,
     "solution": false,
     "task": false
    }
   },
   "outputs": [],
   "source": [
    "assert hashlib.sha256(kaggle_key.encode()).hexdigest() == \"910a9c5274ba0637ca5882fdef4190e608fb05e465da46518bd7f2fe2eb6d93d\"\n"
   ]
  },
  {
   "cell_type": "markdown",
   "metadata": {
    "deletable": false,
    "editable": false,
    "nbgrader": {
     "grade": false,
     "grade_id": "cell-48fb141a87ad9f11",
     "locked": true,
     "schema_version": 3,
     "solution": false,
     "task": false
    }
   },
   "source": [
    "Congratulations, you made it! You would now be able to enter the actual challenge and brag to all your friends about how good you are in data science 😄 \n",
    "\n",
    "<img src=\"images/excel.jpg\" alt=\"excel\" width=\"40%\"/>\n",
    "\n",
    "\n"
   ]
  }
 ],
 "metadata": {
  "kernelspec": {
   "display_name": "Python 3 (ipykernel)",
   "language": "python",
   "name": "python3"
  },
  "language_info": {
   "codemirror_mode": {
    "name": "ipython",
    "version": 3
   },
   "file_extension": ".py",
   "mimetype": "text/x-python",
   "name": "python",
   "nbconvert_exporter": "python",
   "pygments_lexer": "ipython3",
   "version": "3.8.2"
  }
 },
 "nbformat": 4,
 "nbformat_minor": 2
}
