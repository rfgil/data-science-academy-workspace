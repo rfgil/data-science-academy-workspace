{
 "cells": [
  {
   "cell_type": "markdown",
   "id": "fba84fc3",
   "metadata": {
    "deletable": false,
    "editable": false,
    "nbgrader": {
     "grade": false,
     "grade_id": "cell-95630bbc79890e36",
     "locked": true,
     "schema_version": 3,
     "solution": false,
     "task": false
    }
   },
   "source": [
    "# SLU16 - Workflow: Exercise Notebook"
   ]
  },
  {
   "cell_type": "code",
   "execution_count": 1,
   "id": "09ef698a",
   "metadata": {
    "deletable": false,
    "editable": false,
    "nbgrader": {
     "grade": false,
     "grade_id": "cell-2f7d8358f51a95c7",
     "locked": true,
     "schema_version": 3,
     "solution": false,
     "task": false
    }
   },
   "outputs": [],
   "source": [
    "import random\n",
    "import pandas as pd\n",
    "import matplotlib.pyplot as plt\n",
    "\n",
    "from sklearn import linear_model\n",
    "from sklearn.pipeline import make_pipeline\n",
    "from sklearn.preprocessing import MinMaxScaler\n",
    "from sklearn.ensemble import RandomForestClassifier\n",
    "from sklearn.metrics import accuracy_score\n",
    "from sklearn.base import TransformerMixin\n",
    "from sklearn.model_selection import train_test_split\n",
    "from sklearn.impute import SimpleImputer\n",
    "\n",
    "from hashlib import sha1 # just for grading purposes\n",
    "import json # just for grading purposes\n",
    "\n",
    "from utils import workflow_steps, data_analysis_steps\n",
    "\n",
    "def _hash(obj, salt='none'):\n",
    "    if type(obj) is not str:\n",
    "        obj = json.dumps(obj)\n",
    "    to_encode = obj + salt\n",
    "    return sha1(to_encode.encode()).hexdigest()\n",
    "import warnings\n",
    "warnings.filterwarnings('ignore')"
   ]
  },
  {
   "cell_type": "markdown",
   "id": "4a2bbc27",
   "metadata": {
    "deletable": false,
    "editable": false,
    "nbgrader": {
     "grade": false,
     "grade_id": "cell-fa8e9c716561a3a0",
     "locked": true,
     "schema_version": 3,
     "solution": false,
     "task": false
    }
   },
   "source": [
    "In this notebook we will be covering the following:\n",
    "\n",
    "* Workflow\n",
    " * Step 1: Get the data\n",
    " * Step 2: Data analysis and preparation\n",
    "   * 2.1 Data analysis\n",
    "   * 2.2 Dealing with data problems\n",
    "   * 2.3 Feature engineering\n",
    "   * 2.4 Feature selection\n",
    " * Step 3: Model training\n",
    " * Step 4: Evaluate results\n",
    "* Pipelines and Custom estimators\n",
    "    * Pipelines \n",
    "        * Doing it \"the hard way\"\n",
    "        * What is a pipeline\n",
    "        * Setting up a pipeline\n",
    "    * Custom Objects\n",
    "        * Custom Transformers\n",
    "        * Custom Estimators"
   ]
  },
  {
   "cell_type": "markdown",
   "id": "fa0379fe",
   "metadata": {
    "deletable": false,
    "editable": false,
    "nbgrader": {
     "grade": false,
     "grade_id": "cell-017c07341b261351",
     "locked": true,
     "schema_version": 3,
     "solution": false,
     "task": false
    }
   },
   "source": [
    "A data science **workflow** defines the phases (or steps) in a data science project. Using a well-defined data science workflow is useful not only to you, but your teammates as it provides a simple way to clearly structure and organize a data science project. Across this specialization we've been covering the different steps in this workflow, but how well are you familiarised with them?"
   ]
  },
  {
   "cell_type": "markdown",
   "id": "b32cf131",
   "metadata": {
    "deletable": false,
    "editable": false,
    "nbgrader": {
     "grade": false,
     "grade_id": "cell-cc4e9e934ce2b450",
     "locked": true,
     "schema_version": 3,
     "solution": false,
     "task": false
    }
   },
   "source": [
    "## Exercise 1: Workflow"
   ]
  },
  {
   "cell_type": "markdown",
   "id": "66022a78",
   "metadata": {
    "deletable": false,
    "editable": false,
    "nbgrader": {
     "grade": false,
     "grade_id": "cell-cab312b59a379771",
     "locked": true,
     "schema_version": 3,
     "solution": false,
     "task": false
    }
   },
   "source": [
    "### Exercise 1.1 - Overall workflow steps"
   ]
  },
  {
   "cell_type": "markdown",
   "id": "1eb7ce91",
   "metadata": {
    "deletable": false,
    "editable": false,
    "nbgrader": {
     "grade": false,
     "grade_id": "cell-43d6817e1deb33e3",
     "locked": true,
     "schema_version": 3,
     "solution": false,
     "task": false
    }
   },
   "source": [
    "What are the basic workflow steps?\n",
    "\n",
    "You probably know them already, but we want you to really internalize them. We've given you a list of steps in `workflow_steps`, but it appears that, not only does it have to many steps, some are _probably_ wrong, as well.\n",
    "\n",
    "Select the correct ones and reorder them!"
   ]
  },
  {
   "cell_type": "code",
   "execution_count": 2,
   "id": "2ae1b06d",
   "metadata": {
    "deletable": false,
    "editable": false,
    "nbgrader": {
     "grade": false,
     "grade_id": "cell-c5101e47a4828368",
     "locked": true,
     "schema_version": 3,
     "solution": false,
     "task": false
    }
   },
   "outputs": [
    {
     "name": "stdout",
     "output_type": "stream",
     "text": [
      "Workflow steps:\n",
      "1 :  Evaluate results\n",
      "2 :  Spam\n",
      "3 :  Google Hackathon solutions\n",
      "4 :  Watch Netflix\n",
      "5 :  Data analysis and preparation\n",
      "6 :  Establish a Baseline\n",
      "7 :  Get the data\n",
      "8 :  Increase complexity\n",
      "9 :  Train model\n",
      "10 :  Iterate\n"
     ]
    }
   ],
   "source": [
    "print(\"Workflow steps:\")\n",
    "for i in range(len(workflow_steps)):\n",
    "    print(i+1, ': ', workflow_steps[i])"
   ]
  },
  {
   "cell_type": "code",
   "execution_count": 3,
   "id": "d50e8f62",
   "metadata": {
    "deletable": false,
    "nbgrader": {
     "grade": false,
     "grade_id": "cell-eb636145aa25eef4",
     "locked": false,
     "schema_version": 3,
     "solution": true,
     "task": false
    }
   },
   "outputs": [],
   "source": [
    "# Exercise 1.1. Filter and sort the names of the steps in the workflow_steps list\n",
    "workflow_steps_answer = [\n",
    "    'Get the data', \n",
    "    'Data analysis and preparation', \n",
    "    'Train model', \n",
    "    'Evaluate results', \n",
    "    'Iterate']\n",
    "\n",
    "# YOUR CODE HERE"
   ]
  },
  {
   "cell_type": "code",
   "execution_count": 4,
   "id": "ce2728e0",
   "metadata": {
    "deletable": false,
    "editable": false,
    "nbgrader": {
     "grade": true,
     "grade_id": "cell-8c9ae302d2c9c48c",
     "locked": true,
     "points": 1,
     "schema_version": 3,
     "solution": false,
     "task": false
    }
   },
   "outputs": [],
   "source": [
    "assert _hash(len(workflow_steps_answer), 'salt0') == '253bd16d7f97f7d7295d404825e32985d257e11f', \"your workflow size doesn't look right! Don't forget to remove steps that shouldn't be there\"\n",
    "assert _hash([step.lower() for step in workflow_steps_answer], 'salt0') == '701e2306da9bfde36382bdb6feb80a354916ebf4', \"your workflow order doesn't look right! Some steps might be out of place\"\n"
   ]
  },
  {
   "cell_type": "markdown",
   "id": "d6f7c415",
   "metadata": {
    "deletable": false,
    "editable": false,
    "nbgrader": {
     "grade": false,
     "grade_id": "cell-9794a05f48292719",
     "locked": true,
     "schema_version": 3,
     "solution": false,
     "task": false
    }
   },
   "source": [
    "## Exercise 1.2: Data Analysis and Preparation"
   ]
  },
  {
   "cell_type": "markdown",
   "id": "ab02f4fa",
   "metadata": {
    "deletable": false,
    "editable": false,
    "nbgrader": {
     "grade": false,
     "grade_id": "cell-f258575f6c7a6dc6",
     "locked": true,
     "schema_version": 3,
     "solution": false,
     "task": false
    }
   },
   "source": [
    "There are way too many substeps in the **Data Analysis and Preparation** step to group them all under a single category. We've given you another list of steps: `data_analysis_steps`.\n",
    "\n",
    "Aside from being shuffled, it should be fine but keep an eye out. You never know what to expect..."
   ]
  },
  {
   "cell_type": "code",
   "execution_count": 5,
   "id": "397e0bfa",
   "metadata": {
    "deletable": false,
    "editable": false,
    "nbgrader": {
     "grade": false,
     "grade_id": "cell-28be987a3be96809",
     "locked": true,
     "schema_version": 3,
     "solution": false,
     "task": false
    }
   },
   "outputs": [
    {
     "name": "stdout",
     "output_type": "stream",
     "text": [
      "Data Analysis and Preparation steps:\n",
      "1 :  Feature engineering\n",
      "2 :  Data analysis\n",
      "3 :  Dealing with data problems\n",
      "4 :  Spanish Inquisition\n",
      "5 :  Feature selection\n"
     ]
    }
   ],
   "source": [
    "print(\"Data Analysis and Preparation steps:\")\n",
    "for i in range(len(data_analysis_steps)):\n",
    "    print(i+1, ': ', data_analysis_steps[i])"
   ]
  },
  {
   "cell_type": "code",
   "execution_count": 6,
   "id": "b4116241",
   "metadata": {
    "deletable": false,
    "nbgrader": {
     "grade": false,
     "grade_id": "cell-2dab17640925e0d9",
     "locked": false,
     "schema_version": 3,
     "solution": true,
     "task": false
    }
   },
   "outputs": [],
   "source": [
    "# Exercise 1.2. Filter and sort the names of the steps in the data_analysis_steps list\n",
    "data_analysis_steps_answer = [\n",
    "    'Data analysis', \n",
    "    'Dealing with data problems', \n",
    "    'Feature engineering', \n",
    "    'Feature selection']\n",
    "\n",
    "\n",
    "# YOUR CODE HERE"
   ]
  },
  {
   "cell_type": "code",
   "execution_count": 7,
   "id": "09b060a6",
   "metadata": {
    "deletable": false,
    "editable": false,
    "nbgrader": {
     "grade": true,
     "grade_id": "cell-6d6087c6110d2371",
     "locked": true,
     "points": 1,
     "schema_version": 3,
     "solution": false,
     "task": false
    }
   },
   "outputs": [],
   "source": [
    "assert _hash(len(data_analysis_steps_answer), 'salt0') == '3aa298b947129ff226ba1e3f545f8b5ffaa6e557', \"your workflow size doesn't look right! Don't forget to remove steps that shouldn't be there\"\n",
    "assert _hash([step.lower() for step in data_analysis_steps_answer], 'salt0') == '658ab90eff4a0cea2bfb51cc89c8db5b4121fa86', \"your workflow order doesn't look right! Some steps might be out of place\"\n"
   ]
  },
  {
   "cell_type": "markdown",
   "id": "23109fc9",
   "metadata": {
    "deletable": false,
    "editable": false,
    "nbgrader": {
     "grade": false,
     "grade_id": "cell-010003b31ea0fd27",
     "locked": true,
     "schema_version": 3,
     "solution": false,
     "task": false
    }
   },
   "source": [
    "<img src=\"media/spanish_inquisition.gif\" width=\"400\" />"
   ]
  },
  {
   "cell_type": "markdown",
   "id": "b4bb77b6",
   "metadata": {
    "deletable": false,
    "editable": false,
    "nbgrader": {
     "grade": false,
     "grade_id": "cell-7152f046d21dcd9d",
     "locked": true,
     "schema_version": 3,
     "solution": false,
     "task": false
    }
   },
   "source": [
    "## Exercise 2 - Walking down the yellow (workflow) path"
   ]
  },
  {
   "cell_type": "markdown",
   "id": "5ee5d448",
   "metadata": {
    "deletable": false,
    "editable": false,
    "nbgrader": {
     "grade": false,
     "grade_id": "cell-ba6650bcf67a8fa3",
     "locked": true,
     "schema_version": 3,
     "solution": false,
     "task": false
    }
   },
   "source": [
    "There is no template for solving a data science problem. The roadmap changes with every new dataset and new problem. But we do see similar steps in many different projects. Regardless, some steps are fairly common in any process. Let's go through them one by one."
   ]
  },
  {
   "cell_type": "markdown",
   "id": "8032e7fb",
   "metadata": {
    "deletable": false,
    "editable": false,
    "nbgrader": {
     "grade": false,
     "grade_id": "cell-bb496988687ae3d6",
     "locked": true,
     "schema_version": 3,
     "solution": false,
     "task": false
    }
   },
   "source": [
    "### Exercise 2.1 - Objective"
   ]
  },
  {
   "cell_type": "markdown",
   "id": "474c2754",
   "metadata": {
    "deletable": false,
    "editable": false,
    "nbgrader": {
     "grade": false,
     "grade_id": "cell-7a140029ef4d8d6c",
     "locked": true,
     "schema_version": 3,
     "solution": false,
     "task": false
    }
   },
   "source": [
    "Every DS analysis should start with one question: **What is the problem you are trying to solve?** Clearly stating your problem is the first step to solving it and without a clear problem, you could find yourself down a data-science rabbit-hole.\n",
    "\n",
    "For this workflow, we are going to analyze the **highest ranked movies on IMDB.com**. The objective? \n",
    "\n",
    "> I want to build a model to predict IMDB movie rating based on features like budget, runtime, and votes on the website."
   ]
  },
  {
   "cell_type": "markdown",
   "id": "b11896f0",
   "metadata": {
    "deletable": false,
    "editable": false,
    "nbgrader": {
     "grade": false,
     "grade_id": "cell-263f1d315649fb6f",
     "locked": true,
     "schema_version": 3,
     "solution": false,
     "task": false
    }
   },
   "source": [
    "#### Exercise 2.1.1 - Objective\n",
    "Let's start by importing the dataset. "
   ]
  },
  {
   "cell_type": "code",
   "execution_count": 8,
   "id": "18917a09",
   "metadata": {
    "deletable": false,
    "editable": false,
    "nbgrader": {
     "grade": false,
     "grade_id": "cell-a7a6a16a20aec456",
     "locked": true,
     "schema_version": 3,
     "solution": false,
     "task": false
    }
   },
   "outputs": [
    {
     "data": {
      "text/html": [
       "<div>\n",
       "<style scoped>\n",
       "    .dataframe tbody tr th:only-of-type {\n",
       "        vertical-align: middle;\n",
       "    }\n",
       "\n",
       "    .dataframe tbody tr th {\n",
       "        vertical-align: top;\n",
       "    }\n",
       "\n",
       "    .dataframe thead th {\n",
       "        text-align: right;\n",
       "    }\n",
       "</style>\n",
       "<table border=\"1\" class=\"dataframe\">\n",
       "  <thead>\n",
       "    <tr style=\"text-align: right;\">\n",
       "      <th></th>\n",
       "      <th>Title</th>\n",
       "      <th>Rating</th>\n",
       "      <th>TotalVotes</th>\n",
       "      <th>Genre1</th>\n",
       "      <th>Genre2</th>\n",
       "      <th>Genre3</th>\n",
       "      <th>MetaCritic</th>\n",
       "      <th>Budget</th>\n",
       "      <th>Runtime</th>\n",
       "      <th>ï..CVotes10</th>\n",
       "      <th>...</th>\n",
       "      <th>Votes3044</th>\n",
       "      <th>Votes3044M</th>\n",
       "      <th>Votes3044F</th>\n",
       "      <th>Votes45A</th>\n",
       "      <th>Votes45AM</th>\n",
       "      <th>Votes45AF</th>\n",
       "      <th>VotesIMDB</th>\n",
       "      <th>Votes1000</th>\n",
       "      <th>VotesUS</th>\n",
       "      <th>VotesnUS</th>\n",
       "    </tr>\n",
       "  </thead>\n",
       "  <tbody>\n",
       "    <tr>\n",
       "      <th>1</th>\n",
       "      <td>12 Years a Slave (2013)</td>\n",
       "      <td>8.1</td>\n",
       "      <td>496,092</td>\n",
       "      <td>Biography</td>\n",
       "      <td>Drama</td>\n",
       "      <td>History</td>\n",
       "      <td>96.0</td>\n",
       "      <td>$20,000,000</td>\n",
       "      <td>134 min</td>\n",
       "      <td>75556</td>\n",
       "      <td>...</td>\n",
       "      <td>8.0</td>\n",
       "      <td>7.9</td>\n",
       "      <td>8.0</td>\n",
       "      <td>7.8</td>\n",
       "      <td>7.8</td>\n",
       "      <td>8.1</td>\n",
       "      <td>8.0</td>\n",
       "      <td>7.7</td>\n",
       "      <td>8.3</td>\n",
       "      <td>8.0</td>\n",
       "    </tr>\n",
       "    <tr>\n",
       "      <th>2</th>\n",
       "      <td>127 Hours (2010)</td>\n",
       "      <td>7.6</td>\n",
       "      <td>297,075</td>\n",
       "      <td>Adventure</td>\n",
       "      <td>Biography</td>\n",
       "      <td>Drama</td>\n",
       "      <td>82.0</td>\n",
       "      <td>$18,000,000</td>\n",
       "      <td>94 min</td>\n",
       "      <td>28939</td>\n",
       "      <td>...</td>\n",
       "      <td>7.5</td>\n",
       "      <td>7.5</td>\n",
       "      <td>7.5</td>\n",
       "      <td>7.3</td>\n",
       "      <td>7.3</td>\n",
       "      <td>7.5</td>\n",
       "      <td>7.6</td>\n",
       "      <td>7.0</td>\n",
       "      <td>7.7</td>\n",
       "      <td>7.6</td>\n",
       "    </tr>\n",
       "    <tr>\n",
       "      <th>3</th>\n",
       "      <td>50/50 (2011)</td>\n",
       "      <td>7.7</td>\n",
       "      <td>283,935</td>\n",
       "      <td>Comedy</td>\n",
       "      <td>Drama</td>\n",
       "      <td>Romance</td>\n",
       "      <td>72.0</td>\n",
       "      <td>$8,000,000</td>\n",
       "      <td>100 min</td>\n",
       "      <td>28304</td>\n",
       "      <td>...</td>\n",
       "      <td>7.6</td>\n",
       "      <td>7.6</td>\n",
       "      <td>7.6</td>\n",
       "      <td>7.4</td>\n",
       "      <td>7.4</td>\n",
       "      <td>7.5</td>\n",
       "      <td>7.4</td>\n",
       "      <td>7.0</td>\n",
       "      <td>7.9</td>\n",
       "      <td>7.6</td>\n",
       "    </tr>\n",
       "    <tr>\n",
       "      <th>4</th>\n",
       "      <td>About Time (2013)</td>\n",
       "      <td>7.8</td>\n",
       "      <td>225,412</td>\n",
       "      <td>Comedy</td>\n",
       "      <td>Drama</td>\n",
       "      <td>Fantasy</td>\n",
       "      <td>NaN</td>\n",
       "      <td>$12,000,000</td>\n",
       "      <td>123 min</td>\n",
       "      <td>38556</td>\n",
       "      <td>...</td>\n",
       "      <td>7.6</td>\n",
       "      <td>7.6</td>\n",
       "      <td>7.7</td>\n",
       "      <td>7.6</td>\n",
       "      <td>7.5</td>\n",
       "      <td>7.8</td>\n",
       "      <td>7.7</td>\n",
       "      <td>6.9</td>\n",
       "      <td>7.8</td>\n",
       "      <td>7.7</td>\n",
       "    </tr>\n",
       "    <tr>\n",
       "      <th>5</th>\n",
       "      <td>Amour (2012)</td>\n",
       "      <td>7.9</td>\n",
       "      <td>76,121</td>\n",
       "      <td>Drama</td>\n",
       "      <td>Romance</td>\n",
       "      <td>NaN</td>\n",
       "      <td>94.0</td>\n",
       "      <td>$8,900,000</td>\n",
       "      <td>127 min</td>\n",
       "      <td>11093</td>\n",
       "      <td>...</td>\n",
       "      <td>7.7</td>\n",
       "      <td>7.7</td>\n",
       "      <td>7.9</td>\n",
       "      <td>7.9</td>\n",
       "      <td>7.8</td>\n",
       "      <td>8.1</td>\n",
       "      <td>6.6</td>\n",
       "      <td>7.2</td>\n",
       "      <td>7.9</td>\n",
       "      <td>7.8</td>\n",
       "    </tr>\n",
       "  </tbody>\n",
       "</table>\n",
       "<p>5 rows × 54 columns</p>\n",
       "</div>"
      ],
      "text/plain": [
       "                     Title  Rating TotalVotes     Genre1     Genre2   Genre3  \\\n",
       "1  12 Years a Slave (2013)     8.1    496,092  Biography      Drama  History   \n",
       "2         127 Hours (2010)     7.6    297,075  Adventure  Biography    Drama   \n",
       "3             50/50 (2011)     7.7    283,935     Comedy      Drama  Romance   \n",
       "4        About Time (2013)     7.8    225,412     Comedy      Drama  Fantasy   \n",
       "5             Amour (2012)     7.9     76,121      Drama    Romance      NaN   \n",
       "\n",
       "   MetaCritic        Budget  Runtime  ï..CVotes10  ...  Votes3044  Votes3044M  \\\n",
       "1        96.0  $20,000,000   134 min        75556  ...        8.0         7.9   \n",
       "2        82.0  $18,000,000    94 min        28939  ...        7.5         7.5   \n",
       "3        72.0   $8,000,000   100 min        28304  ...        7.6         7.6   \n",
       "4         NaN  $12,000,000   123 min        38556  ...        7.6         7.6   \n",
       "5        94.0   $8,900,000   127 min        11093  ...        7.7         7.7   \n",
       "\n",
       "   Votes3044F  Votes45A  Votes45AM  Votes45AF  VotesIMDB  Votes1000  VotesUS  \\\n",
       "1         8.0       7.8        7.8        8.1        8.0        7.7      8.3   \n",
       "2         7.5       7.3        7.3        7.5        7.6        7.0      7.7   \n",
       "3         7.6       7.4        7.4        7.5        7.4        7.0      7.9   \n",
       "4         7.7       7.6        7.5        7.8        7.7        6.9      7.8   \n",
       "5         7.9       7.9        7.8        8.1        6.6        7.2      7.9   \n",
       "\n",
       "  VotesnUS  \n",
       "1      8.0  \n",
       "2      7.6  \n",
       "3      7.6  \n",
       "4      7.7  \n",
       "5      7.8  \n",
       "\n",
       "[5 rows x 54 columns]"
      ]
     },
     "execution_count": 8,
     "metadata": {},
     "output_type": "execute_result"
    }
   ],
   "source": [
    "df = pd.read_csv('data/IMDB.csv', index_col=0, encoding='latin-1')\n",
    "df.head()"
   ]
  },
  {
   "cell_type": "code",
   "execution_count": 9,
   "id": "0e5a2f49",
   "metadata": {
    "deletable": false,
    "nbgrader": {
     "grade": false,
     "grade_id": "cell-7bac9e5a5b30e333",
     "locked": false,
     "schema_version": 3,
     "solution": true,
     "task": false
    }
   },
   "outputs": [],
   "source": [
    "# Is the objective clear to you?\n",
    "# This is just a yes or no question, no need for code here! :P \n",
    "answer_2_1_1=True\n",
    "# YOUR CODE HERE"
   ]
  },
  {
   "cell_type": "code",
   "execution_count": 10,
   "id": "8d55c39b",
   "metadata": {
    "deletable": false,
    "editable": false,
    "nbgrader": {
     "grade": true,
     "grade_id": "cell-dad9e0e457bf29a1",
     "locked": true,
     "points": 0,
     "schema_version": 3,
     "solution": false,
     "task": false
    }
   },
   "outputs": [],
   "source": [
    "assert answer_2_1_1, \"Don't make the panda sad!\""
   ]
  },
  {
   "cell_type": "markdown",
   "id": "332cb222",
   "metadata": {},
   "source": [
    "#### Exercise 2.1.2 - Clasifying the problem\n",
    "Now that we have our data imported into Pandas and we've checked out the first few rows of our dataframe, there's a few questions we need to answer before we move on:\n",
    "\n",
    "- *A*: Is this **supervised learning** or **unsupervised learning**? \n",
    "- *B*: Is this a **classification problem** or is it a **regression problem**? \n",
    "- *C*: Is this a **prediction problem** or an **inference problem**?\n",
    "\n",
    "Keeping our **objective in mind** how would you classify this problem?\n",
    "\n",
    "In our example, we are going to be using **regression** to **predict** IMDB rating from Metacritic Ratings, Budgets, Runtime, and Votes.\n",
    "\n",
    "Save, in `answer_2_1_2`, the value from **A, B and C** that apply to our problem!"
   ]
  },
  {
   "cell_type": "code",
   "execution_count": 11,
   "id": "c6af8f33",
   "metadata": {
    "deletable": false,
    "nbgrader": {
     "grade": false,
     "grade_id": "cell-26745fdc9dca03d8",
     "locked": false,
     "schema_version": 3,
     "solution": true,
     "task": false
    }
   },
   "outputs": [],
   "source": [
    "# Remove from the string what doesn't apply to our problem (including the '/')\n",
    "answer_2_1_2 = [\"supervised learning\",\"regression problem\", \"prediction problem\"]\n",
    "# YOUR CODE HERE"
   ]
  },
  {
   "cell_type": "code",
   "execution_count": 12,
   "id": "52df5101",
   "metadata": {
    "deletable": false,
    "editable": false,
    "nbgrader": {
     "grade": true,
     "grade_id": "cell-80d1e9191be2cad6",
     "locked": true,
     "points": 1,
     "schema_version": 3,
     "solution": false,
     "task": false
    }
   },
   "outputs": [],
   "source": [
    "assert _hash(len(answer_2_1_2), 'salt0') == 'bb6591f296df2e5dd0324184f4348795b760f11d', \"your answer doesn't have the correct size. I've asked you to pick the correct option for three questions\"\n",
    "assert _hash([step.lower() for step in answer_2_1_2], 'salt0') == '316a377a65564efdcfaadfec185b3e53aa41995e', \"One or more of your answers is incorrect.\""
   ]
  },
  {
   "cell_type": "markdown",
   "id": "d12f2d77",
   "metadata": {
    "deletable": false,
    "editable": false,
    "nbgrader": {
     "grade": false,
     "grade_id": "cell-8b336c0b944c04c4",
     "locked": true,
     "schema_version": 3,
     "solution": false,
     "task": false
    }
   },
   "source": [
    "### Exercise 2.2 - Data Exploration and Data Cleaning"
   ]
  },
  {
   "cell_type": "markdown",
   "id": "61809799",
   "metadata": {
    "deletable": false,
    "editable": false,
    "nbgrader": {
     "grade": false,
     "grade_id": "cell-3cab1bebd529a56a",
     "locked": true,
     "schema_version": 3,
     "solution": false,
     "task": false
    }
   },
   "source": [
    "Back to our data! Let’s determine which variable is our target and which features we think are important.\n",
    "Our target is going to be the column titled **Rating** and our features are going to be the columns titled the following: **Rating, TotalVotes, MetaCritic, Budget, Runtime, VotesUS and VotesnUS**, in this order. Remove all of the columns we don’t need for this analysis.\n",
    "\n",
    "Save the resulting dataframe in `df_clean`. \n",
    "\n",
    "Remember, in this case we're telling you what columns are to be kept, but this is something that is part of your workflow process. **A good data exploration and data cleaning is a key factor in the outcome of your model!**"
   ]
  },
  {
   "cell_type": "code",
   "execution_count": 13,
   "id": "f4f580ee",
   "metadata": {
    "deletable": false,
    "nbgrader": {
     "grade": false,
     "grade_id": "cell-138aa6edcbd29190",
     "locked": false,
     "schema_version": 3,
     "solution": true,
     "task": false
    }
   },
   "outputs": [],
   "source": [
    "df_clean = df[['Rating', 'TotalVotes', 'MetaCritic', 'Budget', 'Runtime', 'VotesUS', 'VotesnUS']]\n",
    "# YOUR CODE HERE"
   ]
  },
  {
   "cell_type": "code",
   "execution_count": 14,
   "id": "d2460fe8",
   "metadata": {
    "deletable": false,
    "editable": false,
    "nbgrader": {
     "grade": true,
     "grade_id": "cell-797514f689b49b52",
     "locked": true,
     "points": 1,
     "schema_version": 3,
     "solution": false,
     "task": false
    }
   },
   "outputs": [],
   "source": [
    "assert isinstance(df_clean, pd.DataFrame), \"Should be a dataframe\"\n",
    "assert df_clean.shape == (118, 7), \"The shape of the dataframe is different then expected. Have you dropped the uncessessary columns?\"\n",
    "assert _hash([step.lower() for step in df_clean.columns], 'salt0') == 'a721c6ef4e309977818a8875f46459655f645b70', \"One or more of your column headers is incorrect.\"\n"
   ]
  },
  {
   "cell_type": "markdown",
   "id": "14b9d300",
   "metadata": {
    "deletable": false,
    "editable": false,
    "nbgrader": {
     "grade": false,
     "grade_id": "cell-0febe6071b3fff48",
     "locked": true,
     "schema_version": 3,
     "solution": false,
     "task": false
    }
   },
   "source": [
    "### Exercise 2.3 - EDA\n",
    "\n",
    "Exploratory data analysis (EDA) gives the data scientist an opportunity to really learn about the data they are working with. \n",
    "\n",
    "Throughout the EDA process, I clean the data. Data from the real world is *very messy*. As I work through the EDA process and learn about the data, I take notes on things I need to fix in order to conduct my analysis. Most times, **Data cleaning and EDA go hand in hand for me**."
   ]
  },
  {
   "cell_type": "markdown",
   "id": "1a41caa6",
   "metadata": {
    "deletable": false,
    "editable": false,
    "nbgrader": {
     "grade": false,
     "grade_id": "cell-a19ce7391b2591cd",
     "locked": true,
     "schema_version": 3,
     "solution": false,
     "task": false
    }
   },
   "source": [
    "The first thing I check is data types. Getting all of the values in the correct format is important. This can involve stripping characters from strings, converting integers to floats, or many other things."
   ]
  },
  {
   "cell_type": "code",
   "execution_count": 15,
   "id": "b77b7ed0",
   "metadata": {
    "deletable": false,
    "editable": false,
    "nbgrader": {
     "grade": false,
     "grade_id": "cell-c1df6eb16892c268",
     "locked": true,
     "schema_version": 3,
     "solution": false,
     "task": false
    }
   },
   "outputs": [
    {
     "data": {
      "text/plain": [
       "Rating        float64\n",
       "TotalVotes     object\n",
       "MetaCritic    float64\n",
       "Budget         object\n",
       "Runtime        object\n",
       "VotesUS        object\n",
       "VotesnUS       object\n",
       "dtype: object"
      ]
     },
     "execution_count": 15,
     "metadata": {},
     "output_type": "execute_result"
    }
   ],
   "source": [
    "df_clean.dtypes\n"
   ]
  },
  {
   "cell_type": "markdown",
   "id": "e8f67b1f",
   "metadata": {
    "deletable": false,
    "editable": false,
    "nbgrader": {
     "grade": false,
     "grade_id": "cell-74ae17235c8a2dd1",
     "locked": true,
     "schema_version": 3,
     "solution": false,
     "task": false
    }
   },
   "source": [
    "We can observe that the columns **Total Votes**, **Budget** and **Runtime** are not in the expected format (they're all as objects). \n",
    "\n",
    "Let's fix these columns one by one:"
   ]
  },
  {
   "cell_type": "markdown",
   "id": "a7b48b05",
   "metadata": {
    "deletable": false,
    "editable": false,
    "nbgrader": {
     "grade": false,
     "grade_id": "cell-c46e92b54d2e026f",
     "locked": true,
     "schema_version": 3,
     "solution": false,
     "task": false
    }
   },
   "source": [
    "#### Exercise 2.3.1 - Total Votes\n",
    "Remove the commas in the column and set its type as `int` "
   ]
  },
  {
   "cell_type": "code",
   "execution_count": 16,
   "id": "c3cb96eb",
   "metadata": {},
   "outputs": [
    {
     "data": {
      "text/plain": [
       "1      496,092\n",
       "2      297,075\n",
       "3      283,935\n",
       "4      225,412\n",
       "5       76,121\n",
       "        ...   \n",
       "114    492,285\n",
       "115    295,125\n",
       "116    560,736\n",
       "117    556,713\n",
       "118    309,474\n",
       "Name: TotalVotes, Length: 118, dtype: object"
      ]
     },
     "execution_count": 16,
     "metadata": {},
     "output_type": "execute_result"
    }
   ],
   "source": [
    "df_clean.TotalVotes"
   ]
  },
  {
   "cell_type": "code",
   "execution_count": 17,
   "id": "2d4d5783",
   "metadata": {
    "deletable": false,
    "nbgrader": {
     "grade": false,
     "grade_id": "cell-c0fece0cf6d920ba",
     "locked": false,
     "schema_version": 3,
     "solution": true,
     "task": false
    }
   },
   "outputs": [],
   "source": [
    "#hit: str.replace() and as.type() are your friends\n",
    "df_clean['TotalVotes'] = df_clean['TotalVotes'].apply(lambda x: int(x.replace(',', '')))\n",
    "# YOUR CODE HERE"
   ]
  },
  {
   "cell_type": "code",
   "execution_count": 18,
   "id": "e455301e",
   "metadata": {
    "deletable": false,
    "editable": false,
    "nbgrader": {
     "grade": true,
     "grade_id": "cell-80f21621753787af",
     "locked": true,
     "points": 1,
     "schema_version": 3,
     "solution": false,
     "task": false
    }
   },
   "outputs": [],
   "source": [
    "assert all(isinstance(item, int) for item in df_clean['TotalVotes']), \"TotalVotes should be saved as integers\" \n",
    "assert _hash(list(df_clean['TotalVotes']), 'salt0') == '8213634d779bf710f03e6ea7b9cafc2671d5f5c4', \"Something is wrong with your data conversion\""
   ]
  },
  {
   "cell_type": "markdown",
   "id": "0b2f6537",
   "metadata": {
    "deletable": false,
    "editable": false,
    "nbgrader": {
     "grade": false,
     "grade_id": "cell-f627f646a3ee1c1f",
     "locked": true,
     "schema_version": 3,
     "solution": false,
     "task": false
    }
   },
   "source": [
    "#### Exercise 2.3.2 - Budget\n",
    "Set the column Budget as int, cleaning the weird cases as you go"
   ]
  },
  {
   "cell_type": "code",
   "execution_count": 19,
   "id": "55bccf11",
   "metadata": {
    "deletable": false,
    "editable": false,
    "nbgrader": {
     "grade": false,
     "grade_id": "cell-df64ad37e27d68e0",
     "locked": true,
     "schema_version": 3,
     "solution": false,
     "task": false
    }
   },
   "outputs": [
    {
     "data": {
      "text/plain": [
       "1                                           $20,000,000 \n",
       "2                                           $18,000,000 \n",
       "3                                            $8,000,000 \n",
       "4                                           $12,000,000 \n",
       "5                                            $8,900,000 \n",
       "                             ...                        \n",
       "114                                          $3,300,000 \n",
       "115    Opening Weekend:         49,038,712           ...\n",
       "116                                        $200,000,000 \n",
       "117                                        $160,000,000 \n",
       "118                                        $150,000,000 \n",
       "Name: Budget, Length: 118, dtype: object"
      ]
     },
     "execution_count": 19,
     "metadata": {},
     "output_type": "execute_result"
    }
   ],
   "source": [
    "df_clean.Budget"
   ]
  },
  {
   "cell_type": "code",
   "execution_count": 20,
   "id": "c2198f96",
   "metadata": {
    "deletable": false,
    "nbgrader": {
     "grade": false,
     "grade_id": "cell-bde0821a4f079b78",
     "locked": false,
     "schema_version": 3,
     "solution": true,
     "task": false
    }
   },
   "outputs": [],
   "source": [
    "# remove cases where the budget contains the words \"Opening\", \"Pathé\" and \"BBC\"\n",
    "df_clean = df_clean[ df_clean.Budget.str.contains('Opening|Pathé|BBC').map(lambda x: not x) ]\n",
    "\n",
    "# remove weird string cases from the column - this is a freeby for you ;)\n",
    "df_clean.Budget = df_clean.Budget.str.replace('[^\\x00-\\x7F]','')\n",
    "\n",
    "# remove commas and dollar strings\n",
    "df_clean.Budget = df_clean.Budget.str.replace('[$,]', '')\n",
    "\n",
    "# set type as int\n",
    "df_clean.Budget = df_clean.Budget.astype('int32')\n",
    "\n",
    "# YOUR CODE HERE"
   ]
  },
  {
   "cell_type": "code",
   "execution_count": 21,
   "id": "598e4af7",
   "metadata": {
    "deletable": false,
    "editable": false,
    "nbgrader": {
     "grade": true,
     "grade_id": "cell-733c4a2a5e210740",
     "locked": true,
     "points": 2,
     "schema_version": 3,
     "solution": false,
     "task": false
    }
   },
   "outputs": [],
   "source": [
    "assert all(isinstance(item, int) for item in df_clean['Budget']), \"Budget should be saved as integers\" \n",
    "assert _hash(list(df_clean['Budget']), 'salt0') == '36348180fcef98c4a20e296250c54dcba9150ce4', \"Something is wrong with your data cleaning\""
   ]
  },
  {
   "cell_type": "markdown",
   "id": "37f1d3ca",
   "metadata": {
    "deletable": false,
    "editable": false,
    "nbgrader": {
     "grade": false,
     "grade_id": "cell-71b2ff6735d7bc0a",
     "locked": true,
     "schema_version": 3,
     "solution": false,
     "task": false
    }
   },
   "source": [
    "#### Exercise 2.3.3 - Runtime\n",
    "Extract the runtime time in minutes from this column. *Don't convert this column.* "
   ]
  },
  {
   "cell_type": "code",
   "execution_count": 22,
   "id": "c152631a",
   "metadata": {
    "deletable": false,
    "editable": false,
    "nbgrader": {
     "grade": false,
     "grade_id": "cell-0b96bc1d492c78a4",
     "locked": true,
     "schema_version": 3,
     "solution": false,
     "task": false
    }
   },
   "outputs": [
    {
     "data": {
      "text/plain": [
       "1      134 min\n",
       "2       94 min\n",
       "3      100 min\n",
       "4      123 min\n",
       "5      127 min\n",
       "        ...   \n",
       "112    140 min\n",
       "114    107 min\n",
       "116    132 min\n",
       "117    132 min\n",
       "118    108 min\n",
       "Name: Runtime, Length: 99, dtype: object"
      ]
     },
     "execution_count": 22,
     "metadata": {},
     "output_type": "execute_result"
    }
   ],
   "source": [
    "df_clean.Runtime"
   ]
  },
  {
   "cell_type": "code",
   "execution_count": 23,
   "id": "e17b1765",
   "metadata": {
    "deletable": false,
    "nbgrader": {
     "grade": false,
     "grade_id": "cell-39c6b959c9e31b30",
     "locked": false,
     "schema_version": 3,
     "solution": true,
     "task": false
    }
   },
   "outputs": [],
   "source": [
    "# hint: str.split() is your friend\n",
    "df_clean.Runtime = df_clean.Runtime.str.split(pat=' ', expand=True)\n",
    "\n",
    "# YOUR CODE HERE"
   ]
  },
  {
   "cell_type": "code",
   "execution_count": 24,
   "id": "cd2f29f8",
   "metadata": {
    "deletable": false,
    "editable": false,
    "nbgrader": {
     "grade": true,
     "grade_id": "cell-1c14f70638eb8f1c",
     "locked": true,
     "points": 1,
     "schema_version": 3,
     "solution": false,
     "task": false
    }
   },
   "outputs": [],
   "source": [
    "assert all(isinstance(item, object) for item in df_clean['Runtime']), \"Runtime should be left as object\" \n",
    "assert _hash(list(df_clean['Runtime']), 'salt0') == 'd17030b4117d1ea61ead4b8b3ddfdb82a0bfc0bf', \"Something is wrong with your data cleaning\""
   ]
  },
  {
   "cell_type": "markdown",
   "id": "08897511",
   "metadata": {
    "deletable": false,
    "editable": false,
    "nbgrader": {
     "grade": false,
     "grade_id": "cell-c44cf8d3b12a8ec6",
     "locked": true,
     "schema_version": 3,
     "solution": false,
     "task": false
    }
   },
   "source": [
    "### Exercise 2.4 - Drop missing values\n",
    "Finding missing values is quite common. Just drop them from out clean dataframe."
   ]
  },
  {
   "cell_type": "code",
   "execution_count": 25,
   "id": "40c6d756",
   "metadata": {
    "deletable": false,
    "nbgrader": {
     "grade": false,
     "grade_id": "cell-fc4703b89bf0d85b",
     "locked": false,
     "schema_version": 3,
     "solution": true,
     "task": false
    }
   },
   "outputs": [],
   "source": [
    "df_clean = df_clean.dropna()\n",
    "# YOUR CODE HERE"
   ]
  },
  {
   "cell_type": "code",
   "execution_count": 26,
   "id": "14446f9b",
   "metadata": {
    "deletable": false,
    "editable": false,
    "nbgrader": {
     "grade": true,
     "grade_id": "cell-8443173a170a44d8",
     "locked": true,
     "points": 1,
     "schema_version": 3,
     "solution": false,
     "task": false
    }
   },
   "outputs": [],
   "source": [
    "assert isinstance(df_clean, pd.DataFrame), \"Should be a dataframe\"\n",
    "assert df_clean.shape == (92, 7), \"The shape of the dataframe is different then expected. Have you dropped the rows with missing data?\""
   ]
  },
  {
   "cell_type": "markdown",
   "id": "dbd4be6f",
   "metadata": {
    "deletable": false,
    "editable": false,
    "nbgrader": {
     "grade": false,
     "grade_id": "cell-7039618ddc791c28",
     "locked": true,
     "schema_version": 3,
     "solution": false,
     "task": false
    }
   },
   "source": [
    "### Exercise 2.5 - Set type of remaining columns\n",
    "\n",
    "Finally we can set the type of **Runtime**. as int, and **VotesnUS** and **VotesUS** as float."
   ]
  },
  {
   "cell_type": "code",
   "execution_count": 27,
   "id": "00747840",
   "metadata": {
    "deletable": false,
    "nbgrader": {
     "grade": false,
     "grade_id": "cell-53bce2cc4afac670",
     "locked": false,
     "schema_version": 3,
     "solution": true,
     "task": false
    }
   },
   "outputs": [],
   "source": [
    "df_clean.Runtime = df_clean.Runtime.astype('int32')\n",
    "df_clean.VotesnUS = df_clean.VotesnUS.astype('float')\n",
    "df_clean.VotesUS = df_clean.VotesUS.astype('float')\n",
    "\n",
    "# YOUR CODE HERE"
   ]
  },
  {
   "cell_type": "code",
   "execution_count": 28,
   "id": "321892e9",
   "metadata": {
    "deletable": false,
    "editable": false,
    "nbgrader": {
     "grade": true,
     "grade_id": "cell-24f27a68d3dcd195",
     "locked": true,
     "points": 0,
     "schema_version": 3,
     "solution": false,
     "task": false
    }
   },
   "outputs": [
    {
     "data": {
      "image/png": "[encoded data removed]",
      "text/plain": [
       "<Figure size 1440x1440 with 49 Axes>"
      ]
     },
     "metadata": {
      "needs_background": "light"
     },
     "output_type": "display_data"
    }
   ],
   "source": [
    "assert all(isinstance(item, int) for item in df_clean['Runtime']), \"Runtime should be saved as integers\" \n",
    "assert all(isinstance(item, float) for item in df_clean['VotesnUS']), \"VotesnUS should be saved as integers\" \n",
    "assert all(isinstance(item, float) for item in df_clean['VotesUS']), \"VotesUS should be saved as integers\" \n",
    "\n",
    "pd.plotting.scatter_matrix(df_clean, figsize=(20,20))\n",
    "plt.show()"
   ]
  },
  {
   "cell_type": "markdown",
   "id": "349b8a99",
   "metadata": {
    "deletable": false,
    "editable": false,
    "nbgrader": {
     "grade": false,
     "grade_id": "cell-ddc782874c5a987a",
     "locked": true,
     "schema_version": 3,
     "solution": false,
     "task": false
    }
   },
   "source": [
    "Uff! That took quite some time, but now we have a clean and tidy dataframe to work with!"
   ]
  },
  {
   "cell_type": "markdown",
   "id": "82902ada",
   "metadata": {
    "deletable": false,
    "editable": false,
    "nbgrader": {
     "grade": false,
     "grade_id": "cell-b3cceed7311b4e1f",
     "locked": true,
     "schema_version": 3,
     "solution": false,
     "task": false
    }
   },
   "source": [
    "## Exercise 3 - Baseline modeling"
   ]
  },
  {
   "cell_type": "markdown",
   "id": "db9f1320",
   "metadata": {
    "deletable": false,
    "editable": false,
    "nbgrader": {
     "grade": false,
     "grade_id": "cell-91d8e0995fb8cfe9",
     "locked": true,
     "schema_version": 3,
     "solution": false,
     "task": false
    }
   },
   "source": [
    "As a data scientist, you will build a lot of models. You will use a variety of algorithms to perform a wide variety of tasks. You will need to use intuition and experience to decide when certain models are appropriate! \n",
    "\n",
    "But when costructing your baseline model, the simpler, the better! \n",
    "\n",
    "Let's start!"
   ]
  },
  {
   "cell_type": "markdown",
   "id": "5a454a96",
   "metadata": {
    "deletable": false,
    "editable": false,
    "nbgrader": {
     "grade": false,
     "grade_id": "cell-5cb59cec192c4d69",
     "locked": true,
     "schema_version": 3,
     "solution": false,
     "task": false
    }
   },
   "source": [
    "### Exercise 3.1 - Separate your target value \n",
    "\n",
    "Separate into `X` and `y` your features and your target. Order the columns in `X` as in exercise 2.2. "
   ]
  },
  {
   "cell_type": "code",
   "execution_count": 29,
   "id": "940e099a",
   "metadata": {
    "deletable": false,
    "nbgrader": {
     "grade": false,
     "grade_id": "cell-c1c072726b679fe8",
     "locked": false,
     "schema_version": 3,
     "solution": true,
     "task": false
    }
   },
   "outputs": [],
   "source": [
    "X = df_clean[['TotalVotes', 'MetaCritic', 'Budget', 'Runtime', 'VotesUS', 'VotesnUS']]\n",
    "y = df_clean['Rating']\n",
    "\n",
    "# YOUR CODE HERE"
   ]
  },
  {
   "cell_type": "code",
   "execution_count": 30,
   "id": "30212e96",
   "metadata": {
    "deletable": false,
    "editable": false,
    "nbgrader": {
     "grade": true,
     "grade_id": "cell-d02011f7f3426b07",
     "locked": true,
     "points": 1,
     "schema_version": 3,
     "solution": false,
     "task": false
    }
   },
   "outputs": [],
   "source": [
    "assert _hash(list(y), 'salt0') == 'a285222c126f8617cd0179da57e9879065213a75', \"Have you picked the right column as the target?\"\n",
    "assert X.shape == (92, 6), \"The shape of the dataframe is different then expected. Have you dropped the target?\"\n",
    "assert _hash(sorted(X.columns), 'salt0') == '91dadf1574a4bf5ac09cbc839a67393502645794', \"Have you included the right columns in X?\""
   ]
  },
  {
   "cell_type": "markdown",
   "id": "d12f74a3",
   "metadata": {
    "deletable": false,
    "editable": false,
    "nbgrader": {
     "grade": false,
     "grade_id": "cell-cbbe2d32e51c944c",
     "locked": true,
     "schema_version": 3,
     "solution": false,
     "task": false
    }
   },
   "source": [
    "### Exercise 3.2 - Scale your data\n",
    "As we're using a linear regression, you should scale your X dataframe. Use `MinMaxScaler`"
   ]
  },
  {
   "cell_type": "code",
   "execution_count": 31,
   "id": "1aab4a81",
   "metadata": {
    "deletable": false,
    "nbgrader": {
     "grade": false,
     "grade_id": "cell-fe58c296cca28681",
     "locked": false,
     "schema_version": 3,
     "solution": true,
     "task": false
    }
   },
   "outputs": [],
   "source": [
    "corr_X = MinMaxScaler().fit_transform(X)\n",
    "\n",
    "# YOUR CODE HERE"
   ]
  },
  {
   "cell_type": "code",
   "execution_count": 32,
   "id": "632e4395",
   "metadata": {
    "deletable": false,
    "editable": false,
    "nbgrader": {
     "grade": true,
     "grade_id": "cell-cc5e79e6d94f3521",
     "locked": true,
     "points": 1,
     "schema_version": 3,
     "solution": false,
     "task": false
    }
   },
   "outputs": [],
   "source": [
    "assert _hash(sorted(corr_X[:,1]), 'salt0') == '1e067622da29527aa7f0ea65f8c60d6eb202dd3a', \"have you used the correct scaler?\"\n"
   ]
  },
  {
   "cell_type": "markdown",
   "id": "3dc49702",
   "metadata": {
    "deletable": false,
    "editable": false,
    "nbgrader": {
     "grade": false,
     "grade_id": "cell-7ad60c0b0b46ef11",
     "locked": true,
     "schema_version": 3,
     "solution": false,
     "task": false
    }
   },
   "source": [
    "### Exercise 3.3 - Split data\n",
    "\n",
    "Split your dataset into test and train data, using `test_size=0.2` on your `train_test_split()`"
   ]
  },
  {
   "cell_type": "code",
   "execution_count": 33,
   "id": "61bdd29d",
   "metadata": {
    "deletable": false,
    "nbgrader": {
     "grade": false,
     "grade_id": "cell-0a59ceb29b6e7a7b",
     "locked": false,
     "schema_version": 3,
     "solution": true,
     "task": false
    }
   },
   "outputs": [],
   "source": [
    "X_train, X_test, y_train, y_test = train_test_split(X, y, test_size=0.2)\n",
    "# YOUR CODE HERE"
   ]
  },
  {
   "cell_type": "code",
   "execution_count": 34,
   "id": "0876dc7d",
   "metadata": {
    "deletable": false,
    "editable": false,
    "nbgrader": {
     "grade": true,
     "grade_id": "cell-eda4965289c315c6",
     "locked": true,
     "points": 1,
     "schema_version": 3,
     "solution": false,
     "task": false
    }
   },
   "outputs": [],
   "source": [
    "assert (X_train.shape, X_test.shape, y_train.shape, y_test.shape) == ((73, 6), (19, 6), (73,), (19,)), \"have you split the data correctly? Test size should be 0.2\""
   ]
  },
  {
   "cell_type": "markdown",
   "id": "a406d6aa",
   "metadata": {
    "deletable": false,
    "editable": false,
    "nbgrader": {
     "grade": false,
     "grade_id": "cell-46502ca5406d2e19",
     "locked": true,
     "schema_version": 3,
     "solution": false,
     "task": false
    }
   },
   "source": [
    "### Exercise 3.4 - Finally! The model!\n",
    "\n",
    "We can finally make our predictions with our Linear Regression! "
   ]
  },
  {
   "cell_type": "code",
   "execution_count": 35,
   "id": "7fd43740",
   "metadata": {
    "deletable": false,
    "nbgrader": {
     "grade": false,
     "grade_id": "cell-6423f554ffdba88d",
     "locked": false,
     "schema_version": 3,
     "solution": true,
     "task": false
    }
   },
   "outputs": [],
   "source": [
    "lm = linear_model.LinearRegression()\n",
    "model = lm.fit(X_train, y_train)\n",
    "predictions = lm.predict(X_test)\n",
    "# YOUR CODE HERE"
   ]
  },
  {
   "cell_type": "code",
   "execution_count": 36,
   "id": "6d54b964",
   "metadata": {
    "deletable": false,
    "editable": false,
    "nbgrader": {
     "grade": true,
     "grade_id": "cell-408ce12cfa728ad1",
     "locked": true,
     "points": 2,
     "schema_version": 3,
     "solution": false,
     "task": false
    }
   },
   "outputs": [
    {
     "data": {
      "image/png": "[encoded data removed]",
      "text/plain": [
       "<Figure size 432x288 with 1 Axes>"
      ]
     },
     "metadata": {
      "needs_background": "light"
     },
     "output_type": "display_data"
    },
    {
     "name": "stdout",
     "output_type": "stream",
     "text": [
      "R-squared Score: 0.9765055944253185\n"
     ]
    }
   ],
   "source": [
    "assert predictions.size == 19\n",
    "plt.scatter(y_test, predictions)\n",
    "plt.xlabel('True y')\n",
    "plt.ylabel('Predicted y')\n",
    "plt.show()\n",
    "\n",
    "print ('R-squared Score:', model.score(X_test, y_test)) "
   ]
  },
  {
   "cell_type": "markdown",
   "id": "13696d98",
   "metadata": {
    "deletable": false,
    "editable": false,
    "nbgrader": {
     "grade": false,
     "grade_id": "cell-92d7a5fdbef2f1a3",
     "locked": true,
     "schema_version": 3,
     "solution": false,
     "task": false
    }
   },
   "source": [
    "Our model is not performing bad at all! If you want to improve it, you should make **small alterations**, **one at a time**! Keeping track of your changes is crucial to know exactly what change is helping or hurting your model! "
   ]
  },
  {
   "cell_type": "markdown",
   "id": "be092b5e",
   "metadata": {
    "deletable": false,
    "editable": false,
    "nbgrader": {
     "grade": false,
     "grade_id": "cell-75dbbef7bea9c43b",
     "locked": true,
     "schema_version": 3,
     "solution": false,
     "task": false
    }
   },
   "source": [
    "## Exercise 4 - Pipelines!!!!! "
   ]
  },
  {
   "cell_type": "markdown",
   "id": "b6eed118",
   "metadata": {
    "deletable": false,
    "editable": false,
    "nbgrader": {
     "grade": false,
     "grade_id": "cell-953febcd52772794",
     "locked": true,
     "schema_version": 3,
     "solution": false,
     "task": false
    }
   },
   "source": [
    "We've already loaded and splitted a dataset for the following exercises. They're stored in the `X_train`, `X_test`, `y_train` and `y_test` variables.\n",
    "\n",
    "In a perfect world, where you have all your data clean and ready-to-go, you can create your pipeline with just Scikit-learn's Transformers. However, in the real world, that's not the case, and you'll need to create custom Transformers to get the job done. Take a look at the data set, what do you see?"
   ]
  },
  {
   "cell_type": "code",
   "execution_count": 37,
   "id": "b11d317e",
   "metadata": {
    "deletable": false,
    "editable": false,
    "nbgrader": {
     "grade": false,
     "grade_id": "cell-a3811573c704e68e",
     "locked": true,
     "schema_version": 3,
     "solution": false,
     "task": false
    }
   },
   "outputs": [],
   "source": [
    "from utils import get_dataset\n",
    "\n",
    "new_X, new_y = get_dataset()  # preloaded dataset\n",
    "new_X_train, new_X_test, new_y_train, new_y_test = train_test_split(new_X, new_y, test_size=0.33)"
   ]
  },
  {
   "cell_type": "code",
   "execution_count": 38,
   "id": "95ce38ba",
   "metadata": {},
   "outputs": [
    {
     "data": {
      "text/plain": [
       "Index(['17', 'leg_1', '7', 'arm_2', '2', '11', '4', '16', '0', '14', '5', '3',\n",
       "       'leg_3', '13', '12', '10', '15', '9', '19', '18', '8', '6', 'arm_0',\n",
       "       '1'],\n",
       "      dtype='object')"
      ]
     },
     "execution_count": 38,
     "metadata": {},
     "output_type": "execute_result"
    }
   ],
   "source": [
    "# something interesting in the data?\n",
    "new_X.columns"
   ]
  },
  {
   "cell_type": "markdown",
   "id": "f926376c",
   "metadata": {
    "deletable": false,
    "editable": false,
    "nbgrader": {
     "grade": false,
     "grade_id": "cell-bab71226281048e5",
     "locked": true,
     "schema_version": 3,
     "solution": false,
     "task": false
    }
   },
   "source": [
    "While crunching your data, you probably found two issues:\n",
    "\n",
    "There are 4 columns whose name starts with either arm or leg which are all filled with gibberish.\n",
    "There are some values missing in some columns.\n",
    "So, first things first, let's get rid of those columns through a **Custom Transformer**, so we can plug it in a Scikit Pipeline after."
   ]
  },
  {
   "cell_type": "markdown",
   "id": "94e89ddb",
   "metadata": {
    "deletable": false,
    "editable": false,
    "nbgrader": {
     "grade": false,
     "grade_id": "cell-c111570451988ca9",
     "locked": true,
     "schema_version": 3,
     "solution": false,
     "task": false
    }
   },
   "source": [
    "### Exercise 4.1 - Custom Transformer"
   ]
  },
  {
   "cell_type": "code",
   "execution_count": 39,
   "id": "376cfb92",
   "metadata": {
    "deletable": false,
    "nbgrader": {
     "grade": false,
     "grade_id": "cell-dc3fa4786483541e",
     "locked": false,
     "schema_version": 3,
     "solution": true,
     "task": false
    }
   },
   "outputs": [],
   "source": [
    "# Create a pipeline step called RemoveLimbs that removes any\n",
    "# column whose name starts with the string 'arm' or ´leg´\n",
    "\n",
    "# YOUR CODE HERE\n",
    "class RemoveLimbs(TransformerMixin):\n",
    "    \n",
    "    def transform(self, X, *_):\n",
    "        return X.drop(['leg_1', 'arm_2', 'leg_3', 'arm_0'], axis=1)\n",
    "    \n",
    "    def fit(self, *_):\n",
    "        return self"
   ]
  },
  {
   "cell_type": "code",
   "execution_count": 40,
   "id": "d68742df",
   "metadata": {
    "deletable": false,
    "editable": false,
    "nbgrader": {
     "grade": true,
     "grade_id": "cell-b91664f72233c2c7",
     "locked": true,
     "points": 3,
     "schema_version": 3,
     "solution": false,
     "task": false
    }
   },
   "outputs": [],
   "source": [
    "assert _hash(sorted(RemoveLimbs().fit_transform(new_X).columns), 'salt5') == '71443dfc3077d773d4c74e958dadf91dc2cc148a'\n",
    "assert _hash(list(map(lambda col: col.startswith('arm') or col.startswith('leg'), RemoveLimbs().fit_transform(new_X_train).columns)), 'salt6') == 'ce45cf3759d2210f2d1315f1673b18f34e3ac711'"
   ]
  },
  {
   "cell_type": "markdown",
   "id": "b4d6b7a6",
   "metadata": {
    "deletable": false,
    "editable": false,
    "nbgrader": {
     "grade": false,
     "grade_id": "cell-57a63eb58da3b85b",
     "locked": true,
     "schema_version": 3,
     "solution": false,
     "task": false
    }
   },
   "source": [
    "### Exercise 4.2 - Pipelines are the best!\n",
    "\n",
    "Now that we have our Custom Transformer in place, we can design our pipeline! \n",
    "\n",
    "Create a pipeline with the following steps:\n",
    "\n",
    "1. Removes limbs columns\n",
    "2. Imputes missing values with the mean\n",
    "3. Has a Random Forest Classifier as the last step\n",
    "\n",
    "You may use `make_pipeline` to create your pipeline with as many steps as you want as long as the first two are the Custom Transformer you developed previously, a `SimpleImputer` as the second step, and a `RandomForestClassifier` as the last step. Save your pipeline into a variable named `pipeline`!"
   ]
  },
  {
   "cell_type": "code",
   "execution_count": 41,
   "id": "3f2502c2",
   "metadata": {
    "deletable": false,
    "nbgrader": {
     "grade": false,
     "grade_id": "cell-178a0f61ec49c4ac",
     "locked": false,
     "schema_version": 3,
     "solution": true,
     "task": false
    }
   },
   "outputs": [],
   "source": [
    "pipeline = make_pipeline(\n",
    "    RemoveLimbs(),\n",
    "    SimpleImputer(strategy='mean'),\n",
    "    RandomForestClassifier()\n",
    ")\n",
    "# YOUR CODE HERE"
   ]
  },
  {
   "cell_type": "code",
   "execution_count": 42,
   "id": "d86f2a3d",
   "metadata": {
    "deletable": false,
    "editable": false,
    "nbgrader": {
     "grade": true,
     "grade_id": "cell-3939f2f56f82f742",
     "locked": true,
     "points": 3,
     "schema_version": 3,
     "solution": false,
     "task": false
    }
   },
   "outputs": [],
   "source": [
    "assert _hash(pipeline.steps[0][0], 'salt7') == '471b02068ac2c4f479c2e9f85f4b3dc2179bb841'\n",
    "assert _hash(pipeline.steps[1][0], 'salt8') == 'ca83eaea1a7e243fa5574cfa6f52831166ee0f32'\n",
    "assert _hash(pipeline.steps[-1][0], 'salt9') == '0d66ba4309ad4939673169e74f87088dcadd510b'"
   ]
  },
  {
   "cell_type": "markdown",
   "id": "b64ba237",
   "metadata": {
    "deletable": false,
    "editable": false,
    "nbgrader": {
     "grade": false,
     "grade_id": "cell-b813e89a08b2880e",
     "locked": true,
     "schema_version": 3,
     "solution": false,
     "task": false
    }
   },
   "source": [
    "Does it work? Let's check it out on our dataset!"
   ]
  },
  {
   "cell_type": "code",
   "execution_count": 43,
   "id": "21ecbaec",
   "metadata": {
    "deletable": false,
    "editable": false,
    "nbgrader": {
     "grade": false,
     "grade_id": "cell-aa9293b40285d113",
     "locked": true,
     "schema_version": 3,
     "solution": false,
     "task": false
    }
   },
   "outputs": [
    {
     "data": {
      "text/plain": [
       "0.9393939393939394"
      ]
     },
     "execution_count": 43,
     "metadata": {},
     "output_type": "execute_result"
    }
   ],
   "source": [
    "pipeline.fit(new_X_train, new_y_train)\n",
    "new_y_pred = pipeline.predict(new_X_test)\n",
    "accuracy_score(new_y_test, new_y_pred)"
   ]
  },
  {
   "cell_type": "markdown",
   "id": "5cb9341e",
   "metadata": {
    "deletable": false,
    "editable": false,
    "nbgrader": {
     "grade": false,
     "grade_id": "cell-20bc44001d7869f9",
     "locked": true,
     "schema_version": 3,
     "solution": false,
     "task": false
    }
   },
   "source": [
    "It doesn't get much cleaner that this, does it?\n",
    "\n",
    "For an extra challenge, Go back to exercises 2 and 3 and follow our workflow but with a Pipeline! For each special processing we've done, you can create a custom transformer for that column! \n",
    "\n",
    "Dominating pipelines and custom transformers can be a huge time saver! And there's the hackathon ahead...\n",
    "\n",
    "**Good luck!**"
   ]
  }
 ],
 "metadata": {
  "kernelspec": {
   "display_name": "Python 3 (ipykernel)",
   "language": "python",
   "name": "python3"
  },
  "language_info": {
   "codemirror_mode": {
    "name": "ipython",
    "version": 3
   },
   "file_extension": ".py",
   "mimetype": "text/x-python",
   "name": "python",
   "nbconvert_exporter": "python",
   "pygments_lexer": "ipython3",
   "version": "3.7.11"
  }
 },
 "nbformat": 4,
 "nbformat_minor": 5
}
