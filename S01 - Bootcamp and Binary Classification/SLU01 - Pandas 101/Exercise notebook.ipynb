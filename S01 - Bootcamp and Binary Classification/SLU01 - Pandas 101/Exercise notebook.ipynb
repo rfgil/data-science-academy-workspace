{
 "cells": [
  {
   "cell_type": "markdown",
   "metadata": {
    "deletable": false,
    "editable": false,
    "nbgrader": {
     "grade": false,
     "grade_id": "cell-da2dce3c3cde2481",
     "locked": true,
     "schema_version": 3,
     "solution": false,
     "task": false
    }
   },
   "source": [
    "# SLU01 - Pandas 101: Exercise notebook"
   ]
  },
  {
   "cell_type": "code",
   "execution_count": 1,
   "metadata": {
    "deletable": false,
    "editable": false,
    "nbgrader": {
     "grade": false,
     "grade_id": "cell-5be461f9535e38ef",
     "locked": true,
     "schema_version": 3,
     "solution": false,
     "task": false
    }
   },
   "outputs": [],
   "source": [
    "# First things first, import:\n",
    "import pandas as pd\n",
    "import numpy as np\n",
    "import hashlib"
   ]
  },
  {
   "cell_type": "markdown",
   "metadata": {
    "deletable": false,
    "editable": false,
    "nbgrader": {
     "grade": false,
     "grade_id": "cell-284c29675c074ad2",
     "locked": true,
     "schema_version": 3,
     "solution": false,
     "task": false
    }
   },
   "source": [
    "- In this notebook the following is tested:\n",
    "\n",
    "    - Creating pandas Series\n",
    "    - Creating pandas DataFrames\n",
    "    - Load a dataset\n",
    "    - Preview a dataframe"
   ]
  },
  {
   "cell_type": "markdown",
   "metadata": {
    "deletable": false,
    "editable": false,
    "nbgrader": {
     "grade": false,
     "grade_id": "cell-d6254039acbcd500",
     "locked": true,
     "schema_version": 3,
     "solution": false,
     "task": false
    }
   },
   "source": [
    "---"
   ]
  },
  {
   "cell_type": "markdown",
   "metadata": {
    "deletable": false,
    "editable": false,
    "nbgrader": {
     "grade": false,
     "grade_id": "cell-271c2a4c67a910b1",
     "locked": true,
     "schema_version": 3,
     "solution": false,
     "task": false
    }
   },
   "source": [
    "## Exercise 1: Series"
   ]
  },
  {
   "cell_type": "markdown",
   "metadata": {
    "deletable": false,
    "editable": false,
    "nbgrader": {
     "grade": false,
     "grade_id": "cell-5df2f4729d57dc2c",
     "locked": true,
     "schema_version": 3,
     "solution": false,
     "task": false
    }
   },
   "source": [
    "### 1.1) Create a pandas Series from a list."
   ]
  },
  {
   "cell_type": "markdown",
   "metadata": {
    "deletable": false,
    "editable": false,
    "nbgrader": {
     "grade": false,
     "grade_id": "cell-698c87018adbfca5",
     "locked": true,
     "schema_version": 3,
     "solution": false,
     "task": false
    }
   },
   "source": [
    "Create a list with the names of the items given in the cell below. Then create a series using that list, using the order provided.\n",
    "\n",
    "Note: Let pandas generate the index on its own. Also, don't forget to delete the raise error!"
   ]
  },
  {
   "cell_type": "code",
   "execution_count": 2,
   "metadata": {
    "deletable": false,
    "nbgrader": {
     "grade": false,
     "grade_id": "cell-d0be99db1c88ce43",
     "locked": false,
     "schema_version": 3,
     "solution": true,
     "task": false
    }
   },
   "outputs": [],
   "source": [
    "# items (each of type string): coffee, tea, beef, apple\n",
    "# items_list = ...\n",
    "\n",
    "# Create a series with the items above, and call it items_series\n",
    "# items_series = ...\n",
    "\n",
    "items_list = [\"coffee\", \"tea\", \"beef\", \"apple\"]\n",
    "items_series = pd.Series(items_list)"
   ]
  },
  {
   "cell_type": "code",
   "execution_count": 3,
   "metadata": {
    "deletable": false,
    "editable": false,
    "nbgrader": {
     "grade": false,
     "grade_id": "cell-5f8266a7e866c326",
     "locked": true,
     "schema_version": 3,
     "solution": false,
     "task": false
    }
   },
   "outputs": [
    {
     "data": {
      "text/plain": [
       "0    coffee\n",
       "1       tea\n",
       "2      beef\n",
       "3     apple\n",
       "dtype: object"
      ]
     },
     "execution_count": 3,
     "metadata": {},
     "output_type": "execute_result"
    }
   ],
   "source": [
    "# run this cell to see the results \n",
    "items_series"
   ]
  },
  {
   "cell_type": "code",
   "execution_count": 4,
   "metadata": {
    "deletable": false,
    "editable": false,
    "nbgrader": {
     "grade": true,
     "grade_id": "cell-0344c841b5dac488",
     "locked": true,
     "points": 2,
     "schema_version": 3,
     "solution": false,
     "task": false
    }
   },
   "outputs": [],
   "source": [
    "assert(isinstance(items_list, list)), \"The data structure used is not the correct one.\"\n",
    "assert(isinstance(items_list[0], str)), \"The items inside the list should be of type string.\"\n",
    "assert(len(items_series) == 4), \"The length of the list is not correct.\"\n",
    "assert(sum([x == y for x, y in zip(items_list, items_series.values.tolist())]) == 4), \"The items don't seem correct.\"\n",
    "assert(np.equal(items_series.index.to_numpy(), np.arange(0, 4)).sum() == 4), \"The items don't seem correct.\""
   ]
  },
  {
   "cell_type": "markdown",
   "metadata": {
    "deletable": false,
    "editable": false,
    "nbgrader": {
     "grade": false,
     "grade_id": "cell-c90b1f8712d3b59c",
     "locked": true,
     "schema_version": 3,
     "solution": false,
     "task": false
    }
   },
   "source": [
    "### 1.2) Virtual use of water"
   ]
  },
  {
   "cell_type": "markdown",
   "metadata": {
    "deletable": false,
    "editable": false,
    "nbgrader": {
     "grade": false,
     "grade_id": "cell-3087c1871ca920e9",
     "locked": true,
     "schema_version": 3,
     "solution": false,
     "task": false
    }
   },
   "source": [
    "Let's now use the `items_list` as index and build a series containing the virtual use of water per item (this is, the gallons of water used to produce each item)."
   ]
  },
  {
   "cell_type": "code",
   "execution_count": 5,
   "metadata": {
    "deletable": false,
    "editable": false,
    "nbgrader": {
     "grade": false,
     "grade_id": "cell-28516449982ab767",
     "locked": true,
     "schema_version": 3,
     "solution": false,
     "task": false
    }
   },
   "outputs": [],
   "source": [
    "# RUN THIS CELL FIRST\n",
    "# Data on virtual use of water per item (in gallons)\n",
    "water_used = np.array([37, 9, 1500, 18])"
   ]
  },
  {
   "cell_type": "code",
   "execution_count": 6,
   "metadata": {
    "deletable": false,
    "nbgrader": {
     "grade": false,
     "grade_id": "cell-2d2283c13fa0600e",
     "locked": false,
     "schema_version": 3,
     "solution": true,
     "task": false
    }
   },
   "outputs": [],
   "source": [
    "# Create a series which has the items_list (created on exercise 1.1) as index, \n",
    "# and the respective water_used given on the cell above as values.\n",
    "# virtual_water = ...\n",
    "\n",
    "virtual_water = pd.Series(data=water_used, index=items_list)\n"
   ]
  },
  {
   "cell_type": "code",
   "execution_count": 7,
   "metadata": {
    "deletable": false,
    "editable": false,
    "nbgrader": {
     "grade": false,
     "grade_id": "cell-350b5e2353446f9f",
     "locked": true,
     "schema_version": 3,
     "solution": false,
     "task": false
    }
   },
   "outputs": [
    {
     "data": {
      "text/plain": [
       "coffee      37\n",
       "tea          9\n",
       "beef      1500\n",
       "apple       18\n",
       "dtype: int64"
      ]
     },
     "execution_count": 7,
     "metadata": {},
     "output_type": "execute_result"
    }
   ],
   "source": [
    "# run this cell to see the results \n",
    "virtual_water"
   ]
  },
  {
   "cell_type": "code",
   "execution_count": 8,
   "metadata": {
    "deletable": false,
    "editable": false,
    "nbgrader": {
     "grade": true,
     "grade_id": "cell-096e084aeb31ba69",
     "locked": true,
     "points": 2,
     "schema_version": 3,
     "solution": false,
     "task": false
    }
   },
   "outputs": [],
   "source": [
    "assert (isinstance(virtual_water, pd.Series)), \"virtual_water is not a series.\"\n",
    "assert(len(virtual_water==4)), \"The length of virtual_water is not correct.\"\n",
    "assert(virtual_water[-3] == 9), 'Something is wrong with the values of the series. Did you use water_used?'\n",
    "assert(virtual_water.index[1] == 'tea'), 'The order of the index is not correct.'"
   ]
  },
  {
   "cell_type": "markdown",
   "metadata": {
    "deletable": false,
    "editable": false,
    "nbgrader": {
     "grade": false,
     "grade_id": "cell-f1ceac100057579f",
     "locked": true,
     "schema_version": 3,
     "solution": false,
     "task": false
    }
   },
   "source": [
    "Cool! In 1 exercise you've learned 2 things:\n",
    "- that a pandas Series can be built using several data structures, such as lists or numpy arrays;\n",
    "- that if you want to reduce your water footprint, you should drink tea instead of coffee, and become vegan.\n",
    "\n",
    "😃"
   ]
  },
  {
   "cell_type": "markdown",
   "metadata": {
    "deletable": false,
    "editable": false,
    "nbgrader": {
     "grade": false,
     "grade_id": "cell-cc6822221f5c3f58",
     "locked": true,
     "schema_version": 3,
     "solution": false,
     "task": false
    }
   },
   "source": [
    "---"
   ]
  },
  {
   "cell_type": "markdown",
   "metadata": {
    "deletable": false,
    "editable": false,
    "nbgrader": {
     "grade": false,
     "grade_id": "cell-fd427a357cc3cf29",
     "locked": true,
     "schema_version": 3,
     "solution": false,
     "task": false
    }
   },
   "source": [
    "## Exercise 2: DataFrames\n",
    "\n",
    "In this exercise the goal is to create a simple DataFrame, from several data structures."
   ]
  },
  {
   "cell_type": "code",
   "execution_count": 9,
   "metadata": {
    "deletable": false,
    "editable": false,
    "nbgrader": {
     "grade": false,
     "grade_id": "cell-47e3f0e9ade0d953",
     "locked": true,
     "schema_version": 3,
     "solution": false,
     "task": false
    },
    "scrolled": true
   },
   "outputs": [],
   "source": [
    "# RUN THIS CELL FIRST\n",
    "# this is the data you'll use to fill each column of your dataframe\n",
    "emojis = ['Face with Tears of Joy', 'Loudly Crying Face', 'Pleading Face', 'Red Heart']\n",
    "search_engines = np.array(['Google', 'Bing', 'Yahoo!', 'Baidu'])\n",
    "social_network = ['Facebook', 'YouTube', 'WhatsApp', 'Facebook Messenger']\n",
    "social_network_active_users = [2740000000, 2291000000, 2000000000, 1300000000]"
   ]
  },
  {
   "cell_type": "code",
   "execution_count": 10,
   "metadata": {
    "deletable": false,
    "nbgrader": {
     "grade": false,
     "grade_id": "cell-b5c9767e3556cd9b",
     "locked": false,
     "schema_version": 3,
     "solution": true,
     "task": false
    },
    "scrolled": true
   },
   "outputs": [],
   "source": [
    "# Add the data from emojis, search_engines, social_network and social_network_active_users to a dictionary \n",
    "#  called most_popular_2020_dictionary:\n",
    "#    - use the 4 variables created in the cell above to fill the data for each key\n",
    "#    - each key should be a string containing the name of the corresponding variable\n",
    "# most_popular_2020_dictionary = ...\n",
    "\n",
    "most_popular_2020_dictionary = {\n",
    "    'emojis': emojis,\n",
    "    'search_engines': search_engines,\n",
    "    'social_network': social_network, \n",
    "    'social_network_active_users': social_network_active_users\n",
    "}\n",
    "\n",
    "# Create a dataframe called most_popular_2020\n",
    "#   - Set an index with the values 'first', 'second', 'third', 'fourth'\n",
    "#   - Use the dictionary created above to populate the dataframe\n",
    "# most_popular_2020 = ...\n",
    "\n",
    "most_popular_2020 = pd.DataFrame.from_records(\n",
    "    data = most_popular_2020_dictionary, \n",
    "    index = ['first', 'second', 'third', 'fourth'])"
   ]
  },
  {
   "cell_type": "code",
   "execution_count": 11,
   "metadata": {},
   "outputs": [
    {
     "data": {
      "text/html": [
       "<div>\n",
       "<style scoped>\n",
       "    .dataframe tbody tr th:only-of-type {\n",
       "        vertical-align: middle;\n",
       "    }\n",
       "\n",
       "    .dataframe tbody tr th {\n",
       "        vertical-align: top;\n",
       "    }\n",
       "\n",
       "    .dataframe thead th {\n",
       "        text-align: right;\n",
       "    }\n",
       "</style>\n",
       "<table border=\"1\" class=\"dataframe\">\n",
       "  <thead>\n",
       "    <tr style=\"text-align: right;\">\n",
       "      <th></th>\n",
       "      <th>emojis</th>\n",
       "      <th>search_engines</th>\n",
       "      <th>social_network</th>\n",
       "      <th>social_network_active_users</th>\n",
       "    </tr>\n",
       "  </thead>\n",
       "  <tbody>\n",
       "    <tr>\n",
       "      <th>first</th>\n",
       "      <td>Face with Tears of Joy</td>\n",
       "      <td>Google</td>\n",
       "      <td>Facebook</td>\n",
       "      <td>2740000000</td>\n",
       "    </tr>\n",
       "    <tr>\n",
       "      <th>second</th>\n",
       "      <td>Loudly Crying Face</td>\n",
       "      <td>Bing</td>\n",
       "      <td>YouTube</td>\n",
       "      <td>2291000000</td>\n",
       "    </tr>\n",
       "    <tr>\n",
       "      <th>third</th>\n",
       "      <td>Pleading Face</td>\n",
       "      <td>Yahoo!</td>\n",
       "      <td>WhatsApp</td>\n",
       "      <td>2000000000</td>\n",
       "    </tr>\n",
       "    <tr>\n",
       "      <th>fourth</th>\n",
       "      <td>Red Heart</td>\n",
       "      <td>Baidu</td>\n",
       "      <td>Facebook Messenger</td>\n",
       "      <td>1300000000</td>\n",
       "    </tr>\n",
       "  </tbody>\n",
       "</table>\n",
       "</div>"
      ],
      "text/plain": [
       "                        emojis search_engines      social_network  \\\n",
       "first   Face with Tears of Joy         Google            Facebook   \n",
       "second      Loudly Crying Face           Bing             YouTube   \n",
       "third            Pleading Face         Yahoo!            WhatsApp   \n",
       "fourth               Red Heart          Baidu  Facebook Messenger   \n",
       "\n",
       "        social_network_active_users  \n",
       "first                    2740000000  \n",
       "second                   2291000000  \n",
       "third                    2000000000  \n",
       "fourth                   1300000000  "
      ]
     },
     "execution_count": 11,
     "metadata": {},
     "output_type": "execute_result"
    }
   ],
   "source": [
    "# check your dataframe\n",
    "most_popular_2020"
   ]
  },
  {
   "cell_type": "code",
   "execution_count": 12,
   "metadata": {
    "deletable": false,
    "editable": false,
    "nbgrader": {
     "grade": true,
     "grade_id": "cell-a4ab78569f17b22b",
     "locked": true,
     "points": 3,
     "schema_version": 3,
     "solution": false,
     "task": false
    }
   },
   "outputs": [],
   "source": [
    "assert(isinstance(most_popular_2020, pd.DataFrame)), 'most_popular_2020 is not a DataFrame'\n",
    "assert(isinstance(most_popular_2020_dictionary,dict)), 'Something is wrong! most_popular_2020_dictionary is not a dictionary.'\n",
    "assert(most_popular_2020['emojis'].tolist()==emojis), \"The emojis column doesn't look right.\"\n",
    "assert(most_popular_2020['search_engines'].tolist()==list(search_engines)), \"The search_engines column doesn't look right.\"\n",
    "assert(most_popular_2020['social_network'].tolist()==social_network), \"The social_network column doesn't look right.\"\n",
    "assert(most_popular_2020.shape == (4, 4)), 'The size of the dataframe is not correct.'\n",
    "assert(most_popular_2020.index.tolist() != ('first', 'second', 'third', 'fourth')), 'The index is not correct. Reread the instructions.'"
   ]
  },
  {
   "cell_type": "markdown",
   "metadata": {
    "deletable": false,
    "editable": false,
    "nbgrader": {
     "grade": false,
     "grade_id": "cell-b1965fc7d0c39dc7",
     "locked": true,
     "schema_version": 3,
     "solution": false,
     "task": false
    }
   },
   "source": [
    "---"
   ]
  },
  {
   "cell_type": "markdown",
   "metadata": {
    "deletable": false,
    "editable": false,
    "nbgrader": {
     "grade": false,
     "grade_id": "cell-a9be7d364fff8062",
     "locked": true,
     "schema_version": 3,
     "solution": false,
     "task": false
    }
   },
   "source": [
    "## Exercise 3: Files and dataframes"
   ]
  },
  {
   "cell_type": "markdown",
   "metadata": {
    "deletable": false,
    "editable": false,
    "nbgrader": {
     "grade": false,
     "grade_id": "cell-b539b29d4bf9bbdf",
     "locked": true,
     "schema_version": 3,
     "solution": false,
     "task": false
    }
   },
   "source": [
    "Let's load a dataset with r/VaccineMyths subreddit posts and comments.\n",
    "\n",
    "---\n",
    "\n",
    "The dataset we're going to load is a subset from a Kaggle dataset available [here](https://www.kaggle.com/gpreda/reddit-vaccine-myths)."
   ]
  },
  {
   "cell_type": "markdown",
   "metadata": {
    "deletable": false,
    "editable": false,
    "nbgrader": {
     "grade": false,
     "grade_id": "cell-9ac81a8856756298",
     "locked": true,
     "schema_version": 3,
     "solution": false,
     "task": false
    }
   },
   "source": [
    "### 3.1) Load a dataset into `vaccine_myths` dataframe"
   ]
  },
  {
   "cell_type": "code",
   "execution_count": 13,
   "metadata": {
    "deletable": false,
    "nbgrader": {
     "grade": false,
     "grade_id": "cell-6f209833953ab9cf",
     "locked": false,
     "schema_version": 3,
     "solution": true,
     "task": false
    }
   },
   "outputs": [],
   "source": [
    "# Load the dataset, which is located at data/reddit_vm.json\n",
    "# Notice that the file is of JSON format. How can you read the file in pandas?\n",
    "# (recheck the learning notebook if you get stuck, the answer is there)\n",
    "# NOTE: don't use any additional arguments other than the filepath. We want to load the file as is.\n",
    "# vaccine_myths = ...\n",
    "\n",
    "# YOUR CODE HERE\n",
    "\n",
    "vaccine_myths = pd.read_json(\"data/reddit_vm.json\")\n",
    "\n",
    "# YOUR CODE HERE"
   ]
  },
  {
   "cell_type": "code",
   "execution_count": 14,
   "metadata": {
    "deletable": false,
    "editable": false,
    "nbgrader": {
     "grade": false,
     "grade_id": "cell-5b36486d3ce89890",
     "locked": true,
     "schema_version": 3,
     "solution": false,
     "task": false
    }
   },
   "outputs": [
    {
     "data": {
      "text/html": [
       "<div>\n",
       "<style scoped>\n",
       "    .dataframe tbody tr th:only-of-type {\n",
       "        vertical-align: middle;\n",
       "    }\n",
       "\n",
       "    .dataframe tbody tr th {\n",
       "        vertical-align: top;\n",
       "    }\n",
       "\n",
       "    .dataframe thead th {\n",
       "        text-align: right;\n",
       "    }\n",
       "</style>\n",
       "<table border=\"1\" class=\"dataframe\">\n",
       "  <thead>\n",
       "    <tr style=\"text-align: right;\">\n",
       "      <th></th>\n",
       "      <th>t</th>\n",
       "      <th>s</th>\n",
       "      <th>u</th>\n",
       "      <th>comms_num</th>\n",
       "      <th>created</th>\n",
       "    </tr>\n",
       "  </thead>\n",
       "  <tbody>\n",
       "    <tr>\n",
       "      <th>lt74vw</th>\n",
       "      <td>Health Canada approves AstraZeneca COVID-19 va...</td>\n",
       "      <td>7</td>\n",
       "      <td>https://www.canadaforums.ca/2021/02/health-can...</td>\n",
       "      <td>0</td>\n",
       "      <td>1614400425</td>\n",
       "    </tr>\n",
       "    <tr>\n",
       "      <th>lsh0ij</th>\n",
       "      <td>COVID-19 in Canada: 'Vaccination passports' a ...</td>\n",
       "      <td>2</td>\n",
       "      <td>https://www.canadaforums.ca/2021/02/covid-19-i...</td>\n",
       "      <td>1</td>\n",
       "      <td>1614316267</td>\n",
       "    </tr>\n",
       "    <tr>\n",
       "      <th>lohlle</th>\n",
       "      <td>Coronavirus variants could fuel Canada's third...</td>\n",
       "      <td>6</td>\n",
       "      <td>https://www.canadaforums.ca/2021/02/coronaviru...</td>\n",
       "      <td>0</td>\n",
       "      <td>1613886608</td>\n",
       "    </tr>\n",
       "    <tr>\n",
       "      <th>lnptv8</th>\n",
       "      <td>Canadian government to extend COVID-19 emergen...</td>\n",
       "      <td>1</td>\n",
       "      <td>https://www.canadaforums.ca/2021/02/canadian-g...</td>\n",
       "      <td>0</td>\n",
       "      <td>1613795713</td>\n",
       "    </tr>\n",
       "    <tr>\n",
       "      <th>lkslm6</th>\n",
       "      <td>Canada: Pfizer is 'extremely committed' to mee...</td>\n",
       "      <td>6</td>\n",
       "      <td>https://www.canadaforums.ca/2021/02/canada-pfi...</td>\n",
       "      <td>0</td>\n",
       "      <td>1613468188</td>\n",
       "    </tr>\n",
       "  </tbody>\n",
       "</table>\n",
       "</div>"
      ],
      "text/plain": [
       "                                                        t  s  \\\n",
       "lt74vw  Health Canada approves AstraZeneca COVID-19 va...  7   \n",
       "lsh0ij  COVID-19 in Canada: 'Vaccination passports' a ...  2   \n",
       "lohlle  Coronavirus variants could fuel Canada's third...  6   \n",
       "lnptv8  Canadian government to extend COVID-19 emergen...  1   \n",
       "lkslm6  Canada: Pfizer is 'extremely committed' to mee...  6   \n",
       "\n",
       "                                                        u  comms_num  \\\n",
       "lt74vw  https://www.canadaforums.ca/2021/02/health-can...          0   \n",
       "lsh0ij  https://www.canadaforums.ca/2021/02/covid-19-i...          1   \n",
       "lohlle  https://www.canadaforums.ca/2021/02/coronaviru...          0   \n",
       "lnptv8  https://www.canadaforums.ca/2021/02/canadian-g...          0   \n",
       "lkslm6  https://www.canadaforums.ca/2021/02/canada-pfi...          0   \n",
       "\n",
       "           created  \n",
       "lt74vw  1614400425  \n",
       "lsh0ij  1614316267  \n",
       "lohlle  1613886608  \n",
       "lnptv8  1613795713  \n",
       "lkslm6  1613468188  "
      ]
     },
     "execution_count": 14,
     "metadata": {},
     "output_type": "execute_result"
    }
   ],
   "source": [
    "# print head it to get an idea of what you've just loaded \n",
    "vaccine_myths.head()"
   ]
  },
  {
   "cell_type": "code",
   "execution_count": 15,
   "metadata": {
    "deletable": false,
    "editable": false,
    "nbgrader": {
     "grade": true,
     "grade_id": "cell-a08b45d8b2814c8f",
     "locked": true,
     "points": 1,
     "schema_version": 3,
     "solution": false,
     "task": false
    }
   },
   "outputs": [],
   "source": [
    "assert(isinstance(vaccine_myths, pd.DataFrame)), \"Something is wrong. vaccine_myths does not look like a dataframe.\"\n",
    "assert(vaccine_myths.shape == (554, 5)), \"The shape is not correct. Did you follow all the instructions in the comments?\"\n",
    "assert(sum(vaccine_myths.columns == ['t', 's', 'u', 'comms_num', 'created']) == 5), \"The columns don't look right.\"\n",
    "assert(vaccine_myths.index[3] == 'lnptv8' and vaccine_myths.index[552] == '1v3blj'), \"The index looks wrong.\"\n",
    "assert(vaccine_myths.t[5] == 'Canada: Oxford-AstraZeneca vaccine approval expected this week'), \"Something is wrong. Did you follow all the instructions in the comments?\"\n",
    "assert(vaccine_myths.s.sum() == 4274), \"Something is wrong. Did you follow all the instructions in the comments?\"\n",
    "assert(vaccine_myths.comms_num.max() == 596), \"Something is wrong. Did you follow all the instructions in the comments?\"\n",
    "assert(vaccine_myths.u[446] == 'http://www.activistpost.com/2014/03/hands-off-our-vaccine-exemptions.html'), \"Something is wrong. Did you follow all the instructions in the comments?\""
   ]
  },
  {
   "cell_type": "markdown",
   "metadata": {
    "deletable": false,
    "editable": false,
    "nbgrader": {
     "grade": false,
     "grade_id": "cell-e48d5b6749cf42b8",
     "locked": true,
     "schema_version": 3,
     "solution": false,
     "task": false
    }
   },
   "source": [
    "### 3.2) Load a dataset, but this time better"
   ]
  },
  {
   "cell_type": "markdown",
   "metadata": {
    "deletable": false,
    "editable": false,
    "nbgrader": {
     "grade": false,
     "grade_id": "cell-6248e95f4b1a33b7",
     "locked": true,
     "schema_version": 3,
     "solution": false,
     "task": false
    }
   },
   "source": [
    "Notice how we have 5 columns named `'t'`, `'s'`, `'u'`, `'comms_num'` and `'created'` in our dataframe `vaccine_myths`?\n",
    "\n",
    "This is not very useful to someone looking at the data. Instead we want to load the dataset with the following column names:\n",
    "- `'title'` - relevant for posts\n",
    "- `'score'` - relevant for posts - based on impact, number of comments\n",
    "- `'url'` - relevant for posts - url of post thread\n",
    "\n",
    "And leave the last 2 columns as are:\n",
    "- `'comms_num'` - relevant for post - number of comments to this post (same name as before)\n",
    "- `'created'` - date of creation in seconds since epoch (same name as before)"
   ]
  },
  {
   "cell_type": "code",
   "execution_count": 16,
   "metadata": {
    "deletable": false,
    "nbgrader": {
     "grade": false,
     "grade_id": "cell-8e15e2392133ead5",
     "locked": false,
     "schema_version": 3,
     "solution": true,
     "task": false
    }
   },
   "outputs": [],
   "source": [
    "# Load the file at 'data/vaccine_myths_100.csv' into a dataframe (notice now the file is a CSV !!)\n",
    "#   - set the column names as 'title', 'score', 'url', 'comms_num' and 'created', in this order\n",
    "#   - make sure pandas uses the first row as header !!\n",
    "# You will need to check the documentation at https://pandas.pydata.org/pandas-docs/stable/reference/api/pandas.read_csv.html, to see how you can do this.\n",
    "# vaccine_myths_100 = ...\n",
    "\n",
    "\n",
    "# YOUR CODE HERE\n",
    "\n",
    "vaccine_myths_100 = pd.read_csv(\n",
    "    filepath_or_buffer = \"data/vaccine_myths_100.csv\",\n",
    "    header = 0,\n",
    "    names = ['title', 'score', 'url','comms_num','created']\n",
    ")\n",
    "\n",
    "# YOUR CODE HERE"
   ]
  },
  {
   "cell_type": "code",
   "execution_count": 17,
   "metadata": {
    "deletable": false,
    "editable": false,
    "nbgrader": {
     "grade": false,
     "grade_id": "cell-81403c2cff465367",
     "locked": true,
     "schema_version": 3,
     "solution": false,
     "task": false
    }
   },
   "outputs": [
    {
     "data": {
      "text/html": [
       "<div>\n",
       "<style scoped>\n",
       "    .dataframe tbody tr th:only-of-type {\n",
       "        vertical-align: middle;\n",
       "    }\n",
       "\n",
       "    .dataframe tbody tr th {\n",
       "        vertical-align: top;\n",
       "    }\n",
       "\n",
       "    .dataframe thead th {\n",
       "        text-align: right;\n",
       "    }\n",
       "</style>\n",
       "<table border=\"1\" class=\"dataframe\">\n",
       "  <thead>\n",
       "    <tr style=\"text-align: right;\">\n",
       "      <th></th>\n",
       "      <th>title</th>\n",
       "      <th>score</th>\n",
       "      <th>url</th>\n",
       "      <th>comms_num</th>\n",
       "      <th>created</th>\n",
       "    </tr>\n",
       "  </thead>\n",
       "  <tbody>\n",
       "    <tr>\n",
       "      <th>lt74vw</th>\n",
       "      <td>Health Canada approves AstraZeneca COVID-19 va...</td>\n",
       "      <td>7</td>\n",
       "      <td>https://www.canadaforums.ca/2021/02/health-can...</td>\n",
       "      <td>0</td>\n",
       "      <td>1614400425</td>\n",
       "    </tr>\n",
       "    <tr>\n",
       "      <th>lsh0ij</th>\n",
       "      <td>COVID-19 in Canada: 'Vaccination passports' a ...</td>\n",
       "      <td>2</td>\n",
       "      <td>https://www.canadaforums.ca/2021/02/covid-19-i...</td>\n",
       "      <td>1</td>\n",
       "      <td>1614316267</td>\n",
       "    </tr>\n",
       "    <tr>\n",
       "      <th>lohlle</th>\n",
       "      <td>Coronavirus variants could fuel Canada's third...</td>\n",
       "      <td>6</td>\n",
       "      <td>https://www.canadaforums.ca/2021/02/coronaviru...</td>\n",
       "      <td>0</td>\n",
       "      <td>1613886608</td>\n",
       "    </tr>\n",
       "    <tr>\n",
       "      <th>lnptv8</th>\n",
       "      <td>Canadian government to extend COVID-19 emergen...</td>\n",
       "      <td>1</td>\n",
       "      <td>https://www.canadaforums.ca/2021/02/canadian-g...</td>\n",
       "      <td>0</td>\n",
       "      <td>1613795713</td>\n",
       "    </tr>\n",
       "    <tr>\n",
       "      <th>lkslm6</th>\n",
       "      <td>Canada: Pfizer is 'extremely committed' to mee...</td>\n",
       "      <td>6</td>\n",
       "      <td>https://www.canadaforums.ca/2021/02/canada-pfi...</td>\n",
       "      <td>0</td>\n",
       "      <td>1613468188</td>\n",
       "    </tr>\n",
       "  </tbody>\n",
       "</table>\n",
       "</div>"
      ],
      "text/plain": [
       "                                                    title  score  \\\n",
       "lt74vw  Health Canada approves AstraZeneca COVID-19 va...      7   \n",
       "lsh0ij  COVID-19 in Canada: 'Vaccination passports' a ...      2   \n",
       "lohlle  Coronavirus variants could fuel Canada's third...      6   \n",
       "lnptv8  Canadian government to extend COVID-19 emergen...      1   \n",
       "lkslm6  Canada: Pfizer is 'extremely committed' to mee...      6   \n",
       "\n",
       "                                                      url  comms_num  \\\n",
       "lt74vw  https://www.canadaforums.ca/2021/02/health-can...          0   \n",
       "lsh0ij  https://www.canadaforums.ca/2021/02/covid-19-i...          1   \n",
       "lohlle  https://www.canadaforums.ca/2021/02/coronaviru...          0   \n",
       "lnptv8  https://www.canadaforums.ca/2021/02/canadian-g...          0   \n",
       "lkslm6  https://www.canadaforums.ca/2021/02/canada-pfi...          0   \n",
       "\n",
       "           created  \n",
       "lt74vw  1614400425  \n",
       "lsh0ij  1614316267  \n",
       "lohlle  1613886608  \n",
       "lnptv8  1613795713  \n",
       "lkslm6  1613468188  "
      ]
     },
     "execution_count": 17,
     "metadata": {},
     "output_type": "execute_result"
    }
   ],
   "source": [
    "# print head it to get an idea of what you've just loaded \n",
    "vaccine_myths_100.head()"
   ]
  },
  {
   "cell_type": "code",
   "execution_count": 18,
   "metadata": {
    "deletable": false,
    "editable": false,
    "nbgrader": {
     "grade": true,
     "grade_id": "cell-4457e5154efddfdf",
     "locked": true,
     "points": 2,
     "schema_version": 3,
     "solution": false,
     "task": false
    }
   },
   "outputs": [],
   "source": [
    "assert(isinstance(vaccine_myths_100, pd.DataFrame)), \"Something is wrong. vaccine_myths does not look like a dataframe.\"\n",
    "assert(vaccine_myths_100.shape == (100, 5)), \"The shape is not correct. Did you follow all the instructions in the comments?\"\n",
    "assert(vaccine_myths_100.shape != (101, 5)), \"Something is wrowg. You have 1 more row than expected. Hint: Did you tell pandas to use the 1st row as header?\"\n",
    "assert(sum(vaccine_myths_100.columns != ['t', 's', 'u', 'comms_num', 'created']) == 3), \"Don't forget to tell pandas the new column names.\"\n",
    "assert(vaccine_myths_100.index[3] == 'lnptv8' and vaccine_myths.index[552] == '1v3blj'), \"The index looks wrong.\"\n",
    "assert(vaccine_myths_100.title[5] == 'Canada: Oxford-AstraZeneca vaccine approval expected this week'), \"Something is wrong. Did you follow all the instructions in the comments?\"\n",
    "assert(vaccine_myths_100.score.sum() == 179), \"Something is wrong. Did you follow all the instructions in the comments?\"\n",
    "assert(vaccine_myths_100.comms_num.max() == 8), \"Something is wrong. Did you follow all the instructions in the comments?\"\n",
    "assert(vaccine_myths_100.loc['e83687'].url == 'https://www.facebook.com/groups/445000352804849/?ref=share'), \"Something is wrong. Did you follow all the instructions in the comments?\""
   ]
  },
  {
   "cell_type": "markdown",
   "metadata": {
    "deletable": false,
    "editable": false,
    "nbgrader": {
     "grade": false,
     "grade_id": "cell-5382c8790be3fea8",
     "locked": true,
     "schema_version": 3,
     "solution": false,
     "task": false
    }
   },
   "source": [
    "### 3.3) Preview the last 7 entries of `vaccine_myths_100`"
   ]
  },
  {
   "cell_type": "code",
   "execution_count": 19,
   "metadata": {
    "deletable": false,
    "nbgrader": {
     "grade": false,
     "grade_id": "cell-84111368d39ecdb5",
     "locked": false,
     "schema_version": 3,
     "solution": true,
     "task": false
    }
   },
   "outputs": [],
   "source": [
    "# Store the last 7 entries of vaccine_myths_100\n",
    "# in a new dataframe called last_seven\n",
    "# Use a method you learned in the learning notebook to select the last n rows of a dataframe\n",
    "# last_seven = ...\n",
    "\n",
    "# YOUR CODE HERE\n",
    "\n",
    "last_seven = pd.DataFrame.from_records(data = vaccine_myths_100.tail(n=7))\n",
    "\n",
    "# YOUR CODE HERE"
   ]
  },
  {
   "cell_type": "code",
   "execution_count": 20,
   "metadata": {
    "deletable": false,
    "editable": false,
    "nbgrader": {
     "grade": true,
     "grade_id": "cell-5354f5e7e9461336",
     "locked": true,
     "points": 1,
     "schema_version": 3,
     "solution": false,
     "task": false
    }
   },
   "outputs": [],
   "source": [
    "assert(last_seven.shape[0] == 7), \"The number of rows does not look right. You need to take the last 7 rows.\"\n",
    "assert(last_seven.shape[1] == 5), \"The number of columns does not look right. All 5 columns should be kept.\"\n",
    "assert(last_seven.iloc[2].title == 'A vaccine debate group juts started up. If you’re interested in joining.'), \"Something is wrong. Reread the instructions and try again.\""
   ]
  },
  {
   "cell_type": "markdown",
   "metadata": {
    "deletable": false,
    "editable": false,
    "nbgrader": {
     "grade": false,
     "grade_id": "cell-54a30579d70bf53c",
     "locked": true,
     "schema_version": 3,
     "solution": false,
     "task": false
    }
   },
   "source": [
    "### 3.4) Get general information about a dataframe"
   ]
  },
  {
   "cell_type": "markdown",
   "metadata": {
    "deletable": false,
    "editable": false,
    "nbgrader": {
     "grade": false,
     "grade_id": "cell-dc1cde8faa7fb27a",
     "locked": true,
     "schema_version": 3,
     "solution": false,
     "task": false
    }
   },
   "source": [
    "Let's load [a new dataset](https://www.kaggle.com/crawford/80-cereals), this one is for the cereals lovers:"
   ]
  },
  {
   "cell_type": "code",
   "execution_count": 21,
   "metadata": {
    "deletable": false,
    "editable": false,
    "nbgrader": {
     "grade": false,
     "grade_id": "cell-6f1d014f06e586ef",
     "locked": true,
     "schema_version": 3,
     "solution": false,
     "task": false
    }
   },
   "outputs": [
    {
     "data": {
      "text/html": [
       "<div>\n",
       "<style scoped>\n",
       "    .dataframe tbody tr th:only-of-type {\n",
       "        vertical-align: middle;\n",
       "    }\n",
       "\n",
       "    .dataframe tbody tr th {\n",
       "        vertical-align: top;\n",
       "    }\n",
       "\n",
       "    .dataframe thead th {\n",
       "        text-align: right;\n",
       "    }\n",
       "</style>\n",
       "<table border=\"1\" class=\"dataframe\">\n",
       "  <thead>\n",
       "    <tr style=\"text-align: right;\">\n",
       "      <th></th>\n",
       "      <th>name</th>\n",
       "      <th>mfr</th>\n",
       "      <th>type</th>\n",
       "      <th>calories</th>\n",
       "      <th>protein</th>\n",
       "      <th>fat</th>\n",
       "      <th>sodium</th>\n",
       "      <th>fiber</th>\n",
       "      <th>carbo</th>\n",
       "      <th>sugars</th>\n",
       "      <th>potass</th>\n",
       "      <th>vitamins</th>\n",
       "      <th>shelf</th>\n",
       "      <th>weight</th>\n",
       "      <th>cups</th>\n",
       "      <th>rating</th>\n",
       "    </tr>\n",
       "  </thead>\n",
       "  <tbody>\n",
       "    <tr>\n",
       "      <th>0</th>\n",
       "      <td>100% Bran</td>\n",
       "      <td>N</td>\n",
       "      <td>C</td>\n",
       "      <td>70</td>\n",
       "      <td>4</td>\n",
       "      <td>1</td>\n",
       "      <td>130</td>\n",
       "      <td>10.0</td>\n",
       "      <td>5.0</td>\n",
       "      <td>6</td>\n",
       "      <td>280</td>\n",
       "      <td>25</td>\n",
       "      <td>3</td>\n",
       "      <td>1.0</td>\n",
       "      <td>0.33</td>\n",
       "      <td>68.402973</td>\n",
       "    </tr>\n",
       "    <tr>\n",
       "      <th>1</th>\n",
       "      <td>100% Natural Bran</td>\n",
       "      <td>Q</td>\n",
       "      <td>C</td>\n",
       "      <td>120</td>\n",
       "      <td>3</td>\n",
       "      <td>5</td>\n",
       "      <td>15</td>\n",
       "      <td>2.0</td>\n",
       "      <td>8.0</td>\n",
       "      <td>8</td>\n",
       "      <td>135</td>\n",
       "      <td>0</td>\n",
       "      <td>3</td>\n",
       "      <td>1.0</td>\n",
       "      <td>1.00</td>\n",
       "      <td>33.983679</td>\n",
       "    </tr>\n",
       "    <tr>\n",
       "      <th>2</th>\n",
       "      <td>All-Bran</td>\n",
       "      <td>K</td>\n",
       "      <td>C</td>\n",
       "      <td>70</td>\n",
       "      <td>4</td>\n",
       "      <td>1</td>\n",
       "      <td>260</td>\n",
       "      <td>9.0</td>\n",
       "      <td>7.0</td>\n",
       "      <td>5</td>\n",
       "      <td>320</td>\n",
       "      <td>25</td>\n",
       "      <td>3</td>\n",
       "      <td>1.0</td>\n",
       "      <td>0.33</td>\n",
       "      <td>59.425505</td>\n",
       "    </tr>\n",
       "    <tr>\n",
       "      <th>3</th>\n",
       "      <td>All-Bran with Extra Fiber</td>\n",
       "      <td>K</td>\n",
       "      <td>C</td>\n",
       "      <td>50</td>\n",
       "      <td>4</td>\n",
       "      <td>0</td>\n",
       "      <td>140</td>\n",
       "      <td>14.0</td>\n",
       "      <td>8.0</td>\n",
       "      <td>0</td>\n",
       "      <td>330</td>\n",
       "      <td>25</td>\n",
       "      <td>3</td>\n",
       "      <td>1.0</td>\n",
       "      <td>0.50</td>\n",
       "      <td>93.704912</td>\n",
       "    </tr>\n",
       "    <tr>\n",
       "      <th>4</th>\n",
       "      <td>Almond Delight</td>\n",
       "      <td>R</td>\n",
       "      <td>C</td>\n",
       "      <td>110</td>\n",
       "      <td>2</td>\n",
       "      <td>2</td>\n",
       "      <td>200</td>\n",
       "      <td>1.0</td>\n",
       "      <td>14.0</td>\n",
       "      <td>8</td>\n",
       "      <td>-1</td>\n",
       "      <td>25</td>\n",
       "      <td>3</td>\n",
       "      <td>1.0</td>\n",
       "      <td>0.75</td>\n",
       "      <td>34.384843</td>\n",
       "    </tr>\n",
       "  </tbody>\n",
       "</table>\n",
       "</div>"
      ],
      "text/plain": [
       "                        name mfr type  calories  protein  fat  sodium  fiber  \\\n",
       "0                  100% Bran   N    C        70        4    1     130   10.0   \n",
       "1          100% Natural Bran   Q    C       120        3    5      15    2.0   \n",
       "2                   All-Bran   K    C        70        4    1     260    9.0   \n",
       "3  All-Bran with Extra Fiber   K    C        50        4    0     140   14.0   \n",
       "4             Almond Delight   R    C       110        2    2     200    1.0   \n",
       "\n",
       "   carbo  sugars  potass  vitamins  shelf  weight  cups     rating  \n",
       "0    5.0       6     280        25      3     1.0  0.33  68.402973  \n",
       "1    8.0       8     135         0      3     1.0  1.00  33.983679  \n",
       "2    7.0       5     320        25      3     1.0  0.33  59.425505  \n",
       "3    8.0       0     330        25      3     1.0  0.50  93.704912  \n",
       "4   14.0       8      -1        25      3     1.0  0.75  34.384843  "
      ]
     },
     "execution_count": 21,
     "metadata": {},
     "output_type": "execute_result"
    }
   ],
   "source": [
    "cereals = pd.read_csv('data/cereal.csv')\n",
    "cereals.head()"
   ]
  },
  {
   "cell_type": "code",
   "execution_count": 22,
   "metadata": {
    "deletable": false,
    "nbgrader": {
     "grade": false,
     "grade_id": "cell-e4bf7a0d20b4d075",
     "locked": false,
     "schema_version": 3,
     "solution": true,
     "task": false
    }
   },
   "outputs": [],
   "source": [
    "# Use a method you learned about in the learning notebook to retrieve the number of rows\n",
    "# and the number of columns in cereals\n",
    "# number_of_rows = ...\n",
    "# number_of_columns = ...\n",
    "\n",
    "# YOUR CODE HERE\n",
    "\n",
    "number_of_rows = cereals.shape[0]\n",
    "number_of_columns = cereals.shape[1]\n",
    "\n",
    "# YOUR CODE HERE"
   ]
  },
  {
   "cell_type": "code",
   "execution_count": 23,
   "metadata": {
    "deletable": false,
    "editable": false,
    "nbgrader": {
     "grade": true,
     "grade_id": "cell-a6082129b0c73871",
     "locked": true,
     "points": 2,
     "schema_version": 3,
     "solution": false,
     "task": false
    }
   },
   "outputs": [],
   "source": [
    "assert(hashlib.sha256(str(int(number_of_rows)).encode()).hexdigest() == 'a88a7902cb4ef697ba0b6759c50e8c10297ff58f942243de19b984841bfe1f73'), \"The number of rows is not correct.\"\n",
    "assert(hashlib.sha256(str(int(number_of_columns)).encode()).hexdigest() == 'b17ef6d19c7a5b1ee83b907c595526dcb1eb06db8227d650d5dda0a9f4ce8cd9'), \"The number of columns is not correct.\""
   ]
  },
  {
   "cell_type": "markdown",
   "metadata": {
    "deletable": false,
    "editable": false,
    "nbgrader": {
     "grade": false,
     "grade_id": "cell-2de8402c98563526",
     "locked": true,
     "schema_version": 3,
     "solution": false,
     "task": false
    }
   },
   "source": [
    "### 3.5) Use a method to determine all the types"
   ]
  },
  {
   "cell_type": "code",
   "execution_count": 24,
   "metadata": {
    "deletable": false,
    "editable": false,
    "nbgrader": {
     "grade": false,
     "grade_id": "cell-9d35794f9373fbc1",
     "locked": true,
     "schema_version": 3,
     "solution": false,
     "task": false
    }
   },
   "outputs": [],
   "source": [
    "# just in case you inadvertently overwritten cereals... \n",
    "cereals = pd.read_csv('data/cereal.csv')\n",
    "\n",
    "# make sure you don't overwrite any variables in exercise notebooks, \n",
    "# otherwise you might inadvertently not pass asserts because you're not working over the correct data."
   ]
  },
  {
   "cell_type": "code",
   "execution_count": 25,
   "metadata": {
    "deletable": false,
    "nbgrader": {
     "grade": false,
     "grade_id": "cell-e9e62f9d35948d34",
     "locked": false,
     "schema_version": 3,
     "solution": true,
     "task": false
    }
   },
   "outputs": [],
   "source": [
    "# Store the types of all columns of cereals in cereals_dtypes\n",
    "# Use the method you learned in the learning notebook.\n",
    "# cereals_dtypes = ...\n",
    "\n",
    "\n",
    "\n",
    "# Note: if you used the correct method, \n",
    "# the result will be a pandas series containing the data types of each column,\n",
    "# with index formed by the columns of cereals_dtypes\n",
    "\n",
    "# YOUR CODE HERE\n",
    "\n",
    "cereals_dtypes = cereals.dtypes\n",
    "\n",
    "# YOUR CODE HERE"
   ]
  },
  {
   "cell_type": "code",
   "execution_count": 26,
   "metadata": {
    "deletable": false,
    "editable": false,
    "nbgrader": {
     "grade": false,
     "grade_id": "cell-e3795ce1ef7efed6",
     "locked": true,
     "schema_version": 3,
     "solution": false,
     "task": false
    }
   },
   "outputs": [
    {
     "data": {
      "text/plain": [
       "name         object\n",
       "mfr          object\n",
       "type         object\n",
       "calories      int64\n",
       "protein       int64\n",
       "fat           int64\n",
       "sodium        int64\n",
       "fiber       float64\n",
       "carbo       float64\n",
       "sugars        int64\n",
       "potass        int64\n",
       "vitamins      int64\n",
       "shelf         int64\n",
       "weight      float64\n",
       "cups        float64\n",
       "rating      float64\n",
       "dtype: object"
      ]
     },
     "execution_count": 26,
     "metadata": {},
     "output_type": "execute_result"
    }
   ],
   "source": [
    "# check your output -- there should be object, float and integer types in cereal_dtypes\n",
    "cereals_dtypes"
   ]
  },
  {
   "cell_type": "code",
   "execution_count": 27,
   "metadata": {
    "deletable": false,
    "editable": false,
    "nbgrader": {
     "grade": true,
     "grade_id": "cell-efab0f02db3e97d7",
     "locked": true,
     "points": 2,
     "schema_version": 3,
     "solution": false,
     "task": false
    }
   },
   "outputs": [],
   "source": [
    "assert(sum([x in cereals_dtypes.index for x in cereals.columns]) == 16), \"The index of cereals_dtypes should contain all columns in cereals.\"\n",
    "assert(hashlib.sha256(str(cereals_dtypes['name']).encode()).hexdigest() == '2958d416d08aa5a472d7b509036cb7eafd542add84527e66a145ea64cb4cdc75'), \"The dtype of column 'name' is not as expected.\""
   ]
  },
  {
   "cell_type": "markdown",
   "metadata": {
    "deletable": false,
    "editable": false,
    "nbgrader": {
     "grade": false,
     "grade_id": "cell-2b45ce53733500d7",
     "locked": true,
     "schema_version": 3,
     "solution": false,
     "task": false
    }
   },
   "source": [
    "### 3.6) Get a numpy array of column names"
   ]
  },
  {
   "cell_type": "code",
   "execution_count": 28,
   "metadata": {
    "deletable": false,
    "nbgrader": {
     "grade": false,
     "grade_id": "cell-4fd5c93627335cd6",
     "locked": false,
     "schema_version": 3,
     "solution": true,
     "task": false
    }
   },
   "outputs": [],
   "source": [
    "# store the names of the columns in cereals as a numpy array\n",
    "\n",
    "# first extract the columns into cereals_cols\n",
    "# cereals_cols = ...\n",
    "\n",
    "# then convert the output into a NumPy array\n",
    "# cereals_cols_array = ...\n",
    "\n",
    "#YOUR CODE HERE\n",
    "\n",
    "cereals_cols = cereals.columns\n",
    "cereals_cols_array = cereals_cols.to_numpy()\n",
    "\n",
    "# YOUR CODE HERE"
   ]
  },
  {
   "cell_type": "code",
   "execution_count": 29,
   "metadata": {
    "deletable": false,
    "editable": false,
    "nbgrader": {
     "grade": false,
     "grade_id": "cell-50b947a14ec26208",
     "locked": true,
     "schema_version": 3,
     "solution": false,
     "task": false
    }
   },
   "outputs": [
    {
     "name": "stdout",
     "output_type": "stream",
     "text": [
      "Index(['name', 'mfr', 'type', 'calories', 'protein', 'fat', 'sodium', 'fiber',\n",
      "       'carbo', 'sugars', 'potass', 'vitamins', 'shelf', 'weight', 'cups',\n",
      "       'rating'],\n",
      "      dtype='object')\n",
      "<class 'pandas.core.indexes.base.Index'>\n",
      "\n",
      "\n",
      "['name' 'mfr' 'type' 'calories' 'protein' 'fat' 'sodium' 'fiber' 'carbo'\n",
      " 'sugars' 'potass' 'vitamins' 'shelf' 'weight' 'cups' 'rating']\n",
      "<class 'numpy.ndarray'>\n"
     ]
    }
   ],
   "source": [
    "# always preview your variables\n",
    "print(cereals_cols, type(cereals_cols), \"\\n\", sep=\"\\n\")\n",
    "print(cereals_cols_array, type(cereals_cols_array), sep=\"\\n\")"
   ]
  },
  {
   "cell_type": "code",
   "execution_count": 30,
   "metadata": {
    "deletable": false,
    "editable": false,
    "nbgrader": {
     "grade": true,
     "grade_id": "cell-4dce9e138896815d",
     "locked": true,
     "points": 2,
     "schema_version": 3,
     "solution": false,
     "task": false
    }
   },
   "outputs": [],
   "source": [
    "assert(isinstance(cereals_cols, pd.core.indexes.base.Index)), \"Use the method you learned to extract the columns into cereals_cols.\"\n",
    "assert(len(cereals_cols) == 16), \"There are 16 columns in cereals. Did you extract them all? Also, make sure you don't change the variable cereals.\"\n",
    "assert(isinstance(cereals_cols_array, np.ndarray)), \"The cereals_cols_array does not look like a numpy array.\""
   ]
  },
  {
   "cell_type": "markdown",
   "metadata": {
    "deletable": false,
    "editable": false,
    "nbgrader": {
     "grade": false,
     "grade_id": "cell-7bd117128c56d41d",
     "locked": true,
     "schema_version": 3,
     "solution": false,
     "task": false
    }
   },
   "source": [
    "### 3.7) Extract the index as a numpy array"
   ]
  },
  {
   "cell_type": "code",
   "execution_count": 31,
   "metadata": {
    "deletable": false,
    "nbgrader": {
     "grade": false,
     "grade_id": "cell-3681531b79d28fd3",
     "locked": false,
     "schema_version": 3,
     "solution": true,
     "task": false
    }
   },
   "outputs": [],
   "source": [
    "# do the same you did in exercise 3.6, but now for the index of cereals\n",
    "\n",
    "# extract the index using the method you learned\n",
    "# cereals_index = ...\n",
    "\n",
    "# convert it to a numpy array\n",
    "# cereals_index_array = ...\n",
    "\n",
    "# YOUR CODE HERE\n",
    "\n",
    "cereals_index = cereals.index\n",
    "cereals_index_array = cereals_index.to_numpy()\n",
    "\n",
    "# YOUR CODE HERE"
   ]
  },
  {
   "cell_type": "code",
   "execution_count": 32,
   "metadata": {
    "deletable": false,
    "editable": false,
    "nbgrader": {
     "grade": false,
     "grade_id": "cell-6563d759a77a37ac",
     "locked": true,
     "schema_version": 3,
     "solution": false,
     "task": false
    }
   },
   "outputs": [
    {
     "data": {
      "text/plain": [
       "RangeIndex(start=0, stop=77, step=1)"
      ]
     },
     "execution_count": 32,
     "metadata": {},
     "output_type": "execute_result"
    }
   ],
   "source": [
    "# if all is correct, you should notice below that your index, in this case, is a range from 0 to number of columns\n",
    "# and with step = 1\n",
    "cereals_index"
   ]
  },
  {
   "cell_type": "code",
   "execution_count": 33,
   "metadata": {
    "deletable": false,
    "editable": false,
    "nbgrader": {
     "grade": true,
     "grade_id": "cell-1bf51b9a2de225bc",
     "locked": true,
     "points": 1,
     "schema_version": 3,
     "solution": false,
     "task": false
    }
   },
   "outputs": [],
   "source": [
    "assert(isinstance(cereals_index, pd.core.indexes.base.Index)), \"Use the method you learned to extract the columns into cereals_cols.\"\n",
    "assert(len(cereals_index) == 77), \"There should be dtypes for the 16 columns of cereals, no more, no less.\"\n",
    "assert(isinstance(cereals_index_array, np.ndarray)), \"The cereals_cols_array does not look like a numpy array.\""
   ]
  },
  {
   "cell_type": "markdown",
   "metadata": {
    "deletable": false,
    "editable": false,
    "nbgrader": {
     "grade": false,
     "grade_id": "cell-dcbdaacfb8bdd16d",
     "locked": true,
     "schema_version": 3,
     "solution": false,
     "task": false
    }
   },
   "source": [
    "### 3.8) Describe the data in your dataframe"
   ]
  },
  {
   "cell_type": "markdown",
   "metadata": {
    "deletable": false,
    "editable": false,
    "nbgrader": {
     "grade": false,
     "grade_id": "cell-07605b8d4c866382",
     "locked": true,
     "schema_version": 3,
     "solution": false,
     "task": false
    }
   },
   "source": [
    "Last but not least, remember how you can get some stats and info on your dataframe?\n",
    "\n",
    "If you don't make sure to reread the learning notebook.\n",
    "\n",
    "If you do, let's jump to this final exercise."
   ]
  },
  {
   "cell_type": "code",
   "execution_count": 34,
   "metadata": {
    "deletable": false,
    "editable": false,
    "nbgrader": {
     "grade": false,
     "grade_id": "cell-5ac9cc34b50a1256",
     "locked": true,
     "schema_version": 3,
     "solution": false,
     "task": false
    }
   },
   "outputs": [
    {
     "data": {
      "text/html": [
       "<div>\n",
       "<style scoped>\n",
       "    .dataframe tbody tr th:only-of-type {\n",
       "        vertical-align: middle;\n",
       "    }\n",
       "\n",
       "    .dataframe tbody tr th {\n",
       "        vertical-align: top;\n",
       "    }\n",
       "\n",
       "    .dataframe thead th {\n",
       "        text-align: right;\n",
       "    }\n",
       "</style>\n",
       "<table border=\"1\" class=\"dataframe\">\n",
       "  <thead>\n",
       "    <tr style=\"text-align: right;\">\n",
       "      <th></th>\n",
       "      <th>title</th>\n",
       "      <th>score</th>\n",
       "      <th>url</th>\n",
       "      <th>number_of_comments</th>\n",
       "      <th>date_created</th>\n",
       "    </tr>\n",
       "  </thead>\n",
       "  <tbody>\n",
       "    <tr>\n",
       "      <th>lt74vw</th>\n",
       "      <td>Health Canada approves AstraZeneca COVID-19 va...</td>\n",
       "      <td>7</td>\n",
       "      <td>https://www.canadaforums.ca/2021/02/health-can...</td>\n",
       "      <td>0</td>\n",
       "      <td>1614400425</td>\n",
       "    </tr>\n",
       "    <tr>\n",
       "      <th>lsh0ij</th>\n",
       "      <td>COVID-19 in Canada: 'Vaccination passports' a ...</td>\n",
       "      <td>2</td>\n",
       "      <td>https://www.canadaforums.ca/2021/02/covid-19-i...</td>\n",
       "      <td>1</td>\n",
       "      <td>1614316267</td>\n",
       "    </tr>\n",
       "    <tr>\n",
       "      <th>lohlle</th>\n",
       "      <td>Coronavirus variants could fuel Canada's third...</td>\n",
       "      <td>6</td>\n",
       "      <td>https://www.canadaforums.ca/2021/02/coronaviru...</td>\n",
       "      <td>0</td>\n",
       "      <td>1613886608</td>\n",
       "    </tr>\n",
       "    <tr>\n",
       "      <th>lnptv8</th>\n",
       "      <td>Canadian government to extend COVID-19 emergen...</td>\n",
       "      <td>1</td>\n",
       "      <td>https://www.canadaforums.ca/2021/02/canadian-g...</td>\n",
       "      <td>0</td>\n",
       "      <td>1613795713</td>\n",
       "    </tr>\n",
       "    <tr>\n",
       "      <th>lkslm6</th>\n",
       "      <td>Canada: Pfizer is 'extremely committed' to mee...</td>\n",
       "      <td>6</td>\n",
       "      <td>https://www.canadaforums.ca/2021/02/canada-pfi...</td>\n",
       "      <td>0</td>\n",
       "      <td>1613468188</td>\n",
       "    </tr>\n",
       "  </tbody>\n",
       "</table>\n",
       "</div>"
      ],
      "text/plain": [
       "                                                    title  score  \\\n",
       "lt74vw  Health Canada approves AstraZeneca COVID-19 va...      7   \n",
       "lsh0ij  COVID-19 in Canada: 'Vaccination passports' a ...      2   \n",
       "lohlle  Coronavirus variants could fuel Canada's third...      6   \n",
       "lnptv8  Canadian government to extend COVID-19 emergen...      1   \n",
       "lkslm6  Canada: Pfizer is 'extremely committed' to mee...      6   \n",
       "\n",
       "                                                      url  number_of_comments  \\\n",
       "lt74vw  https://www.canadaforums.ca/2021/02/health-can...                   0   \n",
       "lsh0ij  https://www.canadaforums.ca/2021/02/covid-19-i...                   1   \n",
       "lohlle  https://www.canadaforums.ca/2021/02/coronaviru...                   0   \n",
       "lnptv8  https://www.canadaforums.ca/2021/02/canadian-g...                   0   \n",
       "lkslm6  https://www.canadaforums.ca/2021/02/canada-pfi...                   0   \n",
       "\n",
       "        date_created  \n",
       "lt74vw    1614400425  \n",
       "lsh0ij    1614316267  \n",
       "lohlle    1613886608  \n",
       "lnptv8    1613795713  \n",
       "lkslm6    1613468188  "
      ]
     },
     "execution_count": 34,
     "metadata": {},
     "output_type": "execute_result"
    }
   ],
   "source": [
    "# RUN THIS CELL FIRST\n",
    "# bring back the reddit data!\n",
    "vaccine_myths_reddit = pd.read_json('data/reddit_vm.json')\n",
    "vaccine_myths_reddit.columns = ['title', 'score', 'url', 'number_of_comments', 'date_created']\n",
    "vaccine_myths_reddit.head()"
   ]
  },
  {
   "cell_type": "markdown",
   "metadata": {
    "deletable": false,
    "editable": false,
    "nbgrader": {
     "grade": false,
     "grade_id": "cell-0e71adde1cb06d17",
     "locked": true,
     "schema_version": 3,
     "solution": false,
     "task": false
    }
   },
   "source": [
    "You can see that `vaccine_myths_reddit` has 2 different data types in its columns, `object` (which are actually strings) and numeric values."
   ]
  },
  {
   "cell_type": "code",
   "execution_count": 35,
   "metadata": {},
   "outputs": [
    {
     "name": "stdout",
     "output_type": "stream",
     "text": [
      "<class 'pandas.core.frame.DataFrame'>\n",
      "Index: 554 entries, lt74vw to 1v3bh2\n",
      "Data columns (total 5 columns):\n",
      " #   Column              Non-Null Count  Dtype \n",
      "---  ------              --------------  ----- \n",
      " 0   title               554 non-null    object\n",
      " 1   score               554 non-null    int64 \n",
      " 2   url                 452 non-null    object\n",
      " 3   number_of_comments  554 non-null    int64 \n",
      " 4   date_created        554 non-null    int64 \n",
      "dtypes: int64(3), object(2)\n",
      "memory usage: 26.0+ KB\n"
     ]
    }
   ],
   "source": [
    "# Use this draft cell to print stuff to help you answer the questions below\n",
    "# ...\n",
    "\n",
    "vaccine_myths_reddit.describe()\n",
    "vaccine_myths_reddit.info()\n"
   ]
  },
  {
   "cell_type": "code",
   "execution_count": 36,
   "metadata": {
    "deletable": false,
    "nbgrader": {
     "grade": false,
     "grade_id": "cell-3fd00abe2d329bde",
     "locked": false,
     "schema_version": 3,
     "solution": true,
     "task": false
    }
   },
   "outputs": [],
   "source": [
    "# Using only the 2 methods you learned to get information and statistics on a dataframe\n",
    "# answer the following questions manually\n",
    "\n",
    "# Question 1 - What's the mean value for `score` (rounded to 2 decimal points)?\n",
    "# mean_score = ...\n",
    "\n",
    "# Question 2 - What's the maximum value for `number_of_comments` (store the answer as an integer, NOT a float)\n",
    "# max_number_of_comments = ...\n",
    "\n",
    "# Question 3 - How many non-null entries do we have for `url` (store the answer as an integer)\n",
    "# nonnull_url = ...\n",
    "\n",
    "\n",
    "# YOUR CODE HERE\n",
    "\n",
    "mean_score = vaccine_myths_reddit.score.mean()#['score']\n",
    "max_number_of_comments = vaccine_myths_reddit.number_of_comments.max()#['number_of_comments']\n",
    "nonnull_url = 452\n",
    "\n",
    "# YOUR CODE HERE"
   ]
  },
  {
   "cell_type": "code",
   "execution_count": 37,
   "metadata": {
    "deletable": false,
    "editable": false,
    "nbgrader": {
     "grade": true,
     "grade_id": "cell-ea52883fc83bdbfb",
     "locked": true,
     "points": 2,
     "schema_version": 3,
     "solution": false,
     "task": false
    }
   },
   "outputs": [],
   "source": [
    "np.testing.assert_almost_equal(float(mean_score), 7.71, 2), \"mean_score does not look right.\"\n",
    "assert(hashlib.sha256(str(int(max_number_of_comments)).encode()).hexdigest() == 'be6b5b7140b02bff9ad8fa5aaaeca5973791521c5029c9f6b42390f8b87ce2bd'), \"max_number_of_comments does not look right.\"\n",
    "assert(hashlib.sha256(str(int(nonnull_url)).encode()).hexdigest() == '549a2fac47d713cc00f2db498ad6b5574fb03c9293aef6c7ad50a11b394c197d'), \"nonnull_url does not look right.\""
   ]
  },
  {
   "cell_type": "markdown",
   "metadata": {},
   "source": [
    "---"
   ]
  }
 ],
 "metadata": {
  "kernelspec": {
   "display_name": "Python 3 (ipykernel)",
   "language": "python",
   "name": "python3"
  },
  "language_info": {
   "codemirror_mode": {
    "name": "ipython",
    "version": 3
   },
   "file_extension": ".py",
   "mimetype": "text/x-python",
   "name": "python",
   "nbconvert_exporter": "python",
   "pygments_lexer": "ipython3",
   "version": "3.8.2"
  },
  "toc": {
   "base_numbering": 1,
   "nav_menu": {},
   "number_sections": true,
   "sideBar": true,
   "skip_h1_title": false,
   "title_cell": "Table of Contents",
   "title_sidebar": "Contents",
   "toc_cell": false,
   "toc_position": {},
   "toc_section_display": true,
   "toc_window_display": false
  }
 },
 "nbformat": 4,
 "nbformat_minor": 4
}
