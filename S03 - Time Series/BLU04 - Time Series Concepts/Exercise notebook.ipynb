{
 "cells": [
  {
   "cell_type": "markdown",
   "metadata": {
    "deletable": false,
    "editable": false,
    "nbgrader": {
     "grade": false,
     "grade_id": "cell-82a8cd0054634b6e",
     "locked": true,
     "schema_version": 3,
     "solution": false,
     "task": false
    }
   },
   "source": [
    "# BLU04 - Time Series Concepts: Exercise notebook"
   ]
  },
  {
   "cell_type": "markdown",
   "metadata": {
    "deletable": false,
    "editable": false,
    "nbgrader": {
     "grade": false,
     "grade_id": "cell-db2d786acdddc37d",
     "locked": true,
     "schema_version": 3,
     "solution": false
    }
   },
   "source": [
    "Yay! Exercises! "
   ]
  },
  {
   "cell_type": "code",
   "execution_count": 1,
   "metadata": {
    "deletable": false,
    "editable": false,
    "nbgrader": {
     "grade": false,
     "grade_id": "cell-5631f63a56ce36ad",
     "locked": true,
     "schema_version": 3,
     "solution": false,
     "task": false
    }
   },
   "outputs": [],
   "source": [
    "import pandas as pd\n",
    "from sklearn.linear_model import LinearRegression\n",
    "import numpy as np\n",
    "import hashlib # for grading purposes\n",
    "%matplotlib inline\n",
    "import utils\n",
    "from sklearn.impute import KNNImputer"
   ]
  },
  {
   "cell_type": "markdown",
   "metadata": {
    "deletable": false,
    "editable": false,
    "nbgrader": {
     "grade": false,
     "grade_id": "cell-5a13c9450f7cf9c8",
     "locked": true,
     "schema_version": 3,
     "solution": false
    }
   },
   "source": [
    "### You're hired\n",
    "\n",
    "You've been hired as the data scientist for a supermarket chain that wants to start extracting insights from their data. First, you'll start with a specific store.\n",
    "\n",
    "Let's get our data:"
   ]
  },
  {
   "cell_type": "code",
   "execution_count": 2,
   "metadata": {
    "deletable": false,
    "editable": false,
    "nbgrader": {
     "grade": false,
     "grade_id": "cell-1cf2c842a2026f77",
     "locked": true,
     "schema_version": 3,
     "solution": false,
     "task": false
    }
   },
   "outputs": [
    {
     "data": {
      "text/html": [
       "<div>\n",
       "<style scoped>\n",
       "    .dataframe tbody tr th:only-of-type {\n",
       "        vertical-align: middle;\n",
       "    }\n",
       "\n",
       "    .dataframe tbody tr th {\n",
       "        vertical-align: top;\n",
       "    }\n",
       "\n",
       "    .dataframe thead th {\n",
       "        text-align: right;\n",
       "    }\n",
       "</style>\n",
       "<table border=\"1\" class=\"dataframe\">\n",
       "  <thead>\n",
       "    <tr style=\"text-align: right;\">\n",
       "      <th></th>\n",
       "      <th>date</th>\n",
       "      <th>customers</th>\n",
       "    </tr>\n",
       "  </thead>\n",
       "  <tbody>\n",
       "    <tr>\n",
       "      <th>35439</th>\n",
       "      <td>31-01-2015</td>\n",
       "      <td>1398</td>\n",
       "    </tr>\n",
       "    <tr>\n",
       "      <th>15451</th>\n",
       "      <td>30-11-2013</td>\n",
       "      <td>1272</td>\n",
       "    </tr>\n",
       "    <tr>\n",
       "      <th>71816</th>\n",
       "      <td>10-01-2017</td>\n",
       "      <td>1732</td>\n",
       "    </tr>\n",
       "    <tr>\n",
       "      <th>70225</th>\n",
       "      <td>09-12-2016</td>\n",
       "      <td>1881</td>\n",
       "    </tr>\n",
       "    <tr>\n",
       "      <th>52180</th>\n",
       "      <td>28-12-2015</td>\n",
       "      <td>1775</td>\n",
       "    </tr>\n",
       "  </tbody>\n",
       "</table>\n",
       "</div>"
      ],
      "text/plain": [
       "             date  customers\n",
       "35439  31-01-2015       1398\n",
       "15451  30-11-2013       1272\n",
       "71816  10-01-2017       1732\n",
       "70225  09-12-2016       1881\n",
       "52180  28-12-2015       1775"
      ]
     },
     "execution_count": 2,
     "metadata": {},
     "output_type": "execute_result"
    }
   ],
   "source": [
    "store = utils.get_store_data()\n",
    "store.head()"
   ]
  },
  {
   "cell_type": "markdown",
   "metadata": {
    "deletable": false,
    "editable": false,
    "nbgrader": {
     "grade": false,
     "grade_id": "cell-b8706c80d1b446cd",
     "locked": true,
     "schema_version": 3,
     "solution": false,
     "task": false
    }
   },
   "source": [
    "## Exercise 1: Index and datetime"
   ]
  },
  {
   "cell_type": "markdown",
   "metadata": {
    "deletable": false,
    "editable": false,
    "nbgrader": {
     "grade": false,
     "grade_id": "cell-d73283b149f131dd",
     "locked": true,
     "schema_version": 3,
     "solution": false,
     "task": false
    }
   },
   "source": [
    "#### 1.1) Make the index the datetime of the dates. "
   ]
  },
  {
   "cell_type": "code",
   "execution_count": 3,
   "metadata": {
    "deletable": false,
    "nbgrader": {
     "grade": false,
     "grade_id": "cell-c5dde6c9d4e1e881",
     "locked": false,
     "schema_version": 3,
     "solution": true,
     "task": false
    }
   },
   "outputs": [],
   "source": [
    "# We expect the solution to be a dataframe\n",
    "\n",
    "store['date'] = pd.to_datetime(store['date'], format='%d-%m-%Y')\n",
    "store = store.set_index('date')\n",
    "store = store.sort_index()\n",
    "\n",
    "# YOUR CODE HERE"
   ]
  },
  {
   "cell_type": "code",
   "execution_count": 4,
   "metadata": {
    "deletable": false,
    "editable": false,
    "nbgrader": {
     "grade": true,
     "grade_id": "cell-018ff5132531d38c",
     "locked": true,
     "points": 1,
     "schema_version": 3,
     "solution": false,
     "task": false
    }
   },
   "outputs": [],
   "source": [
    "expected_hash = '660d9054fe3a6cbcfb77e2647932e3c41ff5acab9fc4d162fdc448c7c8e6ccc2'\n",
    "assert hashlib.sha256(str(store.iloc[28].name).encode()).hexdigest() == expected_hash\n",
    "assert hashlib.sha256(str(store.index.dtype).encode()).hexdigest() == '261738f2e43a1c47a16f043b46deb993943d61f4a2bbe5ef4b03c3fb1af362b5'\n",
    "\n",
    "\n",
    "# clue: if this assert is failing, and your iloc[25].name is '2017-01-7', \n",
    "# then you are missing the \"best practices\" part. \n",
    "# What did we say in the Learning notebook about this? "
   ]
  },
  {
   "cell_type": "markdown",
   "metadata": {
    "deletable": false,
    "editable": false,
    "nbgrader": {
     "grade": false,
     "grade_id": "cell-9d46ace3ca1ca427",
     "locked": true,
     "schema_version": 3,
     "solution": false,
     "task": false
    }
   },
   "source": [
    "## Exercise 2: Time series preprocessing"
   ]
  },
  {
   "cell_type": "markdown",
   "metadata": {
    "deletable": false,
    "editable": false,
    "nbgrader": {
     "grade": false,
     "grade_id": "cell-278bc0bcacfe2773",
     "locked": true,
     "schema_version": 3,
     "solution": false,
     "task": false
    }
   },
   "source": [
    "#### 2.1) Look out for duplicate timestamps (ungraded)"
   ]
  },
  {
   "cell_type": "markdown",
   "metadata": {
    "deletable": false,
    "editable": false,
    "nbgrader": {
     "grade": false,
     "grade_id": "cell-a825acbb533ea1f0",
     "locked": true,
     "schema_version": 3,
     "solution": false,
     "task": false
    }
   },
   "source": [
    "When working with time series, we should make sure we don't have more than one possible value for the same timestamp. How would you check if there are any duplicates?"
   ]
  },
  {
   "cell_type": "code",
   "execution_count": 5,
   "metadata": {},
   "outputs": [],
   "source": [
    "## UNGRADED CELL\n",
    "# use this cell to write your code\n",
    "# how would you look for duplicate timestamps?\n",
    "# ..."
   ]
  },
  {
   "cell_type": "markdown",
   "metadata": {
    "deletable": false,
    "editable": false,
    "nbgrader": {
     "grade": false,
     "grade_id": "cell-407c9dd513e07ee5",
     "locked": true,
     "schema_version": 3,
     "solution": false,
     "task": false
    }
   },
   "source": [
    "#### 2.2) Accounting for missing days"
   ]
  },
  {
   "cell_type": "markdown",
   "metadata": {
    "deletable": false,
    "editable": false,
    "nbgrader": {
     "grade": false,
     "grade_id": "cell-558edf366e30e8b4",
     "locked": true,
     "schema_version": 3,
     "solution": false,
     "task": false
    }
   },
   "source": [
    "Sometimes datasets don't have rows corresponding to all timestamps, as a data scientist you should know if this is the case. Copy `store` to a new variable called `store_complete`, with no gap days. Fill the missing data with nulls."
   ]
  },
  {
   "cell_type": "code",
   "execution_count": 6,
   "metadata": {
    "deletable": false,
    "nbgrader": {
     "grade": false,
     "grade_id": "cell-e56f020937a5b22f",
     "locked": false,
     "schema_version": 3,
     "solution": true,
     "task": false
    }
   },
   "outputs": [],
   "source": [
    "# copy store to store_complete\n",
    "store_complete = store.copy()\n",
    "\n",
    "# change store_complete index so that it contains each of the days in the time range [2013-01-02, 2017-07-31]\n",
    "# fill missing data with nulls\n",
    "#store_complete = \n",
    "\n",
    "from datetime import date, datetime, timedelta\n",
    "\n",
    "\n",
    "def perdelta(start, end):\n",
    "    curr = start\n",
    "    while curr <= end:\n",
    "        yield pd.to_datetime(curr)\n",
    "        curr += timedelta(days=1)\n",
    "\n",
    "new_index = pd.Index(perdelta(date(2013, 1, 2), date(2017, 7, 31)))\n",
    "\n",
    "store_complete = store_complete.reindex(new_index)\n",
    "\n",
    "# YOUR CODE HERE"
   ]
  },
  {
   "cell_type": "code",
   "execution_count": 7,
   "metadata": {
    "deletable": false,
    "editable": false,
    "nbgrader": {
     "grade": true,
     "grade_id": "cell-fa53996d480dd867",
     "locked": true,
     "points": 1,
     "schema_version": 3,
     "solution": false,
     "task": false
    }
   },
   "outputs": [],
   "source": [
    "#### check number of nulls\n",
    "assert store_complete.isnull().sum()[0] != 0, \"You have 0 null values in the dataset! Remember that each missing day should correspond to a null in customers.\"\n",
    "assert store_complete.isnull().sum()[0] == 11, \"You should have found 11 days with missing data, no more no less.\"\n",
    "\n",
    "#### check store_complete dataframe integrity\n",
    "assert store_complete.shape[0] != 1676, \"Did you fill the index with the missing days?\"\n",
    "assert store_complete.shape[0] == 1672, \"The number of rows is not the expected.\"\n",
    "assert store_complete.shape[1] == 1, \"You shouldn't change the number of columns.\"\n",
    "assert str(store_complete[store_complete.customers.isnull()].index[6])[:10] == '2016-01-01', \"Do you have all the missing days? Is the index is ordered?\""
   ]
  },
  {
   "cell_type": "markdown",
   "metadata": {
    "deletable": false,
    "editable": false,
    "nbgrader": {
     "grade": false,
     "grade_id": "cell-b6278339d5f6e6bf",
     "locked": true,
     "schema_version": 3,
     "solution": false,
     "task": false
    }
   },
   "source": [
    "## Exercise 3: Working with timestamps"
   ]
  },
  {
   "cell_type": "markdown",
   "metadata": {
    "deletable": false,
    "editable": false,
    "nbgrader": {
     "grade": false,
     "grade_id": "cell-5d9d2353db3910f1",
     "locked": true,
     "schema_version": 3,
     "solution": false,
     "task": false
    }
   },
   "source": [
    "#### 3.1) Worst day in 2016\n",
    "\n",
    "What was the worst day in terms of customers in 2016?"
   ]
  },
  {
   "cell_type": "code",
   "execution_count": 8,
   "metadata": {
    "deletable": false,
    "nbgrader": {
     "grade": false,
     "grade_id": "cell-f3ba0f907ca7e1b7",
     "locked": false,
     "schema_version": 3,
     "solution": true
    }
   },
   "outputs": [],
   "source": [
    "# hint: the answer should be a timestamp\n",
    "\n",
    "worst_day_2016 = store.loc[slice('2016-01-01','2016-12-31')].customers.idxmin()\n",
    "\n",
    "# YOUR CODE HERE"
   ]
  },
  {
   "cell_type": "code",
   "execution_count": 9,
   "metadata": {
    "deletable": false,
    "editable": false,
    "nbgrader": {
     "grade": true,
     "grade_id": "cell-141eb4112e911043",
     "locked": true,
     "points": 1,
     "schema_version": 3,
     "solution": false,
     "task": false
    }
   },
   "outputs": [
    {
     "name": "stdout",
     "output_type": "stream",
     "text": [
      "The worst day in 2016 was 4 of January. Talk about new year's blues !\n"
     ]
    }
   ],
   "source": [
    "expected_hash = '54ca8373016eeb8acb093f60f9d909b8fc1bcc8e37d9f762530df4053bb83a1d'\n",
    "assert hashlib.sha256(str(worst_day_2016).encode()).hexdigest() == expected_hash\n",
    "\n",
    "print(f\"The worst day in 2016 was {worst_day_2016.day} of {worst_day_2016.month_name()}. Talk about new year's blues !\")"
   ]
  },
  {
   "cell_type": "markdown",
   "metadata": {
    "deletable": false,
    "editable": false,
    "nbgrader": {
     "grade": false,
     "grade_id": "cell-20106072ecdc80bd",
     "locked": true,
     "schema_version": 3,
     "solution": false,
     "task": false
    }
   },
   "source": [
    "#### 3.2) Best Friday\n",
    "\n",
    "Last Friday there were 3000 customers, and your boss said he's never seen such a high count of customers on a Friday. To check if your boss is correct, can you find the maximum number of customers that we've ever had on a Friday?\n",
    "\n",
    "- _hint #1: you can use the methods at the bottom of this [page](https://pandas.pydata.org/pandas-docs/stable/reference/api/pandas.DatetimeIndex.html) directly on the index_  \n",
    "- _hint #2: when operating directly on the index, you do not need to use `.dt` to use the methods_"
   ]
  },
  {
   "cell_type": "code",
   "execution_count": 10,
   "metadata": {
    "deletable": false,
    "nbgrader": {
     "grade": false,
     "grade_id": "cell-089cdded3864f17b",
     "locked": false,
     "schema_version": 3,
     "solution": true,
     "task": false
    }
   },
   "outputs": [],
   "source": [
    "max_customers_Friday = store[store.index.day_of_week == 4].max()\n",
    "\n",
    "# YOUR CODE HERE"
   ]
  },
  {
   "cell_type": "code",
   "execution_count": 11,
   "metadata": {
    "deletable": false,
    "editable": false,
    "nbgrader": {
     "grade": true,
     "grade_id": "cell-6d882e41cf9413ae",
     "locked": true,
     "points": 2,
     "schema_version": 3,
     "solution": false,
     "task": false
    }
   },
   "outputs": [
    {
     "name": "stdout",
     "output_type": "stream",
     "text": [
      "Yep! The highest count we ever had on a Friday was 3023 customers. Don't tell your boss.\n"
     ]
    }
   ],
   "source": [
    "expected_hash = 'b134ce47a896876fe3111bfed26cbe06363ede8a60ada5f70fe285d04fc4b7e9'\n",
    "assert hashlib.sha256(str(int(max_customers_Friday)).encode()).hexdigest() == expected_hash\n",
    "\n",
    "print(f\"Yep! The highest count we ever had on a Friday was {int(max_customers_Friday)} customers. Don't tell your boss.\")"
   ]
  },
  {
   "cell_type": "markdown",
   "metadata": {
    "deletable": false,
    "editable": false,
    "nbgrader": {
     "grade": false,
     "grade_id": "cell-0b8da8c48b4de3af",
     "locked": true,
     "schema_version": 3,
     "solution": false,
     "task": false
    }
   },
   "source": [
    "## Exercise 4: Time series methods"
   ]
  },
  {
   "cell_type": "markdown",
   "metadata": {
    "deletable": false,
    "editable": false,
    "nbgrader": {
     "grade": false,
     "grade_id": "cell-ee1325836f0e198b",
     "locked": true,
     "schema_version": 3,
     "solution": false,
     "task": false
    }
   },
   "source": [
    "#### 4.1) Shopping rush\n",
    "\n",
    "A new pandemic has started, and everyone came to buy soap and isopropyl alcohol. Your boss swears to have never seen such an absolute increase in sales from one day to the next - \"Yesterday there were 100 customers, today there were 5000.\"\n",
    "\n",
    "To confirm if what your boss is saying is true, can you find the maximum increase in sales from one day to the next?"
   ]
  },
  {
   "cell_type": "code",
   "execution_count": 12,
   "metadata": {
    "deletable": false,
    "nbgrader": {
     "grade": false,
     "grade_id": "cell-f19f56a68b7febcb",
     "locked": false,
     "schema_version": 3,
     "solution": true,
     "task": false
    }
   },
   "outputs": [],
   "source": [
    "# hint: the solution expects a float\n",
    "\n",
    "max_increase = store.customers.diff().max()\n",
    "\n",
    "# YOUR CODE HERE"
   ]
  },
  {
   "cell_type": "code",
   "execution_count": 13,
   "metadata": {
    "deletable": false,
    "editable": false,
    "nbgrader": {
     "grade": true,
     "grade_id": "cell-0703bbeda85d0834",
     "locked": true,
     "points": 1,
     "schema_version": 3,
     "solution": false,
     "task": false
    }
   },
   "outputs": [],
   "source": [
    "expected_hash = 'aa4b0d224e2b4488c6e3c5692347a0e26322d86dcb6bf01ab937e15d76037ee4'\n",
    "assert hashlib.sha256(str(int(max_increase)).encode()).hexdigest() == expected_hash"
   ]
  },
  {
   "cell_type": "markdown",
   "metadata": {
    "deletable": false,
    "editable": false,
    "nbgrader": {
     "grade": false,
     "grade_id": "cell-63c93292193b0090",
     "locked": true,
     "schema_version": 3,
     "solution": false,
     "task": false
    }
   },
   "source": [
    "#### 4.2) Bad month\n",
    "\n",
    "Despite the shopping rush of the last few days, we had a bad month , with a monthly sum of customers < 45000 . What was the last month we had less than 45000 customers  (`last_bad_month`)?"
   ]
  },
  {
   "cell_type": "code",
   "execution_count": 14,
   "metadata": {
    "deletable": false,
    "nbgrader": {
     "grade": false,
     "grade_id": "cell-3745ea4d56722003",
     "locked": false,
     "schema_version": 3,
     "solution": true,
     "task": false
    }
   },
   "outputs": [],
   "source": [
    "# We expect the answer to be a monthly time period (freq='M'), so answers  \n",
    "# which are of the form \"the second month of the year\" will not pass the grader. \n",
    "# hint: by default pandas uses freq='M'.\n",
    "\n",
    "sum_monthly_customers = store['customers'].resample('M').sum()\n",
    "last_bad_month = sum_monthly_customers.where(sum_monthly_customers < 45000).last_valid_index()\n",
    "\n",
    "# YOUR CODE HERE"
   ]
  },
  {
   "cell_type": "code",
   "execution_count": 15,
   "metadata": {
    "deletable": false,
    "editable": false,
    "nbgrader": {
     "grade": true,
     "grade_id": "cell-e8248641ed113328",
     "locked": true,
     "points": 2,
     "schema_version": 3,
     "solution": false,
     "task": false
    }
   },
   "outputs": [],
   "source": [
    "expected_hash = '50aa98c99f36b286c0269526800c2fc49253f75fcdef0cf02f4db4aee064ddbc'\n",
    "assert hashlib.sha256(str(last_bad_month).encode()).hexdigest() == expected_hash"
   ]
  },
  {
   "cell_type": "markdown",
   "metadata": {
    "deletable": false,
    "editable": false,
    "nbgrader": {
     "grade": false,
     "grade_id": "cell-8122f006159bae99",
     "locked": true,
     "schema_version": 3,
     "solution": false,
     "task": false
    }
   },
   "source": [
    "---"
   ]
  },
  {
   "cell_type": "markdown",
   "metadata": {
    "deletable": false,
    "editable": false,
    "nbgrader": {
     "grade": false,
     "grade_id": "cell-56d1a5764f9b4860",
     "locked": true,
     "schema_version": 3,
     "solution": false,
     "task": false
    }
   },
   "source": [
    "### Congrats!\n",
    "\n",
    "Your work is proving useful, so your boss has asked to expand your analysis to the whole chain. \n",
    "\n",
    "Let's get the new data:"
   ]
  },
  {
   "cell_type": "code",
   "execution_count": 16,
   "metadata": {
    "deletable": false,
    "editable": false,
    "nbgrader": {
     "grade": false,
     "grade_id": "cell-cad95b3a90fe0f8d",
     "locked": true,
     "schema_version": 3,
     "solution": false,
     "task": false
    }
   },
   "outputs": [
    {
     "data": {
      "text/html": [
       "<div>\n",
       "<style scoped>\n",
       "    .dataframe tbody tr th:only-of-type {\n",
       "        vertical-align: middle;\n",
       "    }\n",
       "\n",
       "    .dataframe tbody tr th {\n",
       "        vertical-align: top;\n",
       "    }\n",
       "\n",
       "    .dataframe thead th {\n",
       "        text-align: right;\n",
       "    }\n",
       "</style>\n",
       "<table border=\"1\" class=\"dataframe\">\n",
       "  <thead>\n",
       "    <tr style=\"text-align: right;\">\n",
       "      <th></th>\n",
       "      <th>date</th>\n",
       "      <th>store_nbr</th>\n",
       "      <th>customers</th>\n",
       "    </tr>\n",
       "  </thead>\n",
       "  <tbody>\n",
       "    <tr>\n",
       "      <th>40929</th>\n",
       "      <td>23-05-2015</td>\n",
       "      <td>6</td>\n",
       "      <td>2053</td>\n",
       "    </tr>\n",
       "    <tr>\n",
       "      <th>19072</th>\n",
       "      <td>17-02-2014</td>\n",
       "      <td>2</td>\n",
       "      <td>1766</td>\n",
       "    </tr>\n",
       "    <tr>\n",
       "      <th>38092</th>\n",
       "      <td>26-03-2015</td>\n",
       "      <td>15</td>\n",
       "      <td>1336</td>\n",
       "    </tr>\n",
       "    <tr>\n",
       "      <th>46726</th>\n",
       "      <td>14-09-2015</td>\n",
       "      <td>35</td>\n",
       "      <td>637</td>\n",
       "    </tr>\n",
       "    <tr>\n",
       "      <th>8972</th>\n",
       "      <td>14-07-2013</td>\n",
       "      <td>44</td>\n",
       "      <td>4383</td>\n",
       "    </tr>\n",
       "  </tbody>\n",
       "</table>\n",
       "</div>"
      ],
      "text/plain": [
       "             date  store_nbr  customers\n",
       "40929  23-05-2015          6       2053\n",
       "19072  17-02-2014          2       1766\n",
       "38092  26-03-2015         15       1336\n",
       "46726  14-09-2015         35        637\n",
       "8972   14-07-2013         44       4383"
      ]
     },
     "execution_count": 16,
     "metadata": {},
     "output_type": "execute_result"
    }
   ],
   "source": [
    "chain = utils.get_stores_data()\n",
    "chain.head()"
   ]
  },
  {
   "cell_type": "code",
   "execution_count": 17,
   "metadata": {
    "deletable": false,
    "editable": false,
    "nbgrader": {
     "grade": false,
     "grade_id": "cell-76bf1854f1a0871d",
     "locked": true,
     "schema_version": 3,
     "solution": false
    }
   },
   "outputs": [
    {
     "name": "stdout",
     "output_type": "stream",
     "text": [
      "We now have 82678 data points. Wooooow!\n"
     ]
    }
   ],
   "source": [
    "print('We now have %0.0f data points. Wooooow!' % len(chain))"
   ]
  },
  {
   "cell_type": "markdown",
   "metadata": {
    "deletable": false,
    "editable": false,
    "nbgrader": {
     "grade": false,
     "grade_id": "cell-ed2483e8e17c72b5",
     "locked": true,
     "schema_version": 3,
     "solution": false
    }
   },
   "source": [
    "The thing is, we can't just set the index to be the day, as we now have multiple stores on the same day. \n",
    "\n",
    "Looks like we have to go into multi-indexing..."
   ]
  },
  {
   "cell_type": "markdown",
   "metadata": {
    "deletable": false,
    "editable": false,
    "nbgrader": {
     "grade": false,
     "grade_id": "cell-6e67b8daa5d7502d",
     "locked": true,
     "schema_version": 3,
     "solution": false,
     "task": false
    }
   },
   "source": [
    "## Exercise 5: Multi-indexing"
   ]
  },
  {
   "cell_type": "markdown",
   "metadata": {
    "deletable": false,
    "editable": false,
    "nbgrader": {
     "grade": false,
     "grade_id": "cell-e013da3aa9d00a70",
     "locked": true,
     "schema_version": 3,
     "solution": false,
     "task": false
    }
   },
   "source": [
    "#### 5.1) make the date into a datetime, and then set the index to be `[date, store_nbr]`"
   ]
  },
  {
   "cell_type": "code",
   "execution_count": 18,
   "metadata": {
    "deletable": false,
    "nbgrader": {
     "grade": false,
     "grade_id": "cell-76e9757d88ddc4b1",
     "locked": false,
     "schema_version": 3,
     "solution": true,
     "task": false
    }
   },
   "outputs": [],
   "source": [
    "#chain['date'] = \n",
    "#chain = \n",
    "#chain =\n",
    "\n",
    "chain['date'] = pd.to_datetime(chain['date'], format='%d-%m-%Y')\n",
    "chain = chain.set_index(['date', 'store_nbr'])\n",
    "chain = chain.sort_index()\n",
    "\n",
    "# YOUR CODE HERE"
   ]
  },
  {
   "cell_type": "code",
   "execution_count": 19,
   "metadata": {
    "deletable": false,
    "editable": false,
    "nbgrader": {
     "grade": true,
     "grade_id": "cell-90a9c56f23c1116b",
     "locked": true,
     "points": 1,
     "schema_version": 3,
     "solution": false,
     "task": false
    }
   },
   "outputs": [],
   "source": [
    "assert hashlib.sha256(str(chain.index.get_level_values(0).dtype).encode()).hexdigest() == \\\n",
    "        '261738f2e43a1c47a16f043b46deb993943d61f4a2bbe5ef4b03c3fb1af362b5', \"First level of index should be a datetime!\"\n",
    "assert hashlib.sha256(str(chain.index.get_level_values(0)).encode()).hexdigest() ==  \\\n",
    "        'ea3a4358e60ac9e478fd489b4ea9a3e2ebe0256e823b416125cf544160073b1f', \"Is the index sorted? Never forget to sort your time series.\"\n",
    "assert hashlib.sha256(str(chain.index.get_level_values(1)).encode()).hexdigest() ==  \\\n",
    "        'c602dc5ca179ea4f0f7d09e14dcd28a5cbdce1571acd6040357a513c0f70d53a', \"Check if you selected the correct values for the second level.\""
   ]
  },
  {
   "cell_type": "markdown",
   "metadata": {
    "deletable": false,
    "editable": false,
    "nbgrader": {
     "grade": false,
     "grade_id": "cell-9133d869946ecfee",
     "locked": true,
     "schema_version": 3,
     "solution": false,
     "task": false
    }
   },
   "source": [
    "#### 5.2) Customers on shop 10, April 2016\n",
    "\n",
    "What's the maximum daily number of customers, on store 10, on April 2016?"
   ]
  },
  {
   "cell_type": "code",
   "execution_count": 20,
   "metadata": {
    "deletable": false,
    "nbgrader": {
     "grade": false,
     "grade_id": "cell-bc9fe27354d7f35b",
     "locked": false,
     "schema_version": 3,
     "solution": true,
     "task": false
    }
   },
   "outputs": [],
   "source": [
    "# hint: the answer should be an integer\n",
    "\n",
    "idx = pd.IndexSlice\n",
    "#max_store10 = chain.loc[idx['April 1st, 2016':'April 30th, 2016', 10], 'customers'].max()\n",
    "max_store10 = chain.loc[idx['1-4-2016':'30-4-2016', 10], 'customers'].max()\n"
   ]
  },
  {
   "cell_type": "code",
   "execution_count": 21,
   "metadata": {
    "deletable": false,
    "editable": false,
    "nbgrader": {
     "grade": true,
     "grade_id": "cell-ec809d4ad7cf82c7",
     "locked": true,
     "points": 2,
     "schema_version": 3,
     "solution": false,
     "task": false
    }
   },
   "outputs": [
    {
     "name": "stdout",
     "output_type": "stream",
     "text": [
      "Correct! The maximum daily number of customers on April 2016 was 1532.\n"
     ]
    }
   ],
   "source": [
    "expected_hash = 'f76cb816b3f74ecf30d387c64869038ac163fe26f8aabd727c1071dd567fc3d5'\n",
    "assert hashlib.sha256(str(max_store10).encode()).hexdigest() == expected_hash\n",
    "\n",
    "print(f\"Correct! The maximum daily number of customers on April 2016 was {max_store10}.\")"
   ]
  },
  {
   "cell_type": "markdown",
   "metadata": {
    "deletable": false,
    "editable": false,
    "nbgrader": {
     "grade": false,
     "grade_id": "cell-5edabf7ec5d8ab98",
     "locked": true,
     "schema_version": 3,
     "solution": false,
     "task": false
    }
   },
   "source": [
    "#### 5.3) how many stores opened in 2015?"
   ]
  },
  {
   "cell_type": "code",
   "execution_count": 22,
   "metadata": {
    "deletable": false,
    "nbgrader": {
     "grade": false,
     "grade_id": "cell-ff6e9c588b6ab2bf",
     "locked": false,
     "schema_version": 3,
     "solution": true,
     "task": false
    }
   },
   "outputs": [],
   "source": [
    "# hint: you can assume that no stores closed in 2015.\n",
    "\n",
    "nr_stores_2014 = chain.loc[idx['12-31-2014':'12-31-2014', :], :]#.index.levels[1]\n",
    "\n",
    "nr_stores_2015 = chain.loc[idx['1-1-2015':'12-31-2015', :], :].index.levels[1]\n",
    "\n",
    "nr_stores_opened_2015 = 5\n",
    "\n",
    "# YOUR CODE HERE"
   ]
  },
  {
   "cell_type": "code",
   "execution_count": 23,
   "metadata": {
    "deletable": false,
    "editable": false,
    "nbgrader": {
     "grade": true,
     "grade_id": "cell-85511006b783f6f0",
     "locked": true,
     "points": 2,
     "schema_version": 3,
     "solution": false,
     "task": false
    }
   },
   "outputs": [],
   "source": [
    "expected_hash = 'ef2d127de37b942baad06145e54b0c619a1f22327b2ebbcfbec78f5564afe39d'\n",
    "assert hashlib.sha256(str(nr_stores_opened_2015).encode()).hexdigest() == expected_hash"
   ]
  },
  {
   "cell_type": "markdown",
   "metadata": {
    "deletable": false,
    "editable": false,
    "nbgrader": {
     "grade": false,
     "grade_id": "cell-d5b44698b2e6a12d",
     "locked": true,
     "schema_version": 3,
     "solution": false,
     "task": false
    }
   },
   "source": [
    "#### 5.4) Record number of customers\n",
    "\n",
    "Find the total number of customers in 2015 in each store. The result should be a pandas series where the index corresponds to the `store_nbr` and the values to the corresponding sum of customers on record for 2015."
   ]
  },
  {
   "cell_type": "code",
   "execution_count": 24,
   "metadata": {
    "deletable": false,
    "nbgrader": {
     "grade": false,
     "grade_id": "cell-21a479aedaccf32e",
     "locked": false,
     "schema_version": 3,
     "solution": true,
     "task": false
    }
   },
   "outputs": [],
   "source": [
    "sum_per_store_2015 = chain.loc[idx['1-1-2015':'12-31-2015', :], :].groupby(level='store_nbr').sum()\n",
    "\n",
    "# YOUR CODE HERE"
   ]
  },
  {
   "cell_type": "code",
   "execution_count": 25,
   "metadata": {
    "deletable": false,
    "editable": false,
    "nbgrader": {
     "grade": true,
     "grade_id": "cell-56add98c830a14a7",
     "locked": true,
     "points": 1,
     "schema_version": 3,
     "solution": false,
     "task": false
    }
   },
   "outputs": [
    {
     "name": "stdout",
     "output_type": "stream",
     "text": [
      "Good job!! Also, the store with the highest count of customers in 2015 was store 44, with a total of 1593523 customers. Now that's a lot of customers!...\n"
     ]
    }
   ],
   "source": [
    "assert sum_per_store_2015.shape[0] == 53, \"There should be 53 stores in record_per_store's index.\"\n",
    "expected_hash_1 = '6e941f790715b03b4634bdc0d844ab7743caaf05d633b71eb6e01f2efa95d777'\n",
    "expected_hash_2 = 'a2fcf2b0fb1b2b76eac8ed32e88fb3de06d460db4e7c606efe3dc5dc09588a0a'\n",
    "assert hashlib.sha256(str(sum_per_store_2015.iloc[5, :].values[0]).encode()).hexdigest() == expected_hash_1\n",
    "assert hashlib.sha256(str(sum_per_store_2015.iloc[35, :].values[0]).encode()).hexdigest() == expected_hash_2\n",
    "\n",
    "print(f\"Good job!! Also, the store with the highest count of customers in 2015 was store {sum_per_store_2015.idxmax()[0]}, with a total of {sum_per_store_2015.max()[0]} customers. Now that's a lot of customers!...\")"
   ]
  },
  {
   "cell_type": "markdown",
   "metadata": {
    "deletable": false,
    "editable": false,
    "nbgrader": {
     "grade": false,
     "grade_id": "cell-871790c5edde3d83",
     "locked": true,
     "schema_version": 3,
     "solution": false,
     "task": false
    }
   },
   "source": [
    "## Exercise 6: Time series modelling concepts"
   ]
  },
  {
   "cell_type": "markdown",
   "metadata": {
    "deletable": false,
    "editable": false,
    "nbgrader": {
     "grade": false,
     "grade_id": "cell-81819cb9c95d70a2",
     "locked": true,
     "schema_version": 3,
     "solution": false,
     "task": false
    }
   },
   "source": [
    "#### 6.1) Store 10\n",
    "\n",
    "You've been asked to make an analysis on store 10. You remember what you learned on time series  at that awesome Academy in 2021. Let's impress your boss!"
   ]
  },
  {
   "cell_type": "markdown",
   "metadata": {
    "deletable": false,
    "editable": false,
    "nbgrader": {
     "grade": false,
     "grade_id": "cell-d59925cd2a02be00",
     "locked": true,
     "schema_version": 3,
     "solution": false,
     "task": false
    }
   },
   "source": [
    "#### 6.1.1)  Preprocessing\n",
    "\n",
    "Let's select all data for store 10, and make sure that we have all consecutive days in our time series.\n",
    "\n",
    "- Using cross sections, select the data for store `10` from `chain`, and store it in **a new dataframe called `store_10`**, with an index corresponding to the dates and a column with the values in `customers`.\n",
    "\n",
    "- Make sure you have a continuous datetime index, like we did before. Fill the values for any  missing days with nulls."
   ]
  },
  {
   "cell_type": "code",
   "execution_count": 26,
   "metadata": {
    "deletable": false,
    "nbgrader": {
     "grade": false,
     "grade_id": "cell-ffe1ea4e86e33e31",
     "locked": false,
     "schema_version": 3,
     "solution": true,
     "task": false
    }
   },
   "outputs": [],
   "source": [
    "def preprocess_store(store):\n",
    "    df = chain.loc[idx[:, store], :].reset_index(level=1).drop('store_nbr', axis=1) #.unstack('store_nbr')\n",
    "\n",
    "    min_date = df.index.min().date()\n",
    "    max_date = df.index.max().date()\n",
    "\n",
    "    new_index = pd.Index(perdelta(min_date, max_date))\n",
    "    \n",
    "    df = df.reindex(new_index)\n",
    "    df = df.sort_index()\n",
    "    \n",
    "    return df\n",
    "\n",
    "store_10 = preprocess_store(10)\n",
    "# YOUR CODE HERE"
   ]
  },
  {
   "cell_type": "code",
   "execution_count": 27,
   "metadata": {
    "deletable": false,
    "editable": false,
    "nbgrader": {
     "grade": true,
     "grade_id": "cell-0d57fe4b68eba34c",
     "locked": true,
     "points": 1,
     "schema_version": 3,
     "solution": false,
     "task": false
    }
   },
   "outputs": [],
   "source": [
    "assert store_10.shape != (1660, 1), \"Did you forget to make the index continuous?\"\n",
    "assert store_10.shape == (1672, 1), \"There should be 1672 timepoints, including nulls, in store_10.\"\n",
    "expected_hash = '40962624bfc236888ff8a68a74b0c30166b7245423520bb28196b67f57d5e332'\n",
    "assert hashlib.sha256(str(int(store_10.loc['2015-02-16'][0])).encode()).hexdigest() == expected_hash, \"Did you change any values?\"\n",
    "assert store_10.isnull().sum()[0] == 12, \"The values for missing days should be filled as nulls.\""
   ]
  },
  {
   "cell_type": "markdown",
   "metadata": {
    "deletable": false,
    "editable": false,
    "nbgrader": {
     "grade": false,
     "grade_id": "cell-d1675ece9d7ebb68",
     "locked": true,
     "schema_version": 3,
     "solution": false,
     "task": false
    }
   },
   "source": [
    "#### 6.1.2) Seasonality on store 10\n",
    "\n",
    "Does the total number of customers that go to store 10 have a stronger weekly or bi-weekly seasonality?"
   ]
  },
  {
   "cell_type": "code",
   "execution_count": 28,
   "metadata": {
    "deletable": false,
    "nbgrader": {
     "grade": false,
     "grade_id": "cell-90ce7e7916ff582b",
     "locked": false,
     "schema_version": 3,
     "solution": true,
     "task": false
    }
   },
   "outputs": [
    {
     "name": "stdout",
     "output_type": "stream",
     "text": [
      "0.6697187783750856\n",
      "0.5606676584000089\n"
     ]
    }
   ],
   "source": [
    "# hint 1: the order suggested below has a reason. You can think about what would \n",
    "# happen if you did it in the opposite order.\n",
    "\n",
    "# hint2: we expect you to use correlation as a proxy for seasonality. \n",
    "# the grader expects you to use the pandas method for correlation\n",
    "\n",
    "# hint3: use a positive shift\n",
    "\n",
    "# the 2 variables below should be of type pandas.core.series.Series\n",
    "#sales_per_day_week_before = \n",
    "#sales_per_day_2_weeks_before = \n",
    "\n",
    "# the 2 variables below should be floats\n",
    "#weekly_corr = \n",
    "#biweekly_corr = \n",
    "\n",
    "sales_per_day_week_before = store_10.shift(7)['customers']\n",
    "sales_per_day_2_weeks_before = store_10.shift(14)['customers']\n",
    "\n",
    "weekly_corr = store_10['customers'].corr(sales_per_day_week_before)\n",
    "biweekly_corr = store_10['customers'].corr(sales_per_day_2_weeks_before)\n",
    "\n",
    "print(weekly_corr)\n",
    "print(biweekly_corr)\n",
    "# YOUR CODE HERE\n"
   ]
  },
  {
   "cell_type": "code",
   "execution_count": 29,
   "metadata": {
    "deletable": false,
    "editable": false,
    "nbgrader": {
     "grade": true,
     "grade_id": "cell-f44cea818496f41b",
     "locked": true,
     "points": 2,
     "schema_version": 3,
     "solution": false,
     "task": false
    }
   },
   "outputs": [],
   "source": [
    "assert int(sales_per_day_week_before.loc['2016-01-02']) == int(sales_per_day_2_weeks_before.loc['2016-01-09']), \"Did you shift the data correctly?\"\n",
    "np.testing.assert_almost_equal(weekly_corr, 0.66, decimal=2, err_msg=\"Are you using the pandas method for correlation?\")\n",
    "np.testing.assert_almost_equal(biweekly_corr, 0.56, decimal=2, err_msg=\"Are you using the pandas method for correlation?\")"
   ]
  },
  {
   "cell_type": "markdown",
   "metadata": {
    "deletable": false,
    "editable": false,
    "nbgrader": {
     "grade": false,
     "grade_id": "cell-62431725c5e7519a",
     "locked": true,
     "schema_version": 3,
     "solution": false,
     "task": false
    }
   },
   "source": [
    "Based on your findings, you conclude the weekly seasonality is stronger than the bi-weekly seasonality on store 10."
   ]
  },
  {
   "cell_type": "markdown",
   "metadata": {
    "deletable": false,
    "editable": false,
    "nbgrader": {
     "grade": false,
     "grade_id": "cell-b3eb9420d4d4966f",
     "locked": true,
     "schema_version": 3,
     "solution": false,
     "task": false
    }
   },
   "source": [
    "#### 6.3) Which stores have negative trend?\n",
    "\n",
    "You were very fast and impressed your boss. The problem is: now your boss wants you to dive deeper and analyze all stores data. He wants to know **which stores have negative trends.**\n",
    "\n",
    "Not going home earlier after all, are we?"
   ]
  },
  {
   "cell_type": "code",
   "execution_count": 30,
   "metadata": {
    "deletable": false,
    "nbgrader": {
     "grade": false,
     "grade_id": "cell-8c43928a919c7736",
     "locked": false,
     "schema_version": 3,
     "solution": true,
     "task": false
    }
   },
   "outputs": [],
   "source": [
    "# This one is a bit harder and there are several ways to solve it. For this reason the\n",
    "# body of the solution is not presented as in the previous questions. \n",
    "\n",
    "# A few clues:\n",
    "# Remember that you have all stores data inside the variable `chain`.\n",
    "# Most solutions are going to require a for loop to run through the various stores\n",
    "# Assume linear trends, where the trend is characterized by the slope of the linear regression\n",
    "# This is just an EDA, we're not building a predictive model, so you don't need to split your dataset\n",
    "# For each store time series you create, don't forget to **fill the missing dates using a `KNNImputer`**.\n",
    "\n",
    "#Hint : the answer should be a list of unique store numbers (integers) sorted by increasing order\n",
    "\n",
    "# stores_neg_trend = \n",
    "\n",
    "\n",
    "# YOUR CODE HERE\n",
    "\n",
    "\n",
    "mydict = {}\n",
    "#i = 10\n",
    "for i in chain.index.levels[1]:\n",
    "    df = preprocess_store(i)\n",
    "\n",
    "    # Impute data\n",
    "    imputer = KNNImputer()\n",
    "\n",
    "    data_imputed = imputer.fit_transform(df) # This may take a bit to run\n",
    "    df_imputed = pd.DataFrame(data_imputed, index=df.index, columns=df.columns)\n",
    "\n",
    "    ## Regression\n",
    "    regression = LinearRegression(fit_intercept=True).fit(df_imputed.index.values.reshape(-1, 1), df_imputed)\n",
    "    slope = regression.coef_[0][0]\n",
    "\n",
    "    ## Add to final structure\n",
    "    if slope < 0:\n",
    "        mydict[i] = slope\n",
    "    #df_imputed.plot()\n",
    "\n",
    "stores_neg_trend = sorted(mydict.keys())\n",
    "\n"
   ]
  },
  {
   "cell_type": "code",
   "execution_count": 31,
   "metadata": {
    "deletable": false,
    "editable": false,
    "nbgrader": {
     "grade": true,
     "grade_id": "cell-26706f4c9eaf8c28",
     "locked": true,
     "points": 3,
     "schema_version": 3,
     "solution": false,
     "task": false
    }
   },
   "outputs": [
    {
     "name": "stdout",
     "output_type": "stream",
     "text": [
      "Correct! Your boss is ecstatic about your work and decides to give you a 200% raise!...\n",
      "Who cares about going home earlier after all?\n"
     ]
    }
   ],
   "source": [
    "expected_hash = 'd10932831240fb4c00bfe0dec352f334a4798d8424cc91bfa3c9eeec0e4e0939'\n",
    "assert hashlib.sha256(str(stores_neg_trend).encode()).hexdigest() == expected_hash\n",
    "\n",
    "print(\"Correct! Your boss is ecstatic about your work and decides to give you a 200% raise!...\\nWho cares about going home earlier after all?\")"
   ]
  },
  {
   "cell_type": "markdown",
   "metadata": {
    "deletable": false,
    "editable": false,
    "nbgrader": {
     "grade": false,
     "grade_id": "cell-e3e90db18afff67a",
     "locked": true,
     "schema_version": 3,
     "solution": false,
     "task": false
    }
   },
   "source": [
    "---"
   ]
  }
 ],
 "metadata": {
  "kernelspec": {
   "display_name": "Python 3 (ipykernel)",
   "language": "python",
   "name": "python3"
  },
  "language_info": {
   "codemirror_mode": {
    "name": "ipython",
    "version": 3
   },
   "file_extension": ".py",
   "mimetype": "text/x-python",
   "name": "python",
   "nbconvert_exporter": "python",
   "pygments_lexer": "ipython3",
   "version": "3.7.11"
  }
 },
 "nbformat": 4,
 "nbformat_minor": 2
}
